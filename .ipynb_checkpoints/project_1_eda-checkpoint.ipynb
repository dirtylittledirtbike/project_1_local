{
 "cells": [
  {
   "cell_type": "code",
   "execution_count": 1,
   "metadata": {},
   "outputs": [],
   "source": [
    "import pandas as pd\n",
    "import matplotlib.pyplot as plt\n"
   ]
  },
  {
   "cell_type": "code",
   "execution_count": 2,
   "metadata": {
    "scrolled": true
   },
   "outputs": [],
   "source": [
    "df = pd.read_csv('http://web.mta.info/developers/data/nyct/turnstile/turnstile_190803.txt')\n",
    "\n",
    "# rename columns to get rid of the funny 'EXITS     ' issue \n",
    "df.columns = ['C/A','UNIT','SCP','STATION','LINENAME',\\\n",
    "              'DIVISION','DATE','TIME','DESC','ENTRIES','EXITS']\n",
    "\n",
    "#convert to datetime/make turnstile column\n",
    "df['converted_time'] = pd.to_datetime(df['DATE']+' '+df['TIME'])\n",
    "df['turnstiles'] = df['C/A'] + '-' + df['UNIT'] + '-' + df['SCP'] + '-' + df['STATION']"
   ]
  },
  {
   "cell_type": "code",
   "execution_count": 3,
   "metadata": {},
   "outputs": [
    {
     "data": {
      "text/plain": [
       "0"
      ]
     },
     "execution_count": 3,
     "metadata": {},
     "output_type": "execute_result"
    }
   ],
   "source": [
    "df.UNIT.isna().sum()"
   ]
  },
  {
   "cell_type": "code",
   "execution_count": 4,
   "metadata": {},
   "outputs": [],
   "source": [
    "### lecture solution for challenges 1-3"
   ]
  },
  {
   "cell_type": "code",
   "execution_count": 5,
   "metadata": {},
   "outputs": [],
   "source": [
    "# def get_data(week_nums):\n",
    "#     url = 'http://web.mta.info/developers/data/nyct/turnstile/turnstile_{}.txt'\n",
    "#     dfs = []\n",
    "#     for week_num in week_nums:\n",
    "#         file_url = url.format(week_num)\n",
    "#         dfs.append(pd.read_csv(file_url))\n",
    "#     return pd.concat(dfs)\n",
    "\n",
    "# week_nums = [160903, 160910, 160917]\n",
    "# turnstile_df = get_data(week_nums)"
   ]
  },
  {
   "cell_type": "code",
   "execution_count": 6,
   "metadata": {
    "scrolled": false
   },
   "outputs": [],
   "source": [
    "# turnstile_df.DATE.value_counts().sort_index()"
   ]
  },
  {
   "cell_type": "code",
   "execution_count": 7,
   "metadata": {},
   "outputs": [],
   "source": [
    "# pd.to_datetime(turnstile_df.DATE + ' ' + turnstile_df.TIME, format='%m/%d/%Y %H%:%M:%S')\n",
    "# pd.to_datetime(turnstile_df.DATE + ' ' + turnstile_df.TIME)"
   ]
  },
  {
   "cell_type": "code",
   "execution_count": 8,
   "metadata": {},
   "outputs": [],
   "source": [
    "### end solution"
   ]
  },
  {
   "cell_type": "code",
   "execution_count": 9,
   "metadata": {
    "scrolled": true
   },
   "outputs": [
    {
     "data": {
      "text/html": [
       "<div>\n",
       "<style scoped>\n",
       "    .dataframe tbody tr th:only-of-type {\n",
       "        vertical-align: middle;\n",
       "    }\n",
       "\n",
       "    .dataframe tbody tr th {\n",
       "        vertical-align: top;\n",
       "    }\n",
       "\n",
       "    .dataframe thead th {\n",
       "        text-align: right;\n",
       "    }\n",
       "</style>\n",
       "<table border=\"1\" class=\"dataframe\">\n",
       "  <thead>\n",
       "    <tr style=\"text-align: right;\">\n",
       "      <th></th>\n",
       "      <th>C/A</th>\n",
       "      <th>UNIT</th>\n",
       "      <th>SCP</th>\n",
       "      <th>STATION</th>\n",
       "      <th>LINENAME</th>\n",
       "      <th>DIVISION</th>\n",
       "      <th>DATE</th>\n",
       "      <th>TIME</th>\n",
       "      <th>DESC</th>\n",
       "      <th>ENTRIES</th>\n",
       "      <th>EXITS</th>\n",
       "      <th>converted_time</th>\n",
       "      <th>turnstiles</th>\n",
       "      <th>entries_diff</th>\n",
       "      <th>exits_diff</th>\n",
       "    </tr>\n",
       "  </thead>\n",
       "  <tbody>\n",
       "    <tr>\n",
       "      <th>0</th>\n",
       "      <td>A002</td>\n",
       "      <td>R051</td>\n",
       "      <td>02-00-00</td>\n",
       "      <td>59 ST</td>\n",
       "      <td>NQR456W</td>\n",
       "      <td>BMT</td>\n",
       "      <td>07/27/2019</td>\n",
       "      <td>00:00:00</td>\n",
       "      <td>REGULAR</td>\n",
       "      <td>7148288</td>\n",
       "      <td>2418935</td>\n",
       "      <td>2019-07-27 00:00:00</td>\n",
       "      <td>A002-R051-02-00-00-59 ST</td>\n",
       "      <td>NaN</td>\n",
       "      <td>NaN</td>\n",
       "    </tr>\n",
       "    <tr>\n",
       "      <th>1</th>\n",
       "      <td>A002</td>\n",
       "      <td>R051</td>\n",
       "      <td>02-00-00</td>\n",
       "      <td>59 ST</td>\n",
       "      <td>NQR456W</td>\n",
       "      <td>BMT</td>\n",
       "      <td>07/27/2019</td>\n",
       "      <td>04:00:00</td>\n",
       "      <td>REGULAR</td>\n",
       "      <td>7148306</td>\n",
       "      <td>2418939</td>\n",
       "      <td>2019-07-27 04:00:00</td>\n",
       "      <td>A002-R051-02-00-00-59 ST</td>\n",
       "      <td>18.0</td>\n",
       "      <td>4.0</td>\n",
       "    </tr>\n",
       "    <tr>\n",
       "      <th>2</th>\n",
       "      <td>A002</td>\n",
       "      <td>R051</td>\n",
       "      <td>02-00-00</td>\n",
       "      <td>59 ST</td>\n",
       "      <td>NQR456W</td>\n",
       "      <td>BMT</td>\n",
       "      <td>07/27/2019</td>\n",
       "      <td>08:00:00</td>\n",
       "      <td>REGULAR</td>\n",
       "      <td>7148326</td>\n",
       "      <td>2418975</td>\n",
       "      <td>2019-07-27 08:00:00</td>\n",
       "      <td>A002-R051-02-00-00-59 ST</td>\n",
       "      <td>20.0</td>\n",
       "      <td>36.0</td>\n",
       "    </tr>\n",
       "    <tr>\n",
       "      <th>3</th>\n",
       "      <td>A002</td>\n",
       "      <td>R051</td>\n",
       "      <td>02-00-00</td>\n",
       "      <td>59 ST</td>\n",
       "      <td>NQR456W</td>\n",
       "      <td>BMT</td>\n",
       "      <td>07/27/2019</td>\n",
       "      <td>12:00:00</td>\n",
       "      <td>REGULAR</td>\n",
       "      <td>7148441</td>\n",
       "      <td>2419042</td>\n",
       "      <td>2019-07-27 12:00:00</td>\n",
       "      <td>A002-R051-02-00-00-59 ST</td>\n",
       "      <td>115.0</td>\n",
       "      <td>67.0</td>\n",
       "    </tr>\n",
       "    <tr>\n",
       "      <th>4</th>\n",
       "      <td>A002</td>\n",
       "      <td>R051</td>\n",
       "      <td>02-00-00</td>\n",
       "      <td>59 ST</td>\n",
       "      <td>NQR456W</td>\n",
       "      <td>BMT</td>\n",
       "      <td>07/27/2019</td>\n",
       "      <td>16:00:00</td>\n",
       "      <td>REGULAR</td>\n",
       "      <td>7148647</td>\n",
       "      <td>2419101</td>\n",
       "      <td>2019-07-27 16:00:00</td>\n",
       "      <td>A002-R051-02-00-00-59 ST</td>\n",
       "      <td>206.0</td>\n",
       "      <td>59.0</td>\n",
       "    </tr>\n",
       "    <tr>\n",
       "      <th>...</th>\n",
       "      <td>...</td>\n",
       "      <td>...</td>\n",
       "      <td>...</td>\n",
       "      <td>...</td>\n",
       "      <td>...</td>\n",
       "      <td>...</td>\n",
       "      <td>...</td>\n",
       "      <td>...</td>\n",
       "      <td>...</td>\n",
       "      <td>...</td>\n",
       "      <td>...</td>\n",
       "      <td>...</td>\n",
       "      <td>...</td>\n",
       "      <td>...</td>\n",
       "      <td>...</td>\n",
       "    </tr>\n",
       "    <tr>\n",
       "      <th>206991</th>\n",
       "      <td>TRAM2</td>\n",
       "      <td>R469</td>\n",
       "      <td>00-05-01</td>\n",
       "      <td>RIT-ROOSEVELT</td>\n",
       "      <td>R</td>\n",
       "      <td>RIT</td>\n",
       "      <td>08/02/2019</td>\n",
       "      <td>05:00:00</td>\n",
       "      <td>REGULAR</td>\n",
       "      <td>5554</td>\n",
       "      <td>386</td>\n",
       "      <td>2019-08-02 05:00:00</td>\n",
       "      <td>TRAM2-R469-00-05-01-RIT-ROOSEVELT</td>\n",
       "      <td>0.0</td>\n",
       "      <td>0.0</td>\n",
       "    </tr>\n",
       "    <tr>\n",
       "      <th>206992</th>\n",
       "      <td>TRAM2</td>\n",
       "      <td>R469</td>\n",
       "      <td>00-05-01</td>\n",
       "      <td>RIT-ROOSEVELT</td>\n",
       "      <td>R</td>\n",
       "      <td>RIT</td>\n",
       "      <td>08/02/2019</td>\n",
       "      <td>09:00:00</td>\n",
       "      <td>REGULAR</td>\n",
       "      <td>5554</td>\n",
       "      <td>386</td>\n",
       "      <td>2019-08-02 09:00:00</td>\n",
       "      <td>TRAM2-R469-00-05-01-RIT-ROOSEVELT</td>\n",
       "      <td>0.0</td>\n",
       "      <td>0.0</td>\n",
       "    </tr>\n",
       "    <tr>\n",
       "      <th>206993</th>\n",
       "      <td>TRAM2</td>\n",
       "      <td>R469</td>\n",
       "      <td>00-05-01</td>\n",
       "      <td>RIT-ROOSEVELT</td>\n",
       "      <td>R</td>\n",
       "      <td>RIT</td>\n",
       "      <td>08/02/2019</td>\n",
       "      <td>13:00:00</td>\n",
       "      <td>REGULAR</td>\n",
       "      <td>5554</td>\n",
       "      <td>386</td>\n",
       "      <td>2019-08-02 13:00:00</td>\n",
       "      <td>TRAM2-R469-00-05-01-RIT-ROOSEVELT</td>\n",
       "      <td>0.0</td>\n",
       "      <td>0.0</td>\n",
       "    </tr>\n",
       "    <tr>\n",
       "      <th>206994</th>\n",
       "      <td>TRAM2</td>\n",
       "      <td>R469</td>\n",
       "      <td>00-05-01</td>\n",
       "      <td>RIT-ROOSEVELT</td>\n",
       "      <td>R</td>\n",
       "      <td>RIT</td>\n",
       "      <td>08/02/2019</td>\n",
       "      <td>17:00:00</td>\n",
       "      <td>REGULAR</td>\n",
       "      <td>5554</td>\n",
       "      <td>386</td>\n",
       "      <td>2019-08-02 17:00:00</td>\n",
       "      <td>TRAM2-R469-00-05-01-RIT-ROOSEVELT</td>\n",
       "      <td>0.0</td>\n",
       "      <td>0.0</td>\n",
       "    </tr>\n",
       "    <tr>\n",
       "      <th>206995</th>\n",
       "      <td>TRAM2</td>\n",
       "      <td>R469</td>\n",
       "      <td>00-05-01</td>\n",
       "      <td>RIT-ROOSEVELT</td>\n",
       "      <td>R</td>\n",
       "      <td>RIT</td>\n",
       "      <td>08/02/2019</td>\n",
       "      <td>21:00:00</td>\n",
       "      <td>REGULAR</td>\n",
       "      <td>5554</td>\n",
       "      <td>386</td>\n",
       "      <td>2019-08-02 21:00:00</td>\n",
       "      <td>TRAM2-R469-00-05-01-RIT-ROOSEVELT</td>\n",
       "      <td>0.0</td>\n",
       "      <td>0.0</td>\n",
       "    </tr>\n",
       "  </tbody>\n",
       "</table>\n",
       "<p>206996 rows × 15 columns</p>\n",
       "</div>"
      ],
      "text/plain": [
       "          C/A  UNIT       SCP        STATION LINENAME DIVISION        DATE  \\\n",
       "0        A002  R051  02-00-00          59 ST  NQR456W      BMT  07/27/2019   \n",
       "1        A002  R051  02-00-00          59 ST  NQR456W      BMT  07/27/2019   \n",
       "2        A002  R051  02-00-00          59 ST  NQR456W      BMT  07/27/2019   \n",
       "3        A002  R051  02-00-00          59 ST  NQR456W      BMT  07/27/2019   \n",
       "4        A002  R051  02-00-00          59 ST  NQR456W      BMT  07/27/2019   \n",
       "...       ...   ...       ...            ...      ...      ...         ...   \n",
       "206991  TRAM2  R469  00-05-01  RIT-ROOSEVELT        R      RIT  08/02/2019   \n",
       "206992  TRAM2  R469  00-05-01  RIT-ROOSEVELT        R      RIT  08/02/2019   \n",
       "206993  TRAM2  R469  00-05-01  RIT-ROOSEVELT        R      RIT  08/02/2019   \n",
       "206994  TRAM2  R469  00-05-01  RIT-ROOSEVELT        R      RIT  08/02/2019   \n",
       "206995  TRAM2  R469  00-05-01  RIT-ROOSEVELT        R      RIT  08/02/2019   \n",
       "\n",
       "            TIME     DESC  ENTRIES    EXITS      converted_time  \\\n",
       "0       00:00:00  REGULAR  7148288  2418935 2019-07-27 00:00:00   \n",
       "1       04:00:00  REGULAR  7148306  2418939 2019-07-27 04:00:00   \n",
       "2       08:00:00  REGULAR  7148326  2418975 2019-07-27 08:00:00   \n",
       "3       12:00:00  REGULAR  7148441  2419042 2019-07-27 12:00:00   \n",
       "4       16:00:00  REGULAR  7148647  2419101 2019-07-27 16:00:00   \n",
       "...          ...      ...      ...      ...                 ...   \n",
       "206991  05:00:00  REGULAR     5554      386 2019-08-02 05:00:00   \n",
       "206992  09:00:00  REGULAR     5554      386 2019-08-02 09:00:00   \n",
       "206993  13:00:00  REGULAR     5554      386 2019-08-02 13:00:00   \n",
       "206994  17:00:00  REGULAR     5554      386 2019-08-02 17:00:00   \n",
       "206995  21:00:00  REGULAR     5554      386 2019-08-02 21:00:00   \n",
       "\n",
       "                               turnstiles  entries_diff  exits_diff  \n",
       "0                A002-R051-02-00-00-59 ST           NaN         NaN  \n",
       "1                A002-R051-02-00-00-59 ST          18.0         4.0  \n",
       "2                A002-R051-02-00-00-59 ST          20.0        36.0  \n",
       "3                A002-R051-02-00-00-59 ST         115.0        67.0  \n",
       "4                A002-R051-02-00-00-59 ST         206.0        59.0  \n",
       "...                                   ...           ...         ...  \n",
       "206991  TRAM2-R469-00-05-01-RIT-ROOSEVELT           0.0         0.0  \n",
       "206992  TRAM2-R469-00-05-01-RIT-ROOSEVELT           0.0         0.0  \n",
       "206993  TRAM2-R469-00-05-01-RIT-ROOSEVELT           0.0         0.0  \n",
       "206994  TRAM2-R469-00-05-01-RIT-ROOSEVELT           0.0         0.0  \n",
       "206995  TRAM2-R469-00-05-01-RIT-ROOSEVELT           0.0         0.0  \n",
       "\n",
       "[206996 rows x 15 columns]"
      ]
     },
     "execution_count": 9,
     "metadata": {},
     "output_type": "execute_result"
    }
   ],
   "source": [
    "# sort by date and location\n",
    "df_sorted = df.sort_values(['turnstiles', 'converted_time'])\n",
    "\n",
    "# group by turnstile so we can get entry/exit differences\n",
    "turnstile_df = df_sorted.groupby('turnstiles')\n",
    "df_sorted['entries_diff'] = turnstile_df['ENTRIES'].diff()\n",
    "df_sorted['exits_diff'] = turnstile_df['EXITS'].diff()\n",
    "df_sorted"
   ]
  },
  {
   "cell_type": "code",
   "execution_count": 10,
   "metadata": {
    "scrolled": false
   },
   "outputs": [
    {
     "data": {
      "text/plain": [
       "array(['R01', 'R03', 'R04', 'R05', 'R06', 'R08', 'R11', 'R13', 'R14',\n",
       "       'R15', 'R16', 'R17', 'R18', 'R19', 'R20', 'R21', 'R22', 'R23',\n",
       "       'Q01', 'R24', 'R25', 'R26', 'R27', 'R28', 'R29', 'R30', 'R31',\n",
       "       'R32', 'R33', 'R34', 'R35', 'R36', 'R39', 'R40', 'R41', 'R42',\n",
       "       'R43', 'R44', 'R45', 'D24', 'D25', 'D26', 'D27', 'D28', 'D29',\n",
       "       'D30', 'D31', 'D32', 'D33', 'D34', 'D35', 'D37', 'D38', 'D39',\n",
       "       'D40', 'D41', 'D42', 'D43', 'B12', 'B13', 'B14', 'B15', 'B16',\n",
       "       'B17', 'B18', 'B19', 'B20', 'B21', 'B22', 'B23', 'N02', 'N03',\n",
       "       'N04', 'N05', 'N06', 'N07', 'N08', 'N09', 'N10', 'J12', 'J13',\n",
       "       'J14', 'J15', 'J16', 'J17', 'J19', 'J20', 'J21', 'J22', 'J23',\n",
       "       'J24', 'J27', 'J28', 'J29', 'J30', 'J31', 'M11', 'M12', 'M13',\n",
       "       'M14', 'M16', 'M18', 'M19', 'M20', 'M21', 'M22', 'M23', 'M01',\n",
       "       'M04', 'M05', 'M06', 'M08', 'M09', 'M10', 'L01', 'L02', 'L03',\n",
       "       'L05', 'L06', 'L08', 'L10', 'L11', 'L12', 'L13', 'L14', 'L15',\n",
       "       'L16', 'L17', 'L19', 'L20', 'L21', 'L22', 'L24', 'L25', 'L26',\n",
       "       'L27', 'L28', 'L29', 'S01', 'S03', 'S04', 'A02', 'A03', 'A05',\n",
       "       'A06', 'A07', 'A09', 'A10', 'A11', 'A12', 'D13', 'A14', 'A15',\n",
       "       'A16', 'A17', 'A18', 'A19', 'A20', 'A21', 'A22', 'A24', 'A25',\n",
       "       'A27', 'A28', 'A30', 'A31', 'A32', 'D20', 'A33', 'A34', 'A36',\n",
       "       'E01', 'A38', 'A40', 'A41', 'A42', 'A43', 'A44', 'A45', 'A46',\n",
       "       'A47', 'A48', 'A49', 'A50', 'A51', 'A52', 'A53', 'A54', 'A55',\n",
       "       'A57', 'A59', 'A60', 'A61', 'A63', 'A64', 'A65', 'H01', 'H02',\n",
       "       'H03', 'H04', 'H12', 'H13', 'H14', 'H15', 'H06', 'H07', 'H08',\n",
       "       'H09', 'H10', 'H11', 'D01', 'D03', 'D04', 'D05', 'D06', 'D07',\n",
       "       'D08', 'D09', 'D10', 'D11', 'D12', 'B04', 'B06', 'B08', 'B10',\n",
       "       'D15', 'D16', 'D17', 'D18', 'D19', 'D21', 'D22', 'F14', 'F15',\n",
       "       'F16', 'F18', 'F20', 'F21', 'F22', 'F23', 'F24', 'F25', 'F26',\n",
       "       'F27', 'F29', 'F30', 'F31', 'F32', 'F33', 'F34', 'F35', 'F36',\n",
       "       'F38', 'F39', 'F01', 'F02', 'F03', 'F04', 'F05', 'F06', 'F07',\n",
       "       'G08', 'G09', 'G10', 'G11', 'G12', 'G13', 'G14', 'G15', 'G16',\n",
       "       'G18', 'G19', 'G20', 'G21', 'F09', 'F11', 'F12', 'D14', 'G05',\n",
       "       'G06', 'G07', 'G22', 'G24', 'G26', 'G28', 'G29', 'G30', 'G31',\n",
       "       'G32', 'G33', 'G34', 'G35', 'G36', '101', '103', '104', '106',\n",
       "       '107', '108', '109', '110', '111', '112', '113', '114', '115',\n",
       "       '116', '117', '118', '119', '120', '121', '122', '123', '124',\n",
       "       '125', '126', '127', '128', '129', '130', '131', '132', '133',\n",
       "       '134', '135', '136', '137', '138', '139', '142', '228', '229',\n",
       "       '230', '231', '232', '233', '234', '235', '236', '237', '238',\n",
       "       '239', '248', '249', '250', '251', '252', '253', '254', '255',\n",
       "       '256', '257', '241', '242', '243', '244', '245', '246', '247',\n",
       "       '601', '602', '603', '604', '606', '607', '608', '609', '610',\n",
       "       '611', '612', '613', '614', '615', '616', '617', '618', '619',\n",
       "       '401', '402', '405', '406', '407', '408', '409', '410', '411',\n",
       "       '412', '413', '414', '415', '416', '621', '622', '623', '624',\n",
       "       '625', '626', '627', '628', '629', '630', '631', '632', '633',\n",
       "       '634', '635', '636', '637', '638', '639', '640', '418', '419',\n",
       "       '420', '423', '201', '204', '205', '206', '207', '208', '209',\n",
       "       '210', '211', '212', '213', '214', '215', '216', '217', '218',\n",
       "       '219', '220', '221', '222', '301', '302', '224', '225', '226',\n",
       "       '227', '501', '502', '503', '504', '505', '701', '702', '705',\n",
       "       '706', '707', '708', '709', '710', '711', '712', '713', '714',\n",
       "       '715', '716', '718', 'R09', '719', '720', '721', '723', '724',\n",
       "       '725', '902', '901', '726', 'Q05', 'Q04', 'Q03', 'S31', 'S30',\n",
       "       'S29', 'S28', 'S27', 'S26', 'S25', 'S24', 'S23', 'S22', 'S21',\n",
       "       'S20', 'S19', 'S18', 'S17', 'S16', 'S15', 'S14', 'S13', 'S09',\n",
       "       'S11'], dtype=object)"
      ]
     },
     "execution_count": 10,
     "metadata": {},
     "output_type": "execute_result"
    }
   ],
   "source": [
    "station_df = pd.read_csv('http://web.mta.info/developers/data/nyct/subway/Stations.csv')\n",
    "station_df['GTFS Stop ID'].unique()"
   ]
  },
  {
   "cell_type": "code",
   "execution_count": 11,
   "metadata": {
    "scrolled": true
   },
   "outputs": [
    {
     "data": {
      "text/plain": [
       "array(['1', '123', '1237ACENQRS', '1237ACENQRSW', '123ACE', '123FLM',\n",
       "       '1ABCD', '1AC', '1RW', '2', '23', '2345', '2345ACJZ', '2345BDNQR',\n",
       "       '2345R', '2345S', '23ACE', '245', '25', '3', '34', '4', '45',\n",
       "       '456', '4567S', '456JZ', '456LNQRW', '456NQRW', '4BD', '5', '6',\n",
       "       '6DF', '7', '7BDFM', '7EFMR', '7NQW', 'A', 'ABCD', 'ABCD1',\n",
       "       'ABCDEFM', 'AC', 'AC1', 'ACBD', 'ACE', 'ACE23', 'ACEL',\n",
       "       'ACENGRS1237W', 'ACENQRS1237W', 'ACF', 'ACG', 'ACJLZ', 'ACJZ2345',\n",
       "       'ACS', 'AS', 'BC', 'BD', 'BD4', 'BDE', 'BDFM', 'BDFM7', 'BDFMNQRW',\n",
       "       'BDFQ6', 'BDNQR', 'BDNQR2345', 'BQ', 'BQS', 'C', 'CE', 'D',\n",
       "       'DFGMNR', 'DFNQ', 'DNR', 'E', 'EF', 'EFMR', 'EFMR7', 'EJZ', 'EM',\n",
       "       'EM6', 'EMG', 'EMR', 'F', 'FG', 'FJMZ', 'FLM123', 'FM', 'FQ', 'G',\n",
       "       'GL', 'J', 'JM', 'JMZ', 'JNQRZ6W', 'JZ', 'JZ456', 'L', 'LG', 'LM',\n",
       "       'LNQR456W', 'M', 'MR', 'N', 'ND', 'NQR456W', 'NQRW', 'NQW', 'NRW',\n",
       "       'Q', 'R', 'R1W', 'R2345', 'RNW', 'S', 'S2345'], dtype=object)"
      ]
     },
     "execution_count": 11,
     "metadata": {},
     "output_type": "execute_result"
    }
   ],
   "source": [
    "df_sorted['LINENAME'].sort_values().unique()"
   ]
  },
  {
   "cell_type": "code",
   "execution_count": 12,
   "metadata": {},
   "outputs": [
    {
     "data": {
      "text/plain": [
       "array(['Astoria', 'Broadway - Brighton', 'Broadway', 'Manhattan Bridge',\n",
       "       '4th Av', 'Sea Beach / West End / Culver / Brighton', 'West End',\n",
       "       'Sea Beach', 'Jamaica', 'Myrtle Av', 'Canarsie',\n",
       "       'Franklin Shuttle', '8th Av - Fulton St', 'Concourse',\n",
       "       '6th Av - Culver', 'Liberty Av', 'Rockaway', '63rd St',\n",
       "       'Queens Blvd', 'Queens - Archer', 'Crosstown', 'Broadway - 7Av',\n",
       "       'Clark St', 'Eastern Pky', 'Nostrand', 'Pelham', 'Jerome Av',\n",
       "       'Lexington Av', 'Lenox - White Plains Rd', 'Dyre Av', 'Flushing',\n",
       "       'Lexington - Shuttle', 'Second Av', 'Staten Island'], dtype=object)"
      ]
     },
     "execution_count": 12,
     "metadata": {},
     "output_type": "execute_result"
    }
   ],
   "source": [
    "station_df.Line.unique()"
   ]
  },
  {
   "cell_type": "code",
   "execution_count": 13,
   "metadata": {},
   "outputs": [
    {
     "data": {
      "text/plain": [
       "array(['1', '123', '1237ACENQRS', '123ACE', '123FLM', '1ABCD', '1AC', '2',\n",
       "       '23', '2345', '2345ACJZ', '2345BDNQR', '2345R', '2345S', '23ACE',\n",
       "       '245', '25', '3', '34', '4', '45', '456', '4567S', '456JZ',\n",
       "       '456LNQR', '456NQR', '4BD', '5', '6', '6DF', '7', '7BDFM', '7NQ',\n",
       "       'A', 'ABCD', 'ABCD1', 'ABCDEFM', 'AC', 'AC1', 'ACBD', 'ACE',\n",
       "       'ACE23', 'ACEL', 'ACENQRS1237', 'ACF', 'ACG', 'ACJLZ', 'ACJZ2345',\n",
       "       'ACS', 'AS', 'BC', 'BD', 'BD4', 'BDE', 'BDFM', 'BDFM7', 'BDFMNQR',\n",
       "       'BDFQ6', 'BDNQR', 'BDNQR2345', 'BQ', 'BQS', 'C', 'CE', 'D',\n",
       "       'DFGMNR', 'DFNQ', 'DNR', 'E', 'EF', 'EFMR', 'EFMR7', 'EJZ', 'EM',\n",
       "       'EM6', 'EMG', 'EMR', 'F', 'FG', 'FJMZ', 'FLM123', 'FM', 'FQ', 'G',\n",
       "       'GL', 'J', 'JM', 'JMZ', 'JNQRZ6', 'JZ', 'JZ456', 'L', 'LM',\n",
       "       'LNQR456', 'LNRQ456', 'M', 'MR', 'N', 'ND', 'NQ', 'NQR', 'NR', 'Q',\n",
       "       'R', 'R1', 'R2345', 'S', 'S2345', 'Z'], dtype=object)"
      ]
     },
     "execution_count": 13,
     "metadata": {},
     "output_type": "execute_result"
    }
   ],
   "source": [
    "test = pd.read_excel('/Users/collinswestnedge/Downloads/Remote-Booth-Station.xls')\n",
    "test['Line Name'].astype(str).sort_values().unique()"
   ]
  },
  {
   "cell_type": "code",
   "execution_count": 14,
   "metadata": {
    "scrolled": true
   },
   "outputs": [
    {
     "data": {
      "text/html": [
       "<div>\n",
       "<style scoped>\n",
       "    .dataframe tbody tr th:only-of-type {\n",
       "        vertical-align: middle;\n",
       "    }\n",
       "\n",
       "    .dataframe tbody tr th {\n",
       "        vertical-align: top;\n",
       "    }\n",
       "\n",
       "    .dataframe thead th {\n",
       "        text-align: right;\n",
       "    }\n",
       "</style>\n",
       "<table border=\"1\" class=\"dataframe\">\n",
       "  <thead>\n",
       "    <tr style=\"text-align: right;\">\n",
       "      <th></th>\n",
       "      <th>Station ID</th>\n",
       "      <th>Complex ID</th>\n",
       "      <th>GTFS Stop ID</th>\n",
       "      <th>Division</th>\n",
       "      <th>Line</th>\n",
       "      <th>Stop Name</th>\n",
       "      <th>Borough</th>\n",
       "      <th>Daytime Routes</th>\n",
       "      <th>Structure</th>\n",
       "      <th>GTFS Latitude</th>\n",
       "      <th>GTFS Longitude</th>\n",
       "      <th>North Direction Label</th>\n",
       "      <th>South Direction Label</th>\n",
       "    </tr>\n",
       "  </thead>\n",
       "  <tbody>\n",
       "    <tr>\n",
       "      <th>0</th>\n",
       "      <td>1</td>\n",
       "      <td>1</td>\n",
       "      <td>R01</td>\n",
       "      <td>BMT</td>\n",
       "      <td>Astoria</td>\n",
       "      <td>Astoria - Ditmars Blvd</td>\n",
       "      <td>Q</td>\n",
       "      <td>N W</td>\n",
       "      <td>Elevated</td>\n",
       "      <td>40.775036</td>\n",
       "      <td>-73.912034</td>\n",
       "      <td>NaN</td>\n",
       "      <td>Manhattan</td>\n",
       "    </tr>\n",
       "    <tr>\n",
       "      <th>1</th>\n",
       "      <td>2</td>\n",
       "      <td>2</td>\n",
       "      <td>R03</td>\n",
       "      <td>BMT</td>\n",
       "      <td>Astoria</td>\n",
       "      <td>Astoria Blvd</td>\n",
       "      <td>Q</td>\n",
       "      <td>N W</td>\n",
       "      <td>Elevated</td>\n",
       "      <td>40.770258</td>\n",
       "      <td>-73.917843</td>\n",
       "      <td>Ditmars Blvd</td>\n",
       "      <td>Manhattan</td>\n",
       "    </tr>\n",
       "    <tr>\n",
       "      <th>2</th>\n",
       "      <td>3</td>\n",
       "      <td>3</td>\n",
       "      <td>R04</td>\n",
       "      <td>BMT</td>\n",
       "      <td>Astoria</td>\n",
       "      <td>30 Av</td>\n",
       "      <td>Q</td>\n",
       "      <td>N W</td>\n",
       "      <td>Elevated</td>\n",
       "      <td>40.766779</td>\n",
       "      <td>-73.921479</td>\n",
       "      <td>Astoria - Ditmars Blvd</td>\n",
       "      <td>Manhattan</td>\n",
       "    </tr>\n",
       "    <tr>\n",
       "      <th>3</th>\n",
       "      <td>4</td>\n",
       "      <td>4</td>\n",
       "      <td>R05</td>\n",
       "      <td>BMT</td>\n",
       "      <td>Astoria</td>\n",
       "      <td>Broadway</td>\n",
       "      <td>Q</td>\n",
       "      <td>N W</td>\n",
       "      <td>Elevated</td>\n",
       "      <td>40.761820</td>\n",
       "      <td>-73.925508</td>\n",
       "      <td>Astoria - Ditmars Blvd</td>\n",
       "      <td>Manhattan</td>\n",
       "    </tr>\n",
       "    <tr>\n",
       "      <th>4</th>\n",
       "      <td>5</td>\n",
       "      <td>5</td>\n",
       "      <td>R06</td>\n",
       "      <td>BMT</td>\n",
       "      <td>Astoria</td>\n",
       "      <td>36 Av</td>\n",
       "      <td>Q</td>\n",
       "      <td>N W</td>\n",
       "      <td>Elevated</td>\n",
       "      <td>40.756804</td>\n",
       "      <td>-73.929575</td>\n",
       "      <td>Astoria - Ditmars Blvd</td>\n",
       "      <td>Manhattan</td>\n",
       "    </tr>\n",
       "  </tbody>\n",
       "</table>\n",
       "</div>"
      ],
      "text/plain": [
       "   Station ID  Complex ID GTFS Stop ID Division     Line  \\\n",
       "0           1           1          R01      BMT  Astoria   \n",
       "1           2           2          R03      BMT  Astoria   \n",
       "2           3           3          R04      BMT  Astoria   \n",
       "3           4           4          R05      BMT  Astoria   \n",
       "4           5           5          R06      BMT  Astoria   \n",
       "\n",
       "                Stop Name Borough Daytime Routes Structure  GTFS Latitude  \\\n",
       "0  Astoria - Ditmars Blvd       Q            N W  Elevated      40.775036   \n",
       "1            Astoria Blvd       Q            N W  Elevated      40.770258   \n",
       "2                   30 Av       Q            N W  Elevated      40.766779   \n",
       "3                Broadway       Q            N W  Elevated      40.761820   \n",
       "4                   36 Av       Q            N W  Elevated      40.756804   \n",
       "\n",
       "   GTFS Longitude   North Direction Label South Direction Label  \n",
       "0      -73.912034                     NaN             Manhattan  \n",
       "1      -73.917843            Ditmars Blvd             Manhattan  \n",
       "2      -73.921479  Astoria - Ditmars Blvd             Manhattan  \n",
       "3      -73.925508  Astoria - Ditmars Blvd             Manhattan  \n",
       "4      -73.929575  Astoria - Ditmars Blvd             Manhattan  "
      ]
     },
     "execution_count": 14,
     "metadata": {},
     "output_type": "execute_result"
    }
   ],
   "source": [
    "test2 = pd.read_csv('http://web.mta.info/developers/data/nyct/subway/Stations.csv')\n",
    "test2.head()"
   ]
  },
  {
   "cell_type": "code",
   "execution_count": 15,
   "metadata": {
    "scrolled": true
   },
   "outputs": [
    {
     "data": {
      "text/plain": [
       "array(['N W', 'N W R', 'N Q R W', 'N R W', 'R W', 'N Q', 'R', 'B Q R',\n",
       "       'D N R', 'N R', 'B Q', 'Q', 'F Q', 'D F N Q', 'D', 'N', 'J Z', 'J',\n",
       "       'J M Z', 'J M', 'M', 'L', 'S', 'A', 'A C', 'C', 'B D', 'B C',\n",
       "       'A B C D', 'C E', 'A C E', 'B D F M', 'E', 'A C F', 'A C G', 'A S',\n",
       "       'F', 'F M', 'F G', 'E F', 'E F M R', 'M R', 'E M R', 'E M',\n",
       "       'B D E', 'E J Z', 'G', '1', '1 2 3', '2 3', '2 3 4 5', '3', '3 4',\n",
       "       '2 5', '6', '4', '4 5', '4 5 6', '2', '5', '7', 'SIR'],\n",
       "      dtype=object)"
      ]
     },
     "execution_count": 15,
     "metadata": {},
     "output_type": "execute_result"
    }
   ],
   "source": [
    "test2['Daytime Routes'].unique()"
   ]
  },
  {
   "cell_type": "code",
   "execution_count": null,
   "metadata": {},
   "outputs": [],
   "source": []
  },
  {
   "cell_type": "code",
   "execution_count": 17,
   "metadata": {
    "scrolled": false
   },
   "outputs": [
    {
     "data": {
      "text/plain": [
       "468"
      ]
     },
     "execution_count": 17,
     "metadata": {},
     "output_type": "execute_result"
    }
   ],
   "source": [
    "len(df_sorted.UNIT.sort_values().unique())\n",
    "# df_sorted.LINENAME.unique()"
   ]
  },
  {
   "cell_type": "code",
   "execution_count": 17,
   "metadata": {},
   "outputs": [],
   "source": [
    "stationCode = 'stationCode'\n",
    "stationName = 'stationName'\n",
    "lat = 'lat'\n",
    "lng = 'lng'"
   ]
  },
  {
   "cell_type": "code",
   "execution_count": 18,
   "metadata": {},
   "outputs": [],
   "source": [
    "stationCode = 'UNIT'\n",
    "stationName = 'station_name'\n",
    "lat = 'lat'\n",
    "lng = 'lng'\n",
    "\n",
    "info=[{ stationCode: \"R001\", stationName: \"SOUTH FERRY\", lat: 40.703082, lng: -\n",
    "74.012983 },\n",
    "{ stationCode: \"R002\", stationName: \"FULTON ST\", lat: 40.709938, lng: -\n",
    "74.007983 },\n",
    "{ stationCode: \"R003\", stationName: \"CYPRESS HILLS\", lat: 40.689945, lng: -\n",
    "73.872564 },\n",
    "{ stationCode: \"R004\", stationName: \"ELDERTS LANE\", lat: 40.69132, lng: -\n",
    "73.867135 },\n",
    "{ stationCode: \"R005\", stationName: \"FOREST PARKWAY\", lat: 40.692304, lng:\n",
    "-73.860151 },\n",
    "{ stationCode: \"R006\", stationName: \"WOODHAVEN BLVD\", lat: 40.693866, lng:\n",
    "-73.851568 },\n",
    "{ stationCode: \"R007\", stationName: \"104 ST\", lat: 40.695184, lng: -\n",
    "73.844326 },\n",
    "{ stationCode: \"R008\", stationName: \"111 ST\", lat: 40.697405, lng: -\n",
    "73.836354 },\n",
    "{ stationCode: \"R009\", stationName: \"121 ST\", lat: 40.700536, lng: -\n",
    "73.828382 },\n",
    "{ stationCode: \"R010\", stationName: \"42 ST-PA BUS TE\", lat: 40.757303, lng:\n",
    "-73.989787 },\n",
    "{ stationCode: \"R011\", stationName: \"42 ST-PA BUS TE\", lat: 40.757303, lng:\n",
    "-73.989787 },\n",
    "{ stationCode: \"R012\", stationName: \"34 ST-PENN STA\", lat: 40.752247, lng:\n",
    "-73.993456 },\n",
    "{ stationCode: \"R013\", stationName: \"34 ST-PENN STA\", lat: 40.752247, lng:\n",
    "-73.993456 },\n",
    "{ stationCode: \"R014\", stationName: \"FULTON ST\", lat: 40.709938, lng: -\n",
    "74.007983 },\n",
    "{ stationCode: \"R015\", stationName: \"5 AVE-53 ST\", lat: 40.760179, lng: -\n",
    "73.975196 },\n",
    "{ stationCode: \"R016\", stationName: \"LEXINGTON-53 ST\", lat: 40.75753, lng:\n",
    "-73.969102 },\n",
    "{ stationCode: \"R017\", stationName: \"LEXINGTON-53 ST\", lat: 40.75753, lng:\n",
    "-73.969102 },\n",
    "{ stationCode: \"R018\", stationName: \"74 ST-BROADWAY\", lat: 40.746655, lng:\n",
    "-73.891361 },\n",
    "{ stationCode: \"R019\", stationName: \"JAMAICA-179 ST\", lat: 40.712622, lng:\n",
    "-73.783815 },\n",
    "{ stationCode: \"R020\", stationName: \"47-50 ST-ROCK\", lat: 40.758652, lng: -\n",
    "73.981311 },\n",
    "{ stationCode: \"R021\", stationName: \"42 ST-BRYANT PK\", lat: 40.754198, lng:\n",
    "-73.984573 },\n",
    "{ stationCode: \"R022\", stationName: \"34 ST-HERALD SQ\", lat: 40.749533, lng:\n",
    "-73.987899 },\n",
    "{ stationCode: \"R023\", stationName: \"34 ST-HERALD SQ\", lat: 40.749533, lng:\n",
    "-73.987899 },\n",
    "{ stationCode: \"R024\", stationName: \"SUTPHIN BLVD\", lat: 40.700488, lng: -\n",
    "73.807933 },\n",
    "{ stationCode: \"R025\", stationName: \"JAMAICA CENTER\", lat: 40.702131, lng:\n",
    "-73.80111 },\n",
    "{ stationCode: \"R027\", stationName: \"WALL ST\", lat: 40.706864, lng: -\n",
    "74.009056 },\n",
    "{ stationCode: \"R028\", stationName: \"FULTON ST\", lat: 40.709938, lng: -\n",
    "74.007983 },\n",
    "{ stationCode: \"R029\", stationName: \"CHAMBERS ST\", lat: 40.71433, lng: -\n",
    "74.008563 },\n",
    "{ stationCode: \"R030\", stationName: \"CHAMBERS ST\", lat: 40.715436, lng: -\n",
    "74.009335 },\n",
    "{ stationCode: \"R031\", stationName: \"34 ST-PENN STA\", lat: 40.750329, lng:\n",
    "-73.991096 },\n",
    "{ stationCode: \"R032\", stationName: \"42 ST-TIMES SQ\", lat: 40.755905, lng:\n",
    "-73.986504 },\n",
    "{ stationCode: \"R033\", stationName: \"42 ST-TIMES SQ\", lat: 40.755905, lng:\n",
    "-73.986504 },\n",
    "{ stationCode: \"R034\", stationName: \"125 ST\", lat: 40.815596, lng: -\n",
    "73.958395 },\n",
    "{ stationCode: \"R035\", stationName: \"168 ST-BROADWAY\", lat: 40.840778, lng:\n",
    "-73.940091 },\n",
    "{ stationCode: \"R036\", stationName: \"DYCKMAN ST\", lat: 40.860523, lng: -\n",
    "73.925575 },\n",
    "{ stationCode: \"R037\", stationName: \"207 ST\", lat: 40.864653, lng: -\n",
    "73.918719 },\n",
    "{ stationCode: \"R038\", stationName: \"215 ST\", lat: 40.869359, lng: -\n",
    "73.915329 },\n",
    "{ stationCode: \"R039\", stationName: \"MARBLE HILL-225\", lat: 40.874551, lng:\n",
    "-73.909879 },\n",
    "{ stationCode: \"R040\", stationName: \"231 ST\", lat: 40.878867, lng: -\n",
    "73.904858 },\n",
    "{ stationCode: \"R041\", stationName: \"BOWLING GREEN\", lat: 40.704782, lng: -\n",
    "74.014099 },\n",
    "{ stationCode: \"R042\", stationName: \"BOWLING GREEN\", lat: 40.704782, lng: -\n",
    "74.014099 },\n",
    "{ stationCode: \"R043\", stationName: \"WALL ST\", lat: 40.707466, lng: -\n",
    "74.011867 },\n",
    "{ stationCode: \"R044\", stationName: \"BROOKLYN BRIDGE\", lat: 40.713159, lng:\n",
    "-74.003917 },\n",
    "{ stationCode: \"R045\", stationName: \"42 ST-GRD CNTRL\", lat: 40.751849, lng:\n",
    "-73.976945 },\n",
    "{ stationCode: \"R046\", stationName: \"42 ST-GRD CNTRL\", lat: 40.751849, lng:\n",
    "-73.976945 },\n",
    "{ stationCode: \"R047\", stationName: \"42 ST-GRD CNTRL\", lat: 40.751849, lng:\n",
    "-73.976945 },\n",
    "{ stationCode: \"R048\", stationName: \"42 ST-GRD CNTRL\", lat: 40.751849, lng:\n",
    "-73.976945 },\n",
    "{ stationCode: \"R049\", stationName: \"51 ST\", lat: 40.757108, lng: -73.97187\n",
    "},\n",
    "{ stationCode: \"R050\", stationName: \"59 ST\", lat: 40.762796, lng: -\n",
    "73.967686 },\n",
    "{ stationCode: \"R051\", stationName: \"59 ST\", lat: 40.762796, lng: -\n",
    "73.967686 },\n",
    "{ stationCode: \"R052\", stationName: \"WOODLAWN ROAD\", lat: 40.885973, lng: -\n",
    "73.878851 },\n",
    "{ stationCode: \"R053\", stationName: \"149 ST-3 AVE\", lat: 40.816132, lng: -\n",
    "73.917754 },\n",
    "{ stationCode: \"R054\", stationName: \"5 AVE-BRYANT PK\", lat: 40.753824, lng:\n",
    "-73.981966 },\n",
    "{ stationCode: \"R055\", stationName: \"MAIN ST\", lat: 40.759578, lng: -\n",
    "73.830056 },\n",
    "{ stationCode: \"R056\", stationName: \"NEVINS ST\", lat: 40.688269, lng: -\n",
    "73.980453 },\n",
    "{ stationCode: \"R057\", stationName: \"ATLANTIC AVE\", lat: 40.684063, lng: -\n",
    "73.977417 },\n",
    "{ stationCode: \"R058\", stationName: \"BERGEN ST\", lat: 40.680801, lng: -\n",
    "73.975132 },\n",
    "{ stationCode: \"R059\", stationName: \"GRAND ARMY PLAZ\", lat: 40.675219, lng:\n",
    "-73.971012 },\n",
    "{ stationCode: \"R060\", stationName: \"EASTERN PKWY\", lat: 40.672013, lng: -\n",
    "73.96436 },\n",
    "{ stationCode: \"R061\", stationName: \"NOSTRAND AVE\", lat: 40.669735, lng: -\n",
    "73.950455 },\n",
    "{ stationCode: \"R062\", stationName: \"CROWN HTS-UTICA\", lat: 40.669279, lng:\n",
    "-73.932967 },\n",
    "{ stationCode: \"R063\", stationName: \"SUTTER AVE\", lat: 40.664591, lng: -\n",
    "73.922668 },\n",
    "{ stationCode: \"R064\", stationName: \"SARATOGA AVE\", lat: 40.661466, lng: -\n",
    "73.916316 },\n",
    "{ stationCode: \"R065\", stationName: \"ROCKAWAY AVE\", lat: 40.662541, lng: -\n",
    "73.908763 },\n",
    "{ stationCode: \"R066\", stationName: \"JUNIUS ST\", lat: 40.663419, lng: -\n",
    "73.902454 },\n",
    "{ stationCode: \"R067\", stationName: \"PENNSYLVANIA AV\", lat: 40.664884, lng:\n",
    "-73.894258 },\n",
    "{ stationCode: \"R068\", stationName: \"VAN SICLEN AVE\", lat: 40.665405, lng:\n",
    "-73.889451 },\n",
    "{ stationCode: \"R069\", stationName: \"NEW LOTS AVE\", lat: 40.666252, lng: -\n",
    "73.884087 },\n",
    "{ stationCode: \"R070\", stationName: \"ST. GEORGE\", lat: 40.643738, lng: -\n",
    "74.073622 },\n",
    "{ stationCode: \"R076\", stationName: \"2 BDWY CUST SRV\", lat: 40.704591, lng:\n",
    "-74.013273 },\n",
    "{ stationCode: \"R079\", stationName: \"5 AVE-59 ST\", lat: 40.764909, lng: -\n",
    "73.973372 },\n",
    "{ stationCode: \"R080\", stationName: \"57 ST-7 AVE\", lat: 40.764755, lng: -\n",
    "73.980646 },\n",
    "{ stationCode: \"R081\", stationName: \"49 ST-7 AVE\", lat: 40.760139, lng: -\n",
    "73.984112 },\n",
    "{ stationCode: \"R082\", stationName: \"28 ST-BROADWAY\", lat: 40.745574, lng:\n",
    "-73.988682 },\n",
    "{ stationCode: \"R083\", stationName: \"23 ST-5 AVE\", lat: 40.741006, lng: -\n",
    "73.989315 },\n",
    "{ stationCode: \"R084\", stationName: \"59 ST-COLUMBUS\", lat: 40.76811, lng: -\n",
    "73.981891 },\n",
    "{ stationCode: \"R085\", stationName: \"8 ST-B'WAY NYU\", lat: 40.730348, lng:\n",
    "-73.992705 },\n",
    "{ stationCode: \"R086\", stationName: \"PRINCE ST-B'WAY\", lat: 40.724332, lng:\n",
    "-73.997684 },\n",
    "{ stationCode: \"R087\", stationName: \"MURRAY ST-B'WAY\", lat: 40.713086, lng:\n",
    "-74.007232 },\n",
    "{ stationCode: \"R088\", stationName: \"CORTLANDT ST\", lat: 40.710662, lng: -\n",
    "74.011052 },\n",
    "{ stationCode: \"R089\", stationName: \"JAY ST-METROTEC\", lat: 40.692182, lng:\n",
    "-73.985935 },\n",
    "{ stationCode: \"R090\", stationName: \"BEEBE-39 AVE\", lat: 40.753076, lng: -\n",
    "73.93271 },\n",
    "{ stationCode: \"R091\", stationName: \"WASHINGTON-36 A\", lat: 40.756977, lng:\n",
    "-73.929373 },\n",
    "{ stationCode: \"R092\", stationName: \"BROADWAY-31 ST\", lat: 40.761959, lng:\n",
    "-73.925382 },\n",
    "{ stationCode: \"R093\", stationName: \"GRAND-30 AVE\", lat: 40.766843, lng: -\n",
    "73.921423 },\n",
    "{ stationCode: \"R094\", stationName: \"HOYT ST-ASTORIA\", lat: 40.770426, lng:\n",
    "-73.917614 },\n",
    "{ stationCode: \"R095\", stationName: \"DITMARS BL-31 S\", lat: 40.774984, lng:\n",
    "-73.912067 },\n",
    "{ stationCode: \"R096\", stationName: \"82 ST-JACKSON H\", lat: 40.747647, lng:\n",
    "-73.883786 },\n",
    "{ stationCode: \"R097\", stationName: \"JUNCTION BLVD\", lat: 40.749143, lng: -\n",
    "73.869452 },\n",
    "{ stationCode: \"R098\", stationName: \"CHURCH AVE\", lat: 40.650494, lng: -\n",
    "73.962836 },\n",
    "{ stationCode: \"R098\", stationName: \"CHURCH AVE\", lat: 40.650494, lng: -\n",
    "73.962836 },\n",
    "{ stationCode: \"R099\", stationName: \"DEKALB AVE\", lat: 40.690612, lng: -\n",
    "73.981848 },\n",
    "{ stationCode: \"R100\", stationName: \"METROPOLITAN AV\", lat: 40.711353, lng:\n",
    "-73.88958 },\n",
    "{ stationCode: \"R101\", stationName: \"145 ST\", lat: 40.824787, lng: -\n",
    "73.944232 },\n",
    "{ stationCode: \"R102\", stationName: \"125 ST\", lat: 40.811056, lng: -\n",
    "73.952386 },\n",
    "{ stationCode: \"R103\", stationName: \"BROADWAY-ENY\", lat: 40.678848, lng: -\n",
    "73.904139 },\n",
    "{ stationCode: \"R104\", stationName: \"167 ST\", lat: 40.833773, lng: -\n",
    "73.91843 },\n",
    "{ stationCode: \"R105\", stationName: \"14 ST\", lat: 40.738007, lng: -\n",
    "73.998381 },\n",
    "{ stationCode: \"R106\", stationName: \"CASTLE HILL AVE\", lat: 40.834255, lng:\n",
    "-73.851222 },\n",
    "{ stationCode: \"R107\", stationName: \"WESTCHESTER SQ\", lat: 40.839892, lng:\n",
    "-73.842952 },\n",
    "{ stationCode: \"R108\", stationName: \"BOROUGH HALL/CT\", lat: 40.692404, lng:\n",
    "-73.990151 },\n",
    "{ stationCode: \"R109\", stationName: \"CHURCH AVE\", lat: 40.650843, lng: -\n",
    "73.949575 },\n",
    "{ stationCode: \"R110\", stationName: \"FLATBUSH AVE\", lat: 40.632836, lng: -\n",
    "73.947642 },\n",
    "{ stationCode: \"R111\", stationName: \"23 ST\", lat: 40.745924, lng: -\n",
    "73.998005 },\n",
    "{ stationCode: \"R112\", stationName: \"FORDHAM ROAD\", lat: 40.862803, lng: -\n",
    "73.901034 },\n",
    "{ stationCode: \"R113\", stationName: \"7 AVE-53 ST\", lat: 40.762877, lng: -\n",
    "73.98159 },\n",
    "{ stationCode: \"R114\", stationName: \"PARSONS BLVD\", lat: 40.707564, lng: -\n",
    "73.803326 },\n",
    "{ stationCode: \"R115\", stationName: \"169 ST\", lat: 40.710459, lng: -73.7936\n",
    "},\n",
    "{ stationCode: \"R116\", stationName: \"50 ST\", lat: 40.761675, lng: -\n",
    "73.983908 },\n",
    "{ stationCode: \"R117\", stationName: \"242 ST\", lat: 40.889185, lng: -\n",
    "73.898549 },\n",
    "{ stationCode: \"R118\", stationName: \"CANAL ST\", lat: 40.718233, lng: -\n",
    "74.000323 },\n",
    "{ stationCode: \"R119\", stationName: \"FORDHAM ROAD\", lat: 40.862941, lng: -\n",
    "73.901199 },\n",
    "{ stationCode: \"R120\", stationName: \"MORRISON AVE\", lat: 40.829495, lng: -\n",
    "73.874559 },\n",
    "{ stationCode: \"R121\", stationName: \"QUEENSBORO PLZ\", lat: 40.750508, lng:\n",
    "-73.940177 },\n",
    "{ stationCode: \"R122\", stationName: \"90 ST-ELMHURST\", lat: 40.748541, lng:\n",
    "-73.876791 },\n",
    "{ stationCode: \"R123\", stationName: \"FRANKLIN AVE\", lat: 40.670711, lng: -\n",
    "73.958051 },\n",
    "{ stationCode: \"R124\", stationName: \"KINGSTON AVE\", lat: 40.669409, lng: -\n",
    "73.942173 },\n",
    "{ stationCode: \"R125\", stationName: \"BROAD ST\", lat: 40.706539, lng: -\n",
    "74.011052 },\n",
    "{ stationCode: \"R126\", stationName: \"175 ST\", lat: 40.847369, lng: -\n",
    "73.939683 },\n",
    "{ stationCode: \"R127\", stationName: \"JAY ST-METROTEC\", lat: 40.692338, lng:\n",
    "-73.987342 },\n",
    "{ stationCode: \"R128\", stationName: \"SUTPHIN BLVD\", lat: 40.705416, lng: -\n",
    "73.810562 },\n",
    "{ stationCode: \"R129\", stationName: \"BERGEN ST\", lat: 40.686154, lng: -\n",
    "73.990881 },\n",
    "{ stationCode: \"R130\", stationName: \"KINGS HIGHWAY\", lat: 40.603234, lng: -\n",
    "73.972342 },\n",
    "{ stationCode: \"R131\", stationName: \"23 ST\", lat: 40.740088, lng: -\n",
    "73.986429 },\n",
    "{ stationCode: \"R132\", stationName: \"125 ST\", lat: 40.804406, lng: -\n",
    "73.937452 },\n",
    "{ stationCode: \"R133\", stationName: \"MOSHOLU PARKWAY\", lat: 40.87963, lng:\n",
    "-73.884666 },\n",
    "{ stationCode: \"R134\", stationName: \"HUNTERS PT AVE\", lat: 40.74238, lng: -\n",
    "73.948889 },\n",
    "{ stationCode: \"R135\", stationName: \"NEWKIRK AVE\", lat: 40.639961, lng: -\n",
    "73.948352 },\n",
    "{ stationCode: \"R136\", stationName: \"SHEEPSHEAD BAY\", lat: 40.58681, lng: -\n",
    "73.954167 },\n",
    "{ stationCode: \"R137\", stationName: \"MYRTLE AVE\", lat: 40.699707, lng: -\n",
    "73.91181 },\n",
    "{ stationCode: \"R138\", stationName: \"W 4 ST-WASH SQ\", lat: 40.732251, lng:\n",
    "-74.000559 },\n",
    "{ stationCode: \"R139\", stationName: \"CANAL ST\", lat: 40.720852, lng: -\n",
    "74.005237 },\n",
    "{ stationCode: \"R140\", stationName: \"QUEENS PLAZA\", lat: 40.748948, lng: -\n",
    "73.937194 },\n",
    "{ stationCode: \"R141\", stationName: \"FOREST HILLS-71\", lat: 40.721681, lng:\n",
    "-73.84439 },\n",
    "{ stationCode: \"R142\", stationName: \"DELANCEY ST\", lat: 40.71838, lng: -\n",
    "73.987813 },\n",
    "{ stationCode: \"R143\", stationName: \"28 ST\", lat: 40.743095, lng: -\n",
    "73.984251 },\n",
    "{ stationCode: \"R144\", stationName: \"96 ST\", lat: 40.785822, lng: -73.95097\n",
    "},\n",
    "{ stationCode: \"R145\", stationName: \"WAKEFIELD-241\", lat: 40.903085, lng: -\n",
    "73.850591 },\n",
    "{ stationCode: \"R146\", stationName: \"HUNTS POINT AVE\", lat: 40.820889, lng:\n",
    "-73.890567 },\n",
    "{ stationCode: \"R147\", stationName: \"61 ST/WOODSIDE\", lat: 40.745623, lng:\n",
    "-73.902969 },\n",
    "{ stationCode: \"R148\", stationName: \"PARKSIDE AVE\", lat: 40.655053, lng: -\n",
    "73.961227 },\n",
    "{ stationCode: \"R149\", stationName: \"NEWKIRK AVE\", lat: 40.635059, lng: -\n",
    "73.962793 },\n",
    "{ stationCode: \"R150\", stationName: \"AVE U\", lat: 40.599307, lng: -\n",
    "73.955916 },\n",
    "{ stationCode: \"R151\", stationName: \"STILLWELL AVE\", lat: 40.577423, lng: -\n",
    "73.981225 },\n",
    "{ stationCode: \"R152\", stationName: \"ROCKAWAY PKY\", lat: 40.64666, lng: -\n",
    "73.901832 },\n",
    "{ stationCode: \"R153\", stationName: \"UTICA AVE\", lat: 40.679279, lng: -\n",
    "73.930585 },\n",
    "{ stationCode: \"R154\", stationName: \"TREMONT AVE\", lat: 40.850307, lng: -\n",
    "73.905244 },\n",
    "{ stationCode: \"R155\", stationName: \"KINGSBRIDGE RD\", lat: 40.866974, lng:\n",
    "-73.893485 },\n",
    "{ stationCode: \"R156\", stationName: \"BEDFORD PARK BL\", lat: 40.873026, lng:\n",
    "-73.886919 },\n",
    "{ stationCode: \"R157\", stationName: \"NORWOOD-205 ST\", lat: 40.874827, lng:\n",
    "-73.878872 },\n",
    "{ stationCode: \"R158\", stationName: \"UNION TPK-KEW G\", lat: 40.714444, lng:\n",
    "-73.830979 },\n",
    "{ stationCode: \"R159\", stationName: \"116 ST-COLUMBIA\", lat: 40.80819, lng:\n",
    "-73.964124 },\n",
    "{ stationCode: \"R160\", stationName: \"ASTOR PLACE\", lat: 40.730056, lng: -\n",
    "73.991042 },\n",
    "{ stationCode: \"R161\", stationName: \"KINGSBRIDGE RD\", lat: 40.867899, lng:\n",
    "-73.897326 },\n",
    "{ stationCode: \"R162\", stationName: \"ELDER AVE\", lat: 40.828894, lng: -\n",
    "73.879559 },\n",
    "{ stationCode: \"R163\", stationName: \"14 ST-6 AVE\", lat: 40.737348, lng: -\n",
    "73.9969 },\n",
    "{ stationCode: \"R164\", stationName: \"66 ST-LINCOLN\", lat: 40.773424, lng: -\n",
    "73.982234 },\n",
    "{ stationCode: \"R165\", stationName: \"TOMPKINSVILLE\", lat: 40.636948, lng: -\n",
    "74.074824 },\n",
    "{ stationCode: \"R166\", stationName: \"79 ST\", lat: 40.783872, lng: -\n",
    "73.979938 },\n",
    "{ stationCode: \"R167\", stationName: \"86 ST\", lat: 40.788844, lng: -73.97599\n",
    "},\n",
    "{ stationCode: \"R168\", stationName: \"96 ST\", lat: 40.79388, lng: -73.972363\n",
    "},\n",
    "{ stationCode: \"R169\", stationName: \"137 ST-CITY COL\", lat: 40.821994, lng:\n",
    "-73.953674 },\n",
    "{ stationCode: \"R170\", stationName: \"14 ST-UNION SQ\", lat: 40.734836, lng:\n",
    "-73.990688 },\n",
    "{ stationCode: \"R171\", stationName: \"7 AVE\", lat: 40.677172, lng: -\n",
    "73.972514 },\n",
    "{ stationCode: \"R172\", stationName: \"BRIGHTON BEACH\", lat: 40.577961, lng:\n",
    "-73.961806 },\n",
    "{ stationCode: \"R173\", stationName: \"INWOOD-207 ST\", lat: 40.868045, lng: -\n",
    "73.919921 },\n",
    "{ stationCode: \"R174\", stationName: \"181 ST\", lat: 40.851686, lng: -\n",
    "73.937967 },\n",
    "{ stationCode: \"R175\", stationName: \"14 ST\", lat: 40.740388, lng: -\n",
    "74.002104 },\n",
    "{ stationCode: \"R176\", stationName: \"33 ST\", lat: 40.746119, lng: -\n",
    "73.981826 },\n",
    "{ stationCode: \"R177\", stationName: \"68ST-HUNTER COL\", lat: 40.768143, lng:\n",
    "-73.964016 },\n",
    "{ stationCode: \"R178\", stationName: \"77 ST\", lat: 40.773636, lng: -\n",
    "73.959875 },\n",
    "{ stationCode: \"R179\", stationName: \"86 ST\", lat: 40.779485, lng: -\n",
    "73.955541 },\n",
    "{ stationCode: \"R180\", stationName: \"103 ST\", lat: 40.790582, lng: -\n",
    "73.947473 },\n",
    "{ stationCode: \"R181\", stationName: \"110 ST\", lat: 40.795066, lng: -\n",
    "73.944297 },\n",
    "{ stationCode: \"R182\", stationName: \"116 ST\", lat: 40.798574, lng: -\n",
    "73.941593 },\n",
    "{ stationCode: \"R183\", stationName: \"BEDFORD PARK BL\", lat: 40.873399, lng:\n",
    "-73.890084 },\n",
    "{ stationCode: \"R184\", stationName: \"CORTELYOU ROAD\", lat: 40.640905, lng:\n",
    "-73.963866 },\n",
    "{ stationCode: \"R185\", stationName: \"DYCKMAN-200 ST\", lat: 40.865286, lng:\n",
    "-73.92698 },\n",
    "{ stationCode: \"R186\", stationName: \"86 ST\", lat: 40.785822, lng: -\n",
    "73.968952 },\n",
    "{ stationCode: \"R187\", stationName: \"81 ST-MUSEUM\", lat: 40.781435, lng: -\n",
    "73.972149 },\n",
    "{ stationCode: \"R188\", stationName: \"50 ST\", lat: 40.762439, lng: -\n",
    "73.985989 },\n",
    "{ stationCode: \"R189\", stationName: \"CHRISTOPHER ST\", lat: 40.733405, lng:\n",
    "-74.002898 },\n",
    "{ stationCode: \"R190\", stationName: \"23 ST\", lat: 40.744071, lng: -\n",
    "73.995624 },\n",
    "{ stationCode: \"R191\", stationName: \"103 ST\", lat: 40.799354, lng: -\n",
    "73.968329 },\n",
    "{ stationCode: \"R192\", stationName: \"110 ST-CATHEDRL\", lat: 40.804032, lng:\n",
    "-73.966742 },\n",
    "{ stationCode: \"R193\", stationName: \"157 ST\", lat: 40.833879, lng: -\n",
    "73.944726 },\n",
    "{ stationCode: \"R194\", stationName: \"BLEECKER ST\", lat: 40.725665, lng: -\n",
    "73.995645 },\n",
    "{ stationCode: \"R195\", stationName: \"161 ST-YANKEE\", lat: 40.827888, lng: -\n",
    "73.925736 },\n",
    "{ stationCode: \"R196\", stationName: \"PROSPECT PARK\", lat: 40.661596, lng: -\n",
    "73.962193 },\n",
    "{ stationCode: \"R197\", stationName: \"36 ST\", lat: 40.65515, lng: -74.003477\n",
    "},\n",
    "{ stationCode: \"R198\", stationName: \"NOSTRAND AVE\", lat: 40.68041, lng: -\n",
    "73.950326 },\n",
    "{ stationCode: \"R199\", stationName: \"KINGSTON-THROOP\", lat: 40.679921, lng:\n",
    "-73.940858 },\n",
    "{ stationCode: \"R200\", stationName: \"EUCLID AVE\", lat: 40.675382, lng: -\n",
    "73.87207 },\n",
    "{ stationCode: \"R201\", stationName: \"WOODHAVEN BLVD\", lat: 40.73308, lng: -\n",
    "73.869259 },\n",
    "{ stationCode: \"R202\", stationName: \"63 DR-REGO PARK\", lat: 40.729869, lng:\n",
    "-73.86161 },\n",
    "{ stationCode: \"R203\", stationName: \"23 ST-6 AVE\", lat: 40.742868, lng: -\n",
    "73.99277 },\n",
    "{ stationCode: \"R204\", stationName: \"CHURCH AVE\", lat: 40.644039, lng: -\n",
    "73.979541 },\n",
    "{ stationCode: \"R205\", stationName: \"149 ST-GR CONC\", lat: 40.818429, lng:\n",
    "-73.926927 },\n",
    "{ stationCode: \"R206\", stationName: \"125 ST\", lat: 40.808076, lng: -\n",
    "73.945906 },\n",
    "{ stationCode: \"R207\", stationName: \"135 ST\", lat: 40.814459, lng: -\n",
    "73.940992 },\n",
    "{ stationCode: \"R208\", stationName: \"103 ST-CORONA\", lat: 40.749858, lng: -\n",
    "73.862672 },\n",
    "{ stationCode: \"R209\", stationName: \"STERLING ST\", lat: 40.662752, lng: -\n",
    "73.950605 },\n",
    "{ stationCode: \"R210\", stationName: \"BEVERLY ROAD\", lat: 40.645089, lng: -\n",
    "73.948975 },\n",
    "{ stationCode: \"R211\", stationName: \"KINGS HIGHWAY\", lat: 40.608691, lng: -\n",
    "73.957772 },\n",
    "{ stationCode: \"R212\", stationName: \"59 ST\", lat: 40.641426, lng: -\n",
    "74.017972 },\n",
    "{ stationCode: \"R213\", stationName: \"BAY RIDGE AVE\", lat: 40.634945, lng: -\n",
    "74.023411 },\n",
    "{ stationCode: \"R214\", stationName: \"77 ST\", lat: 40.629702, lng: -\n",
    "74.025514 },\n",
    "{ stationCode: \"R215\", stationName: \"86 ST\", lat: 40.622715, lng: -\n",
    "74.028368 },\n",
    "{ stationCode: \"R216\", stationName: \"BAY RIDGE-95 ST\", lat: 40.616624, lng:\n",
    "-74.030964 },\n",
    "{ stationCode: \"R217\", stationName: \"HOYT/SCHERMER\", lat: 40.688465, lng: -\n",
    "73.985474 },\n",
    "{ stationCode: \"R218\", stationName: \"ELMHURST AVE\", lat: 40.742445, lng: -\n",
    "73.882005 },\n",
    "{ stationCode: \"R219\", stationName: \"67 AVE\", lat: 40.726462, lng: -\n",
    "73.85263 },\n",
    "{ stationCode: \"R220\", stationName: \"CARROLL ST\", lat: 40.680231, lng: -\n",
    "73.99498 },\n",
    "{ stationCode: \"R221\", stationName: \"167 ST\", lat: 40.835535, lng: -\n",
    "73.92138 },\n",
    "{ stationCode: \"R222\", stationName: \"E 177 ST-PARKCH\", lat: 40.833246, lng:\n",
    "-73.860805 },\n",
    "{ stationCode: \"R223\", stationName: \"46 ST-BLISS ST\", lat: 40.743079, lng:\n",
    "-73.918419 },\n",
    "{ stationCode: \"R224\", stationName: \"CLARK ST\", lat: 40.697356, lng: -\n",
    "73.992888 },\n",
    "{ stationCode: \"R225\", stationName: \"HOYT ST\", lat: 40.690547, lng: -\n",
    "73.985066 },\n",
    "{ stationCode: \"R226\", stationName: \"GUN HILL ROAD\", lat: 40.877796, lng: -\n",
    "73.866341 },\n",
    "{ stationCode: \"R227\", stationName: \"RECTOR ST\", lat: 40.707222, lng: -\n",
    "74.013391 },\n",
    "{ stationCode: \"R228\", stationName: \"AVE J\", lat: 40.625028, lng: -\n",
    "73.960819 },\n",
    "{ stationCode: \"R229\", stationName: \"AVE M\", lat: 40.617568, lng: -73.95936\n",
    "},\n",
    "{ stationCode: \"R230\", stationName: \"NECK ROAD\", lat: 40.595234, lng: -\n",
    "73.95509 },\n",
    "{ stationCode: \"R231\", stationName: \"UNION ST\", lat: 40.677302, lng: -\n",
    "73.983135 },\n",
    "{ stationCode: \"R232\", stationName: \"45 ST\", lat: 40.648866, lng: -\n",
    "74.010086 },\n",
    "{ stationCode: \"R233\", stationName: \"53 ST\", lat: 40.644959, lng: -\n",
    "74.014034 },\n",
    "{ stationCode: \"R234\", stationName: \"50 ST\", lat: 40.636232, lng: -\n",
    "73.994765 },\n",
    "{ stationCode: \"R235\", stationName: \"BEDFORD AVE\", lat: 40.717241, lng: -\n",
    "73.956614 },\n",
    "{ stationCode: \"R236\", stationName: \"DEKALB AVE\", lat: 40.703839, lng: -\n",
    "73.91844 },\n",
    "{ stationCode: \"R237\", stationName: \"182-183 ST\", lat: 40.856085, lng: -\n",
    "73.900695 },\n",
    "{ stationCode: \"R238\", stationName: \"STEINWAY ST\", lat: 40.756864, lng: -\n",
    "73.920736 },\n",
    "{ stationCode: \"R239\", stationName: \"GREENPOINT AVE\", lat: 40.731324, lng:\n",
    "-73.954425 },\n",
    "{ stationCode: \"R240\", stationName: \"GRAND ST\", lat: 40.718542, lng: -\n",
    "73.994164 },\n",
    "{ stationCode: \"R241\", stationName: \"15 ST-PROSPECT\", lat: 40.660376, lng:\n",
    "-73.979509 },\n",
    "{ stationCode: \"R242\", stationName: \"18 AVE\", lat: 40.629881, lng: -\n",
    "73.977149 },\n",
    "{ stationCode: \"R243\", stationName: \"170 ST\", lat: 40.840048, lng: -\n",
    "73.917775 },\n",
    "{ stationCode: \"R244\", stationName: \"BURNSIDE AVE\", lat: 40.85339, lng: -\n",
    "73.907733 },\n",
    "{ stationCode: \"R245\", stationName: \"ST LAWRENCE AVE\", lat: 40.8315, lng: -\n",
    "73.867623 },\n",
    "{ stationCode: \"R246\", stationName: \"PROSPECT AVE\", lat: 40.665438, lng: -\n",
    "73.992856 },\n",
    "{ stationCode: \"R247\", stationName: \"55 ST\", lat: 40.631412, lng: -\n",
    "73.995473 },\n",
    "{ stationCode: \"R248\", stationName: \"1 AVE\", lat: 40.730901, lng: -\n",
    "73.981719 },\n",
    "{ stationCode: \"R249\", stationName: \"GRAHAM AVE\", lat: 40.71459, lng: -\n",
    "73.944104 },\n",
    "{ stationCode: \"R250\", stationName: \"GRAND ST\", lat: 40.711874, lng: -\n",
    "73.94067 },\n",
    "{ stationCode: \"R251\", stationName: \"96 ST\", lat: 40.791654, lng: -\n",
    "73.964682 },\n",
    "{ stationCode: \"R252\", stationName: \"HIGH ST\", lat: 40.699316, lng: -\n",
    "73.990474 },\n",
    "{ stationCode: \"R253\", stationName: \"174-175 ST\", lat: 40.845892, lng: -\n",
    "73.910136 },\n",
    "{ stationCode: \"R254\", stationName: \"GRAND AV-NEWTON\", lat: 40.736998, lng:\n",
    "-73.877242 },\n",
    "{ stationCode: \"R255\", stationName: \"VAN WYCK BLVD\", lat: 40.709174, lng: -\n",
    "73.820593 },\n",
    "{ stationCode: \"R256\", stationName: \"NASSAU AV\", lat: 40.724608, lng: -\n",
    "73.951271 },\n",
    "{ stationCode: \"R257\", stationName: \"EAST BROADWAY\", lat: 40.713647, lng: -\n",
    "73.990152 },\n",
    "{ stationCode: \"R258\", stationName: \"4 AVE\", lat: 40.67032, lng: -73.988757\n",
    "},\n",
    "{ stationCode: \"R259\", stationName: \"ROOSEVELT IS\", lat: 40.759123, lng: -\n",
    "73.953266 },\n",
    "{ stationCode: \"R260\", stationName: \"181 ST\", lat: 40.849495, lng: -\n",
    "73.933632 },\n",
    "{ stationCode: \"R261\", stationName: \"40 ST-LOWERY ST\", lat: 40.743778, lng:\n",
    "-73.923998 },\n",
    "{ stationCode: \"R262\", stationName: \"BEVERLEY ROAD\", lat: 40.643982, lng: -\n",
    "73.96451 },\n",
    "{ stationCode: \"R263\", stationName: \"AVE H\", lat: 40.629164, lng: -\n",
    "73.961678 },\n",
    "{ stationCode: \"R264\", stationName: \"OCEAN PARKWAY\", lat: 40.576298, lng: -\n",
    "73.968523 },\n",
    "{ stationCode: \"R265\", stationName: \"MONTROSE AVE\", lat: 40.707889, lng: -\n",
    "73.940005 },\n",
    "{ stationCode: \"R266\", stationName: \"HALSEY ST\", lat: 40.695607, lng: -\n",
    "73.904021 },\n",
    "{ stationCode: \"R267\", stationName: \"46 ST\", lat: 40.756312, lng: -\n",
    "73.913333 },\n",
    "{ stationCode: \"R268\", stationName: \"LORIMER ST\", lat: 40.713875, lng: -\n",
    "73.951592 },\n",
    "{ stationCode: \"R269\", stationName: \"BEDFORD/NOSTRAN\", lat: 40.689636, lng:\n",
    "-73.953459 },\n",
    "{ stationCode: \"R270\", stationName: \"SMITH-9 ST\", lat: 40.673714, lng: -\n",
    "73.996139 },\n",
    "{ stationCode: \"R271\", stationName: \"AVE X\", lat: 40.589547, lng: -\n",
    "73.974295 },\n",
    "{ stationCode: \"R272\", stationName: \"28 ST\", lat: 40.747224, lng: -73.99336\n",
    "},\n",
    "{ stationCode: \"R273\", stationName: \"145 ST\", lat: 40.826426, lng: -\n",
    "73.950412 },\n",
    "{ stationCode: \"R274\", stationName: \"191 ST\", lat: 40.855176, lng: -\n",
    "73.929384 },\n",
    "{ stationCode: \"R275\", stationName: \"183 ST\", lat: 40.858389, lng: -\n",
    "73.903828 },\n",
    "{ stationCode: \"R276\", stationName: \"VERNON/JACKSON\", lat: 40.742624, lng:\n",
    "-73.953545 },\n",
    "{ stationCode: \"R277\", stationName: \"PRESIDENT ST\", lat: 40.667879, lng: -\n",
    "73.950648 },\n",
    "{ stationCode: \"R278\", stationName: \"25 ST\", lat: 40.660481, lng: -\n",
    "73.998059 },\n",
    "{ stationCode: \"R279\", stationName: \"JEFFERSON ST\", lat: 40.706636, lng: -\n",
    "73.922925 },\n",
    "{ stationCode: \"R280\", stationName: \"190 ST\", lat: 40.859022, lng: -\n",
    "73.93419 },\n",
    "{ stationCode: \"R281\", stationName: \"72 ST\", lat: 40.775545, lng: -\n",
    "73.976398 },\n",
    "{ stationCode: \"R282\", stationName: \"SPRING ST\", lat: 40.726202, lng: -\n",
    "74.003627 },\n",
    "{ stationCode: \"R283\", stationName: \"LAFAYETTE AVE\", lat: 40.68617, lng: -\n",
    "73.973908 },\n",
    "{ stationCode: \"R284\", stationName: \"CLINTON-WASH AV\", lat: 40.683263, lng:\n",
    "-73.965838 },\n",
    "{ stationCode: \"R285\", stationName: \"FAR ROCKAWAY\", lat: 40.603983, lng: -\n",
    "73.755383 },\n",
    "{ stationCode: \"R286\", stationName: \"MYRTLE-WILLOUGH\", lat: 40.694568, lng:\n",
    "-73.949046 },\n",
    "{ stationCode: \"R287\", stationName: \"CLASSON AVE\", lat: 40.688855, lng: -\n",
    "73.960025 },\n",
    "{ stationCode: \"R288\", stationName: \"7 AV-PARK SLOPE\", lat: 40.666276, lng:\n",
    "-73.980324 },\n",
    "{ stationCode: \"R289\", stationName: \"FT HAMILTON PKY\", lat: 40.650722, lng:\n",
    "-73.975818 },\n",
    "{ stationCode: \"R290\", stationName: \"HOUSTON ST\", lat: 40.728202, lng: -\n",
    "74.005344 },\n",
    "{ stationCode: \"R291\", stationName: \"33 ST/RAWSON ST\", lat: 40.744558, lng:\n",
    "-73.930993 },\n",
    "{ stationCode: \"R292\", stationName: \"BAYCHESTER AVE\", lat: 40.878656, lng:\n",
    "-73.838596 },\n",
    "{ stationCode: \"R293\", stationName: \"34 ST-PENN STA\", lat: 40.750264, lng:\n",
    "-73.992984 },\n",
    "{ stationCode: \"R294\", stationName: \"MORGAN AVE\", lat: 40.706148, lng: -\n",
    "73.93316 },\n",
    "{ stationCode: \"R295\", stationName: \"WILSON AVE\", lat: 40.688676, lng: -\n",
    "73.903999 },\n",
    "{ stationCode: \"R296\", stationName: \"163 ST-AMSTERDM\", lat: 40.835957, lng:\n",
    "-73.939898 },\n",
    "{ stationCode: \"R297\", stationName: \"FRANKLIN AVE\", lat: 40.681159, lng: -\n",
    "73.956056 },\n",
    "{ stationCode: \"R298\", stationName: \"NORTHERN BLVD\", lat: 40.752898, lng: -\n",
    "73.905973 },\n",
    "{ stationCode: \"R299\", stationName: \"BROADWAY\", lat: 40.7061, lng: -\n",
    "73.950348 },\n",
    "{ stationCode: \"R300\", stationName: \"2 AVE\", lat: 40.723291, lng: -\n",
    "73.989873 },\n",
    "{ stationCode: \"R301\", stationName: \"YORK ST\", lat: 40.699756, lng: -\n",
    "73.98689 },\n",
    "{ stationCode: \"R302\", stationName: \"57 ST\", lat: 40.763625, lng: -\n",
    "73.977449 },\n",
    "{ stationCode: \"R303\", stationName: \"21 ST\", lat: 40.7541, lng: -73.94258 }\n",
    ",\n",
    "{ stationCode: \"R304\", stationName: \"RECTOR ST\", lat: 40.70784, lng: -\n",
    "74.013691 },\n",
    "{ stationCode: \"R305\", stationName: \"CORTLANDT ST\", lat: 40.710454, lng: -\n",
    "74.011324 },\n",
    "{ stationCode: \"R306\", stationName: \"238 ST\", lat: 40.884821, lng: -\n",
    "73.900759 },\n",
    "{ stationCode: \"R307\", stationName: \"138 ST-GR CONC\", lat: 40.813208, lng:\n",
    "-73.929877 },\n",
    "{ stationCode: \"R308\", stationName: \"MT EDEN AVE\", lat: 40.844406, lng: -\n",
    "73.914621 },\n",
    "{ stationCode: \"R309\", stationName: \"176 ST\", lat: 40.848635, lng: -\n",
    "73.912497 },\n",
    "{ stationCode: \"R310\", stationName: \"111 ST\", lat: 40.75176, lng: -\n",
    "73.855183 },\n",
    "{ stationCode: \"R311\", stationName: \"BOWERY\", lat: 40.720315, lng: -\n",
    "73.994014 },\n",
    "{ stationCode: \"R312\", stationName: \"W 8 ST-AQUARIUM\", lat: 40.576152, lng:\n",
    "-73.975925 },\n",
    "{ stationCode: \"R313\", stationName: \"BUSHWICK AVE\", lat: 40.682558, lng: -\n",
    "73.905501 },\n",
    "{ stationCode: \"R314\", stationName: \"103 ST\", lat: 40.796105, lng: -\n",
    "73.961399 },\n",
    "{ stationCode: \"R315\", stationName: \"155 ST\", lat: 40.829934, lng: -\n",
    "73.938632 },\n",
    "{ stationCode: \"R316\", stationName: \"FLUSHING AVE\", lat: 40.700374, lng: -\n",
    "73.950284 },\n",
    "{ stationCode: \"R317\", stationName: \"CLINTON-WASH AV\", lat: 40.688123, lng:\n",
    "-73.966742 },\n",
    "{ stationCode: \"R318\", stationName: \"FULTON ST\", lat: 40.68713, lng: -\n",
    "73.975346 },\n",
    "{ stationCode: \"R319\", stationName: \"LEXINGTON AVE\", lat: 40.764763, lng: -\n",
    "73.966291 },\n",
    "{ stationCode: \"R320\", stationName: \"CANAL ST\", lat: 40.722819, lng: -\n",
    "74.006267 },\n",
    "{ stationCode: \"R321\", stationName: \"18 ST\", lat: 40.741096, lng: -\n",
    "73.997877 },\n",
    "{ stationCode: \"R322\", stationName: \"SPRING ST\", lat: 40.722397, lng: -\n",
    "73.997211 },\n",
    "{ stationCode: \"R323\", stationName: \"110 ST-CPN\", lat: 40.79911, lng: -\n",
    "73.951807 },\n",
    "{ stationCode: \"R324\", stationName: \"116 ST\", lat: 40.802098, lng: -\n",
    "73.949625 },\n",
    "{ stationCode: \"R325\", stationName: \"WHITLOCK AVE\", lat: 40.826508, lng: -\n",
    "73.886425 },\n",
    "{ stationCode: \"R326\", stationName: \"ZEREGA AVE\", lat: 40.83646, lng: -\n",
    "73.846471 },\n",
    "{ stationCode: \"R327\", stationName: \"52 ST-LINCOLN\", lat: 40.744103, lng: -\n",
    "73.912497 },\n",
    "{ stationCode: \"R328\", stationName: \"METS-WILLETS PT\", lat: 40.754622, lng:\n",
    "-73.845625 },\n",
    "{ stationCode: \"R329\", stationName: \"MORRIS PARK\", lat: 40.854137, lng: -\n",
    "73.860977 },\n",
    "{ stationCode: \"R330\", stationName: \"3 AVE\", lat: 40.733243, lng: -\n",
    "73.987169 },\n",
    "{ stationCode: \"R331\", stationName: \"155 ST\", lat: 40.830551, lng: -\n",
    "73.941486 },\n",
    "{ stationCode: \"R332\", stationName: \"135 ST\", lat: 40.817902, lng: -\n",
    "73.947644 },\n",
    "{ stationCode: \"R333\", stationName: \"116 ST\", lat: 40.805072, lng: -\n",
    "73.954833 },\n",
    "{ stationCode: \"R334\", stationName: \"CATHEDRL-110 ST\", lat: 40.800637, lng:\n",
    "-73.958201 },\n",
    "{ stationCode: \"R335\", stationName: \"BEACH 67 ST\", lat: 40.590867, lng: -\n",
    "73.797011 },\n",
    "{ stationCode: \"R336\", stationName: \"BEACH 60 ST\", lat: 40.592334, lng: -\n",
    "73.788493 },\n",
    "{ stationCode: \"R337\", stationName: \"BEACH 44 ST\", lat: 40.593214, lng: -\n",
    "73.776433 },\n",
    "{ stationCode: \"R338\", stationName: \"BEACH 36 ST\", lat: 40.595381, lng: -\n",
    "73.768194 },\n",
    "{ stationCode: \"R339\", stationName: \"36 ST\", lat: 40.75202, lng: -73.92874\n",
    "},\n",
    "{ stationCode: \"R340\", stationName: \"65 ST\", lat: 40.749663, lng: -\n",
    "73.898485 },\n",
    "{ stationCode: \"R341\", stationName: \"75 AVE\", lat: 40.718477, lng: -\n",
    "73.837223 },\n",
    "{ stationCode: \"R342\", stationName: \"JAMAICA-VAN WYC\", lat: 40.702566, lng:\n",
    "-73.816859 },\n",
    "{ stationCode: \"R343\", stationName: \"FRANKLIN ST\", lat: 40.719323, lng: -\n",
    "74.006953 },\n",
    "{ stationCode: \"R344\", stationName: \"145 ST\", lat: 40.820402, lng: -\n",
    "73.936315 },\n",
    "{ stationCode: \"R345\", stationName: \"148 ST-LENOX\", lat: 40.823877, lng: -\n",
    "73.936443 },\n",
    "{ stationCode: \"R346\", stationName: \"COURT SQ\", lat: 40.747029, lng: -\n",
    "73.94537 },\n",
    "{ stationCode: \"R347\", stationName: \"69 ST-FISK AVE\", lat: 40.746325, lng:\n",
    "-73.896403 },\n",
    "{ stationCode: \"R348\", stationName: \"ATLANTIC AVE\", lat: 40.675496, lng: -\n",
    "73.902819 },\n",
    "{ stationCode: \"R349\", stationName: \"SUTTER AVE\", lat: 40.669376, lng: -\n",
    "73.902047 },\n",
    "{ stationCode: \"R350\", stationName: \"LIVONIA AVE\", lat: 40.663801, lng: -\n",
    "73.900444 },\n",
    "{ stationCode: \"R352\", stationName: \"HEWES ST\", lat: 40.706994, lng: -\n",
    "73.953481 },\n",
    "{ stationCode: \"R353\", stationName: \"LORIMER ST\", lat: 40.703855, lng: -\n",
    "73.947387 },\n",
    "{ stationCode: \"R354\", stationName: \"OXFORD-104 ST\", lat: 40.681745, lng: -\n",
    "73.837631 },\n",
    "{ stationCode: \"R355\", stationName: \"GREENWOOD-111\", lat: 40.684364, lng: -\n",
    "73.832181 },\n",
    "{ stationCode: \"R356\", stationName: \"LEFFERTS BLVD\", lat: 40.685975, lng: -\n",
    "73.824713 },\n",
    "{ stationCode: \"R357\", stationName: \"AQUEDUCT-N CNDT\", lat: 40.668234, lng:\n",
    "-73.834058 },\n",
    "{ stationCode: \"R358\", stationName: \"BEACH 25 ST\", lat: 40.600138, lng: -\n",
    "73.76152 },\n",
    "{ stationCode: \"R359\", stationName: \"COURT SQ-23 ST\", lat: 40.747257, lng:\n",
    "-73.945112 },\n",
    "{ stationCode: \"R360\", stationName: \"VAN ALSTON-21ST\", lat: 40.743973, lng:\n",
    "-73.949876 },\n",
    "{ stationCode: \"R361\", stationName: \"PELHAM PARKWAY\", lat: 40.857188, lng:\n",
    "-73.867607 },\n",
    "{ stationCode: \"R362\", stationName: \"ALLERTON AVE\", lat: 40.865481, lng: -\n",
    "73.867393 },\n",
    "{ stationCode: \"R363\", stationName: \"BURKE AVE\", lat: 40.871387, lng: -\n",
    "73.867135 },\n",
    "{ stationCode: \"R364\", stationName: \"GUN HILL ROAD\", lat: 40.877796, lng: -\n",
    "73.866255 },\n",
    "{ stationCode: \"R365\", stationName: \"219 ST\", lat: 40.883767, lng: -\n",
    "73.862736 },\n",
    "{ stationCode: \"R366\", stationName: \"225 ST\", lat: 40.887887, lng: -\n",
    "73.860505 },\n",
    "{ stationCode: \"R367\", stationName: \"233 ST\", lat: 40.893386, lng: -\n",
    "73.857265 },\n",
    "{ stationCode: \"R368\", stationName: \"9 AVE\", lat: 40.646343, lng: -\n",
    "73.994551 },\n",
    "{ stationCode: \"R369\", stationName: \"FT HAMILTON PKY\", lat: 40.640872, lng:\n",
    "-73.994229 },\n",
    "{ stationCode: \"R370\", stationName: \"71 ST\", lat: 40.619588, lng: -\n",
    "73.998842 },\n",
    "{ stationCode: \"R371\", stationName: \"79 ST\", lat: 40.613513, lng: -\n",
    "74.000645 },\n",
    "{ stationCode: \"R372\", stationName: \"18 AVE\", lat: 40.607958, lng: -\n",
    "74.001782 },\n",
    "{ stationCode: \"R373\", stationName: \"20 AVE\", lat: 40.604798, lng: -\n",
    "73.998456 },\n",
    "{ stationCode: \"R374\", stationName: \"BAY PARKWAY\", lat: 40.601898, lng: -\n",
    "73.993821 },\n",
    "{ stationCode: \"R375\", stationName: \"NEW LOTS AVE\", lat: 40.658748, lng: -\n",
    "73.899472 },\n",
    "{ stationCode: \"R376\", stationName: \"EAST 105 ST\", lat: 40.650625, lng: -\n",
    "73.899558 },\n",
    "{ stationCode: \"R377\", stationName: \"FLUSHING AVE\", lat: 40.700244, lng: -\n",
    "73.941658 },\n",
    "{ stationCode: \"R378\", stationName: \"MYRTLE AVE\", lat: 40.697266, lng: -\n",
    "73.935692 },\n",
    "{ stationCode: \"R379\", stationName: \"KOSCIUSZKO ST\", lat: 40.693329, lng: -\n",
    "73.928826 },\n",
    "{ stationCode: \"R380\", stationName: \"GATES AVE\", lat: 40.689652, lng: -\n",
    "73.922281 },\n",
    "{ stationCode: \"R381\", stationName: \"HALSEY ST\", lat: 40.68617, lng: -\n",
    "73.916337 },\n",
    "{ stationCode: \"R382\", stationName: \"GRANT AVE\", lat: 40.677107, lng: -\n",
    "73.865376 },\n",
    "{ stationCode: \"R383\", stationName: \"HUDSON-80 ST\", lat: 40.679369, lng: -\n",
    "73.85896 },\n",
    "{ stationCode: \"R384\", stationName: \"BOYD-88 ST\", lat: 40.679857, lng: -\n",
    "73.851492 },\n",
    "{ stationCode: \"R385\", stationName: \"ROCKAWAY BLVD\", lat: 40.680429, lng: -\n",
    "73.843853 },\n",
    "{ stationCode: \"R386\", stationName: \"174 ST\", lat: 40.837382, lng: -\n",
    "73.887659 },\n",
    "{ stationCode: \"R387\", stationName: \"E TREMONT AVE\", lat: 40.840097, lng: -\n",
    "73.879774 },\n",
    "{ stationCode: \"R388\", stationName: \"E 180 ST\", lat: 40.841882, lng: -\n",
    "73.873551 },\n",
    "{ stationCode: \"R389\", stationName: \"BRONX PARK EAST\", lat: 40.848797, lng:\n",
    "-73.868465 },\n",
    "{ stationCode: \"R390\", stationName: \"8 AVE\", lat: 40.635011, lng: -\n",
    "74.011717 },\n",
    "{ stationCode: \"R391\", stationName: \"FT HAMILTON PKY\", lat: 40.631428, lng:\n",
    "-74.005387 },\n",
    "{ stationCode: \"R392\", stationName: \"18 AVE\", lat: 40.620728, lng: -\n",
    "73.990388 },\n",
    "{ stationCode: \"R393\", stationName: \"20 AVE\", lat: 40.617373, lng: -\n",
    "73.985088 },\n",
    "{ stationCode: \"R394\", stationName: \"BAY PKY-22 AVE\", lat: 40.612006, lng:\n",
    "-73.982009 },\n",
    "{ stationCode: \"R395\", stationName: \"KINGS HIGHWAY\", lat: 40.603967, lng: -\n",
    "73.980668 },\n",
    "{ stationCode: \"R396\", stationName: \"AVE U\", lat: 40.597482, lng: -\n",
    "73.979359 },\n",
    "{ stationCode: \"R397\", stationName: \"86 ST\", lat: 40.592676, lng: -\n",
    "73.978243 },\n",
    "{ stationCode: \"R398\", stationName: \"NEW UTRECHT AVE\", lat: 40.625419, lng:\n",
    "-73.996632 },\n",
    "{ stationCode: \"R399\", stationName: \"25 AVE\", lat: 40.597873, lng: -\n",
    "73.986955 },\n",
    "{ stationCode: \"R400\", stationName: \"BAY 50 ST\", lat: 40.588879, lng: -\n",
    "73.983629 },\n",
    "{ stationCode: \"R401\", stationName: \"CENTRAL AVE\", lat: 40.697673, lng: -\n",
    "73.927131 },\n",
    "{ stationCode: \"R402\", stationName: \"SENECA AVE\", lat: 40.702798, lng: -\n",
    "73.907776 },\n",
    "{ stationCode: \"R403\", stationName: \"FOREST AVE\", lat: 40.704424, lng: -\n",
    "73.903077 },\n",
    "{ stationCode: \"R404\", stationName: \"FRESH POND ROAD\", lat: 40.706181, lng:\n",
    "-73.89591 },\n",
    "{ stationCode: \"R405\", stationName: \"JACKSON AVE\", lat: 40.816505, lng: -\n",
    "73.907797 },\n",
    "{ stationCode: \"R406\", stationName: \"PROSPECT AVE\", lat: 40.819396, lng: -\n",
    "73.901467 },\n",
    "{ stationCode: \"R407\", stationName: \"INTERVALE-163\", lat: 40.822172, lng: -\n",
    "73.896747 },\n",
    "{ stationCode: \"R408\", stationName: \"SIMPSON ST\", lat: 40.82417, lng: -\n",
    "73.893228 },\n",
    "{ stationCode: \"R409\", stationName: \"FREEMAN ST\", lat: 40.829966, lng: -\n",
    "73.891876 },\n",
    "{ stationCode: \"R411\", stationName: \"PARK PLACE\", lat: 40.67491, lng: -\n",
    "73.957794 },\n",
    "{ stationCode: \"R412\", stationName: \"BOTANIC GARDEN\", lat: 40.670499, lng:\n",
    "-73.958759 },\n",
    "{ stationCode: \"R413\", stationName: \"KNICKERBOCKER\", lat: 40.698666, lng: -\n",
    "73.919685 },\n",
    "{ stationCode: \"R414\", stationName: \"HOWARD BCH-JFK\", lat: 40.660476, lng:\n",
    "-73.830301 },\n",
    "{ stationCode: \"R415\", stationName: \"BROAD CHANNEL\", lat: 40.608693, lng: -\n",
    "73.816068 },\n",
    "{ stationCode: \"R416\", stationName: \"BEACH 90 ST\", lat: 40.588032, lng: -\n",
    "73.813684 },\n",
    "{ stationCode: \"R417\", stationName: \"BEACH 98 ST\", lat: 40.585514, lng: -\n",
    "73.820143 },\n",
    "{ stationCode: \"R418\", stationName: \"BEACH 105 ST\", lat: 40.583542, lng: -\n",
    "73.82643 },\n",
    "{ stationCode: \"R419\", stationName: \"ROCKAWAY PK 116\", lat: 40.580454, lng:\n",
    "-73.837459 },\n",
    "{ stationCode: \"R420\", stationName: \"DITMAS AVE\", lat: 40.63615, lng: -\n",
    "73.978179 },\n",
    "{ stationCode: \"R421\", stationName: \"AVE I\", lat: 40.625305, lng: -\n",
    "73.975732 },\n",
    "{ stationCode: \"R422\", stationName: \"22 AVE-BAY PKY\", lat: 40.620907, lng:\n",
    "-73.975453 },\n",
    "{ stationCode: \"R423\", stationName: \"AVE N\", lat: 40.615174, lng: -\n",
    "73.974166 },\n",
    "{ stationCode: \"R424\", stationName: \"AVE P\", lat: 40.609147, lng: -\n",
    "73.972986 },\n",
    "{ stationCode: \"R425\", stationName: \"AVE U\", lat: 40.596065, lng: -\n",
    "73.973329 },\n",
    "{ stationCode: \"R426\", stationName: \"NEPTUNE AVE\", lat: 40.580992, lng: -\n",
    "73.974531 },\n",
    "{ stationCode: \"R427\", stationName: \"MIDDLETOWN ROAD\", lat: 40.843635, lng:\n",
    "-73.836687 },\n",
    "{ stationCode: \"R428\", stationName: \"BUHRE AVE\", lat: 40.846817, lng: -\n",
    "73.832545 },\n",
    "{ stationCode: \"R429\", stationName: \"PELHAM BAY PARK\", lat: 40.852465, lng:\n",
    "-73.828125 },\n",
    "{ stationCode: \"R430\", stationName: \"PELHAM PARKWAY\", lat: 40.858973, lng:\n",
    "-73.855355 },\n",
    "{ stationCode: \"R431\", stationName: \"DYRE AVE\", lat: 40.888244, lng: -\n",
    "73.83085 },\n",
    "{ stationCode: \"R432\", stationName: \"CHAUNCEY ST\", lat: 40.682867, lng: -\n",
    "73.91048 },\n",
    "{ stationCode: \"R433\", stationName: \"ALABAMA AVE\", lat: 40.677107, lng: -\n",
    "73.898871 },\n",
    "{ stationCode: \"R434\", stationName: \"VAN SICLEN AVE\", lat: 40.678018, lng:\n",
    "-73.891726 },\n",
    "{ stationCode: \"R435\", stationName: \"CLEVELAND ST\", lat: 40.679938, lng: -\n",
    "73.884687 },\n",
    "{ stationCode: \"R436\", stationName: \"NORWOOD AVE\", lat: 40.681598, lng: -\n",
    "73.880074 },\n",
    "{ stationCode: \"R437\", stationName: \"CRESCENT ST\", lat: 40.683209, lng: -\n",
    "73.873765 },\n",
    "{ stationCode: \"R438\", stationName: \"RALPH AVE\", lat: 40.678815, lng: -\n",
    "73.920801 },\n",
    "{ stationCode: \"R439\", stationName: \"ROCKAWAY AVE\", lat: 40.67836, lng: -\n",
    "73.911939 },\n",
    "{ stationCode: \"R440\", stationName: \"LIBERTY AVE\", lat: 40.674552, lng: -\n",
    "73.896554 },\n",
    "{ stationCode: \"R441\", stationName: \"VAN SICLEN AVE\", lat: 40.672786, lng:\n",
    "-73.890438 },\n",
    "{ stationCode: \"R442\", stationName: \"SHEPHERD AVE\", lat: 40.674161, lng: -\n",
    "73.880761 },\n",
    "{ stationCode: \"R443\", stationName: \"170 ST\", lat: 40.839301, lng: -\n",
    "73.913355 },\n",
    "{ stationCode: \"R444\", stationName: \"NEREID AVE\", lat: 40.898382, lng: -\n",
    "73.854389 },\n",
    "{ stationCode: \"R445\", stationName: \"138 ST-3 AVE\", lat: 40.810512, lng: -\n",
    "73.926165 },\n",
    "{ stationCode: \"R446\", stationName: \"BROOK AVE\", lat: 40.808044, lng: -\n",
    "73.919234 },\n",
    "{ stationCode: \"R447\", stationName: \"CYPRESS AVE\", lat: 40.805737, lng: -\n",
    "73.914471 },\n",
    "{ stationCode: \"R448\", stationName: \"E 143 ST\", lat: 40.808742, lng: -\n",
    "73.90769 },\n",
    "{ stationCode: \"R449\", stationName: \"E 149 ST\", lat: 40.812104, lng: -\n",
    "73.904085 },\n",
    "{ stationCode: \"R450\", stationName: \"LONGWOOD AVE\", lat: 40.816083, lng: -\n",
    "73.89606 },\n",
    "{ stationCode: \"R451\", stationName: \"WINTHROP ST\", lat: 40.656648, lng: -\n",
    "73.950198 },\n",
    "{ stationCode: \"R452\", stationName: \"72 ST\", lat: 40.778575, lng: -\n",
    "73.981912 },\n",
    "{ stationCode: \"R453\", stationName: \"23 ST-6 AVE\", lat: 40.742981, lng: -\n",
    "73.992727 },\n",
    "{ stationCode: \"R454\", stationName: \"PROSPECT AVE\", lat: 40.665405, lng: -\n",
    "73.992877 },\n",
    "{ stationCode: \"R455\", stationName: \"25 ST\", lat: 40.66043, lng: -73.997944\n",
    "},\n",
    "{ stationCode: \"R456\", stationName: \"HOYT ST\", lat: 40.690545, lng: -\n",
    "73.985065 },\n",
    "{ stationCode: \"R459\", stationName: \"ORCHARD BEACH\", lat: 40.852417, lng: -\n",
    "73.828082 },\n",
    "{ stationCode: \"R460\", stationName: \"MARCY AVE\", lat: 40.708377, lng: -\n",
    "73.957751 },\n",
    "{ stationCode: \"R461\", stationName: \"BROADWAY/LAFAY\", lat: 40.725297, lng:\n",
    "-73.996204 },\n",
    "{ stationCode: \"R462\", stationName: \"CANAL ST\", lat: 40.718697, lng: -\n",
    "74.000977 },\n",
    "{ stationCode: \"R463\", stationName: \"CANAL ST\", lat: 40.718697, lng: -\n",
    "74.000977 },\n",
    "{ stationCode: \"R464\", stationName: \"AQUEDUCT TRACK\", lat: 40.668221, lng:\n",
    "-73.834026 },\n",
    "{ stationCode: \"R468\", stationName: \"RIT-MANHATTAN\", lat: 40.761268, lng: -\n",
    "73.964016 },\n",
    "{ stationCode: \"R469\", stationName: \"RIT-ROOSEVELT\", lat: 40.7574, lng: -\n",
    "73.954006 },\n",
    "{ stationCode: \"R470\", stationName: \"ELTINGVILLE PK\", lat: 40.5446, lng: -\n",
    "74.164581 },\n",
    "{ stationCode: \"R535\", stationName: \"JFK HOWARD BCH\", lat: 40.660476, lng:\n",
    "-73.830301 },\n",
    "{ stationCode: \"R536\", stationName: \"JFK JAMAICA CT1\", lat: 40.643942, lng:\n",
    "-73.782356 },\n",
    "{ stationCode: \"R570\", stationName: \"72 ST-2 AVE\", lat: 40.7686869, lng: -\n",
    "73.9584429 },\n",
    "{ stationCode: \"R571\", stationName: \"86 ST-2 AVE\", lat: 40.7686862, lng: -\n",
    "73.9584429 },\n",
    "{ stationCode: \"R572\", stationName: \"96 ST-2 AVE\", lat: 40.7807028, lng: -\n",
    "73.9494105 }\n",
    "]"
   ]
  },
  {
   "cell_type": "code",
   "execution_count": 19,
   "metadata": {
    "scrolled": true
   },
   "outputs": [],
   "source": [
    "remote_station_df = pd.DataFrame(info)\n",
    "# remote_station_df['lat-lng'] = list(zip(remote_station_df.lat.astype(str), remote_station_df.lng.astype(str)))\n",
    "# remote_station_df[remote_station_df.UNIT == 'SOUTH FERRY']\n",
    "# merged_df = df_sorted.merge(remote_station_df, how='left')\n",
    "\n",
    "remote_station_df['location_string'] = remote_station_df.lat.astype(str) + ',' + remote_station_df.lng.astype(str)\n",
    "# remote_station_df.to_csv('location_by_remote_unit.csv', index=False)\n",
    "\n"
   ]
  },
  {
   "cell_type": "code",
   "execution_count": 22,
   "metadata": {},
   "outputs": [
    {
     "data": {
      "text/plain": [
       "460"
      ]
     },
     "execution_count": 22,
     "metadata": {},
     "output_type": "execute_result"
    }
   ],
   "source": [
    "len(remote_station_df.UNIT.unique())"
   ]
  },
  {
   "cell_type": "code",
   "execution_count": 21,
   "metadata": {},
   "outputs": [],
   "source": [
    "remote_station_df.drop_duplicates(subset=['UNIT'], inplace=True)"
   ]
  },
  {
   "cell_type": "code",
   "execution_count": 22,
   "metadata": {
    "scrolled": true
   },
   "outputs": [
    {
     "data": {
      "text/html": [
       "<div>\n",
       "<style scoped>\n",
       "    .dataframe tbody tr th:only-of-type {\n",
       "        vertical-align: middle;\n",
       "    }\n",
       "\n",
       "    .dataframe tbody tr th {\n",
       "        vertical-align: top;\n",
       "    }\n",
       "\n",
       "    .dataframe thead th {\n",
       "        text-align: right;\n",
       "    }\n",
       "</style>\n",
       "<table border=\"1\" class=\"dataframe\">\n",
       "  <thead>\n",
       "    <tr style=\"text-align: right;\">\n",
       "      <th></th>\n",
       "      <th>UNIT</th>\n",
       "      <th>station_name</th>\n",
       "      <th>lat</th>\n",
       "      <th>lng</th>\n",
       "      <th>location_string</th>\n",
       "    </tr>\n",
       "  </thead>\n",
       "  <tbody>\n",
       "    <tr>\n",
       "      <th>89</th>\n",
       "      <td>R098</td>\n",
       "      <td>CHURCH AVE</td>\n",
       "      <td>40.650494</td>\n",
       "      <td>-73.962836</td>\n",
       "      <td>40.650494,-73.962836</td>\n",
       "    </tr>\n",
       "  </tbody>\n",
       "</table>\n",
       "</div>"
      ],
      "text/plain": [
       "    UNIT station_name        lat        lng       location_string\n",
       "89  R098   CHURCH AVE  40.650494 -73.962836  40.650494,-73.962836"
      ]
     },
     "execution_count": 22,
     "metadata": {},
     "output_type": "execute_result"
    }
   ],
   "source": [
    "remote_station_df[remote_station_df.UNIT == 'R098']"
   ]
  },
  {
   "cell_type": "code",
   "execution_count": 61,
   "metadata": {},
   "outputs": [
    {
     "data": {
      "text/html": [
       "<div>\n",
       "<style scoped>\n",
       "    .dataframe tbody tr th:only-of-type {\n",
       "        vertical-align: middle;\n",
       "    }\n",
       "\n",
       "    .dataframe tbody tr th {\n",
       "        vertical-align: top;\n",
       "    }\n",
       "\n",
       "    .dataframe thead th {\n",
       "        text-align: right;\n",
       "    }\n",
       "</style>\n",
       "<table border=\"1\" class=\"dataframe\">\n",
       "  <thead>\n",
       "    <tr style=\"text-align: right;\">\n",
       "      <th></th>\n",
       "      <th>UNIT</th>\n",
       "      <th>station_name</th>\n",
       "      <th>lat</th>\n",
       "      <th>lng</th>\n",
       "      <th>location_string</th>\n",
       "    </tr>\n",
       "  </thead>\n",
       "  <tbody>\n",
       "    <tr>\n",
       "      <th>0</th>\n",
       "      <td>R001</td>\n",
       "      <td>SOUTH FERRY</td>\n",
       "      <td>40.703082</td>\n",
       "      <td>-74.012983</td>\n",
       "      <td>40.703082,-74.012983</td>\n",
       "    </tr>\n",
       "    <tr>\n",
       "      <th>1</th>\n",
       "      <td>R002</td>\n",
       "      <td>FULTON ST</td>\n",
       "      <td>40.709938</td>\n",
       "      <td>-74.007983</td>\n",
       "      <td>40.709938,-74.007983</td>\n",
       "    </tr>\n",
       "    <tr>\n",
       "      <th>2</th>\n",
       "      <td>R003</td>\n",
       "      <td>CYPRESS HILLS</td>\n",
       "      <td>40.689945</td>\n",
       "      <td>-73.872564</td>\n",
       "      <td>40.689945,-73.872564</td>\n",
       "    </tr>\n",
       "    <tr>\n",
       "      <th>3</th>\n",
       "      <td>R004</td>\n",
       "      <td>ELDERTS LANE</td>\n",
       "      <td>40.691320</td>\n",
       "      <td>-73.867135</td>\n",
       "      <td>40.69132,-73.867135</td>\n",
       "    </tr>\n",
       "    <tr>\n",
       "      <th>4</th>\n",
       "      <td>R005</td>\n",
       "      <td>FOREST PARKWAY</td>\n",
       "      <td>40.692304</td>\n",
       "      <td>-73.860151</td>\n",
       "      <td>40.692304,-73.860151</td>\n",
       "    </tr>\n",
       "    <tr>\n",
       "      <th>...</th>\n",
       "      <td>...</td>\n",
       "      <td>...</td>\n",
       "      <td>...</td>\n",
       "      <td>...</td>\n",
       "      <td>...</td>\n",
       "    </tr>\n",
       "    <tr>\n",
       "      <th>455</th>\n",
       "      <td>R535</td>\n",
       "      <td>JFK HOWARD BCH</td>\n",
       "      <td>40.660476</td>\n",
       "      <td>-73.830301</td>\n",
       "      <td>40.660476,-73.830301</td>\n",
       "    </tr>\n",
       "    <tr>\n",
       "      <th>456</th>\n",
       "      <td>R536</td>\n",
       "      <td>JFK JAMAICA CT1</td>\n",
       "      <td>40.643942</td>\n",
       "      <td>-73.782356</td>\n",
       "      <td>40.643942,-73.782356</td>\n",
       "    </tr>\n",
       "    <tr>\n",
       "      <th>457</th>\n",
       "      <td>R570</td>\n",
       "      <td>72 ST-2 AVE</td>\n",
       "      <td>40.768687</td>\n",
       "      <td>-73.958443</td>\n",
       "      <td>40.7686869,-73.9584429</td>\n",
       "    </tr>\n",
       "    <tr>\n",
       "      <th>458</th>\n",
       "      <td>R571</td>\n",
       "      <td>86 ST-2 AVE</td>\n",
       "      <td>40.768686</td>\n",
       "      <td>-73.958443</td>\n",
       "      <td>40.7686862,-73.9584429</td>\n",
       "    </tr>\n",
       "    <tr>\n",
       "      <th>459</th>\n",
       "      <td>R572</td>\n",
       "      <td>96 ST-2 AVE</td>\n",
       "      <td>40.780703</td>\n",
       "      <td>-73.949410</td>\n",
       "      <td>40.7807028,-73.9494105</td>\n",
       "    </tr>\n",
       "  </tbody>\n",
       "</table>\n",
       "<p>460 rows × 5 columns</p>\n",
       "</div>"
      ],
      "text/plain": [
       "     UNIT     station_name        lat        lng         location_string\n",
       "0    R001      SOUTH FERRY  40.703082 -74.012983    40.703082,-74.012983\n",
       "1    R002        FULTON ST  40.709938 -74.007983    40.709938,-74.007983\n",
       "2    R003    CYPRESS HILLS  40.689945 -73.872564    40.689945,-73.872564\n",
       "3    R004     ELDERTS LANE  40.691320 -73.867135     40.69132,-73.867135\n",
       "4    R005   FOREST PARKWAY  40.692304 -73.860151    40.692304,-73.860151\n",
       "..    ...              ...        ...        ...                     ...\n",
       "455  R535   JFK HOWARD BCH  40.660476 -73.830301    40.660476,-73.830301\n",
       "456  R536  JFK JAMAICA CT1  40.643942 -73.782356    40.643942,-73.782356\n",
       "457  R570      72 ST-2 AVE  40.768687 -73.958443  40.7686869,-73.9584429\n",
       "458  R571      86 ST-2 AVE  40.768686 -73.958443  40.7686862,-73.9584429\n",
       "459  R572      96 ST-2 AVE  40.780703 -73.949410  40.7807028,-73.9494105\n",
       "\n",
       "[460 rows x 5 columns]"
      ]
     },
     "execution_count": 61,
     "metadata": {},
     "output_type": "execute_result"
    }
   ],
   "source": [
    "hey = pd.read_csv('https://raw.githubusercontent.com/dirtylittledirtbike/mta_data/master/location_by_remote_unit.csv')\n",
    "\n",
    "hey"
   ]
  },
  {
   "cell_type": "code",
   "execution_count": 23,
   "metadata": {},
   "outputs": [],
   "source": [
    "remote_station_df.to_csv('location_by_remote_unit.csv', index=False)"
   ]
  },
  {
   "cell_type": "code",
   "execution_count": 25,
   "metadata": {},
   "outputs": [],
   "source": [
    "a_set = set(df_sorted.UNIT.unique())\n",
    "b_set = set(remote_station_df.UNIT.unique())"
   ]
  },
  {
   "cell_type": "code",
   "execution_count": 26,
   "metadata": {},
   "outputs": [
    {
     "name": "stdout",
     "output_type": "stream",
     "text": [
      "{'R546', 'R545', 'R541', 'R543', 'R548', 'R550', 'R551', 'R072', 'R542', 'R544', 'R547', 'R552', 'R549', 'R540'}\n"
     ]
    }
   ],
   "source": [
    "print(a_set - b_set)"
   ]
  },
  {
   "cell_type": "code",
   "execution_count": 27,
   "metadata": {},
   "outputs": [
    {
     "data": {
      "text/html": [
       "<div>\n",
       "<style scoped>\n",
       "    .dataframe tbody tr th:only-of-type {\n",
       "        vertical-align: middle;\n",
       "    }\n",
       "\n",
       "    .dataframe tbody tr th {\n",
       "        vertical-align: top;\n",
       "    }\n",
       "\n",
       "    .dataframe thead th {\n",
       "        text-align: right;\n",
       "    }\n",
       "</style>\n",
       "<table border=\"1\" class=\"dataframe\">\n",
       "  <thead>\n",
       "    <tr style=\"text-align: right;\">\n",
       "      <th></th>\n",
       "      <th>Station ID</th>\n",
       "      <th>Complex ID</th>\n",
       "      <th>GTFS Stop ID</th>\n",
       "      <th>Division</th>\n",
       "      <th>Line</th>\n",
       "      <th>Stop Name</th>\n",
       "      <th>Borough</th>\n",
       "      <th>Daytime Routes</th>\n",
       "      <th>Structure</th>\n",
       "      <th>GTFS Latitude</th>\n",
       "      <th>GTFS Longitude</th>\n",
       "      <th>North Direction Label</th>\n",
       "      <th>South Direction Label</th>\n",
       "    </tr>\n",
       "  </thead>\n",
       "  <tbody>\n",
       "    <tr>\n",
       "      <th>0</th>\n",
       "      <td>1</td>\n",
       "      <td>1</td>\n",
       "      <td>R01</td>\n",
       "      <td>BMT</td>\n",
       "      <td>Astoria</td>\n",
       "      <td>Astoria - Ditmars Blvd</td>\n",
       "      <td>Q</td>\n",
       "      <td>N W</td>\n",
       "      <td>Elevated</td>\n",
       "      <td>40.775036</td>\n",
       "      <td>-73.912034</td>\n",
       "      <td>NaN</td>\n",
       "      <td>Manhattan</td>\n",
       "    </tr>\n",
       "    <tr>\n",
       "      <th>1</th>\n",
       "      <td>2</td>\n",
       "      <td>2</td>\n",
       "      <td>R03</td>\n",
       "      <td>BMT</td>\n",
       "      <td>Astoria</td>\n",
       "      <td>Astoria Blvd</td>\n",
       "      <td>Q</td>\n",
       "      <td>N W</td>\n",
       "      <td>Elevated</td>\n",
       "      <td>40.770258</td>\n",
       "      <td>-73.917843</td>\n",
       "      <td>Ditmars Blvd</td>\n",
       "      <td>Manhattan</td>\n",
       "    </tr>\n",
       "    <tr>\n",
       "      <th>2</th>\n",
       "      <td>3</td>\n",
       "      <td>3</td>\n",
       "      <td>R04</td>\n",
       "      <td>BMT</td>\n",
       "      <td>Astoria</td>\n",
       "      <td>30 Av</td>\n",
       "      <td>Q</td>\n",
       "      <td>N W</td>\n",
       "      <td>Elevated</td>\n",
       "      <td>40.766779</td>\n",
       "      <td>-73.921479</td>\n",
       "      <td>Astoria - Ditmars Blvd</td>\n",
       "      <td>Manhattan</td>\n",
       "    </tr>\n",
       "    <tr>\n",
       "      <th>3</th>\n",
       "      <td>4</td>\n",
       "      <td>4</td>\n",
       "      <td>R05</td>\n",
       "      <td>BMT</td>\n",
       "      <td>Astoria</td>\n",
       "      <td>Broadway</td>\n",
       "      <td>Q</td>\n",
       "      <td>N W</td>\n",
       "      <td>Elevated</td>\n",
       "      <td>40.761820</td>\n",
       "      <td>-73.925508</td>\n",
       "      <td>Astoria - Ditmars Blvd</td>\n",
       "      <td>Manhattan</td>\n",
       "    </tr>\n",
       "    <tr>\n",
       "      <th>4</th>\n",
       "      <td>5</td>\n",
       "      <td>5</td>\n",
       "      <td>R06</td>\n",
       "      <td>BMT</td>\n",
       "      <td>Astoria</td>\n",
       "      <td>36 Av</td>\n",
       "      <td>Q</td>\n",
       "      <td>N W</td>\n",
       "      <td>Elevated</td>\n",
       "      <td>40.756804</td>\n",
       "      <td>-73.929575</td>\n",
       "      <td>Astoria - Ditmars Blvd</td>\n",
       "      <td>Manhattan</td>\n",
       "    </tr>\n",
       "    <tr>\n",
       "      <th>...</th>\n",
       "      <td>...</td>\n",
       "      <td>...</td>\n",
       "      <td>...</td>\n",
       "      <td>...</td>\n",
       "      <td>...</td>\n",
       "      <td>...</td>\n",
       "      <td>...</td>\n",
       "      <td>...</td>\n",
       "      <td>...</td>\n",
       "      <td>...</td>\n",
       "      <td>...</td>\n",
       "      <td>...</td>\n",
       "      <td>...</td>\n",
       "    </tr>\n",
       "    <tr>\n",
       "      <th>491</th>\n",
       "      <td>517</td>\n",
       "      <td>517</td>\n",
       "      <td>S15</td>\n",
       "      <td>SIR</td>\n",
       "      <td>Staten Island</td>\n",
       "      <td>Prince's Bay</td>\n",
       "      <td>SI</td>\n",
       "      <td>SIR</td>\n",
       "      <td>Open Cut</td>\n",
       "      <td>40.525507</td>\n",
       "      <td>-74.200064</td>\n",
       "      <td>St George</td>\n",
       "      <td>Tottenville</td>\n",
       "    </tr>\n",
       "    <tr>\n",
       "      <th>492</th>\n",
       "      <td>518</td>\n",
       "      <td>518</td>\n",
       "      <td>S14</td>\n",
       "      <td>SIR</td>\n",
       "      <td>Staten Island</td>\n",
       "      <td>Pleasant Plains</td>\n",
       "      <td>SI</td>\n",
       "      <td>SIR</td>\n",
       "      <td>Embankment</td>\n",
       "      <td>40.522410</td>\n",
       "      <td>-74.217847</td>\n",
       "      <td>St George</td>\n",
       "      <td>Tottenville</td>\n",
       "    </tr>\n",
       "    <tr>\n",
       "      <th>493</th>\n",
       "      <td>519</td>\n",
       "      <td>519</td>\n",
       "      <td>S13</td>\n",
       "      <td>SIR</td>\n",
       "      <td>Staten Island</td>\n",
       "      <td>Richmond Valley</td>\n",
       "      <td>SI</td>\n",
       "      <td>SIR</td>\n",
       "      <td>Open Cut</td>\n",
       "      <td>40.519631</td>\n",
       "      <td>-74.229141</td>\n",
       "      <td>St George</td>\n",
       "      <td>Tottenville</td>\n",
       "    </tr>\n",
       "    <tr>\n",
       "      <th>494</th>\n",
       "      <td>522</td>\n",
       "      <td>522</td>\n",
       "      <td>S09</td>\n",
       "      <td>SIR</td>\n",
       "      <td>Staten Island</td>\n",
       "      <td>Tottenville</td>\n",
       "      <td>SI</td>\n",
       "      <td>SIR</td>\n",
       "      <td>At Grade</td>\n",
       "      <td>40.512764</td>\n",
       "      <td>-74.251961</td>\n",
       "      <td>St George</td>\n",
       "      <td>NaN</td>\n",
       "    </tr>\n",
       "    <tr>\n",
       "      <th>495</th>\n",
       "      <td>523</td>\n",
       "      <td>523</td>\n",
       "      <td>S11</td>\n",
       "      <td>SIR</td>\n",
       "      <td>Staten Island</td>\n",
       "      <td>Arthur Kill</td>\n",
       "      <td>SI</td>\n",
       "      <td>SIR</td>\n",
       "      <td>At Grade</td>\n",
       "      <td>40.516578</td>\n",
       "      <td>-74.242096</td>\n",
       "      <td>St George</td>\n",
       "      <td>Tottenville</td>\n",
       "    </tr>\n",
       "  </tbody>\n",
       "</table>\n",
       "<p>496 rows × 13 columns</p>\n",
       "</div>"
      ],
      "text/plain": [
       "     Station ID  Complex ID GTFS Stop ID Division           Line  \\\n",
       "0             1           1          R01      BMT        Astoria   \n",
       "1             2           2          R03      BMT        Astoria   \n",
       "2             3           3          R04      BMT        Astoria   \n",
       "3             4           4          R05      BMT        Astoria   \n",
       "4             5           5          R06      BMT        Astoria   \n",
       "..          ...         ...          ...      ...            ...   \n",
       "491         517         517          S15      SIR  Staten Island   \n",
       "492         518         518          S14      SIR  Staten Island   \n",
       "493         519         519          S13      SIR  Staten Island   \n",
       "494         522         522          S09      SIR  Staten Island   \n",
       "495         523         523          S11      SIR  Staten Island   \n",
       "\n",
       "                  Stop Name Borough Daytime Routes   Structure  GTFS Latitude  \\\n",
       "0    Astoria - Ditmars Blvd       Q            N W    Elevated      40.775036   \n",
       "1              Astoria Blvd       Q            N W    Elevated      40.770258   \n",
       "2                     30 Av       Q            N W    Elevated      40.766779   \n",
       "3                  Broadway       Q            N W    Elevated      40.761820   \n",
       "4                     36 Av       Q            N W    Elevated      40.756804   \n",
       "..                      ...     ...            ...         ...            ...   \n",
       "491            Prince's Bay      SI            SIR    Open Cut      40.525507   \n",
       "492         Pleasant Plains      SI            SIR  Embankment      40.522410   \n",
       "493         Richmond Valley      SI            SIR    Open Cut      40.519631   \n",
       "494             Tottenville      SI            SIR    At Grade      40.512764   \n",
       "495             Arthur Kill      SI            SIR    At Grade      40.516578   \n",
       "\n",
       "     GTFS Longitude   North Direction Label South Direction Label  \n",
       "0        -73.912034                     NaN             Manhattan  \n",
       "1        -73.917843            Ditmars Blvd             Manhattan  \n",
       "2        -73.921479  Astoria - Ditmars Blvd             Manhattan  \n",
       "3        -73.925508  Astoria - Ditmars Blvd             Manhattan  \n",
       "4        -73.929575  Astoria - Ditmars Blvd             Manhattan  \n",
       "..              ...                     ...                   ...  \n",
       "491      -74.200064               St George           Tottenville  \n",
       "492      -74.217847               St George           Tottenville  \n",
       "493      -74.229141               St George           Tottenville  \n",
       "494      -74.251961               St George                   NaN  \n",
       "495      -74.242096               St George           Tottenville  \n",
       "\n",
       "[496 rows x 13 columns]"
      ]
     },
     "execution_count": 27,
     "metadata": {},
     "output_type": "execute_result"
    }
   ],
   "source": [
    "test2"
   ]
  },
  {
   "cell_type": "code",
   "execution_count": 28,
   "metadata": {},
   "outputs": [],
   "source": [
    "# remote_station_df.join(df_sorted, on='UNIT')\n",
    "new_df2 = pd.merge(df_sorted, remote_station_df, on='UNIT', how='left')"
   ]
  },
  {
   "cell_type": "code",
   "execution_count": 29,
   "metadata": {},
   "outputs": [
    {
     "data": {
      "text/html": [
       "<div>\n",
       "<style scoped>\n",
       "    .dataframe tbody tr th:only-of-type {\n",
       "        vertical-align: middle;\n",
       "    }\n",
       "\n",
       "    .dataframe tbody tr th {\n",
       "        vertical-align: top;\n",
       "    }\n",
       "\n",
       "    .dataframe thead th {\n",
       "        text-align: right;\n",
       "    }\n",
       "</style>\n",
       "<table border=\"1\" class=\"dataframe\">\n",
       "  <thead>\n",
       "    <tr style=\"text-align: right;\">\n",
       "      <th></th>\n",
       "      <th>Station ID</th>\n",
       "      <th>Complex ID</th>\n",
       "      <th>GTFS Stop ID</th>\n",
       "      <th>Division</th>\n",
       "      <th>Line</th>\n",
       "      <th>Stop Name</th>\n",
       "      <th>Borough</th>\n",
       "      <th>Daytime Routes</th>\n",
       "      <th>Structure</th>\n",
       "      <th>GTFS Latitude</th>\n",
       "      <th>GTFS Longitude</th>\n",
       "      <th>North Direction Label</th>\n",
       "      <th>South Direction Label</th>\n",
       "    </tr>\n",
       "  </thead>\n",
       "  <tbody>\n",
       "    <tr>\n",
       "      <th>0</th>\n",
       "      <td>1</td>\n",
       "      <td>1</td>\n",
       "      <td>R01</td>\n",
       "      <td>BMT</td>\n",
       "      <td>Astoria</td>\n",
       "      <td>Astoria - Ditmars Blvd</td>\n",
       "      <td>Q</td>\n",
       "      <td>N W</td>\n",
       "      <td>Elevated</td>\n",
       "      <td>40.775036</td>\n",
       "      <td>-73.912034</td>\n",
       "      <td>NaN</td>\n",
       "      <td>Manhattan</td>\n",
       "    </tr>\n",
       "    <tr>\n",
       "      <th>1</th>\n",
       "      <td>2</td>\n",
       "      <td>2</td>\n",
       "      <td>R03</td>\n",
       "      <td>BMT</td>\n",
       "      <td>Astoria</td>\n",
       "      <td>Astoria Blvd</td>\n",
       "      <td>Q</td>\n",
       "      <td>N W</td>\n",
       "      <td>Elevated</td>\n",
       "      <td>40.770258</td>\n",
       "      <td>-73.917843</td>\n",
       "      <td>Ditmars Blvd</td>\n",
       "      <td>Manhattan</td>\n",
       "    </tr>\n",
       "    <tr>\n",
       "      <th>2</th>\n",
       "      <td>3</td>\n",
       "      <td>3</td>\n",
       "      <td>R04</td>\n",
       "      <td>BMT</td>\n",
       "      <td>Astoria</td>\n",
       "      <td>30 Av</td>\n",
       "      <td>Q</td>\n",
       "      <td>N W</td>\n",
       "      <td>Elevated</td>\n",
       "      <td>40.766779</td>\n",
       "      <td>-73.921479</td>\n",
       "      <td>Astoria - Ditmars Blvd</td>\n",
       "      <td>Manhattan</td>\n",
       "    </tr>\n",
       "    <tr>\n",
       "      <th>3</th>\n",
       "      <td>4</td>\n",
       "      <td>4</td>\n",
       "      <td>R05</td>\n",
       "      <td>BMT</td>\n",
       "      <td>Astoria</td>\n",
       "      <td>Broadway</td>\n",
       "      <td>Q</td>\n",
       "      <td>N W</td>\n",
       "      <td>Elevated</td>\n",
       "      <td>40.761820</td>\n",
       "      <td>-73.925508</td>\n",
       "      <td>Astoria - Ditmars Blvd</td>\n",
       "      <td>Manhattan</td>\n",
       "    </tr>\n",
       "    <tr>\n",
       "      <th>4</th>\n",
       "      <td>5</td>\n",
       "      <td>5</td>\n",
       "      <td>R06</td>\n",
       "      <td>BMT</td>\n",
       "      <td>Astoria</td>\n",
       "      <td>36 Av</td>\n",
       "      <td>Q</td>\n",
       "      <td>N W</td>\n",
       "      <td>Elevated</td>\n",
       "      <td>40.756804</td>\n",
       "      <td>-73.929575</td>\n",
       "      <td>Astoria - Ditmars Blvd</td>\n",
       "      <td>Manhattan</td>\n",
       "    </tr>\n",
       "    <tr>\n",
       "      <th>...</th>\n",
       "      <td>...</td>\n",
       "      <td>...</td>\n",
       "      <td>...</td>\n",
       "      <td>...</td>\n",
       "      <td>...</td>\n",
       "      <td>...</td>\n",
       "      <td>...</td>\n",
       "      <td>...</td>\n",
       "      <td>...</td>\n",
       "      <td>...</td>\n",
       "      <td>...</td>\n",
       "      <td>...</td>\n",
       "      <td>...</td>\n",
       "    </tr>\n",
       "    <tr>\n",
       "      <th>491</th>\n",
       "      <td>517</td>\n",
       "      <td>517</td>\n",
       "      <td>S15</td>\n",
       "      <td>SIR</td>\n",
       "      <td>Staten Island</td>\n",
       "      <td>Prince's Bay</td>\n",
       "      <td>SI</td>\n",
       "      <td>SIR</td>\n",
       "      <td>Open Cut</td>\n",
       "      <td>40.525507</td>\n",
       "      <td>-74.200064</td>\n",
       "      <td>St George</td>\n",
       "      <td>Tottenville</td>\n",
       "    </tr>\n",
       "    <tr>\n",
       "      <th>492</th>\n",
       "      <td>518</td>\n",
       "      <td>518</td>\n",
       "      <td>S14</td>\n",
       "      <td>SIR</td>\n",
       "      <td>Staten Island</td>\n",
       "      <td>Pleasant Plains</td>\n",
       "      <td>SI</td>\n",
       "      <td>SIR</td>\n",
       "      <td>Embankment</td>\n",
       "      <td>40.522410</td>\n",
       "      <td>-74.217847</td>\n",
       "      <td>St George</td>\n",
       "      <td>Tottenville</td>\n",
       "    </tr>\n",
       "    <tr>\n",
       "      <th>493</th>\n",
       "      <td>519</td>\n",
       "      <td>519</td>\n",
       "      <td>S13</td>\n",
       "      <td>SIR</td>\n",
       "      <td>Staten Island</td>\n",
       "      <td>Richmond Valley</td>\n",
       "      <td>SI</td>\n",
       "      <td>SIR</td>\n",
       "      <td>Open Cut</td>\n",
       "      <td>40.519631</td>\n",
       "      <td>-74.229141</td>\n",
       "      <td>St George</td>\n",
       "      <td>Tottenville</td>\n",
       "    </tr>\n",
       "    <tr>\n",
       "      <th>494</th>\n",
       "      <td>522</td>\n",
       "      <td>522</td>\n",
       "      <td>S09</td>\n",
       "      <td>SIR</td>\n",
       "      <td>Staten Island</td>\n",
       "      <td>Tottenville</td>\n",
       "      <td>SI</td>\n",
       "      <td>SIR</td>\n",
       "      <td>At Grade</td>\n",
       "      <td>40.512764</td>\n",
       "      <td>-74.251961</td>\n",
       "      <td>St George</td>\n",
       "      <td>NaN</td>\n",
       "    </tr>\n",
       "    <tr>\n",
       "      <th>495</th>\n",
       "      <td>523</td>\n",
       "      <td>523</td>\n",
       "      <td>S11</td>\n",
       "      <td>SIR</td>\n",
       "      <td>Staten Island</td>\n",
       "      <td>Arthur Kill</td>\n",
       "      <td>SI</td>\n",
       "      <td>SIR</td>\n",
       "      <td>At Grade</td>\n",
       "      <td>40.516578</td>\n",
       "      <td>-74.242096</td>\n",
       "      <td>St George</td>\n",
       "      <td>Tottenville</td>\n",
       "    </tr>\n",
       "  </tbody>\n",
       "</table>\n",
       "<p>496 rows × 13 columns</p>\n",
       "</div>"
      ],
      "text/plain": [
       "     Station ID  Complex ID GTFS Stop ID Division           Line  \\\n",
       "0             1           1          R01      BMT        Astoria   \n",
       "1             2           2          R03      BMT        Astoria   \n",
       "2             3           3          R04      BMT        Astoria   \n",
       "3             4           4          R05      BMT        Astoria   \n",
       "4             5           5          R06      BMT        Astoria   \n",
       "..          ...         ...          ...      ...            ...   \n",
       "491         517         517          S15      SIR  Staten Island   \n",
       "492         518         518          S14      SIR  Staten Island   \n",
       "493         519         519          S13      SIR  Staten Island   \n",
       "494         522         522          S09      SIR  Staten Island   \n",
       "495         523         523          S11      SIR  Staten Island   \n",
       "\n",
       "                  Stop Name Borough Daytime Routes   Structure  GTFS Latitude  \\\n",
       "0    Astoria - Ditmars Blvd       Q            N W    Elevated      40.775036   \n",
       "1              Astoria Blvd       Q            N W    Elevated      40.770258   \n",
       "2                     30 Av       Q            N W    Elevated      40.766779   \n",
       "3                  Broadway       Q            N W    Elevated      40.761820   \n",
       "4                     36 Av       Q            N W    Elevated      40.756804   \n",
       "..                      ...     ...            ...         ...            ...   \n",
       "491            Prince's Bay      SI            SIR    Open Cut      40.525507   \n",
       "492         Pleasant Plains      SI            SIR  Embankment      40.522410   \n",
       "493         Richmond Valley      SI            SIR    Open Cut      40.519631   \n",
       "494             Tottenville      SI            SIR    At Grade      40.512764   \n",
       "495             Arthur Kill      SI            SIR    At Grade      40.516578   \n",
       "\n",
       "     GTFS Longitude   North Direction Label South Direction Label  \n",
       "0        -73.912034                     NaN             Manhattan  \n",
       "1        -73.917843            Ditmars Blvd             Manhattan  \n",
       "2        -73.921479  Astoria - Ditmars Blvd             Manhattan  \n",
       "3        -73.925508  Astoria - Ditmars Blvd             Manhattan  \n",
       "4        -73.929575  Astoria - Ditmars Blvd             Manhattan  \n",
       "..              ...                     ...                   ...  \n",
       "491      -74.200064               St George           Tottenville  \n",
       "492      -74.217847               St George           Tottenville  \n",
       "493      -74.229141               St George           Tottenville  \n",
       "494      -74.251961               St George                   NaN  \n",
       "495      -74.242096               St George           Tottenville  \n",
       "\n",
       "[496 rows x 13 columns]"
      ]
     },
     "execution_count": 29,
     "metadata": {},
     "output_type": "execute_result"
    }
   ],
   "source": [
    "test2\n",
    "# a = one_day.groupby('UNIT').mean()\n",
    "# a['exits_diff2'] = abs(a['exits_diff'])"
   ]
  },
  {
   "cell_type": "code",
   "execution_count": 30,
   "metadata": {
    "scrolled": true
   },
   "outputs": [
    {
     "data": {
      "text/html": [
       "<div>\n",
       "<style scoped>\n",
       "    .dataframe tbody tr th:only-of-type {\n",
       "        vertical-align: middle;\n",
       "    }\n",
       "\n",
       "    .dataframe tbody tr th {\n",
       "        vertical-align: top;\n",
       "    }\n",
       "\n",
       "    .dataframe thead th {\n",
       "        text-align: right;\n",
       "    }\n",
       "</style>\n",
       "<table border=\"1\" class=\"dataframe\">\n",
       "  <thead>\n",
       "    <tr style=\"text-align: right;\">\n",
       "      <th></th>\n",
       "      <th>UNIT</th>\n",
       "      <th>STATION</th>\n",
       "      <th>ENTRIES</th>\n",
       "      <th>EXITS</th>\n",
       "      <th>entries_diff</th>\n",
       "      <th>exits_diff</th>\n",
       "      <th>lat</th>\n",
       "      <th>lng</th>\n",
       "      <th>exits_diff2</th>\n",
       "    </tr>\n",
       "  </thead>\n",
       "  <tbody>\n",
       "    <tr>\n",
       "      <th>0</th>\n",
       "      <td>R001</td>\n",
       "      <td>SOUTH FERRY</td>\n",
       "      <td>7.379688e+06</td>\n",
       "      <td>1.228505e+06</td>\n",
       "      <td>97.161905</td>\n",
       "      <td>87.857143</td>\n",
       "      <td>40.703082</td>\n",
       "      <td>-74.012983</td>\n",
       "      <td>87.857143</td>\n",
       "    </tr>\n",
       "    <tr>\n",
       "      <th>1</th>\n",
       "      <td>R001</td>\n",
       "      <td>WHITEHALL S-FRY</td>\n",
       "      <td>1.875012e+07</td>\n",
       "      <td>5.036563e+06</td>\n",
       "      <td>121.440000</td>\n",
       "      <td>131.493333</td>\n",
       "      <td>40.703082</td>\n",
       "      <td>-74.012983</td>\n",
       "      <td>131.493333</td>\n",
       "    </tr>\n",
       "    <tr>\n",
       "      <th>2</th>\n",
       "      <td>R003</td>\n",
       "      <td>CYPRESS HILLS</td>\n",
       "      <td>2.394375e+06</td>\n",
       "      <td>1.423587e+06</td>\n",
       "      <td>49.200000</td>\n",
       "      <td>28.200000</td>\n",
       "      <td>40.689945</td>\n",
       "      <td>-73.872564</td>\n",
       "      <td>28.200000</td>\n",
       "    </tr>\n",
       "    <tr>\n",
       "      <th>3</th>\n",
       "      <td>R004</td>\n",
       "      <td>75 ST-ELDERTS</td>\n",
       "      <td>2.476289e+06</td>\n",
       "      <td>2.169410e+06</td>\n",
       "      <td>77.680000</td>\n",
       "      <td>49.560000</td>\n",
       "      <td>40.691320</td>\n",
       "      <td>-73.867135</td>\n",
       "      <td>49.560000</td>\n",
       "    </tr>\n",
       "    <tr>\n",
       "      <th>4</th>\n",
       "      <td>R005</td>\n",
       "      <td>85 ST-FOREST PK</td>\n",
       "      <td>5.234938e+06</td>\n",
       "      <td>4.260675e+06</td>\n",
       "      <td>99.200000</td>\n",
       "      <td>41.000000</td>\n",
       "      <td>40.692304</td>\n",
       "      <td>-73.860151</td>\n",
       "      <td>41.000000</td>\n",
       "    </tr>\n",
       "    <tr>\n",
       "      <th>...</th>\n",
       "      <td>...</td>\n",
       "      <td>...</td>\n",
       "      <td>...</td>\n",
       "      <td>...</td>\n",
       "      <td>...</td>\n",
       "      <td>...</td>\n",
       "      <td>...</td>\n",
       "      <td>...</td>\n",
       "      <td>...</td>\n",
       "    </tr>\n",
       "    <tr>\n",
       "      <th>479</th>\n",
       "      <td>R551</td>\n",
       "      <td>GROVE STREET</td>\n",
       "      <td>4.018313e+04</td>\n",
       "      <td>4.160198e+04</td>\n",
       "      <td>111.442105</td>\n",
       "      <td>99.768421</td>\n",
       "      <td>NaN</td>\n",
       "      <td>NaN</td>\n",
       "      <td>99.768421</td>\n",
       "    </tr>\n",
       "    <tr>\n",
       "      <th>480</th>\n",
       "      <td>R552</td>\n",
       "      <td>JOURNAL SQUARE</td>\n",
       "      <td>3.538649e+04</td>\n",
       "      <td>3.657110e+04</td>\n",
       "      <td>111.168675</td>\n",
       "      <td>96.807229</td>\n",
       "      <td>NaN</td>\n",
       "      <td>NaN</td>\n",
       "      <td>96.807229</td>\n",
       "    </tr>\n",
       "    <tr>\n",
       "      <th>481</th>\n",
       "      <td>R570</td>\n",
       "      <td>72 ST-2 AVE</td>\n",
       "      <td>8.146583e+06</td>\n",
       "      <td>1.133177e+06</td>\n",
       "      <td>153.705882</td>\n",
       "      <td>124.082353</td>\n",
       "      <td>40.768687</td>\n",
       "      <td>-73.958443</td>\n",
       "      <td>124.082353</td>\n",
       "    </tr>\n",
       "    <tr>\n",
       "      <th>482</th>\n",
       "      <td>R571</td>\n",
       "      <td>86 ST-2 AVE</td>\n",
       "      <td>3.818658e+06</td>\n",
       "      <td>4.290601e+06</td>\n",
       "      <td>202.906667</td>\n",
       "      <td>141.680000</td>\n",
       "      <td>40.768686</td>\n",
       "      <td>-73.958443</td>\n",
       "      <td>141.680000</td>\n",
       "    </tr>\n",
       "    <tr>\n",
       "      <th>483</th>\n",
       "      <td>R572</td>\n",
       "      <td>96 ST-2 AVE</td>\n",
       "      <td>9.429450e+05</td>\n",
       "      <td>6.951964e+05</td>\n",
       "      <td>141.450000</td>\n",
       "      <td>93.962500</td>\n",
       "      <td>40.780703</td>\n",
       "      <td>-73.949411</td>\n",
       "      <td>93.962500</td>\n",
       "    </tr>\n",
       "  </tbody>\n",
       "</table>\n",
       "<p>484 rows × 9 columns</p>\n",
       "</div>"
      ],
      "text/plain": [
       "     UNIT          STATION       ENTRIES         EXITS  entries_diff  \\\n",
       "0    R001      SOUTH FERRY  7.379688e+06  1.228505e+06     97.161905   \n",
       "1    R001  WHITEHALL S-FRY  1.875012e+07  5.036563e+06    121.440000   \n",
       "2    R003    CYPRESS HILLS  2.394375e+06  1.423587e+06     49.200000   \n",
       "3    R004    75 ST-ELDERTS  2.476289e+06  2.169410e+06     77.680000   \n",
       "4    R005  85 ST-FOREST PK  5.234938e+06  4.260675e+06     99.200000   \n",
       "..    ...              ...           ...           ...           ...   \n",
       "479  R551     GROVE STREET  4.018313e+04  4.160198e+04    111.442105   \n",
       "480  R552   JOURNAL SQUARE  3.538649e+04  3.657110e+04    111.168675   \n",
       "481  R570      72 ST-2 AVE  8.146583e+06  1.133177e+06    153.705882   \n",
       "482  R571      86 ST-2 AVE  3.818658e+06  4.290601e+06    202.906667   \n",
       "483  R572      96 ST-2 AVE  9.429450e+05  6.951964e+05    141.450000   \n",
       "\n",
       "     exits_diff        lat        lng  exits_diff2  \n",
       "0     87.857143  40.703082 -74.012983    87.857143  \n",
       "1    131.493333  40.703082 -74.012983   131.493333  \n",
       "2     28.200000  40.689945 -73.872564    28.200000  \n",
       "3     49.560000  40.691320 -73.867135    49.560000  \n",
       "4     41.000000  40.692304 -73.860151    41.000000  \n",
       "..          ...        ...        ...          ...  \n",
       "479   99.768421        NaN        NaN    99.768421  \n",
       "480   96.807229        NaN        NaN    96.807229  \n",
       "481  124.082353  40.768687 -73.958443   124.082353  \n",
       "482  141.680000  40.768686 -73.958443   141.680000  \n",
       "483   93.962500  40.780703 -73.949411    93.962500  \n",
       "\n",
       "[484 rows x 9 columns]"
      ]
     },
     "execution_count": 30,
     "metadata": {},
     "output_type": "execute_result"
    }
   ],
   "source": [
    "one_day = new_df2[new_df2.DATE == '07/27/2019']\n",
    "a = one_day.groupby(['UNIT', 'STATION']).mean().reset_index()\n",
    "a['exits_diff2'] = abs(a['exits_diff'])\n",
    "\n",
    "a"
   ]
  },
  {
   "cell_type": "code",
   "execution_count": 31,
   "metadata": {},
   "outputs": [],
   "source": [
    "# one_day_compare = compare_df[compare_df.DATE == '07/27/2019']\n",
    "# b = one_day_compare.groupby('UNIT').mean()\n",
    "# b['exits_diff2'] = abs(b['exits_diff'])"
   ]
  },
  {
   "cell_type": "code",
   "execution_count": 147,
   "metadata": {
    "scrolled": true
   },
   "outputs": [
    {
     "data": {
      "application/vnd.plotly.v1+json": {
       "config": {
        "plotlyServerURL": "https://plot.ly"
       },
       "data": [
        {
         "hovertemplate": "lat=%{lat}<br>lng=%{lon}<extra></extra>",
         "lat": [
          40.703082,
          40.709938,
          40.689945,
          40.691320000000005,
          40.692304,
          40.693866,
          40.695184000000005,
          40.697404999999996,
          40.700536,
          40.757303,
          40.757303,
          40.752247,
          40.752247,
          40.709938,
          40.760179,
          40.757529999999996,
          40.757529999999996,
          40.746655,
          40.712621999999996,
          40.758652000000005,
          40.754197999999995,
          40.749533,
          40.749533,
          40.700488,
          40.702131,
          40.706864,
          40.709938,
          40.71433,
          40.715436,
          40.750329,
          40.755905,
          40.755905,
          40.815596,
          40.840778,
          40.860523,
          40.864653000000004,
          40.869359,
          40.874551000000004,
          40.878867,
          40.704782,
          40.704782,
          40.707466,
          40.713159000000005,
          40.751849,
          40.751849,
          40.751849,
          40.751849,
          40.757108,
          40.762796,
          40.762796,
          40.885973,
          40.816132,
          40.753824,
          40.759578000000005,
          40.688269,
          40.684063,
          40.680801,
          40.675219,
          40.672013,
          40.669734999999996,
          40.669278999999996,
          40.664590999999994,
          40.661466,
          40.662541,
          40.663419,
          40.664884,
          40.665405,
          40.666252,
          40.643738,
          40.704591,
          40.764909,
          40.764755,
          40.760139,
          40.745574,
          40.741006,
          40.76811,
          40.730348,
          40.724332000000004,
          40.713086,
          40.710662,
          40.692182,
          40.753076,
          40.756977,
          40.761959000000004,
          40.766843,
          40.770426,
          40.774984,
          40.747647,
          40.749143,
          40.650494,
          40.690612,
          40.711353,
          40.824787,
          40.811056,
          40.678847999999995,
          40.833773,
          40.738007,
          40.834255,
          40.839892,
          40.692403999999996,
          40.650843,
          40.632836,
          40.745924,
          40.862803,
          40.762877,
          40.707564,
          40.710459,
          40.761675,
          40.889185,
          40.718233000000005,
          40.862941,
          40.829495,
          40.750508,
          40.748540999999996,
          40.670711,
          40.669409,
          40.706539,
          40.847369,
          40.692338,
          40.705416,
          40.686153999999995,
          40.603234,
          40.740088,
          40.804406,
          40.87963,
          40.74238,
          40.639961,
          40.58681,
          40.699707000000004,
          40.732251,
          40.720852,
          40.748948,
          40.721681,
          40.718379999999996,
          40.743095000000004,
          40.785821999999996,
          40.903085,
          40.820889,
          40.745622999999995,
          40.655053,
          40.635059000000005,
          40.599307,
          40.577422999999996,
          40.64666,
          40.679279,
          40.850307,
          40.866974,
          40.873026,
          40.874827,
          40.714444,
          40.80819,
          40.730056,
          40.867899,
          40.828894,
          40.737348,
          40.773424,
          40.636948,
          40.783871999999995,
          40.788844,
          40.79388,
          40.821994000000004,
          40.734836,
          40.677172,
          40.577961,
          40.868045,
          40.851686,
          40.740388,
          40.746119,
          40.768143,
          40.773635999999996,
          40.779485,
          40.790582,
          40.795066,
          40.798574,
          40.873399,
          40.640905,
          40.865286,
          40.785821999999996,
          40.781434999999995,
          40.762439,
          40.733405,
          40.744071000000005,
          40.799354,
          40.804032,
          40.833878999999996,
          40.725665,
          40.827888,
          40.661596,
          40.65515,
          40.680409999999995,
          40.679921,
          40.675382,
          40.73308,
          40.729869,
          40.742868,
          40.644039,
          40.818428999999995,
          40.808076,
          40.814459,
          40.749858,
          40.662752000000005,
          40.645089,
          40.608691,
          40.641426,
          40.634945,
          40.629702,
          40.622715,
          40.616624,
          40.688465,
          40.742445000000004,
          40.726462,
          40.680231,
          40.835535,
          40.833246,
          40.743078999999994,
          40.697356,
          40.690546999999995,
          40.877796000000004,
          40.707221999999994,
          40.625028,
          40.617568,
          40.595234000000005,
          40.677302000000005,
          40.648866,
          40.644959,
          40.636232,
          40.717240999999994,
          40.703839,
          40.856085,
          40.756864,
          40.731324,
          40.718542,
          40.660376,
          40.629881,
          40.840047999999996,
          40.853390000000005,
          40.8315,
          40.665438,
          40.631412,
          40.730901,
          40.71459,
          40.711874,
          40.791654,
          40.699315999999996,
          40.845892,
          40.736998,
          40.709174,
          40.724608,
          40.713646999999995,
          40.670320000000004,
          40.759122999999995,
          40.849495000000005,
          40.743778000000006,
          40.643982,
          40.629164,
          40.576298,
          40.707889,
          40.695607,
          40.756312,
          40.713875,
          40.689636,
          40.673714000000004,
          40.589546999999996,
          40.747223999999996,
          40.826426,
          40.855176,
          40.858389,
          40.742624,
          40.667879,
          40.660481,
          40.706635999999996,
          40.859021999999996,
          40.775545,
          40.726202,
          40.686170000000004,
          40.683263000000004,
          40.603983,
          40.694568,
          40.688855,
          40.666276,
          40.650721999999995,
          40.728202,
          40.744558000000005,
          40.878656,
          40.750264,
          40.706148,
          40.688676,
          40.835957,
          40.681159,
          40.752897999999995,
          40.7061,
          40.723290999999996,
          40.699756,
          40.763625,
          40.7541,
          40.707840000000004,
          40.710454,
          40.884821,
          40.813208,
          40.844406,
          40.848634999999994,
          40.75176,
          40.720315,
          40.576152,
          40.682558,
          40.796105,
          40.829934,
          40.700374,
          40.688123,
          40.687129999999996,
          40.764763,
          40.722819,
          40.741096,
          40.722396999999994,
          40.79911,
          40.802098,
          40.826508000000004,
          40.836459999999995,
          40.744103,
          40.754622,
          40.854137,
          40.733243,
          40.830551,
          40.817902000000004,
          40.805071999999996,
          40.800637,
          40.590866999999996,
          40.592334,
          40.593214,
          40.595381,
          40.75202,
          40.749663,
          40.718477,
          40.702566,
          40.719322999999996,
          40.820402,
          40.823877,
          40.747029,
          40.746325,
          40.675496,
          40.669376,
          40.663801,
          40.706994,
          40.703855,
          40.681745,
          40.684364,
          40.685975,
          40.668234000000005,
          40.600138,
          40.747257,
          40.743973,
          40.857188,
          40.865481,
          40.871387,
          40.877796000000004,
          40.883767,
          40.887887,
          40.893386,
          40.646343,
          40.640871999999995,
          40.619588,
          40.613513,
          40.607958,
          40.604797999999995,
          40.601898,
          40.658747999999996,
          40.650625,
          40.700244,
          40.697266,
          40.693329,
          40.689652,
          40.686170000000004,
          40.677107,
          40.679369,
          40.679857,
          40.680429,
          40.837382,
          40.840097,
          40.841882,
          40.848797,
          40.635011,
          40.631428,
          40.620728,
          40.617373,
          40.612006,
          40.603967,
          40.597482,
          40.592676000000004,
          40.625419,
          40.597873,
          40.588879,
          40.697672999999995,
          40.702798,
          40.704423999999996,
          40.706181,
          40.816505,
          40.819396000000005,
          40.822171999999995,
          40.82417,
          40.829966,
          40.67491,
          40.670499,
          40.698665999999996,
          40.660476,
          40.608693,
          40.588032,
          40.585514,
          40.583542,
          40.580453999999996,
          40.63615,
          40.625305,
          40.620907,
          40.615173999999996,
          40.609147,
          40.596065,
          40.580991999999995,
          40.843635,
          40.846817,
          40.852465,
          40.858973,
          40.888244,
          40.682867,
          40.677107,
          40.678018,
          40.679938,
          40.681598,
          40.683209000000005,
          40.678815,
          40.67836,
          40.674552,
          40.672786,
          40.674161,
          40.839301,
          40.898382,
          40.810512,
          40.808044,
          40.805737,
          40.808741999999995,
          40.812104,
          40.816083,
          40.656648,
          40.778575,
          40.742981,
          40.665405,
          40.66043,
          40.690545,
          40.852416999999996,
          40.708377,
          40.725297,
          40.718697,
          40.718697,
          40.668221,
          40.761268,
          40.7574,
          40.5446,
          40.660476,
          40.643941999999996,
          40.7686869,
          40.768686200000005,
          40.7807028
         ],
         "legendgroup": "",
         "lon": [
          -74.01298299999999,
          -74.007983,
          -73.872564,
          -73.867135,
          -73.860151,
          -73.851568,
          -73.844326,
          -73.836354,
          -73.82838199999999,
          -73.98978699999999,
          -73.98978699999999,
          -73.99345600000001,
          -73.99345600000001,
          -74.007983,
          -73.975196,
          -73.969102,
          -73.969102,
          -73.891361,
          -73.783815,
          -73.981311,
          -73.984573,
          -73.987899,
          -73.987899,
          -73.80793299999999,
          -73.80111,
          -74.009056,
          -74.007983,
          -74.008563,
          -74.009335,
          -73.991096,
          -73.98650400000001,
          -73.98650400000001,
          -73.958395,
          -73.94009100000001,
          -73.925575,
          -73.918719,
          -73.915329,
          -73.909879,
          -73.90485799999999,
          -74.014099,
          -74.014099,
          -74.01186700000001,
          -74.003917,
          -73.976945,
          -73.976945,
          -73.976945,
          -73.976945,
          -73.97187,
          -73.967686,
          -73.967686,
          -73.878851,
          -73.917754,
          -73.981966,
          -73.830056,
          -73.980453,
          -73.977417,
          -73.97513199999999,
          -73.971012,
          -73.96436,
          -73.950455,
          -73.932967,
          -73.922668,
          -73.91631600000001,
          -73.90876300000001,
          -73.902454,
          -73.894258,
          -73.889451,
          -73.884087,
          -74.073622,
          -74.013273,
          -73.973372,
          -73.980646,
          -73.984112,
          -73.988682,
          -73.989315,
          -73.981891,
          -73.992705,
          -73.99768399999999,
          -74.007232,
          -74.011052,
          -73.985935,
          -73.93271,
          -73.929373,
          -73.925382,
          -73.921423,
          -73.917614,
          -73.91206700000001,
          -73.883786,
          -73.869452,
          -73.962836,
          -73.981848,
          -73.88958000000001,
          -73.944232,
          -73.952386,
          -73.904139,
          -73.91843,
          -73.99838100000001,
          -73.85122199999999,
          -73.842952,
          -73.990151,
          -73.949575,
          -73.947642,
          -73.998005,
          -73.901034,
          -73.98159,
          -73.803326,
          -73.7936,
          -73.983908,
          -73.898549,
          -74.000323,
          -73.901199,
          -73.87455899999999,
          -73.940177,
          -73.876791,
          -73.958051,
          -73.942173,
          -74.011052,
          -73.939683,
          -73.987342,
          -73.810562,
          -73.990881,
          -73.972342,
          -73.986429,
          -73.93745200000001,
          -73.88466600000001,
          -73.94888900000001,
          -73.948352,
          -73.954167,
          -73.91181,
          -74.000559,
          -74.005237,
          -73.93719399999999,
          -73.84439,
          -73.987813,
          -73.984251,
          -73.95097,
          -73.85059100000001,
          -73.890567,
          -73.902969,
          -73.96122700000001,
          -73.962793,
          -73.955916,
          -73.981225,
          -73.901832,
          -73.930585,
          -73.905244,
          -73.893485,
          -73.88691899999999,
          -73.878872,
          -73.830979,
          -73.964124,
          -73.99104200000001,
          -73.897326,
          -73.879559,
          -73.9969,
          -73.98223399999999,
          -74.07482399999999,
          -73.979938,
          -73.97599,
          -73.972363,
          -73.95367399999999,
          -73.990688,
          -73.972514,
          -73.96180600000001,
          -73.919921,
          -73.937967,
          -74.002104,
          -73.981826,
          -73.964016,
          -73.959875,
          -73.955541,
          -73.947473,
          -73.94429699999999,
          -73.94159300000001,
          -73.890084,
          -73.96386600000001,
          -73.92698,
          -73.968952,
          -73.972149,
          -73.985989,
          -74.002898,
          -73.99562399999999,
          -73.968329,
          -73.96674200000001,
          -73.944726,
          -73.995645,
          -73.925736,
          -73.962193,
          -74.003477,
          -73.950326,
          -73.94085799999999,
          -73.87207,
          -73.869259,
          -73.86161,
          -73.99277,
          -73.979541,
          -73.926927,
          -73.94590600000001,
          -73.94099200000001,
          -73.862672,
          -73.95060500000001,
          -73.948975,
          -73.95777199999999,
          -74.017972,
          -74.023411,
          -74.025514,
          -74.028368,
          -74.030964,
          -73.985474,
          -73.882005,
          -73.85263,
          -73.99498,
          -73.92138,
          -73.860805,
          -73.918419,
          -73.992888,
          -73.985066,
          -73.866341,
          -74.013391,
          -73.960819,
          -73.95936,
          -73.95509,
          -73.983135,
          -74.010086,
          -74.014034,
          -73.994765,
          -73.956614,
          -73.91844,
          -73.900695,
          -73.920736,
          -73.954425,
          -73.994164,
          -73.979509,
          -73.977149,
          -73.917775,
          -73.907733,
          -73.867623,
          -73.992856,
          -73.995473,
          -73.981719,
          -73.94410400000001,
          -73.94067,
          -73.964682,
          -73.990474,
          -73.910136,
          -73.87724200000001,
          -73.820593,
          -73.95127099999999,
          -73.990152,
          -73.98875699999999,
          -73.953266,
          -73.93363199999999,
          -73.923998,
          -73.96451,
          -73.961678,
          -73.968523,
          -73.940005,
          -73.904021,
          -73.913333,
          -73.951592,
          -73.953459,
          -73.996139,
          -73.974295,
          -73.99336,
          -73.950412,
          -73.929384,
          -73.903828,
          -73.95354499999999,
          -73.950648,
          -73.998059,
          -73.922925,
          -73.93419,
          -73.976398,
          -74.00362700000001,
          -73.973908,
          -73.965838,
          -73.755383,
          -73.949046,
          -73.960025,
          -73.980324,
          -73.975818,
          -74.005344,
          -73.930993,
          -73.838596,
          -73.99298399999999,
          -73.93316,
          -73.903999,
          -73.939898,
          -73.956056,
          -73.905973,
          -73.95034799999999,
          -73.989873,
          -73.98689,
          -73.977449,
          -73.94258,
          -74.01369100000001,
          -74.011324,
          -73.900759,
          -73.929877,
          -73.914621,
          -73.912497,
          -73.855183,
          -73.994014,
          -73.975925,
          -73.905501,
          -73.961399,
          -73.938632,
          -73.950284,
          -73.96674200000001,
          -73.975346,
          -73.966291,
          -74.00626700000001,
          -73.997877,
          -73.997211,
          -73.95180699999999,
          -73.949625,
          -73.886425,
          -73.846471,
          -73.912497,
          -73.845625,
          -73.860977,
          -73.987169,
          -73.941486,
          -73.947644,
          -73.954833,
          -73.958201,
          -73.797011,
          -73.788493,
          -73.776433,
          -73.768194,
          -73.92874,
          -73.898485,
          -73.837223,
          -73.816859,
          -74.006953,
          -73.93631500000001,
          -73.93644300000001,
          -73.94537,
          -73.896403,
          -73.902819,
          -73.902047,
          -73.900444,
          -73.95348100000001,
          -73.947387,
          -73.837631,
          -73.832181,
          -73.824713,
          -73.834058,
          -73.76151999999999,
          -73.945112,
          -73.949876,
          -73.86760699999999,
          -73.867393,
          -73.867135,
          -73.86625500000001,
          -73.862736,
          -73.860505,
          -73.857265,
          -73.994551,
          -73.994229,
          -73.99884200000001,
          -74.00064499999999,
          -74.00178199999999,
          -73.998456,
          -73.993821,
          -73.899472,
          -73.899558,
          -73.94165799999999,
          -73.935692,
          -73.928826,
          -73.92228100000001,
          -73.916337,
          -73.865376,
          -73.85896,
          -73.85149200000001,
          -73.843853,
          -73.887659,
          -73.879774,
          -73.873551,
          -73.868465,
          -74.011717,
          -74.005387,
          -73.990388,
          -73.985088,
          -73.98200899999999,
          -73.98066800000001,
          -73.979359,
          -73.978243,
          -73.99663199999999,
          -73.98695500000001,
          -73.98362900000001,
          -73.927131,
          -73.907776,
          -73.903077,
          -73.89591,
          -73.907797,
          -73.90146700000001,
          -73.89674699999999,
          -73.89322800000001,
          -73.891876,
          -73.95779399999999,
          -73.958759,
          -73.919685,
          -73.830301,
          -73.816068,
          -73.813684,
          -73.820143,
          -73.82643,
          -73.837459,
          -73.978179,
          -73.975732,
          -73.975453,
          -73.974166,
          -73.97298599999999,
          -73.973329,
          -73.974531,
          -73.836687,
          -73.832545,
          -73.828125,
          -73.855355,
          -73.83085,
          -73.91048,
          -73.898871,
          -73.891726,
          -73.884687,
          -73.880074,
          -73.873765,
          -73.920801,
          -73.911939,
          -73.89655400000001,
          -73.890438,
          -73.88076099999999,
          -73.91335500000001,
          -73.854389,
          -73.926165,
          -73.919234,
          -73.91447099999999,
          -73.90769,
          -73.904085,
          -73.89605999999999,
          -73.950198,
          -73.981912,
          -73.992727,
          -73.99287700000001,
          -73.99794399999999,
          -73.985065,
          -73.828082,
          -73.957751,
          -73.996204,
          -74.000977,
          -74.000977,
          -73.834026,
          -73.964016,
          -73.954006,
          -74.16458100000001,
          -73.830301,
          -73.78235600000001,
          -73.9584429,
          -73.9584429,
          -73.9494105
         ],
         "marker": {
          "color": "#636efa"
         },
         "mode": "markers",
         "name": "",
         "showlegend": false,
         "subplot": "mapbox",
         "type": "scattermapbox"
        }
       ],
       "layout": {
        "legend": {
         "tracegroupgap": 0
        },
        "mapbox": {
         "accesstoken": "pk.eyJ1IjoiY3dlc3RuZWRnZSIsImEiOiJja2ZnMGNqNmowMGQ3MnJwdDAwdGhyc21hIn0.bo4mFps9s1wRmgjIvI7KiQ",
         "center": {
          "lat": 40.7429,
          "lon": -73.9929
         },
         "domain": {
          "x": [
           0,
           1
          ],
          "y": [
           0,
           1
          ]
         },
         "zoom": 9.5
        },
        "margin": {
         "b": 0,
         "l": 0,
         "r": 0,
         "t": 0
        },
        "template": {
         "data": {
          "bar": [
           {
            "error_x": {
             "color": "#2a3f5f"
            },
            "error_y": {
             "color": "#2a3f5f"
            },
            "marker": {
             "line": {
              "color": "#E5ECF6",
              "width": 0.5
             }
            },
            "type": "bar"
           }
          ],
          "barpolar": [
           {
            "marker": {
             "line": {
              "color": "#E5ECF6",
              "width": 0.5
             }
            },
            "type": "barpolar"
           }
          ],
          "carpet": [
           {
            "aaxis": {
             "endlinecolor": "#2a3f5f",
             "gridcolor": "white",
             "linecolor": "white",
             "minorgridcolor": "white",
             "startlinecolor": "#2a3f5f"
            },
            "baxis": {
             "endlinecolor": "#2a3f5f",
             "gridcolor": "white",
             "linecolor": "white",
             "minorgridcolor": "white",
             "startlinecolor": "#2a3f5f"
            },
            "type": "carpet"
           }
          ],
          "choropleth": [
           {
            "colorbar": {
             "outlinewidth": 0,
             "ticks": ""
            },
            "type": "choropleth"
           }
          ],
          "contour": [
           {
            "colorbar": {
             "outlinewidth": 0,
             "ticks": ""
            },
            "colorscale": [
             [
              0,
              "#0d0887"
             ],
             [
              0.1111111111111111,
              "#46039f"
             ],
             [
              0.2222222222222222,
              "#7201a8"
             ],
             [
              0.3333333333333333,
              "#9c179e"
             ],
             [
              0.4444444444444444,
              "#bd3786"
             ],
             [
              0.5555555555555556,
              "#d8576b"
             ],
             [
              0.6666666666666666,
              "#ed7953"
             ],
             [
              0.7777777777777778,
              "#fb9f3a"
             ],
             [
              0.8888888888888888,
              "#fdca26"
             ],
             [
              1,
              "#f0f921"
             ]
            ],
            "type": "contour"
           }
          ],
          "contourcarpet": [
           {
            "colorbar": {
             "outlinewidth": 0,
             "ticks": ""
            },
            "type": "contourcarpet"
           }
          ],
          "heatmap": [
           {
            "colorbar": {
             "outlinewidth": 0,
             "ticks": ""
            },
            "colorscale": [
             [
              0,
              "#0d0887"
             ],
             [
              0.1111111111111111,
              "#46039f"
             ],
             [
              0.2222222222222222,
              "#7201a8"
             ],
             [
              0.3333333333333333,
              "#9c179e"
             ],
             [
              0.4444444444444444,
              "#bd3786"
             ],
             [
              0.5555555555555556,
              "#d8576b"
             ],
             [
              0.6666666666666666,
              "#ed7953"
             ],
             [
              0.7777777777777778,
              "#fb9f3a"
             ],
             [
              0.8888888888888888,
              "#fdca26"
             ],
             [
              1,
              "#f0f921"
             ]
            ],
            "type": "heatmap"
           }
          ],
          "heatmapgl": [
           {
            "colorbar": {
             "outlinewidth": 0,
             "ticks": ""
            },
            "colorscale": [
             [
              0,
              "#0d0887"
             ],
             [
              0.1111111111111111,
              "#46039f"
             ],
             [
              0.2222222222222222,
              "#7201a8"
             ],
             [
              0.3333333333333333,
              "#9c179e"
             ],
             [
              0.4444444444444444,
              "#bd3786"
             ],
             [
              0.5555555555555556,
              "#d8576b"
             ],
             [
              0.6666666666666666,
              "#ed7953"
             ],
             [
              0.7777777777777778,
              "#fb9f3a"
             ],
             [
              0.8888888888888888,
              "#fdca26"
             ],
             [
              1,
              "#f0f921"
             ]
            ],
            "type": "heatmapgl"
           }
          ],
          "histogram": [
           {
            "marker": {
             "colorbar": {
              "outlinewidth": 0,
              "ticks": ""
             }
            },
            "type": "histogram"
           }
          ],
          "histogram2d": [
           {
            "colorbar": {
             "outlinewidth": 0,
             "ticks": ""
            },
            "colorscale": [
             [
              0,
              "#0d0887"
             ],
             [
              0.1111111111111111,
              "#46039f"
             ],
             [
              0.2222222222222222,
              "#7201a8"
             ],
             [
              0.3333333333333333,
              "#9c179e"
             ],
             [
              0.4444444444444444,
              "#bd3786"
             ],
             [
              0.5555555555555556,
              "#d8576b"
             ],
             [
              0.6666666666666666,
              "#ed7953"
             ],
             [
              0.7777777777777778,
              "#fb9f3a"
             ],
             [
              0.8888888888888888,
              "#fdca26"
             ],
             [
              1,
              "#f0f921"
             ]
            ],
            "type": "histogram2d"
           }
          ],
          "histogram2dcontour": [
           {
            "colorbar": {
             "outlinewidth": 0,
             "ticks": ""
            },
            "colorscale": [
             [
              0,
              "#0d0887"
             ],
             [
              0.1111111111111111,
              "#46039f"
             ],
             [
              0.2222222222222222,
              "#7201a8"
             ],
             [
              0.3333333333333333,
              "#9c179e"
             ],
             [
              0.4444444444444444,
              "#bd3786"
             ],
             [
              0.5555555555555556,
              "#d8576b"
             ],
             [
              0.6666666666666666,
              "#ed7953"
             ],
             [
              0.7777777777777778,
              "#fb9f3a"
             ],
             [
              0.8888888888888888,
              "#fdca26"
             ],
             [
              1,
              "#f0f921"
             ]
            ],
            "type": "histogram2dcontour"
           }
          ],
          "mesh3d": [
           {
            "colorbar": {
             "outlinewidth": 0,
             "ticks": ""
            },
            "type": "mesh3d"
           }
          ],
          "parcoords": [
           {
            "line": {
             "colorbar": {
              "outlinewidth": 0,
              "ticks": ""
             }
            },
            "type": "parcoords"
           }
          ],
          "pie": [
           {
            "automargin": true,
            "type": "pie"
           }
          ],
          "scatter": [
           {
            "marker": {
             "colorbar": {
              "outlinewidth": 0,
              "ticks": ""
             }
            },
            "type": "scatter"
           }
          ],
          "scatter3d": [
           {
            "line": {
             "colorbar": {
              "outlinewidth": 0,
              "ticks": ""
             }
            },
            "marker": {
             "colorbar": {
              "outlinewidth": 0,
              "ticks": ""
             }
            },
            "type": "scatter3d"
           }
          ],
          "scattercarpet": [
           {
            "marker": {
             "colorbar": {
              "outlinewidth": 0,
              "ticks": ""
             }
            },
            "type": "scattercarpet"
           }
          ],
          "scattergeo": [
           {
            "marker": {
             "colorbar": {
              "outlinewidth": 0,
              "ticks": ""
             }
            },
            "type": "scattergeo"
           }
          ],
          "scattergl": [
           {
            "marker": {
             "colorbar": {
              "outlinewidth": 0,
              "ticks": ""
             }
            },
            "type": "scattergl"
           }
          ],
          "scattermapbox": [
           {
            "marker": {
             "colorbar": {
              "outlinewidth": 0,
              "ticks": ""
             }
            },
            "type": "scattermapbox"
           }
          ],
          "scatterpolar": [
           {
            "marker": {
             "colorbar": {
              "outlinewidth": 0,
              "ticks": ""
             }
            },
            "type": "scatterpolar"
           }
          ],
          "scatterpolargl": [
           {
            "marker": {
             "colorbar": {
              "outlinewidth": 0,
              "ticks": ""
             }
            },
            "type": "scatterpolargl"
           }
          ],
          "scatterternary": [
           {
            "marker": {
             "colorbar": {
              "outlinewidth": 0,
              "ticks": ""
             }
            },
            "type": "scatterternary"
           }
          ],
          "surface": [
           {
            "colorbar": {
             "outlinewidth": 0,
             "ticks": ""
            },
            "colorscale": [
             [
              0,
              "#0d0887"
             ],
             [
              0.1111111111111111,
              "#46039f"
             ],
             [
              0.2222222222222222,
              "#7201a8"
             ],
             [
              0.3333333333333333,
              "#9c179e"
             ],
             [
              0.4444444444444444,
              "#bd3786"
             ],
             [
              0.5555555555555556,
              "#d8576b"
             ],
             [
              0.6666666666666666,
              "#ed7953"
             ],
             [
              0.7777777777777778,
              "#fb9f3a"
             ],
             [
              0.8888888888888888,
              "#fdca26"
             ],
             [
              1,
              "#f0f921"
             ]
            ],
            "type": "surface"
           }
          ],
          "table": [
           {
            "cells": {
             "fill": {
              "color": "#EBF0F8"
             },
             "line": {
              "color": "white"
             }
            },
            "header": {
             "fill": {
              "color": "#C8D4E3"
             },
             "line": {
              "color": "white"
             }
            },
            "type": "table"
           }
          ]
         },
         "layout": {
          "annotationdefaults": {
           "arrowcolor": "#2a3f5f",
           "arrowhead": 0,
           "arrowwidth": 1
          },
          "coloraxis": {
           "colorbar": {
            "outlinewidth": 0,
            "ticks": ""
           }
          },
          "colorscale": {
           "diverging": [
            [
             0,
             "#8e0152"
            ],
            [
             0.1,
             "#c51b7d"
            ],
            [
             0.2,
             "#de77ae"
            ],
            [
             0.3,
             "#f1b6da"
            ],
            [
             0.4,
             "#fde0ef"
            ],
            [
             0.5,
             "#f7f7f7"
            ],
            [
             0.6,
             "#e6f5d0"
            ],
            [
             0.7,
             "#b8e186"
            ],
            [
             0.8,
             "#7fbc41"
            ],
            [
             0.9,
             "#4d9221"
            ],
            [
             1,
             "#276419"
            ]
           ],
           "sequential": [
            [
             0,
             "#0d0887"
            ],
            [
             0.1111111111111111,
             "#46039f"
            ],
            [
             0.2222222222222222,
             "#7201a8"
            ],
            [
             0.3333333333333333,
             "#9c179e"
            ],
            [
             0.4444444444444444,
             "#bd3786"
            ],
            [
             0.5555555555555556,
             "#d8576b"
            ],
            [
             0.6666666666666666,
             "#ed7953"
            ],
            [
             0.7777777777777778,
             "#fb9f3a"
            ],
            [
             0.8888888888888888,
             "#fdca26"
            ],
            [
             1,
             "#f0f921"
            ]
           ],
           "sequentialminus": [
            [
             0,
             "#0d0887"
            ],
            [
             0.1111111111111111,
             "#46039f"
            ],
            [
             0.2222222222222222,
             "#7201a8"
            ],
            [
             0.3333333333333333,
             "#9c179e"
            ],
            [
             0.4444444444444444,
             "#bd3786"
            ],
            [
             0.5555555555555556,
             "#d8576b"
            ],
            [
             0.6666666666666666,
             "#ed7953"
            ],
            [
             0.7777777777777778,
             "#fb9f3a"
            ],
            [
             0.8888888888888888,
             "#fdca26"
            ],
            [
             1,
             "#f0f921"
            ]
           ]
          },
          "colorway": [
           "#636efa",
           "#EF553B",
           "#00cc96",
           "#ab63fa",
           "#FFA15A",
           "#19d3f3",
           "#FF6692",
           "#B6E880",
           "#FF97FF",
           "#FECB52"
          ],
          "font": {
           "color": "#2a3f5f"
          },
          "geo": {
           "bgcolor": "white",
           "lakecolor": "white",
           "landcolor": "#E5ECF6",
           "showlakes": true,
           "showland": true,
           "subunitcolor": "white"
          },
          "hoverlabel": {
           "align": "left"
          },
          "hovermode": "closest",
          "mapbox": {
           "style": "light"
          },
          "paper_bgcolor": "white",
          "plot_bgcolor": "#E5ECF6",
          "polar": {
           "angularaxis": {
            "gridcolor": "white",
            "linecolor": "white",
            "ticks": ""
           },
           "bgcolor": "#E5ECF6",
           "radialaxis": {
            "gridcolor": "white",
            "linecolor": "white",
            "ticks": ""
           }
          },
          "scene": {
           "xaxis": {
            "backgroundcolor": "#E5ECF6",
            "gridcolor": "white",
            "gridwidth": 2,
            "linecolor": "white",
            "showbackground": true,
            "ticks": "",
            "zerolinecolor": "white"
           },
           "yaxis": {
            "backgroundcolor": "#E5ECF6",
            "gridcolor": "white",
            "gridwidth": 2,
            "linecolor": "white",
            "showbackground": true,
            "ticks": "",
            "zerolinecolor": "white"
           },
           "zaxis": {
            "backgroundcolor": "#E5ECF6",
            "gridcolor": "white",
            "gridwidth": 2,
            "linecolor": "white",
            "showbackground": true,
            "ticks": "",
            "zerolinecolor": "white"
           }
          },
          "shapedefaults": {
           "line": {
            "color": "#2a3f5f"
           }
          },
          "ternary": {
           "aaxis": {
            "gridcolor": "white",
            "linecolor": "white",
            "ticks": ""
           },
           "baxis": {
            "gridcolor": "white",
            "linecolor": "white",
            "ticks": ""
           },
           "bgcolor": "#E5ECF6",
           "caxis": {
            "gridcolor": "white",
            "linecolor": "white",
            "ticks": ""
           }
          },
          "title": {
           "x": 0.05
          },
          "xaxis": {
           "automargin": true,
           "gridcolor": "white",
           "linecolor": "white",
           "ticks": "",
           "title": {
            "standoff": 15
           },
           "zerolinecolor": "white",
           "zerolinewidth": 2
          },
          "yaxis": {
           "automargin": true,
           "gridcolor": "white",
           "linecolor": "white",
           "ticks": "",
           "title": {
            "standoff": 15
           },
           "zerolinecolor": "white",
           "zerolinewidth": 2
          }
         }
        }
       }
      },
      "text/html": [
       "<div>\n",
       "        \n",
       "        \n",
       "            <div id=\"4eef6bf2-92b0-4525-b733-16d9f4e52b8c\" class=\"plotly-graph-div\" style=\"height:525px; width:100%;\"></div>\n",
       "            <script type=\"text/javascript\">\n",
       "                require([\"plotly\"], function(Plotly) {\n",
       "                    window.PLOTLYENV=window.PLOTLYENV || {};\n",
       "                    \n",
       "                if (document.getElementById(\"4eef6bf2-92b0-4525-b733-16d9f4e52b8c\")) {\n",
       "                    Plotly.newPlot(\n",
       "                        '4eef6bf2-92b0-4525-b733-16d9f4e52b8c',\n",
       "                        [{\"hovertemplate\": \"lat=%{lat}<br>lng=%{lon}<extra></extra>\", \"lat\": [40.703082, 40.709938, 40.689945, 40.691320000000005, 40.692304, 40.693866, 40.695184000000005, 40.697404999999996, 40.700536, 40.757303, 40.757303, 40.752247, 40.752247, 40.709938, 40.760179, 40.757529999999996, 40.757529999999996, 40.746655, 40.712621999999996, 40.758652000000005, 40.754197999999995, 40.749533, 40.749533, 40.700488, 40.702131, 40.706864, 40.709938, 40.71433, 40.715436, 40.750329, 40.755905, 40.755905, 40.815596, 40.840778, 40.860523, 40.864653000000004, 40.869359, 40.874551000000004, 40.878867, 40.704782, 40.704782, 40.707466, 40.713159000000005, 40.751849, 40.751849, 40.751849, 40.751849, 40.757108, 40.762796, 40.762796, 40.885973, 40.816132, 40.753824, 40.759578000000005, 40.688269, 40.684063, 40.680801, 40.675219, 40.672013, 40.669734999999996, 40.669278999999996, 40.664590999999994, 40.661466, 40.662541, 40.663419, 40.664884, 40.665405, 40.666252, 40.643738, 40.704591, 40.764909, 40.764755, 40.760139, 40.745574, 40.741006, 40.76811, 40.730348, 40.724332000000004, 40.713086, 40.710662, 40.692182, 40.753076, 40.756977, 40.761959000000004, 40.766843, 40.770426, 40.774984, 40.747647, 40.749143, 40.650494, 40.690612, 40.711353, 40.824787, 40.811056, 40.678847999999995, 40.833773, 40.738007, 40.834255, 40.839892, 40.692403999999996, 40.650843, 40.632836, 40.745924, 40.862803, 40.762877, 40.707564, 40.710459, 40.761675, 40.889185, 40.718233000000005, 40.862941, 40.829495, 40.750508, 40.748540999999996, 40.670711, 40.669409, 40.706539, 40.847369, 40.692338, 40.705416, 40.686153999999995, 40.603234, 40.740088, 40.804406, 40.87963, 40.74238, 40.639961, 40.58681, 40.699707000000004, 40.732251, 40.720852, 40.748948, 40.721681, 40.718379999999996, 40.743095000000004, 40.785821999999996, 40.903085, 40.820889, 40.745622999999995, 40.655053, 40.635059000000005, 40.599307, 40.577422999999996, 40.64666, 40.679279, 40.850307, 40.866974, 40.873026, 40.874827, 40.714444, 40.80819, 40.730056, 40.867899, 40.828894, 40.737348, 40.773424, 40.636948, 40.783871999999995, 40.788844, 40.79388, 40.821994000000004, 40.734836, 40.677172, 40.577961, 40.868045, 40.851686, 40.740388, 40.746119, 40.768143, 40.773635999999996, 40.779485, 40.790582, 40.795066, 40.798574, 40.873399, 40.640905, 40.865286, 40.785821999999996, 40.781434999999995, 40.762439, 40.733405, 40.744071000000005, 40.799354, 40.804032, 40.833878999999996, 40.725665, 40.827888, 40.661596, 40.65515, 40.680409999999995, 40.679921, 40.675382, 40.73308, 40.729869, 40.742868, 40.644039, 40.818428999999995, 40.808076, 40.814459, 40.749858, 40.662752000000005, 40.645089, 40.608691, 40.641426, 40.634945, 40.629702, 40.622715, 40.616624, 40.688465, 40.742445000000004, 40.726462, 40.680231, 40.835535, 40.833246, 40.743078999999994, 40.697356, 40.690546999999995, 40.877796000000004, 40.707221999999994, 40.625028, 40.617568, 40.595234000000005, 40.677302000000005, 40.648866, 40.644959, 40.636232, 40.717240999999994, 40.703839, 40.856085, 40.756864, 40.731324, 40.718542, 40.660376, 40.629881, 40.840047999999996, 40.853390000000005, 40.8315, 40.665438, 40.631412, 40.730901, 40.71459, 40.711874, 40.791654, 40.699315999999996, 40.845892, 40.736998, 40.709174, 40.724608, 40.713646999999995, 40.670320000000004, 40.759122999999995, 40.849495000000005, 40.743778000000006, 40.643982, 40.629164, 40.576298, 40.707889, 40.695607, 40.756312, 40.713875, 40.689636, 40.673714000000004, 40.589546999999996, 40.747223999999996, 40.826426, 40.855176, 40.858389, 40.742624, 40.667879, 40.660481, 40.706635999999996, 40.859021999999996, 40.775545, 40.726202, 40.686170000000004, 40.683263000000004, 40.603983, 40.694568, 40.688855, 40.666276, 40.650721999999995, 40.728202, 40.744558000000005, 40.878656, 40.750264, 40.706148, 40.688676, 40.835957, 40.681159, 40.752897999999995, 40.7061, 40.723290999999996, 40.699756, 40.763625, 40.7541, 40.707840000000004, 40.710454, 40.884821, 40.813208, 40.844406, 40.848634999999994, 40.75176, 40.720315, 40.576152, 40.682558, 40.796105, 40.829934, 40.700374, 40.688123, 40.687129999999996, 40.764763, 40.722819, 40.741096, 40.722396999999994, 40.79911, 40.802098, 40.826508000000004, 40.836459999999995, 40.744103, 40.754622, 40.854137, 40.733243, 40.830551, 40.817902000000004, 40.805071999999996, 40.800637, 40.590866999999996, 40.592334, 40.593214, 40.595381, 40.75202, 40.749663, 40.718477, 40.702566, 40.719322999999996, 40.820402, 40.823877, 40.747029, 40.746325, 40.675496, 40.669376, 40.663801, 40.706994, 40.703855, 40.681745, 40.684364, 40.685975, 40.668234000000005, 40.600138, 40.747257, 40.743973, 40.857188, 40.865481, 40.871387, 40.877796000000004, 40.883767, 40.887887, 40.893386, 40.646343, 40.640871999999995, 40.619588, 40.613513, 40.607958, 40.604797999999995, 40.601898, 40.658747999999996, 40.650625, 40.700244, 40.697266, 40.693329, 40.689652, 40.686170000000004, 40.677107, 40.679369, 40.679857, 40.680429, 40.837382, 40.840097, 40.841882, 40.848797, 40.635011, 40.631428, 40.620728, 40.617373, 40.612006, 40.603967, 40.597482, 40.592676000000004, 40.625419, 40.597873, 40.588879, 40.697672999999995, 40.702798, 40.704423999999996, 40.706181, 40.816505, 40.819396000000005, 40.822171999999995, 40.82417, 40.829966, 40.67491, 40.670499, 40.698665999999996, 40.660476, 40.608693, 40.588032, 40.585514, 40.583542, 40.580453999999996, 40.63615, 40.625305, 40.620907, 40.615173999999996, 40.609147, 40.596065, 40.580991999999995, 40.843635, 40.846817, 40.852465, 40.858973, 40.888244, 40.682867, 40.677107, 40.678018, 40.679938, 40.681598, 40.683209000000005, 40.678815, 40.67836, 40.674552, 40.672786, 40.674161, 40.839301, 40.898382, 40.810512, 40.808044, 40.805737, 40.808741999999995, 40.812104, 40.816083, 40.656648, 40.778575, 40.742981, 40.665405, 40.66043, 40.690545, 40.852416999999996, 40.708377, 40.725297, 40.718697, 40.718697, 40.668221, 40.761268, 40.7574, 40.5446, 40.660476, 40.643941999999996, 40.7686869, 40.768686200000005, 40.7807028], \"legendgroup\": \"\", \"lon\": [-74.01298299999999, -74.007983, -73.872564, -73.867135, -73.860151, -73.851568, -73.844326, -73.836354, -73.82838199999999, -73.98978699999999, -73.98978699999999, -73.99345600000001, -73.99345600000001, -74.007983, -73.975196, -73.969102, -73.969102, -73.891361, -73.783815, -73.981311, -73.984573, -73.987899, -73.987899, -73.80793299999999, -73.80111, -74.009056, -74.007983, -74.008563, -74.009335, -73.991096, -73.98650400000001, -73.98650400000001, -73.958395, -73.94009100000001, -73.925575, -73.918719, -73.915329, -73.909879, -73.90485799999999, -74.014099, -74.014099, -74.01186700000001, -74.003917, -73.976945, -73.976945, -73.976945, -73.976945, -73.97187, -73.967686, -73.967686, -73.878851, -73.917754, -73.981966, -73.830056, -73.980453, -73.977417, -73.97513199999999, -73.971012, -73.96436, -73.950455, -73.932967, -73.922668, -73.91631600000001, -73.90876300000001, -73.902454, -73.894258, -73.889451, -73.884087, -74.073622, -74.013273, -73.973372, -73.980646, -73.984112, -73.988682, -73.989315, -73.981891, -73.992705, -73.99768399999999, -74.007232, -74.011052, -73.985935, -73.93271, -73.929373, -73.925382, -73.921423, -73.917614, -73.91206700000001, -73.883786, -73.869452, -73.962836, -73.981848, -73.88958000000001, -73.944232, -73.952386, -73.904139, -73.91843, -73.99838100000001, -73.85122199999999, -73.842952, -73.990151, -73.949575, -73.947642, -73.998005, -73.901034, -73.98159, -73.803326, -73.7936, -73.983908, -73.898549, -74.000323, -73.901199, -73.87455899999999, -73.940177, -73.876791, -73.958051, -73.942173, -74.011052, -73.939683, -73.987342, -73.810562, -73.990881, -73.972342, -73.986429, -73.93745200000001, -73.88466600000001, -73.94888900000001, -73.948352, -73.954167, -73.91181, -74.000559, -74.005237, -73.93719399999999, -73.84439, -73.987813, -73.984251, -73.95097, -73.85059100000001, -73.890567, -73.902969, -73.96122700000001, -73.962793, -73.955916, -73.981225, -73.901832, -73.930585, -73.905244, -73.893485, -73.88691899999999, -73.878872, -73.830979, -73.964124, -73.99104200000001, -73.897326, -73.879559, -73.9969, -73.98223399999999, -74.07482399999999, -73.979938, -73.97599, -73.972363, -73.95367399999999, -73.990688, -73.972514, -73.96180600000001, -73.919921, -73.937967, -74.002104, -73.981826, -73.964016, -73.959875, -73.955541, -73.947473, -73.94429699999999, -73.94159300000001, -73.890084, -73.96386600000001, -73.92698, -73.968952, -73.972149, -73.985989, -74.002898, -73.99562399999999, -73.968329, -73.96674200000001, -73.944726, -73.995645, -73.925736, -73.962193, -74.003477, -73.950326, -73.94085799999999, -73.87207, -73.869259, -73.86161, -73.99277, -73.979541, -73.926927, -73.94590600000001, -73.94099200000001, -73.862672, -73.95060500000001, -73.948975, -73.95777199999999, -74.017972, -74.023411, -74.025514, -74.028368, -74.030964, -73.985474, -73.882005, -73.85263, -73.99498, -73.92138, -73.860805, -73.918419, -73.992888, -73.985066, -73.866341, -74.013391, -73.960819, -73.95936, -73.95509, -73.983135, -74.010086, -74.014034, -73.994765, -73.956614, -73.91844, -73.900695, -73.920736, -73.954425, -73.994164, -73.979509, -73.977149, -73.917775, -73.907733, -73.867623, -73.992856, -73.995473, -73.981719, -73.94410400000001, -73.94067, -73.964682, -73.990474, -73.910136, -73.87724200000001, -73.820593, -73.95127099999999, -73.990152, -73.98875699999999, -73.953266, -73.93363199999999, -73.923998, -73.96451, -73.961678, -73.968523, -73.940005, -73.904021, -73.913333, -73.951592, -73.953459, -73.996139, -73.974295, -73.99336, -73.950412, -73.929384, -73.903828, -73.95354499999999, -73.950648, -73.998059, -73.922925, -73.93419, -73.976398, -74.00362700000001, -73.973908, -73.965838, -73.755383, -73.949046, -73.960025, -73.980324, -73.975818, -74.005344, -73.930993, -73.838596, -73.99298399999999, -73.93316, -73.903999, -73.939898, -73.956056, -73.905973, -73.95034799999999, -73.989873, -73.98689, -73.977449, -73.94258, -74.01369100000001, -74.011324, -73.900759, -73.929877, -73.914621, -73.912497, -73.855183, -73.994014, -73.975925, -73.905501, -73.961399, -73.938632, -73.950284, -73.96674200000001, -73.975346, -73.966291, -74.00626700000001, -73.997877, -73.997211, -73.95180699999999, -73.949625, -73.886425, -73.846471, -73.912497, -73.845625, -73.860977, -73.987169, -73.941486, -73.947644, -73.954833, -73.958201, -73.797011, -73.788493, -73.776433, -73.768194, -73.92874, -73.898485, -73.837223, -73.816859, -74.006953, -73.93631500000001, -73.93644300000001, -73.94537, -73.896403, -73.902819, -73.902047, -73.900444, -73.95348100000001, -73.947387, -73.837631, -73.832181, -73.824713, -73.834058, -73.76151999999999, -73.945112, -73.949876, -73.86760699999999, -73.867393, -73.867135, -73.86625500000001, -73.862736, -73.860505, -73.857265, -73.994551, -73.994229, -73.99884200000001, -74.00064499999999, -74.00178199999999, -73.998456, -73.993821, -73.899472, -73.899558, -73.94165799999999, -73.935692, -73.928826, -73.92228100000001, -73.916337, -73.865376, -73.85896, -73.85149200000001, -73.843853, -73.887659, -73.879774, -73.873551, -73.868465, -74.011717, -74.005387, -73.990388, -73.985088, -73.98200899999999, -73.98066800000001, -73.979359, -73.978243, -73.99663199999999, -73.98695500000001, -73.98362900000001, -73.927131, -73.907776, -73.903077, -73.89591, -73.907797, -73.90146700000001, -73.89674699999999, -73.89322800000001, -73.891876, -73.95779399999999, -73.958759, -73.919685, -73.830301, -73.816068, -73.813684, -73.820143, -73.82643, -73.837459, -73.978179, -73.975732, -73.975453, -73.974166, -73.97298599999999, -73.973329, -73.974531, -73.836687, -73.832545, -73.828125, -73.855355, -73.83085, -73.91048, -73.898871, -73.891726, -73.884687, -73.880074, -73.873765, -73.920801, -73.911939, -73.89655400000001, -73.890438, -73.88076099999999, -73.91335500000001, -73.854389, -73.926165, -73.919234, -73.91447099999999, -73.90769, -73.904085, -73.89605999999999, -73.950198, -73.981912, -73.992727, -73.99287700000001, -73.99794399999999, -73.985065, -73.828082, -73.957751, -73.996204, -74.000977, -74.000977, -73.834026, -73.964016, -73.954006, -74.16458100000001, -73.830301, -73.78235600000001, -73.9584429, -73.9584429, -73.9494105], \"marker\": {\"color\": \"#636efa\"}, \"mode\": \"markers\", \"name\": \"\", \"showlegend\": false, \"subplot\": \"mapbox\", \"type\": \"scattermapbox\"}],\n",
       "                        {\"legend\": {\"tracegroupgap\": 0}, \"mapbox\": {\"accesstoken\": \"pk.eyJ1IjoiY3dlc3RuZWRnZSIsImEiOiJja2ZnMGNqNmowMGQ3MnJwdDAwdGhyc21hIn0.bo4mFps9s1wRmgjIvI7KiQ\", \"center\": {\"lat\": 40.7429, \"lon\": -73.9929}, \"domain\": {\"x\": [0.0, 1.0], \"y\": [0.0, 1.0]}, \"zoom\": 9.5}, \"margin\": {\"b\": 0, \"l\": 0, \"r\": 0, \"t\": 0}, \"template\": {\"data\": {\"bar\": [{\"error_x\": {\"color\": \"#2a3f5f\"}, \"error_y\": {\"color\": \"#2a3f5f\"}, \"marker\": {\"line\": {\"color\": \"#E5ECF6\", \"width\": 0.5}}, \"type\": \"bar\"}], \"barpolar\": [{\"marker\": {\"line\": {\"color\": \"#E5ECF6\", \"width\": 0.5}}, \"type\": \"barpolar\"}], \"carpet\": [{\"aaxis\": {\"endlinecolor\": \"#2a3f5f\", \"gridcolor\": \"white\", \"linecolor\": \"white\", \"minorgridcolor\": \"white\", \"startlinecolor\": \"#2a3f5f\"}, \"baxis\": {\"endlinecolor\": \"#2a3f5f\", \"gridcolor\": \"white\", \"linecolor\": \"white\", \"minorgridcolor\": \"white\", \"startlinecolor\": \"#2a3f5f\"}, \"type\": \"carpet\"}], \"choropleth\": [{\"colorbar\": {\"outlinewidth\": 0, \"ticks\": \"\"}, \"type\": \"choropleth\"}], \"contour\": [{\"colorbar\": {\"outlinewidth\": 0, \"ticks\": \"\"}, \"colorscale\": [[0.0, \"#0d0887\"], [0.1111111111111111, \"#46039f\"], [0.2222222222222222, \"#7201a8\"], [0.3333333333333333, \"#9c179e\"], [0.4444444444444444, \"#bd3786\"], [0.5555555555555556, \"#d8576b\"], [0.6666666666666666, \"#ed7953\"], [0.7777777777777778, \"#fb9f3a\"], [0.8888888888888888, \"#fdca26\"], [1.0, \"#f0f921\"]], \"type\": \"contour\"}], \"contourcarpet\": [{\"colorbar\": {\"outlinewidth\": 0, \"ticks\": \"\"}, \"type\": \"contourcarpet\"}], \"heatmap\": [{\"colorbar\": {\"outlinewidth\": 0, \"ticks\": \"\"}, \"colorscale\": [[0.0, \"#0d0887\"], [0.1111111111111111, \"#46039f\"], [0.2222222222222222, \"#7201a8\"], [0.3333333333333333, \"#9c179e\"], [0.4444444444444444, \"#bd3786\"], [0.5555555555555556, \"#d8576b\"], [0.6666666666666666, \"#ed7953\"], [0.7777777777777778, \"#fb9f3a\"], [0.8888888888888888, \"#fdca26\"], [1.0, \"#f0f921\"]], \"type\": \"heatmap\"}], \"heatmapgl\": [{\"colorbar\": {\"outlinewidth\": 0, \"ticks\": \"\"}, \"colorscale\": [[0.0, \"#0d0887\"], [0.1111111111111111, \"#46039f\"], [0.2222222222222222, \"#7201a8\"], [0.3333333333333333, \"#9c179e\"], [0.4444444444444444, \"#bd3786\"], [0.5555555555555556, \"#d8576b\"], [0.6666666666666666, \"#ed7953\"], [0.7777777777777778, \"#fb9f3a\"], [0.8888888888888888, \"#fdca26\"], [1.0, \"#f0f921\"]], \"type\": \"heatmapgl\"}], \"histogram\": [{\"marker\": {\"colorbar\": {\"outlinewidth\": 0, \"ticks\": \"\"}}, \"type\": \"histogram\"}], \"histogram2d\": [{\"colorbar\": {\"outlinewidth\": 0, \"ticks\": \"\"}, \"colorscale\": [[0.0, \"#0d0887\"], [0.1111111111111111, \"#46039f\"], [0.2222222222222222, \"#7201a8\"], [0.3333333333333333, \"#9c179e\"], [0.4444444444444444, \"#bd3786\"], [0.5555555555555556, \"#d8576b\"], [0.6666666666666666, \"#ed7953\"], [0.7777777777777778, \"#fb9f3a\"], [0.8888888888888888, \"#fdca26\"], [1.0, \"#f0f921\"]], \"type\": \"histogram2d\"}], \"histogram2dcontour\": [{\"colorbar\": {\"outlinewidth\": 0, \"ticks\": \"\"}, \"colorscale\": [[0.0, \"#0d0887\"], [0.1111111111111111, \"#46039f\"], [0.2222222222222222, \"#7201a8\"], [0.3333333333333333, \"#9c179e\"], [0.4444444444444444, \"#bd3786\"], [0.5555555555555556, \"#d8576b\"], [0.6666666666666666, \"#ed7953\"], [0.7777777777777778, \"#fb9f3a\"], [0.8888888888888888, \"#fdca26\"], [1.0, \"#f0f921\"]], \"type\": \"histogram2dcontour\"}], \"mesh3d\": [{\"colorbar\": {\"outlinewidth\": 0, \"ticks\": \"\"}, \"type\": \"mesh3d\"}], \"parcoords\": [{\"line\": {\"colorbar\": {\"outlinewidth\": 0, \"ticks\": \"\"}}, \"type\": \"parcoords\"}], \"pie\": [{\"automargin\": true, \"type\": \"pie\"}], \"scatter\": [{\"marker\": {\"colorbar\": {\"outlinewidth\": 0, \"ticks\": \"\"}}, \"type\": \"scatter\"}], \"scatter3d\": [{\"line\": {\"colorbar\": {\"outlinewidth\": 0, \"ticks\": \"\"}}, \"marker\": {\"colorbar\": {\"outlinewidth\": 0, \"ticks\": \"\"}}, \"type\": \"scatter3d\"}], \"scattercarpet\": [{\"marker\": {\"colorbar\": {\"outlinewidth\": 0, \"ticks\": \"\"}}, \"type\": \"scattercarpet\"}], \"scattergeo\": [{\"marker\": {\"colorbar\": {\"outlinewidth\": 0, \"ticks\": \"\"}}, \"type\": \"scattergeo\"}], \"scattergl\": [{\"marker\": {\"colorbar\": {\"outlinewidth\": 0, \"ticks\": \"\"}}, \"type\": \"scattergl\"}], \"scattermapbox\": [{\"marker\": {\"colorbar\": {\"outlinewidth\": 0, \"ticks\": \"\"}}, \"type\": \"scattermapbox\"}], \"scatterpolar\": [{\"marker\": {\"colorbar\": {\"outlinewidth\": 0, \"ticks\": \"\"}}, \"type\": \"scatterpolar\"}], \"scatterpolargl\": [{\"marker\": {\"colorbar\": {\"outlinewidth\": 0, \"ticks\": \"\"}}, \"type\": \"scatterpolargl\"}], \"scatterternary\": [{\"marker\": {\"colorbar\": {\"outlinewidth\": 0, \"ticks\": \"\"}}, \"type\": \"scatterternary\"}], \"surface\": [{\"colorbar\": {\"outlinewidth\": 0, \"ticks\": \"\"}, \"colorscale\": [[0.0, \"#0d0887\"], [0.1111111111111111, \"#46039f\"], [0.2222222222222222, \"#7201a8\"], [0.3333333333333333, \"#9c179e\"], [0.4444444444444444, \"#bd3786\"], [0.5555555555555556, \"#d8576b\"], [0.6666666666666666, \"#ed7953\"], [0.7777777777777778, \"#fb9f3a\"], [0.8888888888888888, \"#fdca26\"], [1.0, \"#f0f921\"]], \"type\": \"surface\"}], \"table\": [{\"cells\": {\"fill\": {\"color\": \"#EBF0F8\"}, \"line\": {\"color\": \"white\"}}, \"header\": {\"fill\": {\"color\": \"#C8D4E3\"}, \"line\": {\"color\": \"white\"}}, \"type\": \"table\"}]}, \"layout\": {\"annotationdefaults\": {\"arrowcolor\": \"#2a3f5f\", \"arrowhead\": 0, \"arrowwidth\": 1}, \"coloraxis\": {\"colorbar\": {\"outlinewidth\": 0, \"ticks\": \"\"}}, \"colorscale\": {\"diverging\": [[0, \"#8e0152\"], [0.1, \"#c51b7d\"], [0.2, \"#de77ae\"], [0.3, \"#f1b6da\"], [0.4, \"#fde0ef\"], [0.5, \"#f7f7f7\"], [0.6, \"#e6f5d0\"], [0.7, \"#b8e186\"], [0.8, \"#7fbc41\"], [0.9, \"#4d9221\"], [1, \"#276419\"]], \"sequential\": [[0.0, \"#0d0887\"], [0.1111111111111111, \"#46039f\"], [0.2222222222222222, \"#7201a8\"], [0.3333333333333333, \"#9c179e\"], [0.4444444444444444, \"#bd3786\"], [0.5555555555555556, \"#d8576b\"], [0.6666666666666666, \"#ed7953\"], [0.7777777777777778, \"#fb9f3a\"], [0.8888888888888888, \"#fdca26\"], [1.0, \"#f0f921\"]], \"sequentialminus\": [[0.0, \"#0d0887\"], [0.1111111111111111, \"#46039f\"], [0.2222222222222222, \"#7201a8\"], [0.3333333333333333, \"#9c179e\"], [0.4444444444444444, \"#bd3786\"], [0.5555555555555556, \"#d8576b\"], [0.6666666666666666, \"#ed7953\"], [0.7777777777777778, \"#fb9f3a\"], [0.8888888888888888, \"#fdca26\"], [1.0, \"#f0f921\"]]}, \"colorway\": [\"#636efa\", \"#EF553B\", \"#00cc96\", \"#ab63fa\", \"#FFA15A\", \"#19d3f3\", \"#FF6692\", \"#B6E880\", \"#FF97FF\", \"#FECB52\"], \"font\": {\"color\": \"#2a3f5f\"}, \"geo\": {\"bgcolor\": \"white\", \"lakecolor\": \"white\", \"landcolor\": \"#E5ECF6\", \"showlakes\": true, \"showland\": true, \"subunitcolor\": \"white\"}, \"hoverlabel\": {\"align\": \"left\"}, \"hovermode\": \"closest\", \"mapbox\": {\"style\": \"light\"}, \"paper_bgcolor\": \"white\", \"plot_bgcolor\": \"#E5ECF6\", \"polar\": {\"angularaxis\": {\"gridcolor\": \"white\", \"linecolor\": \"white\", \"ticks\": \"\"}, \"bgcolor\": \"#E5ECF6\", \"radialaxis\": {\"gridcolor\": \"white\", \"linecolor\": \"white\", \"ticks\": \"\"}}, \"scene\": {\"xaxis\": {\"backgroundcolor\": \"#E5ECF6\", \"gridcolor\": \"white\", \"gridwidth\": 2, \"linecolor\": \"white\", \"showbackground\": true, \"ticks\": \"\", \"zerolinecolor\": \"white\"}, \"yaxis\": {\"backgroundcolor\": \"#E5ECF6\", \"gridcolor\": \"white\", \"gridwidth\": 2, \"linecolor\": \"white\", \"showbackground\": true, \"ticks\": \"\", \"zerolinecolor\": \"white\"}, \"zaxis\": {\"backgroundcolor\": \"#E5ECF6\", \"gridcolor\": \"white\", \"gridwidth\": 2, \"linecolor\": \"white\", \"showbackground\": true, \"ticks\": \"\", \"zerolinecolor\": \"white\"}}, \"shapedefaults\": {\"line\": {\"color\": \"#2a3f5f\"}}, \"ternary\": {\"aaxis\": {\"gridcolor\": \"white\", \"linecolor\": \"white\", \"ticks\": \"\"}, \"baxis\": {\"gridcolor\": \"white\", \"linecolor\": \"white\", \"ticks\": \"\"}, \"bgcolor\": \"#E5ECF6\", \"caxis\": {\"gridcolor\": \"white\", \"linecolor\": \"white\", \"ticks\": \"\"}}, \"title\": {\"x\": 0.05}, \"xaxis\": {\"automargin\": true, \"gridcolor\": \"white\", \"linecolor\": \"white\", \"ticks\": \"\", \"title\": {\"standoff\": 15}, \"zerolinecolor\": \"white\", \"zerolinewidth\": 2}, \"yaxis\": {\"automargin\": true, \"gridcolor\": \"white\", \"linecolor\": \"white\", \"ticks\": \"\", \"title\": {\"standoff\": 15}, \"zerolinecolor\": \"white\", \"zerolinewidth\": 2}}}},\n",
       "                        {\"responsive\": true}\n",
       "                    ).then(function(){\n",
       "                            \n",
       "var gd = document.getElementById('4eef6bf2-92b0-4525-b733-16d9f4e52b8c');\n",
       "var x = new MutationObserver(function (mutations, observer) {{\n",
       "        var display = window.getComputedStyle(gd).display;\n",
       "        if (!display || display === 'none') {{\n",
       "            console.log([gd, 'removed!']);\n",
       "            Plotly.purge(gd);\n",
       "            observer.disconnect();\n",
       "        }}\n",
       "}});\n",
       "\n",
       "// Listen for the removal of the full notebook cells\n",
       "var notebookContainer = gd.closest('#notebook-container');\n",
       "if (notebookContainer) {{\n",
       "    x.observe(notebookContainer, {childList: true});\n",
       "}}\n",
       "\n",
       "// Listen for the clearing of the current output cell\n",
       "var outputEl = gd.closest('.output');\n",
       "if (outputEl) {{\n",
       "    x.observe(outputEl, {childList: true});\n",
       "}}\n",
       "\n",
       "                        })\n",
       "                };\n",
       "                });\n",
       "            </script>\n",
       "        </div>"
      ]
     },
     "metadata": {},
     "output_type": "display_data"
    }
   ],
   "source": [
    "import plotly.express as px\n",
    "px.set_mapbox_access_token('pk.eyJ1IjoiY3dlc3RuZWRnZSIsImEiOiJja2ZnMGNqNmowMGQ3MnJwdDAwdGhyc21hIn0.bo4mFps9s1wRmgjIvI7KiQ')\n",
    "fig1 = px.scatter_mapbox(hey,\n",
    "                        lat=\"lat\",\n",
    "                        lon=\"lng\", \n",
    "#                         color=\"peak_hour\", \n",
    "#                         size=\"exits_diff2\",\n",
    "                        center=dict(lat=40.7429, lon=-73.9929), zoom=9.5,\n",
    "                        color_continuous_scale=px.colors.cyclical.IceFire,\n",
    "                        size_max=10)\n",
    "\n",
    "fig1.update_layout(margin={\"r\":0,\"t\":0,\"l\":0,\"b\":0})\n",
    "fig1.write_image(\"stations.pdf\")\n",
    "fig1.show()"
   ]
  },
  {
   "cell_type": "code",
   "execution_count": 148,
   "metadata": {},
   "outputs": [
    {
     "data": {
      "application/vnd.plotly.v1+json": {
       "config": {
        "plotlyServerURL": "https://plot.ly"
       },
       "data": [
        {
         "coloraxis": "coloraxis",
         "customdata": [
          [
           "SOUTH FERRY"
          ],
          [
           "WHITEHALL S-FRY"
          ],
          [
           "CYPRESS HILLS"
          ],
          [
           "75 ST-ELDERTS"
          ],
          [
           "85 ST-FOREST PK"
          ],
          [
           "WOODHAVEN BLVD"
          ],
          [
           "104 ST"
          ],
          [
           "111 ST"
          ],
          [
           "121 ST"
          ],
          [
           "42 ST-PORT AUTH"
          ],
          [
           "42 ST-PORT AUTH"
          ],
          [
           "34 ST-PENN STA"
          ],
          [
           "34 ST-PENN STA"
          ],
          [
           "FULTON ST"
          ],
          [
           "5 AV/53 ST"
          ],
          [
           "LEXINGTON AV/53"
          ],
          [
           "LEXINGTON AV/53"
          ],
          [
           "74 ST-BROADWAY"
          ],
          [
           "JKSN HT-ROOSVLT"
          ],
          [
           "JAMAICA 179 ST"
          ],
          [
           "47-50 STS ROCK"
          ],
          [
           "42 ST-BRYANT PK"
          ],
          [
           "34 ST-HERALD SQ"
          ],
          [
           "34 ST-HERALD SQ"
          ],
          [
           "SUTPHIN-ARCHER"
          ],
          [
           "JAMAICA CENTER"
          ],
          [
           "WALL ST"
          ],
          [
           "FULTON ST"
          ],
          [
           "CHAMBERS ST"
          ],
          [
           "PARK PLACE"
          ],
          [
           "WORLD TRADE CTR"
          ],
          [
           "CHAMBERS ST"
          ],
          [
           "34 ST-PENN STA"
          ],
          [
           "TIMES SQ-42 ST"
          ],
          [
           "TIMES SQ-42 ST"
          ],
          [
           "125 ST"
          ],
          [
           "168 ST"
          ],
          [
           "DYCKMAN ST"
          ],
          [
           "207 ST"
          ],
          [
           "215 ST"
          ],
          [
           "MARBLE HILL-225"
          ],
          [
           "231 ST"
          ],
          [
           "BOWLING GREEN"
          ],
          [
           "BOWLING GREEN"
          ],
          [
           "WALL ST"
          ],
          [
           "BROOKLYN BRIDGE"
          ],
          [
           "CHAMBERS ST"
          ],
          [
           "GRD CNTRL-42 ST"
          ],
          [
           "GRD CNTRL-42 ST"
          ],
          [
           "GRD CNTRL-42 ST"
          ],
          [
           "GRD CNTRL-42 ST"
          ],
          [
           "51 ST"
          ],
          [
           "59 ST"
          ],
          [
           "59 ST"
          ],
          [
           "WOODLAWN"
          ],
          [
           "3 AV-149 ST"
          ],
          [
           "5 AVE"
          ],
          [
           "FLUSHING-MAIN"
          ],
          [
           "NEVINS ST"
          ],
          [
           "ATL AV-BARCLAY"
          ],
          [
           "BERGEN ST"
          ],
          [
           "GRAND ARMY PLAZ"
          ],
          [
           "EASTN PKWY-MUSM"
          ],
          [
           "NOSTRAND AV"
          ],
          [
           "CROWN HTS-UTICA"
          ],
          [
           "SUTTER AV-RUTLD"
          ],
          [
           "SARATOGA AV"
          ],
          [
           "ROCKAWAY AV"
          ],
          [
           "JUNIUS ST"
          ],
          [
           "PENNSYLVANIA AV"
          ],
          [
           "VAN SICLEN AV"
          ],
          [
           "NEW LOTS AV"
          ],
          [
           "ST. GEORGE"
          ],
          [
           "34 ST-HUDSON YD"
          ],
          [
           "5 AV/59 ST"
          ],
          [
           "57 ST-7 AV"
          ],
          [
           "49 ST"
          ],
          [
           "28 ST"
          ],
          [
           "23 ST"
          ],
          [
           "59 ST COLUMBUS"
          ],
          [
           "8 ST-NYU"
          ],
          [
           "PRINCE ST"
          ],
          [
           "CITY HALL"
          ],
          [
           "CORTLANDT ST"
          ],
          [
           "JAY ST-METROTEC"
          ],
          [
           "39 AV"
          ],
          [
           "36 AV"
          ],
          [
           "BROADWAY"
          ],
          [
           "30 AV"
          ],
          [
           "ASTORIA BLVD"
          ],
          [
           "ASTORIA DITMARS"
          ],
          [
           "82 ST-JACKSON H"
          ],
          [
           "JUNCTION BLVD"
          ],
          [
           "CHURCH AV"
          ],
          [
           "DEKALB AV"
          ],
          [
           "METROPOLITAN AV"
          ],
          [
           "145 ST"
          ],
          [
           "125 ST"
          ],
          [
           "BROADWAY JCT"
          ],
          [
           "167 ST"
          ],
          [
           "14 ST"
          ],
          [
           "CASTLE HILL AV"
          ],
          [
           "WESTCHESTER SQ"
          ],
          [
           "BOROUGH HALL"
          ],
          [
           "CHURCH AV"
          ],
          [
           "FLATBUSH AV-B.C"
          ],
          [
           "23 ST"
          ],
          [
           "FORDHAM RD"
          ],
          [
           "7 AV"
          ],
          [
           "PARSONS BLVD"
          ],
          [
           "169 ST"
          ],
          [
           "50 ST"
          ],
          [
           "V.CORTLANDT PK"
          ],
          [
           "CANAL ST"
          ],
          [
           "FORDHAM RD"
          ],
          [
           "MORISN AV/SNDVW"
          ],
          [
           "QUEENSBORO PLZ"
          ],
          [
           "90 ST-ELMHURST"
          ],
          [
           "FRANKLIN AV"
          ],
          [
           "KINGSTON AV"
          ],
          [
           "BROAD ST"
          ],
          [
           "175 ST"
          ],
          [
           "JAY ST-METROTEC"
          ],
          [
           "SUTPHIN BLVD"
          ],
          [
           "BERGEN ST"
          ],
          [
           "KINGS HWY"
          ],
          [
           "23 ST"
          ],
          [
           "125 ST"
          ],
          [
           "MOSHOLU PKWY"
          ],
          [
           "HUNTERS PT AV"
          ],
          [
           "NEWKIRK AV"
          ],
          [
           "SHEEPSHEAD BAY"
          ],
          [
           "MYRTLE-WYCKOFF"
          ],
          [
           "W 4 ST-WASH SQ"
          ],
          [
           "CANAL ST"
          ],
          [
           "QUEENS PLAZA"
          ],
          [
           "FOREST HILLS 71"
          ],
          [
           "DELANCEY/ESSEX"
          ],
          [
           "28 ST"
          ],
          [
           "96 ST"
          ],
          [
           "WAKEFIELD/241"
          ],
          [
           "HUNTS POINT AV"
          ],
          [
           "61 ST WOODSIDE"
          ],
          [
           "PARKSIDE AV"
          ],
          [
           "NEWKIRK PLAZA"
          ],
          [
           "AVENUE U"
          ],
          [
           "CONEY IS-STILLW"
          ],
          [
           "CANARSIE-ROCKAW"
          ],
          [
           "UTICA AV"
          ],
          [
           "TREMONT AV"
          ],
          [
           "KINGSBRIDGE RD"
          ],
          [
           "BEDFORD PK BLVD"
          ],
          [
           "NORWOOD 205 ST"
          ],
          [
           "KEW GARDENS"
          ],
          [
           "116 ST-COLUMBIA"
          ],
          [
           "ASTOR PL"
          ],
          [
           "KINGSBRIDGE RD"
          ],
          [
           "ELDER AV"
          ],
          [
           "14 ST"
          ],
          [
           "6 AV"
          ],
          [
           "66 ST-LINCOLN"
          ],
          [
           "TOMPKINSVILLE"
          ],
          [
           "79 ST"
          ],
          [
           "86 ST"
          ],
          [
           "96 ST"
          ],
          [
           "137 ST CITY COL"
          ],
          [
           "14 ST-UNION SQ"
          ],
          [
           "7 AV"
          ],
          [
           "BRIGHTON BEACH"
          ],
          [
           "INWOOD-207 ST"
          ],
          [
           "181 ST"
          ],
          [
           "14 ST"
          ],
          [
           "8 AV"
          ],
          [
           "33 ST"
          ],
          [
           "68ST-HUNTER CO"
          ],
          [
           "77 ST"
          ],
          [
           "86 ST"
          ],
          [
           "103 ST"
          ],
          [
           "110 ST"
          ],
          [
           "116 ST"
          ],
          [
           "BEDFORD PK BLVD"
          ],
          [
           "CORTELYOU RD"
          ],
          [
           "DYCKMAN ST"
          ],
          [
           "86 ST"
          ],
          [
           "81 ST-MUSEUM"
          ],
          [
           "50 ST"
          ],
          [
           "CHRISTOPHER ST"
          ],
          [
           "23 ST"
          ],
          [
           "103 ST"
          ],
          [
           "CATHEDRAL PKWY"
          ],
          [
           "157 ST"
          ],
          [
           "BLEECKER ST"
          ],
          [
           "161/YANKEE STAD"
          ],
          [
           "PROSPECT PARK"
          ],
          [
           "36 ST"
          ],
          [
           "NOSTRAND AV"
          ],
          [
           "KINGSTON-THROOP"
          ],
          [
           "EUCLID AV"
          ],
          [
           "WOODHAVEN BLVD"
          ],
          [
           "63 DR-REGO PARK"
          ],
          [
           "23 ST"
          ],
          [
           "CHURCH AV"
          ],
          [
           "149/GRAND CONC"
          ],
          [
           "125 ST"
          ],
          [
           "135 ST"
          ],
          [
           "103 ST-CORONA"
          ],
          [
           "STERLING ST"
          ],
          [
           "BEVERLY RD"
          ],
          [
           "KINGS HWY"
          ],
          [
           "59 ST"
          ],
          [
           "BAY RIDGE AV"
          ],
          [
           "77 ST"
          ],
          [
           "86 ST"
          ],
          [
           "BAY RIDGE-95 ST"
          ],
          [
           "HOYT-SCHER"
          ],
          [
           "ELMHURST AV"
          ],
          [
           "67 AV"
          ],
          [
           "CARROLL ST"
          ],
          [
           "167 ST"
          ],
          [
           "PARKCHESTER"
          ],
          [
           "46 ST BLISS ST"
          ],
          [
           "CLARK ST"
          ],
          [
           "HOYT ST"
          ],
          [
           "GUN HILL RD"
          ],
          [
           "RECTOR ST"
          ],
          [
           "AVENUE J"
          ],
          [
           "AVENUE M"
          ],
          [
           "NECK RD"
          ],
          [
           "UNION ST"
          ],
          [
           "45 ST"
          ],
          [
           "53 ST"
          ],
          [
           "50 ST"
          ],
          [
           "BEDFORD AV"
          ],
          [
           "DEKALB AV"
          ],
          [
           "182-183 STS"
          ],
          [
           "STEINWAY ST"
          ],
          [
           "GREENPOINT AV"
          ],
          [
           "GRAND ST"
          ],
          [
           "15 ST-PROSPECT"
          ],
          [
           "18 AV"
          ],
          [
           "170 ST"
          ],
          [
           "BURNSIDE AV"
          ],
          [
           "ST LAWRENCE AV"
          ],
          [
           "PROSPECT AV"
          ],
          [
           "55 ST"
          ],
          [
           "1 AV"
          ],
          [
           "GRAHAM AV"
          ],
          [
           "GRAND ST"
          ],
          [
           "96 ST"
          ],
          [
           "HIGH ST"
          ],
          [
           "174-175 STS"
          ],
          [
           "GRAND-NEWTOWN"
          ],
          [
           "BRIARWOOD"
          ],
          [
           "NASSAU AV"
          ],
          [
           "EAST BROADWAY"
          ],
          [
           "4 AV-9 ST"
          ],
          [
           "4AV-9 ST"
          ],
          [
           "ROOSEVELT ISLND"
          ],
          [
           "181 ST"
          ],
          [
           "40 ST LOWERY ST"
          ],
          [
           "BEVERLEY ROAD"
          ],
          [
           "AVENUE H"
          ],
          [
           "OCEAN PKWY"
          ],
          [
           "MONTROSE AV"
          ],
          [
           "HALSEY ST"
          ],
          [
           "46 ST"
          ],
          [
           "LORIMER ST"
          ],
          [
           "METROPOLITAN AV"
          ],
          [
           "BEDFORD-NOSTRAN"
          ],
          [
           "SMITH-9 ST"
          ],
          [
           "AVENUE X"
          ],
          [
           "28 ST"
          ],
          [
           "145 ST"
          ],
          [
           "191 ST"
          ],
          [
           "183 ST"
          ],
          [
           "VERNON-JACKSON"
          ],
          [
           "PRESIDENT ST"
          ],
          [
           "25 ST"
          ],
          [
           "JEFFERSON ST"
          ],
          [
           "190 ST"
          ],
          [
           "72 ST"
          ],
          [
           "SPRING ST"
          ],
          [
           "LAFAYETTE AV"
          ],
          [
           "CLINTON-WASH AV"
          ],
          [
           "FAR ROCKAWAY"
          ],
          [
           "MYRTLE-WILLOUGH"
          ],
          [
           "CLASSON AV"
          ],
          [
           "7 AV"
          ],
          [
           "FT HAMILTON PKY"
          ],
          [
           "HOUSTON ST"
          ],
          [
           "33 ST-RAWSON ST"
          ],
          [
           "BAYCHESTER AV"
          ],
          [
           "34 ST-PENN STA"
          ],
          [
           "MORGAN AV"
          ],
          [
           "WILSON AV"
          ],
          [
           "163 ST-AMSTERDM"
          ],
          [
           "FRANKLIN AV"
          ],
          [
           "NORTHERN BLVD"
          ],
          [
           "BROADWAY"
          ],
          [
           "2 AV"
          ],
          [
           "YORK ST"
          ],
          [
           "57 ST"
          ],
          [
           "21 ST-QNSBRIDGE"
          ],
          [
           "RECTOR ST"
          ],
          [
           "CORTLANDT ST"
          ],
          [
           "WTC-CORTLANDT"
          ],
          [
           "238 ST"
          ],
          [
           "138/GRAND CONC"
          ],
          [
           "MT EDEN AV"
          ],
          [
           "176 ST"
          ],
          [
           "111 ST"
          ],
          [
           "BOWERY"
          ],
          [
           "W 8 ST-AQUARIUM"
          ],
          [
           "BUSHWICK AV"
          ],
          [
           "103 ST"
          ],
          [
           "155 ST"
          ],
          [
           "FLUSHING AV"
          ],
          [
           "CLINTON-WASH AV"
          ],
          [
           "FULTON ST"
          ],
          [
           "LEXINGTON AV/63"
          ],
          [
           "CANAL ST"
          ],
          [
           "18 ST"
          ],
          [
           "SPRING ST"
          ],
          [
           "CENTRAL PK N110"
          ],
          [
           "116 ST"
          ],
          [
           "WHITLOCK AV"
          ],
          [
           "ZEREGA AV"
          ],
          [
           "52 ST"
          ],
          [
           "METS-WILLETS PT"
          ],
          [
           "MORRIS PARK"
          ],
          [
           "3 AV"
          ],
          [
           "155 ST"
          ],
          [
           "135 ST"
          ],
          [
           "116 ST"
          ],
          [
           "CATHEDRAL PKWY"
          ],
          [
           "BEACH 67 ST"
          ],
          [
           "BEACH 60 ST"
          ],
          [
           "BEACH 44 ST"
          ],
          [
           "BEACH 36 ST"
          ],
          [
           "36 ST"
          ],
          [
           "65 ST"
          ],
          [
           "75 AV"
          ],
          [
           "JAMAICA VAN WK"
          ],
          [
           "FRANKLIN ST"
          ],
          [
           "145 ST"
          ],
          [
           "HARLEM 148 ST"
          ],
          [
           "COURT SQ"
          ],
          [
           "69 ST"
          ],
          [
           "ATLANTIC AV"
          ],
          [
           "SUTTER AV"
          ],
          [
           "LIVONIA AV"
          ],
          [
           "HEWES ST"
          ],
          [
           "LORIMER ST"
          ],
          [
           "104 ST"
          ],
          [
           "111 ST"
          ],
          [
           "OZONE PK LEFFRT"
          ],
          [
           "AQUEDUCT N.COND"
          ],
          [
           "BEACH 25 ST"
          ],
          [
           "COURT SQ"
          ],
          [
           "COURT SQ-23 ST"
          ],
          [
           "21 ST"
          ],
          [
           "PELHAM PKWY"
          ],
          [
           "ALLERTON AV"
          ],
          [
           "BURKE AV"
          ],
          [
           "GUN HILL RD"
          ],
          [
           "219 ST"
          ],
          [
           "225 ST"
          ],
          [
           "233 ST"
          ],
          [
           "9 AV"
          ],
          [
           "FT HAMILTON PKY"
          ],
          [
           "71 ST"
          ],
          [
           "79 ST"
          ],
          [
           "18 AV"
          ],
          [
           "20 AV"
          ],
          [
           "BAY PKWY"
          ],
          [
           "NEW LOTS"
          ],
          [
           "EAST 105 ST"
          ],
          [
           "FLUSHING AV"
          ],
          [
           "MYRTLE AV"
          ],
          [
           "KOSCIUSZKO ST"
          ],
          [
           "GATES AV"
          ],
          [
           "HALSEY ST"
          ],
          [
           "GRANT AV"
          ],
          [
           "80 ST"
          ],
          [
           "88 ST"
          ],
          [
           "ROCKAWAY BLVD"
          ],
          [
           "174 ST"
          ],
          [
           "WEST FARMS SQ"
          ],
          [
           "E 180 ST"
          ],
          [
           "BRONX PARK EAST"
          ],
          [
           "8 AV"
          ],
          [
           "FT HAMILTON PKY"
          ],
          [
           "18 AV"
          ],
          [
           "20 AV"
          ],
          [
           "BAY PKWY"
          ],
          [
           "KINGS HWY"
          ],
          [
           "AVENUE U"
          ],
          [
           "86 ST"
          ],
          [
           "NEW UTRECHT AV"
          ],
          [
           "25 AV"
          ],
          [
           "BAY 50 ST"
          ],
          [
           "CENTRAL AV"
          ],
          [
           "SENECA AVE"
          ],
          [
           "FOREST AVE"
          ],
          [
           "FRESH POND RD"
          ],
          [
           "JACKSON AV"
          ],
          [
           "PROSPECT AV"
          ],
          [
           "INTERVALE AV"
          ],
          [
           "SIMPSON ST"
          ],
          [
           "FREEMAN ST"
          ],
          [
           "PARK PLACE"
          ],
          [
           "BOTANIC GARDEN"
          ],
          [
           "KNICKERBOCKER"
          ],
          [
           "HOWARD BCH JFK"
          ],
          [
           "BROAD CHANNEL"
          ],
          [
           "BEACH 90 ST"
          ],
          [
           "BEACH 98 ST"
          ],
          [
           "BEACH 105 ST"
          ],
          [
           "ROCKAWAY PARK B"
          ],
          [
           "DITMAS AV"
          ],
          [
           "AVENUE I"
          ],
          [
           "BAY PKWY"
          ],
          [
           "AVENUE N"
          ],
          [
           "AVENUE P"
          ],
          [
           "AVENUE U"
          ],
          [
           "NEPTUNE AV"
          ],
          [
           "MIDDLETOWN RD"
          ],
          [
           "BUHRE AV"
          ],
          [
           "PELHAM BAY PARK"
          ],
          [
           "PELHAM PKWY"
          ],
          [
           "EASTCHSTER/DYRE"
          ],
          [
           "CHAUNCEY ST"
          ],
          [
           "ALABAMA AV"
          ],
          [
           "VAN SICLEN AV"
          ],
          [
           "CLEVELAND ST"
          ],
          [
           "NORWOOD AV"
          ],
          [
           "CRESCENT ST"
          ],
          [
           "RALPH AV"
          ],
          [
           "ROCKAWAY AV"
          ],
          [
           "LIBERTY AV"
          ],
          [
           "VAN SICLEN AVE"
          ],
          [
           "SHEPHERD AV"
          ],
          [
           "170 ST"
          ],
          [
           "NEREID AV"
          ],
          [
           "3 AV 138 ST"
          ],
          [
           "BROOK AV"
          ],
          [
           "CYPRESS AV"
          ],
          [
           "E 143/ST MARY'S"
          ],
          [
           "E 149 ST"
          ],
          [
           "LONGWOOD AV"
          ],
          [
           "WINTHROP ST"
          ],
          [
           "72 ST"
          ],
          [
           "23 ST"
          ],
          [
           "25 ST"
          ],
          [
           "HOYT ST"
          ],
          [
           "ORCHARD BEACH"
          ],
          [
           "MARCY AV"
          ],
          [
           "B'WAY-LAFAYETTE"
          ],
          [
           "CANAL ST"
          ],
          [
           "CANAL ST"
          ],
          [
           "AQUEDUCT RACETR"
          ],
          [
           "RIT-MANHATTAN"
          ],
          [
           "RIT-ROOSEVELT"
          ],
          [
           "HOWARD BCH JFK"
          ],
          [
           "JFK JAMAICA CT1"
          ],
          [
           "PATH NEW WTC"
          ],
          [
           "PATH WTC 2"
          ],
          [
           "THIRTY ST"
          ],
          [
           "THIRTY THIRD ST"
          ],
          [
           "TWENTY THIRD ST"
          ],
          [
           "EXCHANGE PLACE"
          ],
          [
           "HARRISON"
          ],
          [
           "14TH STREET"
          ],
          [
           "PAVONIA/NEWPORT"
          ],
          [
           "9TH STREET"
          ],
          [
           "CHRISTOPHER ST"
          ],
          [
           "NEWARK BM BW"
          ],
          [
           "NEWARK C"
          ],
          [
           "NEWARK HM HE"
          ],
          [
           "NEWARK HW BMEBE"
          ],
          [
           "LACKAWANNA"
          ],
          [
           "GROVE STREET"
          ],
          [
           "JOURNAL SQUARE"
          ],
          [
           "72 ST-2 AVE"
          ],
          [
           "86 ST-2 AVE"
          ],
          [
           "96 ST-2 AVE"
          ]
         ],
         "hovertemplate": "total_turns=%{z}<br>lat=%{lat}<br>lng=%{lon}<br>STATION=%{customdata[0]}<extra></extra>",
         "lat": [
          40.703082,
          40.703082,
          40.689945,
          40.69132000000001,
          40.692304,
          40.693866,
          40.69518400000001,
          40.697405,
          40.700536,
          40.757303,
          40.757303,
          40.752247,
          40.752247,
          40.709938,
          40.760179,
          40.75753,
          40.75753,
          40.746655,
          40.746655,
          40.712622,
          40.75865200000001,
          40.754198,
          40.749533,
          40.749533,
          40.700488,
          40.702131,
          40.706864,
          40.709938,
          40.71433,
          40.71433,
          40.71433,
          40.715436,
          40.750329,
          40.755905,
          40.755905,
          40.815596,
          40.840778,
          40.860523,
          40.864653,
          40.869359,
          40.874551,
          40.878867,
          40.704782,
          40.704782,
          40.707466,
          40.71315900000001,
          40.71315900000001,
          40.751849,
          40.751849,
          40.751849,
          40.751849,
          40.757108,
          40.762796,
          40.762796,
          40.885973,
          40.816132,
          40.753824,
          40.75957800000001,
          40.688269,
          40.684063,
          40.680801,
          40.675219,
          40.672013,
          40.669735,
          40.669279,
          40.664591,
          40.661466,
          40.662541,
          40.663419,
          40.664884,
          40.665405,
          40.666252,
          40.643738,
          40.755,
          40.764909,
          40.764755,
          40.760139,
          40.745574,
          40.741006,
          40.76811,
          40.730348,
          40.724332,
          40.713086,
          40.710662,
          40.692182,
          40.753076,
          40.756977,
          40.761959,
          40.766843,
          40.770426,
          40.774984,
          40.747647,
          40.749143,
          40.650494,
          40.690612,
          40.711353,
          40.824787,
          40.811056,
          40.678848,
          40.833773,
          40.738007,
          40.834255,
          40.839892,
          40.692404,
          40.650843,
          40.632836,
          40.745924,
          40.862803,
          40.762877,
          40.707564,
          40.710459,
          40.761675,
          40.889185,
          40.71823300000001,
          40.862941,
          40.829495,
          40.750508,
          40.748541,
          40.670711,
          40.669409,
          40.706539,
          40.847369,
          40.692338,
          40.705416,
          40.686154,
          40.603234,
          40.740088,
          40.804406,
          40.87963,
          40.74238,
          40.639961,
          40.58681,
          40.699707,
          40.732251,
          40.720852,
          40.748948,
          40.721681,
          40.71838,
          40.743095,
          40.785822,
          40.903085,
          40.820889,
          40.745623,
          40.655053,
          40.63505900000001,
          40.599307,
          40.577423,
          40.64666,
          40.679279,
          40.850307,
          40.866974,
          40.873026,
          40.874827,
          40.714444,
          40.80819,
          40.730056,
          40.867899,
          40.828894,
          40.737348,
          40.737348,
          40.773424,
          40.636948,
          40.783872,
          40.788844,
          40.79388,
          40.821994,
          40.734836,
          40.677172,
          40.577961,
          40.868045,
          40.851686,
          40.740388,
          40.740388,
          40.746119,
          40.768143,
          40.773636,
          40.779485,
          40.790582,
          40.795066,
          40.798574,
          40.873399,
          40.640905,
          40.865286,
          40.785822,
          40.781435,
          40.762439,
          40.7331,
          40.74407100000001,
          40.799354,
          40.804032,
          40.833879,
          40.725665,
          40.827888,
          40.661596,
          40.65515,
          40.68041,
          40.679921,
          40.675382,
          40.73308,
          40.729869,
          40.742868,
          40.644039,
          40.818429,
          40.808076,
          40.814459,
          40.749858,
          40.66275200000001,
          40.645089,
          40.608691,
          40.641426,
          40.634945,
          40.629702,
          40.622715,
          40.616624,
          40.688465,
          40.742445,
          40.726462,
          40.680231,
          40.835535,
          40.833246,
          40.743079,
          40.697356,
          40.690547,
          40.877796,
          40.707222,
          40.625028,
          40.617568,
          40.59523400000001,
          40.67730200000001,
          40.648866,
          40.644959,
          40.636232,
          40.717241,
          40.703839,
          40.856085,
          40.756864,
          40.731324,
          40.718542,
          40.660376,
          40.629881,
          40.840048,
          40.85339000000001,
          40.8315,
          40.665438,
          40.631412,
          40.730901,
          40.71459,
          40.711874,
          40.791654,
          40.699316,
          40.845892,
          40.736998,
          40.709174,
          40.724608,
          40.713647,
          40.67032,
          40.67032,
          40.759123,
          40.84949500000001,
          40.743778000000006,
          40.643982,
          40.629164,
          40.576298,
          40.707889,
          40.695607,
          40.756312,
          40.713875,
          40.713875,
          40.689636,
          40.673714,
          40.589547,
          40.747224,
          40.826426,
          40.855176,
          40.858389,
          40.742624,
          40.667879,
          40.660481,
          40.706636,
          40.859022,
          40.775545,
          40.726202,
          40.68617,
          40.683263,
          40.603983,
          40.694568,
          40.688855,
          40.666276,
          40.650722,
          40.728202,
          40.74455800000001,
          40.878656,
          40.750264,
          40.706148,
          40.688676,
          40.835957,
          40.681159,
          40.752898,
          40.7061,
          40.723291,
          40.699756,
          40.763625,
          40.7541,
          40.70784,
          40.710454,
          40.710454,
          40.884821,
          40.813208,
          40.844406,
          40.848635,
          40.75176,
          40.720315,
          40.576152,
          40.682558,
          40.796105,
          40.829934,
          40.700374,
          40.688123,
          40.68713,
          40.764763,
          40.722819,
          40.741096,
          40.722397,
          40.79911,
          40.802098,
          40.826508,
          40.83646,
          40.744103,
          40.754622,
          40.854137,
          40.733243,
          40.830551,
          40.817902,
          40.805072,
          40.800637,
          40.590867,
          40.592334,
          40.593214,
          40.595381,
          40.75202,
          40.749663,
          40.718477,
          40.702566,
          40.719323,
          40.820402,
          40.823877,
          40.747029,
          40.746325,
          40.675496,
          40.669376,
          40.663801,
          40.706994,
          40.703855,
          40.681745,
          40.684364,
          40.685975,
          40.66823400000001,
          40.600138,
          40.747257,
          40.747257,
          40.743973,
          40.857188,
          40.865481,
          40.871387,
          40.877796,
          40.883767,
          40.887887,
          40.893386,
          40.646343,
          40.640872,
          40.619588,
          40.613513,
          40.607958,
          40.604798,
          40.601898,
          40.658748,
          40.650625,
          40.700244,
          40.697266,
          40.693329,
          40.689652,
          40.68617,
          40.677107,
          40.679369,
          40.679857,
          40.680429,
          40.837382,
          40.840097,
          40.841882,
          40.848797,
          40.635011,
          40.631428,
          40.620728,
          40.617373,
          40.612006,
          40.603967,
          40.597482,
          40.592676,
          40.625419,
          40.597873,
          40.588879,
          40.697673,
          40.702798,
          40.704424,
          40.706181,
          40.816505,
          40.81939600000001,
          40.822172,
          40.82417,
          40.829966,
          40.67491,
          40.670499,
          40.698666,
          40.660476,
          40.608693,
          40.588032,
          40.585514,
          40.583542,
          40.580454,
          40.63615,
          40.625305,
          40.620907,
          40.615174,
          40.609147,
          40.596065,
          40.580992,
          40.843635,
          40.846817,
          40.852465,
          40.858973,
          40.888244,
          40.682867,
          40.677107,
          40.678018,
          40.679938,
          40.681598,
          40.68320900000001,
          40.678815,
          40.67836,
          40.674552,
          40.672786,
          40.674161,
          40.839301,
          40.898382,
          40.810512,
          40.808044,
          40.805737,
          40.808742,
          40.812104,
          40.816083,
          40.656648,
          40.778575,
          40.742981,
          40.66043,
          40.690545,
          40.852417,
          40.708377,
          40.725297,
          40.718697,
          40.718697,
          40.668221,
          40.761268,
          40.7574,
          40.660476,
          40.643942,
          40.7126,
          40.7126,
          40.7491,
          40.7491,
          40.7429,
          40.7162,
          40.7384,
          40.7374,
          40.7267,
          40.7342,
          40.7331,
          40.6895,
          40.6895,
          40.6895,
          40.6895,
          40.735,
          40.7197,
          40.7326,
          40.7686869,
          40.76868620000001,
          40.7807028
         ],
         "lon": [
          -74.01298299999998,
          -74.01298299999998,
          -73.872564,
          -73.867135,
          -73.860151,
          -73.851568,
          -73.844326,
          -73.836354,
          -73.82838199999998,
          -73.98978699999998,
          -73.98978699999998,
          -73.99345600000002,
          -73.99345600000002,
          -74.007983,
          -73.975196,
          -73.969102,
          -73.969102,
          -73.891361,
          -73.891361,
          -73.783815,
          -73.981311,
          -73.984573,
          -73.987899,
          -73.987899,
          -73.80793299999998,
          -73.80111,
          -74.009056,
          -74.007983,
          -74.008563,
          -74.008563,
          -74.008563,
          -74.009335,
          -73.991096,
          -73.98650400000002,
          -73.98650400000002,
          -73.958395,
          -73.94009100000002,
          -73.925575,
          -73.918719,
          -73.915329,
          -73.909879,
          -73.90485799999998,
          -74.014099,
          -74.014099,
          -74.01186700000002,
          -74.003917,
          -74.003917,
          -73.976945,
          -73.976945,
          -73.976945,
          -73.976945,
          -73.97187,
          -73.967686,
          -73.967686,
          -73.878851,
          -73.917754,
          -73.981966,
          -73.830056,
          -73.980453,
          -73.977417,
          -73.97513199999999,
          -73.971012,
          -73.96436,
          -73.950455,
          -73.932967,
          -73.922668,
          -73.91631600000002,
          -73.90876300000002,
          -73.902454,
          -73.894258,
          -73.889451,
          -73.884087,
          -74.073622,
          -74.001,
          -73.973372,
          -73.980646,
          -73.984112,
          -73.988682,
          -73.989315,
          -73.981891,
          -73.992705,
          -73.99768399999998,
          -74.007232,
          -74.011052,
          -73.985935,
          -73.93271,
          -73.929373,
          -73.925382,
          -73.921423,
          -73.917614,
          -73.91206700000002,
          -73.883786,
          -73.869452,
          -73.962836,
          -73.981848,
          -73.88958000000002,
          -73.944232,
          -73.952386,
          -73.904139,
          -73.91843,
          -73.99838100000002,
          -73.85122199999998,
          -73.842952,
          -73.990151,
          -73.949575,
          -73.947642,
          -73.998005,
          -73.901034,
          -73.98159,
          -73.803326,
          -73.7936,
          -73.983908,
          -73.898549,
          -74.000323,
          -73.901199,
          -73.87455899999998,
          -73.940177,
          -73.876791,
          -73.958051,
          -73.942173,
          -74.011052,
          -73.939683,
          -73.987342,
          -73.810562,
          -73.990881,
          -73.972342,
          -73.986429,
          -73.93745200000002,
          -73.88466600000002,
          -73.94888900000002,
          -73.948352,
          -73.954167,
          -73.91181,
          -74.000559,
          -74.005237,
          -73.93719399999998,
          -73.84439,
          -73.987813,
          -73.984251,
          -73.95097,
          -73.85059100000002,
          -73.890567,
          -73.902969,
          -73.96122700000002,
          -73.962793,
          -73.955916,
          -73.981225,
          -73.901832,
          -73.930585,
          -73.905244,
          -73.893485,
          -73.88691899999998,
          -73.878872,
          -73.830979,
          -73.964124,
          -73.99104200000002,
          -73.897326,
          -73.879559,
          -73.9969,
          -73.9969,
          -73.98223399999998,
          -74.07482399999998,
          -73.979938,
          -73.97599,
          -73.972363,
          -73.95367399999998,
          -73.990688,
          -73.972514,
          -73.96180600000002,
          -73.919921,
          -73.937967,
          -74.002104,
          -74.002104,
          -73.981826,
          -73.964016,
          -73.959875,
          -73.955541,
          -73.947473,
          -73.94429699999998,
          -73.94159300000003,
          -73.890084,
          -73.96386600000002,
          -73.92698,
          -73.968952,
          -73.972149,
          -73.985989,
          -74.0071,
          -73.99562399999998,
          -73.968329,
          -73.96674200000002,
          -73.944726,
          -73.995645,
          -73.925736,
          -73.962193,
          -74.003477,
          -73.950326,
          -73.94085799999998,
          -73.87207,
          -73.869259,
          -73.86161,
          -73.99277,
          -73.979541,
          -73.926927,
          -73.94590600000002,
          -73.94099200000002,
          -73.862672,
          -73.95060500000002,
          -73.948975,
          -73.95777199999998,
          -74.017972,
          -74.023411,
          -74.025514,
          -74.028368,
          -74.030964,
          -73.985474,
          -73.882005,
          -73.85263,
          -73.99498,
          -73.92138,
          -73.860805,
          -73.918419,
          -73.992888,
          -73.985066,
          -73.866341,
          -74.013391,
          -73.960819,
          -73.95936,
          -73.95509,
          -73.983135,
          -74.010086,
          -74.014034,
          -73.994765,
          -73.956614,
          -73.91844,
          -73.900695,
          -73.920736,
          -73.954425,
          -73.994164,
          -73.979509,
          -73.977149,
          -73.917775,
          -73.907733,
          -73.867623,
          -73.992856,
          -73.995473,
          -73.981719,
          -73.94410400000002,
          -73.94067,
          -73.964682,
          -73.990474,
          -73.910136,
          -73.87724200000002,
          -73.820593,
          -73.95127099999998,
          -73.990152,
          -73.98875699999998,
          -73.98875699999998,
          -73.953266,
          -73.93363199999997,
          -73.923998,
          -73.96451,
          -73.961678,
          -73.968523,
          -73.940005,
          -73.904021,
          -73.913333,
          -73.951592,
          -73.951592,
          -73.953459,
          -73.996139,
          -73.974295,
          -73.99336,
          -73.950412,
          -73.929384,
          -73.903828,
          -73.95354499999998,
          -73.950648,
          -73.998059,
          -73.922925,
          -73.93419,
          -73.976398,
          -74.00362700000002,
          -73.973908,
          -73.965838,
          -73.755383,
          -73.949046,
          -73.960025,
          -73.980324,
          -73.975818,
          -74.005344,
          -73.930993,
          -73.838596,
          -73.99298399999998,
          -73.93316,
          -73.903999,
          -73.939898,
          -73.956056,
          -73.905973,
          -73.95034799999998,
          -73.989873,
          -73.98689,
          -73.977449,
          -73.94258,
          -74.01369100000002,
          -74.011324,
          -74.011324,
          -73.900759,
          -73.929877,
          -73.914621,
          -73.912497,
          -73.855183,
          -73.994014,
          -73.975925,
          -73.905501,
          -73.961399,
          -73.938632,
          -73.950284,
          -73.96674200000002,
          -73.975346,
          -73.966291,
          -74.00626700000002,
          -73.997877,
          -73.997211,
          -73.95180699999997,
          -73.949625,
          -73.886425,
          -73.846471,
          -73.912497,
          -73.845625,
          -73.860977,
          -73.987169,
          -73.941486,
          -73.947644,
          -73.954833,
          -73.958201,
          -73.797011,
          -73.788493,
          -73.776433,
          -73.768194,
          -73.92874,
          -73.898485,
          -73.837223,
          -73.816859,
          -74.006953,
          -73.93631500000002,
          -73.93644300000003,
          -73.94537,
          -73.896403,
          -73.902819,
          -73.902047,
          -73.900444,
          -73.95348100000002,
          -73.947387,
          -73.837631,
          -73.832181,
          -73.824713,
          -73.834058,
          -73.76151999999998,
          -73.945112,
          -73.945112,
          -73.949876,
          -73.86760699999998,
          -73.867393,
          -73.867135,
          -73.86625500000002,
          -73.862736,
          -73.860505,
          -73.857265,
          -73.994551,
          -73.994229,
          -73.99884200000002,
          -74.00064499999998,
          -74.00178199999998,
          -73.998456,
          -73.993821,
          -73.899472,
          -73.899558,
          -73.94165799999998,
          -73.935692,
          -73.928826,
          -73.92228100000001,
          -73.916337,
          -73.865376,
          -73.85896,
          -73.85149200000002,
          -73.843853,
          -73.887659,
          -73.879774,
          -73.873551,
          -73.868465,
          -74.011717,
          -74.005387,
          -73.990388,
          -73.985088,
          -73.98200899999998,
          -73.98066800000002,
          -73.979359,
          -73.978243,
          -73.99663199999998,
          -73.98695500000002,
          -73.98362900000002,
          -73.927131,
          -73.907776,
          -73.903077,
          -73.89591,
          -73.907797,
          -73.90146700000003,
          -73.89674699999998,
          -73.89322800000002,
          -73.891876,
          -73.95779399999998,
          -73.958759,
          -73.919685,
          -73.830301,
          -73.816068,
          -73.813684,
          -73.820143,
          -73.82643,
          -73.837459,
          -73.978179,
          -73.975732,
          -73.975453,
          -73.974166,
          -73.97298599999998,
          -73.973329,
          -73.974531,
          -73.836687,
          -73.832545,
          -73.828125,
          -73.855355,
          -73.83085,
          -73.91048,
          -73.898871,
          -73.891726,
          -73.884687,
          -73.880074,
          -73.873765,
          -73.920801,
          -73.911939,
          -73.89655400000002,
          -73.890438,
          -73.88076099999998,
          -73.91335500000002,
          -73.854389,
          -73.926165,
          -73.919234,
          -73.91447099999998,
          -73.90769,
          -73.904085,
          -73.89605999999998,
          -73.950198,
          -73.981912,
          -73.992727,
          -73.99794399999998,
          -73.985065,
          -73.828082,
          -73.957751,
          -73.996204,
          -74.000977,
          -74.000977,
          -73.834026,
          -73.964016,
          -73.954006,
          -73.830301,
          -73.78235600000002,
          -74.0099,
          -74.0099,
          -73.9882,
          -73.9882,
          -73.9929,
          -74.0329,
          -74.1557,
          -73.9969,
          -74.0348,
          -73.9988,
          -74.0071,
          -74.1745,
          -74.1745,
          -74.1745,
          -74.1745,
          -74.0275,
          -74.0431,
          -74.0627,
          -73.9584429,
          -73.9584429,
          -73.9494105
         ],
         "name": "",
         "radius": 13,
         "subplot": "mapbox",
         "type": "densitymapbox",
         "z": [
          188.15239477503627,
          321.20362473347546,
          105.40108401084011,
          164.3548387096774,
          188.4616935483871,
          123.13789581205312,
          86.79865771812081,
          145.60772357723576,
          60.548048048048045,
          503.17225286380994,
          516.0014405070585,
          412.5184943429069,
          342.4541595925297,
          319.3008935824533,
          345.3538581449727,
          210.55161290322582,
          412.38017808749515,
          255.80650406504066,
          562.6878083157153,
          173.19753086419752,
          393.273640167364,
          524.1581790123457,
          547.2923621648963,
          648.6799516908212,
          492.85146053449347,
          439.3551215623755,
          288.6449165402124,
          214.2175170419335,
          274.0408031088083,
          194.1984126984127,
          263.60940695296523,
          352.9286761113825,
          442.3984877126654,
          552.9970384995064,
          580.96192,
          469.664,
          303.61520947176683,
          276.552,
          243.05962059620597,
          94.2459349593496,
          198.91027732463294,
          168.46031746031747,
          239.85302390998592,
          478.961262553802,
          168.3030650243483,
          312.2043902439024,
          217.3652575957728,
          473.55085324232084,
          614.5633112907176,
          702.8977159880834,
          454.57598499061913,
          269.57780119423956,
          368.1224028906956,
          333.4887640449438,
          262.9808,
          283.0151162790698,
          330.4979658258747,
          589.452528837622,
          308.94736842105266,
          249.27249618708694,
          122.24269889224573,
          370.47,
          218.59571428571428,
          410.4543010752688,
          374.7075045207957,
          338.758064516129,
          320.1739837398374,
          252.82767978290366,
          173.4491869918699,
          247.26190476190476,
          226.1219512195122,
          284.1137566137566,
          75.49640512660206,
          159.65042892156862,
          303.17171129220026,
          541.0667414469995,
          323.4420731707317,
          431.4374445430346,
          381.99267605633804,
          482.2087890625,
          357.37719298245617,
          420.8042071197411,
          161.10659439927733,
          143.24983119513843,
          112.83258325832583,
          167.77235772357724,
          377.8917682926829,
          474.16007532956684,
          555.7543453070683,
          417.0949913644214,
          513.991935483871,
          494.52041633306646,
          520.9078590785908,
          358.2717201166181,
          318.295177222545,
          134.95762711864407,
          787.1203953279424,
          482.92257742257743,
          356.56418918918916,
          249.08762886597938,
          344.9487776484284,
          271.0587557603687,
          577.7018970189702,
          314.54397590361447,
          197.16162570888469,
          227.10012836970475,
          366.3615176151761,
          259.8877221324717,
          489.1494565217391,
          164.62401150251617,
          146.73144687666846,
          387.08662477558346,
          419.9593495934959,
          750.912,
          327.99457994579944,
          300.9334239130435,
          511.5703125,
          411.5877034358047,
          387.4205714285714,
          426.87566137566137,
          107.63266666666667,
          181.7310379241517,
          333.5656445370646,
          106.72845528455285,
          198.13711151736746,
          148.61717921527043,
          321.52382528127066,
          532.1409244644871,
          182.3678048780488,
          169.0808,
          200.06696832579186,
          425.4175925925926,
          388.3208722741433,
          654.151948051948,
          294.2336608287057,
          152.16818950930627,
          253.15241379310345,
          312.74565381708237,
          310.2456140350877,
          525.5115384615384,
          286.2650406504065,
          273.78577336641854,
          430.1439342015079,
          550.6829268292682,
          608.6861788617886,
          262.479674796748,
          210.09008297115764,
          299.98464317976516,
          341.6423632935261,
          272.40525838621943,
          170.65746971736203,
          204.20900321543408,
          272.2858585858586,
          360.99160335865656,
          597.4733333333334,
          423.932123655914,
          435.9837398373984,
          320.42818428184285,
          300.0348300461603,
          202.40853658536585,
          266.6448497854077,
          16.994292237442924,
          383.1270125223614,
          380.96214689265537,
          385.54023668639053,
          387.9569105691057,
          742.3798801900434,
          721.3760162601626,
          223.11498257839722,
          169.6339648173207,
          461.2457516339869,
          556.0060501296456,
          478.5880376344086,
          360.70665171898355,
          461.06597222222223,
          490.96573875803,
          574.404779969651,
          620.7574525745257,
          499.13279132791325,
          443.27510040160644,
          378.4105691056911,
          430.5934959349593,
          353.50948509485096,
          300.17378917378915,
          419.7532258064516,
          303.37931034482756,
          480.3125845737483,
          576.5730724971231,
          467.68428184281845,
          398.8367816091954,
          364,
          341.65501792114696,
          184.36964285714285,
          376.0960854092527,
          559.9959349593496,
          646.2367816091954,
          311.0257801899593,
          252.77800407331975,
          431.53284671532845,
          206.6564185544768,
          684.3414634146342,
          176.8465547191662,
          480.22996515679444,
          380.2812858783008,
          226.61318830727396,
          569.6161434977579,
          380.4634146341463,
          188.96975806451613,
          323.808552958727,
          315.0271739130435,
          203.4435975609756,
          283.01984126984127,
          280.91726618705036,
          137.82657463330457,
          608.4243902439024,
          218.48759007205766,
          184.7827140549273,
          220.0976331360947,
          713.5174418604652,
          398.03306878306876,
          287.08909574468083,
          306.4430894308943,
          156.86449864498644,
          243.53252032520325,
          115.6740576496674,
          103.10944340212633,
          123.48617886178862,
          125.9047619047619,
          290.7818428184282,
          431.38900203665986,
          270.1446725317693,
          295.75880758807585,
          643.9241645244216,
          377.57886178861787,
          307.6006097560976,
          423.51258992805754,
          219.89961089494165,
          727.7295742232451,
          122.7757785467128,
          112.15165336374002,
          568.6032388663967,
          506.9504132231405,
          200.21938088829071,
          203.86933797909407,
          143.4836956521739,
          612.5548387096774,
          400.0448979591837,
          327.1290760869565,
          319.9049049049049,
          573.2985553772071,
          118.76344086021506,
          342.7812274368231,
          134.478,
          245.46844660194174,
          253.6570796460177,
          319.3516260162602,
          220.1189948263119,
          348.25338753387535,
          684.1824,
          475.9731182795699,
          335.5907859078591,
          66.8119241192412,
          114.3125,
          541.2547425474255,
          247.66932270916334,
          153.5635478637101,
          203.84,
          259.64029438822445,
          290.58246828143024,
          249.9878048780488,
          198.6070460704607,
          329.1834189288335,
          371.12078977932634,
          627.709349593496,
          346.1544715447154,
          300.1485022307202,
          427.3946666666667,
          223.01344086021504,
          281.66615384615386,
          291.5371621621622,
          437.0833333333333,
          269.169696969697,
          106.79382303839733,
          165.3003048780488,
          201.64692218350754,
          183.92147806004618,
          515.7853260869565,
          281.7371854613234,
          146.38297872340425,
          217.76338602753697,
          278.196015936255,
          206.40108401084012,
          603.3925788497218,
          289.07859078590786,
          264.5772357723577,
          129.5737704918033,
          215.54301075268816,
          199.66007194244605,
          415.289972899729,
          434.8844022169438,
          771.5284552845528,
          253.04962153069806,
          411.8359375,
          233.65523632993512,
          89.06865464632455,
          97.0815331010453,
          130.04655870445345,
          306.88,
          345.9979674796748,
          344.63709677419354,
          586.6476190476191,
          397.45257452574526,
          91.34897959183674,
          184.48238482384824,
          383.5301837270341,
          284.9672131147541,
          101.32377919320595,
          120.28252032520325,
          219.80023228803717,
          313.0830728003573,
          298.0584239130435,
          258.4561965811966,
          611.9068825910931,
          404.6666666666667,
          293.9469387755102,
          108.33522727272727,
          122.59756097560975,
          314.2940379403794,
          90.38852789603406,
          221.2330623306233,
          316.49457994579944,
          163.4130081300813,
          141.59171597633136,
          288.70151515151514,
          211.59866962305986,
          136.83414634146342,
          109.42290076335878,
          46.65912762520194,
          61.1739837398374,
          112.6910569105691,
          290.0731707317073,
          58.308243727598565,
          227.30662020905925,
          161.66666666666666,
          149.547703180212,
          383.3411458333333,
          219.1522177419355,
          202.2570564516129,
          130.1951219512195,
          515.4349593495934,
          169.85040650406503,
          156.75874769797423,
          200.9106438896189,
          78.71280991735537,
          71.94907407407408,
          220.7170474516696,
          85.46612903225807,
          117.3219512195122,
          210.3451776649746,
          293.1417624521073,
          196.24661246612467,
          202.19623655913978,
          356.7602179836512,
          224.14634146341464,
          405.54002713704205,
          228.02173913043478,
          294.8719723183391,
          177.10894308943088,
          238.66898954703834,
          130.2384701912261,
          223.384126984127,
          251.65645161290323,
          391.1680216802168,
          317.8130081300813,
          318.1951219512195,
          461.81029810298105,
          262.8841463414634,
          216.8311444652908,
          752.8224489795919,
          416.26881720430106,
          514.6178861788618,
          485.63143631436316,
          415.3089430894309,
          144.6225319396051,
          198.10326086956522,
          170.2905027932961,
          288.7099358974359,
          172.0587172538392,
          382.9010840108401,
          175.8882833787466,
          529.1711111111111,
          164.62012987012986,
          170.5703564727955,
          215.81730769230768,
          362.4859967051071,
          237.647311827957,
          126.72195121951219,
          186.53216374269005,
          150.22151224707136,
          315.5076923076923,
          174.5609756097561,
          193.0670731707317,
          156.0569105691057,
          289.1639344262295,
          181.0309072781655,
          174.79349593495934,
          210.7729658792651,
          281.390243902439,
          149.4115292233787,
          172.96383647798743,
          110.15284552845529,
          144.83333333333334,
          314.040625,
          72.70365853658537,
          17.926509186351705,
          60.110236220472444,
          36.472131147540985,
          21.104,
          50.990243902439026,
          103.10742971887551,
          56.28846153846154,
          54.70603674540683,
          62.734671125975474,
          147.0734908136483,
          60.57564575645756,
          90.79945799457994,
          93.28571428571429,
          174.92547425474254,
          191.1029810298103,
          250.73641304347825,
          302.8841463414634,
          251.05191256830602,
          230.35772357723576,
          279.66124661246613,
          468.760162601626,
          324.6584699453552,
          561.4281842818428,
          332.4460285132383,
          200.46109175377467,
          203.98133333333334,
          305.0027322404372,
          244.09214092140923,
          162.48097412480973,
          221.1413043478261,
          504.9379157427938,
          248.82638888888889,
          152.17866666666666,
          54.6813922356091,
          242.20054200542006,
          160.42292490118578,
          319.2134146341463,
          534.1245235069886,
          710.5267379679144,
          161.69376693766938,
          158.81436314363143,
          0.9804878048780488,
          221.95470798569727,
          342.2014896119169,
          432.1719520789288,
          303.0714584203928,
          57.05420054200542,
          183.11182108626198,
          125.83219178082192,
          100.83733333333333,
          284.86367281475543,
          367.3506419400856,
          503.86348122866895,
          181.59109792284866,
          351.3080977479636,
          302.3492537313433,
          210.82183098591548,
          134.9618386816999,
          250.5487421383648,
          508.70217729393465,
          326.1243523316062,
          387.6509635974304,
          149.19691863264325,
          61.560778727445395,
          163.09209888511876,
          108.12709832134293,
          128.95849056603774,
          326.7918118466899,
          388.5240577385726,
          470.691646778043,
          419.3818576860402,
          304.69792194627473
         ]
        }
       ],
       "layout": {
        "coloraxis": {
         "colorbar": {
          "title": {
           "text": "total_turns"
          }
         },
         "colorscale": [
          [
           0,
           "rgb(255,255,204)"
          ],
          [
           0.125,
           "rgb(255,237,160)"
          ],
          [
           0.25,
           "rgb(254,217,118)"
          ],
          [
           0.375,
           "rgb(254,178,76)"
          ],
          [
           0.5,
           "rgb(253,141,60)"
          ],
          [
           0.625,
           "rgb(252,78,42)"
          ],
          [
           0.75,
           "rgb(227,26,28)"
          ],
          [
           0.875,
           "rgb(189,0,38)"
          ],
          [
           1,
           "rgb(128,0,38)"
          ]
         ]
        },
        "legend": {
         "tracegroupgap": 0
        },
        "mapbox": {
         "accesstoken": "pk.eyJ1IjoiY3dlc3RuZWRnZSIsImEiOiJja2ZnMGNqNmowMGQ3MnJwdDAwdGhyc21hIn0.bo4mFps9s1wRmgjIvI7KiQ",
         "center": {
          "lat": 40.7429,
          "lon": -73.9929
         },
         "domain": {
          "x": [
           0,
           1
          ],
          "y": [
           0,
           1
          ]
         },
         "style": "stamen-terrain",
         "zoom": 9.5
        },
        "margin": {
         "b": 0,
         "l": 0,
         "r": 0,
         "t": 0
        },
        "template": {
         "data": {
          "bar": [
           {
            "error_x": {
             "color": "#2a3f5f"
            },
            "error_y": {
             "color": "#2a3f5f"
            },
            "marker": {
             "line": {
              "color": "#E5ECF6",
              "width": 0.5
             }
            },
            "type": "bar"
           }
          ],
          "barpolar": [
           {
            "marker": {
             "line": {
              "color": "#E5ECF6",
              "width": 0.5
             }
            },
            "type": "barpolar"
           }
          ],
          "carpet": [
           {
            "aaxis": {
             "endlinecolor": "#2a3f5f",
             "gridcolor": "white",
             "linecolor": "white",
             "minorgridcolor": "white",
             "startlinecolor": "#2a3f5f"
            },
            "baxis": {
             "endlinecolor": "#2a3f5f",
             "gridcolor": "white",
             "linecolor": "white",
             "minorgridcolor": "white",
             "startlinecolor": "#2a3f5f"
            },
            "type": "carpet"
           }
          ],
          "choropleth": [
           {
            "colorbar": {
             "outlinewidth": 0,
             "ticks": ""
            },
            "type": "choropleth"
           }
          ],
          "contour": [
           {
            "colorbar": {
             "outlinewidth": 0,
             "ticks": ""
            },
            "colorscale": [
             [
              0,
              "#0d0887"
             ],
             [
              0.1111111111111111,
              "#46039f"
             ],
             [
              0.2222222222222222,
              "#7201a8"
             ],
             [
              0.3333333333333333,
              "#9c179e"
             ],
             [
              0.4444444444444444,
              "#bd3786"
             ],
             [
              0.5555555555555556,
              "#d8576b"
             ],
             [
              0.6666666666666666,
              "#ed7953"
             ],
             [
              0.7777777777777778,
              "#fb9f3a"
             ],
             [
              0.8888888888888888,
              "#fdca26"
             ],
             [
              1,
              "#f0f921"
             ]
            ],
            "type": "contour"
           }
          ],
          "contourcarpet": [
           {
            "colorbar": {
             "outlinewidth": 0,
             "ticks": ""
            },
            "type": "contourcarpet"
           }
          ],
          "heatmap": [
           {
            "colorbar": {
             "outlinewidth": 0,
             "ticks": ""
            },
            "colorscale": [
             [
              0,
              "#0d0887"
             ],
             [
              0.1111111111111111,
              "#46039f"
             ],
             [
              0.2222222222222222,
              "#7201a8"
             ],
             [
              0.3333333333333333,
              "#9c179e"
             ],
             [
              0.4444444444444444,
              "#bd3786"
             ],
             [
              0.5555555555555556,
              "#d8576b"
             ],
             [
              0.6666666666666666,
              "#ed7953"
             ],
             [
              0.7777777777777778,
              "#fb9f3a"
             ],
             [
              0.8888888888888888,
              "#fdca26"
             ],
             [
              1,
              "#f0f921"
             ]
            ],
            "type": "heatmap"
           }
          ],
          "heatmapgl": [
           {
            "colorbar": {
             "outlinewidth": 0,
             "ticks": ""
            },
            "colorscale": [
             [
              0,
              "#0d0887"
             ],
             [
              0.1111111111111111,
              "#46039f"
             ],
             [
              0.2222222222222222,
              "#7201a8"
             ],
             [
              0.3333333333333333,
              "#9c179e"
             ],
             [
              0.4444444444444444,
              "#bd3786"
             ],
             [
              0.5555555555555556,
              "#d8576b"
             ],
             [
              0.6666666666666666,
              "#ed7953"
             ],
             [
              0.7777777777777778,
              "#fb9f3a"
             ],
             [
              0.8888888888888888,
              "#fdca26"
             ],
             [
              1,
              "#f0f921"
             ]
            ],
            "type": "heatmapgl"
           }
          ],
          "histogram": [
           {
            "marker": {
             "colorbar": {
              "outlinewidth": 0,
              "ticks": ""
             }
            },
            "type": "histogram"
           }
          ],
          "histogram2d": [
           {
            "colorbar": {
             "outlinewidth": 0,
             "ticks": ""
            },
            "colorscale": [
             [
              0,
              "#0d0887"
             ],
             [
              0.1111111111111111,
              "#46039f"
             ],
             [
              0.2222222222222222,
              "#7201a8"
             ],
             [
              0.3333333333333333,
              "#9c179e"
             ],
             [
              0.4444444444444444,
              "#bd3786"
             ],
             [
              0.5555555555555556,
              "#d8576b"
             ],
             [
              0.6666666666666666,
              "#ed7953"
             ],
             [
              0.7777777777777778,
              "#fb9f3a"
             ],
             [
              0.8888888888888888,
              "#fdca26"
             ],
             [
              1,
              "#f0f921"
             ]
            ],
            "type": "histogram2d"
           }
          ],
          "histogram2dcontour": [
           {
            "colorbar": {
             "outlinewidth": 0,
             "ticks": ""
            },
            "colorscale": [
             [
              0,
              "#0d0887"
             ],
             [
              0.1111111111111111,
              "#46039f"
             ],
             [
              0.2222222222222222,
              "#7201a8"
             ],
             [
              0.3333333333333333,
              "#9c179e"
             ],
             [
              0.4444444444444444,
              "#bd3786"
             ],
             [
              0.5555555555555556,
              "#d8576b"
             ],
             [
              0.6666666666666666,
              "#ed7953"
             ],
             [
              0.7777777777777778,
              "#fb9f3a"
             ],
             [
              0.8888888888888888,
              "#fdca26"
             ],
             [
              1,
              "#f0f921"
             ]
            ],
            "type": "histogram2dcontour"
           }
          ],
          "mesh3d": [
           {
            "colorbar": {
             "outlinewidth": 0,
             "ticks": ""
            },
            "type": "mesh3d"
           }
          ],
          "parcoords": [
           {
            "line": {
             "colorbar": {
              "outlinewidth": 0,
              "ticks": ""
             }
            },
            "type": "parcoords"
           }
          ],
          "pie": [
           {
            "automargin": true,
            "type": "pie"
           }
          ],
          "scatter": [
           {
            "marker": {
             "colorbar": {
              "outlinewidth": 0,
              "ticks": ""
             }
            },
            "type": "scatter"
           }
          ],
          "scatter3d": [
           {
            "line": {
             "colorbar": {
              "outlinewidth": 0,
              "ticks": ""
             }
            },
            "marker": {
             "colorbar": {
              "outlinewidth": 0,
              "ticks": ""
             }
            },
            "type": "scatter3d"
           }
          ],
          "scattercarpet": [
           {
            "marker": {
             "colorbar": {
              "outlinewidth": 0,
              "ticks": ""
             }
            },
            "type": "scattercarpet"
           }
          ],
          "scattergeo": [
           {
            "marker": {
             "colorbar": {
              "outlinewidth": 0,
              "ticks": ""
             }
            },
            "type": "scattergeo"
           }
          ],
          "scattergl": [
           {
            "marker": {
             "colorbar": {
              "outlinewidth": 0,
              "ticks": ""
             }
            },
            "type": "scattergl"
           }
          ],
          "scattermapbox": [
           {
            "marker": {
             "colorbar": {
              "outlinewidth": 0,
              "ticks": ""
             }
            },
            "type": "scattermapbox"
           }
          ],
          "scatterpolar": [
           {
            "marker": {
             "colorbar": {
              "outlinewidth": 0,
              "ticks": ""
             }
            },
            "type": "scatterpolar"
           }
          ],
          "scatterpolargl": [
           {
            "marker": {
             "colorbar": {
              "outlinewidth": 0,
              "ticks": ""
             }
            },
            "type": "scatterpolargl"
           }
          ],
          "scatterternary": [
           {
            "marker": {
             "colorbar": {
              "outlinewidth": 0,
              "ticks": ""
             }
            },
            "type": "scatterternary"
           }
          ],
          "surface": [
           {
            "colorbar": {
             "outlinewidth": 0,
             "ticks": ""
            },
            "colorscale": [
             [
              0,
              "#0d0887"
             ],
             [
              0.1111111111111111,
              "#46039f"
             ],
             [
              0.2222222222222222,
              "#7201a8"
             ],
             [
              0.3333333333333333,
              "#9c179e"
             ],
             [
              0.4444444444444444,
              "#bd3786"
             ],
             [
              0.5555555555555556,
              "#d8576b"
             ],
             [
              0.6666666666666666,
              "#ed7953"
             ],
             [
              0.7777777777777778,
              "#fb9f3a"
             ],
             [
              0.8888888888888888,
              "#fdca26"
             ],
             [
              1,
              "#f0f921"
             ]
            ],
            "type": "surface"
           }
          ],
          "table": [
           {
            "cells": {
             "fill": {
              "color": "#EBF0F8"
             },
             "line": {
              "color": "white"
             }
            },
            "header": {
             "fill": {
              "color": "#C8D4E3"
             },
             "line": {
              "color": "white"
             }
            },
            "type": "table"
           }
          ]
         },
         "layout": {
          "annotationdefaults": {
           "arrowcolor": "#2a3f5f",
           "arrowhead": 0,
           "arrowwidth": 1
          },
          "coloraxis": {
           "colorbar": {
            "outlinewidth": 0,
            "ticks": ""
           }
          },
          "colorscale": {
           "diverging": [
            [
             0,
             "#8e0152"
            ],
            [
             0.1,
             "#c51b7d"
            ],
            [
             0.2,
             "#de77ae"
            ],
            [
             0.3,
             "#f1b6da"
            ],
            [
             0.4,
             "#fde0ef"
            ],
            [
             0.5,
             "#f7f7f7"
            ],
            [
             0.6,
             "#e6f5d0"
            ],
            [
             0.7,
             "#b8e186"
            ],
            [
             0.8,
             "#7fbc41"
            ],
            [
             0.9,
             "#4d9221"
            ],
            [
             1,
             "#276419"
            ]
           ],
           "sequential": [
            [
             0,
             "#0d0887"
            ],
            [
             0.1111111111111111,
             "#46039f"
            ],
            [
             0.2222222222222222,
             "#7201a8"
            ],
            [
             0.3333333333333333,
             "#9c179e"
            ],
            [
             0.4444444444444444,
             "#bd3786"
            ],
            [
             0.5555555555555556,
             "#d8576b"
            ],
            [
             0.6666666666666666,
             "#ed7953"
            ],
            [
             0.7777777777777778,
             "#fb9f3a"
            ],
            [
             0.8888888888888888,
             "#fdca26"
            ],
            [
             1,
             "#f0f921"
            ]
           ],
           "sequentialminus": [
            [
             0,
             "#0d0887"
            ],
            [
             0.1111111111111111,
             "#46039f"
            ],
            [
             0.2222222222222222,
             "#7201a8"
            ],
            [
             0.3333333333333333,
             "#9c179e"
            ],
            [
             0.4444444444444444,
             "#bd3786"
            ],
            [
             0.5555555555555556,
             "#d8576b"
            ],
            [
             0.6666666666666666,
             "#ed7953"
            ],
            [
             0.7777777777777778,
             "#fb9f3a"
            ],
            [
             0.8888888888888888,
             "#fdca26"
            ],
            [
             1,
             "#f0f921"
            ]
           ]
          },
          "colorway": [
           "#636efa",
           "#EF553B",
           "#00cc96",
           "#ab63fa",
           "#FFA15A",
           "#19d3f3",
           "#FF6692",
           "#B6E880",
           "#FF97FF",
           "#FECB52"
          ],
          "font": {
           "color": "#2a3f5f"
          },
          "geo": {
           "bgcolor": "white",
           "lakecolor": "white",
           "landcolor": "#E5ECF6",
           "showlakes": true,
           "showland": true,
           "subunitcolor": "white"
          },
          "hoverlabel": {
           "align": "left"
          },
          "hovermode": "closest",
          "mapbox": {
           "style": "light"
          },
          "paper_bgcolor": "white",
          "plot_bgcolor": "#E5ECF6",
          "polar": {
           "angularaxis": {
            "gridcolor": "white",
            "linecolor": "white",
            "ticks": ""
           },
           "bgcolor": "#E5ECF6",
           "radialaxis": {
            "gridcolor": "white",
            "linecolor": "white",
            "ticks": ""
           }
          },
          "scene": {
           "xaxis": {
            "backgroundcolor": "#E5ECF6",
            "gridcolor": "white",
            "gridwidth": 2,
            "linecolor": "white",
            "showbackground": true,
            "ticks": "",
            "zerolinecolor": "white"
           },
           "yaxis": {
            "backgroundcolor": "#E5ECF6",
            "gridcolor": "white",
            "gridwidth": 2,
            "linecolor": "white",
            "showbackground": true,
            "ticks": "",
            "zerolinecolor": "white"
           },
           "zaxis": {
            "backgroundcolor": "#E5ECF6",
            "gridcolor": "white",
            "gridwidth": 2,
            "linecolor": "white",
            "showbackground": true,
            "ticks": "",
            "zerolinecolor": "white"
           }
          },
          "shapedefaults": {
           "line": {
            "color": "#2a3f5f"
           }
          },
          "ternary": {
           "aaxis": {
            "gridcolor": "white",
            "linecolor": "white",
            "ticks": ""
           },
           "baxis": {
            "gridcolor": "white",
            "linecolor": "white",
            "ticks": ""
           },
           "bgcolor": "#E5ECF6",
           "caxis": {
            "gridcolor": "white",
            "linecolor": "white",
            "ticks": ""
           }
          },
          "title": {
           "x": 0.05
          },
          "xaxis": {
           "automargin": true,
           "gridcolor": "white",
           "linecolor": "white",
           "ticks": "",
           "title": {
            "standoff": 15
           },
           "zerolinecolor": "white",
           "zerolinewidth": 2
          },
          "yaxis": {
           "automargin": true,
           "gridcolor": "white",
           "linecolor": "white",
           "ticks": "",
           "title": {
            "standoff": 15
           },
           "zerolinecolor": "white",
           "zerolinewidth": 2
          }
         }
        }
       }
      },
      "text/html": [
       "<div>\n",
       "        \n",
       "        \n",
       "            <div id=\"c064feb0-5a97-4ed8-b78d-ccf0971a99db\" class=\"plotly-graph-div\" style=\"height:525px; width:100%;\"></div>\n",
       "            <script type=\"text/javascript\">\n",
       "                require([\"plotly\"], function(Plotly) {\n",
       "                    window.PLOTLYENV=window.PLOTLYENV || {};\n",
       "                    \n",
       "                if (document.getElementById(\"c064feb0-5a97-4ed8-b78d-ccf0971a99db\")) {\n",
       "                    Plotly.newPlot(\n",
       "                        'c064feb0-5a97-4ed8-b78d-ccf0971a99db',\n",
       "                        [{\"coloraxis\": \"coloraxis\", \"customdata\": [[\"SOUTH FERRY\"], [\"WHITEHALL S-FRY\"], [\"CYPRESS HILLS\"], [\"75 ST-ELDERTS\"], [\"85 ST-FOREST PK\"], [\"WOODHAVEN BLVD\"], [\"104 ST\"], [\"111 ST\"], [\"121 ST\"], [\"42 ST-PORT AUTH\"], [\"42 ST-PORT AUTH\"], [\"34 ST-PENN STA\"], [\"34 ST-PENN STA\"], [\"FULTON ST\"], [\"5 AV/53 ST\"], [\"LEXINGTON AV/53\"], [\"LEXINGTON AV/53\"], [\"74 ST-BROADWAY\"], [\"JKSN HT-ROOSVLT\"], [\"JAMAICA 179 ST\"], [\"47-50 STS ROCK\"], [\"42 ST-BRYANT PK\"], [\"34 ST-HERALD SQ\"], [\"34 ST-HERALD SQ\"], [\"SUTPHIN-ARCHER\"], [\"JAMAICA CENTER\"], [\"WALL ST\"], [\"FULTON ST\"], [\"CHAMBERS ST\"], [\"PARK PLACE\"], [\"WORLD TRADE CTR\"], [\"CHAMBERS ST\"], [\"34 ST-PENN STA\"], [\"TIMES SQ-42 ST\"], [\"TIMES SQ-42 ST\"], [\"125 ST\"], [\"168 ST\"], [\"DYCKMAN ST\"], [\"207 ST\"], [\"215 ST\"], [\"MARBLE HILL-225\"], [\"231 ST\"], [\"BOWLING GREEN\"], [\"BOWLING GREEN\"], [\"WALL ST\"], [\"BROOKLYN BRIDGE\"], [\"CHAMBERS ST\"], [\"GRD CNTRL-42 ST\"], [\"GRD CNTRL-42 ST\"], [\"GRD CNTRL-42 ST\"], [\"GRD CNTRL-42 ST\"], [\"51 ST\"], [\"59 ST\"], [\"59 ST\"], [\"WOODLAWN\"], [\"3 AV-149 ST\"], [\"5 AVE\"], [\"FLUSHING-MAIN\"], [\"NEVINS ST\"], [\"ATL AV-BARCLAY\"], [\"BERGEN ST\"], [\"GRAND ARMY PLAZ\"], [\"EASTN PKWY-MUSM\"], [\"NOSTRAND AV\"], [\"CROWN HTS-UTICA\"], [\"SUTTER AV-RUTLD\"], [\"SARATOGA AV\"], [\"ROCKAWAY AV\"], [\"JUNIUS ST\"], [\"PENNSYLVANIA AV\"], [\"VAN SICLEN AV\"], [\"NEW LOTS AV\"], [\"ST. GEORGE\"], [\"34 ST-HUDSON YD\"], [\"5 AV/59 ST\"], [\"57 ST-7 AV\"], [\"49 ST\"], [\"28 ST\"], [\"23 ST\"], [\"59 ST COLUMBUS\"], [\"8 ST-NYU\"], [\"PRINCE ST\"], [\"CITY HALL\"], [\"CORTLANDT ST\"], [\"JAY ST-METROTEC\"], [\"39 AV\"], [\"36 AV\"], [\"BROADWAY\"], [\"30 AV\"], [\"ASTORIA BLVD\"], [\"ASTORIA DITMARS\"], [\"82 ST-JACKSON H\"], [\"JUNCTION BLVD\"], [\"CHURCH AV\"], [\"DEKALB AV\"], [\"METROPOLITAN AV\"], [\"145 ST\"], [\"125 ST\"], [\"BROADWAY JCT\"], [\"167 ST\"], [\"14 ST\"], [\"CASTLE HILL AV\"], [\"WESTCHESTER SQ\"], [\"BOROUGH HALL\"], [\"CHURCH AV\"], [\"FLATBUSH AV-B.C\"], [\"23 ST\"], [\"FORDHAM RD\"], [\"7 AV\"], [\"PARSONS BLVD\"], [\"169 ST\"], [\"50 ST\"], [\"V.CORTLANDT PK\"], [\"CANAL ST\"], [\"FORDHAM RD\"], [\"MORISN AV/SNDVW\"], [\"QUEENSBORO PLZ\"], [\"90 ST-ELMHURST\"], [\"FRANKLIN AV\"], [\"KINGSTON AV\"], [\"BROAD ST\"], [\"175 ST\"], [\"JAY ST-METROTEC\"], [\"SUTPHIN BLVD\"], [\"BERGEN ST\"], [\"KINGS HWY\"], [\"23 ST\"], [\"125 ST\"], [\"MOSHOLU PKWY\"], [\"HUNTERS PT AV\"], [\"NEWKIRK AV\"], [\"SHEEPSHEAD BAY\"], [\"MYRTLE-WYCKOFF\"], [\"W 4 ST-WASH SQ\"], [\"CANAL ST\"], [\"QUEENS PLAZA\"], [\"FOREST HILLS 71\"], [\"DELANCEY/ESSEX\"], [\"28 ST\"], [\"96 ST\"], [\"WAKEFIELD/241\"], [\"HUNTS POINT AV\"], [\"61 ST WOODSIDE\"], [\"PARKSIDE AV\"], [\"NEWKIRK PLAZA\"], [\"AVENUE U\"], [\"CONEY IS-STILLW\"], [\"CANARSIE-ROCKAW\"], [\"UTICA AV\"], [\"TREMONT AV\"], [\"KINGSBRIDGE RD\"], [\"BEDFORD PK BLVD\"], [\"NORWOOD 205 ST\"], [\"KEW GARDENS\"], [\"116 ST-COLUMBIA\"], [\"ASTOR PL\"], [\"KINGSBRIDGE RD\"], [\"ELDER AV\"], [\"14 ST\"], [\"6 AV\"], [\"66 ST-LINCOLN\"], [\"TOMPKINSVILLE\"], [\"79 ST\"], [\"86 ST\"], [\"96 ST\"], [\"137 ST CITY COL\"], [\"14 ST-UNION SQ\"], [\"7 AV\"], [\"BRIGHTON BEACH\"], [\"INWOOD-207 ST\"], [\"181 ST\"], [\"14 ST\"], [\"8 AV\"], [\"33 ST\"], [\"68ST-HUNTER CO\"], [\"77 ST\"], [\"86 ST\"], [\"103 ST\"], [\"110 ST\"], [\"116 ST\"], [\"BEDFORD PK BLVD\"], [\"CORTELYOU RD\"], [\"DYCKMAN ST\"], [\"86 ST\"], [\"81 ST-MUSEUM\"], [\"50 ST\"], [\"CHRISTOPHER ST\"], [\"23 ST\"], [\"103 ST\"], [\"CATHEDRAL PKWY\"], [\"157 ST\"], [\"BLEECKER ST\"], [\"161/YANKEE STAD\"], [\"PROSPECT PARK\"], [\"36 ST\"], [\"NOSTRAND AV\"], [\"KINGSTON-THROOP\"], [\"EUCLID AV\"], [\"WOODHAVEN BLVD\"], [\"63 DR-REGO PARK\"], [\"23 ST\"], [\"CHURCH AV\"], [\"149/GRAND CONC\"], [\"125 ST\"], [\"135 ST\"], [\"103 ST-CORONA\"], [\"STERLING ST\"], [\"BEVERLY RD\"], [\"KINGS HWY\"], [\"59 ST\"], [\"BAY RIDGE AV\"], [\"77 ST\"], [\"86 ST\"], [\"BAY RIDGE-95 ST\"], [\"HOYT-SCHER\"], [\"ELMHURST AV\"], [\"67 AV\"], [\"CARROLL ST\"], [\"167 ST\"], [\"PARKCHESTER\"], [\"46 ST BLISS ST\"], [\"CLARK ST\"], [\"HOYT ST\"], [\"GUN HILL RD\"], [\"RECTOR ST\"], [\"AVENUE J\"], [\"AVENUE M\"], [\"NECK RD\"], [\"UNION ST\"], [\"45 ST\"], [\"53 ST\"], [\"50 ST\"], [\"BEDFORD AV\"], [\"DEKALB AV\"], [\"182-183 STS\"], [\"STEINWAY ST\"], [\"GREENPOINT AV\"], [\"GRAND ST\"], [\"15 ST-PROSPECT\"], [\"18 AV\"], [\"170 ST\"], [\"BURNSIDE AV\"], [\"ST LAWRENCE AV\"], [\"PROSPECT AV\"], [\"55 ST\"], [\"1 AV\"], [\"GRAHAM AV\"], [\"GRAND ST\"], [\"96 ST\"], [\"HIGH ST\"], [\"174-175 STS\"], [\"GRAND-NEWTOWN\"], [\"BRIARWOOD\"], [\"NASSAU AV\"], [\"EAST BROADWAY\"], [\"4 AV-9 ST\"], [\"4AV-9 ST\"], [\"ROOSEVELT ISLND\"], [\"181 ST\"], [\"40 ST LOWERY ST\"], [\"BEVERLEY ROAD\"], [\"AVENUE H\"], [\"OCEAN PKWY\"], [\"MONTROSE AV\"], [\"HALSEY ST\"], [\"46 ST\"], [\"LORIMER ST\"], [\"METROPOLITAN AV\"], [\"BEDFORD-NOSTRAN\"], [\"SMITH-9 ST\"], [\"AVENUE X\"], [\"28 ST\"], [\"145 ST\"], [\"191 ST\"], [\"183 ST\"], [\"VERNON-JACKSON\"], [\"PRESIDENT ST\"], [\"25 ST\"], [\"JEFFERSON ST\"], [\"190 ST\"], [\"72 ST\"], [\"SPRING ST\"], [\"LAFAYETTE AV\"], [\"CLINTON-WASH AV\"], [\"FAR ROCKAWAY\"], [\"MYRTLE-WILLOUGH\"], [\"CLASSON AV\"], [\"7 AV\"], [\"FT HAMILTON PKY\"], [\"HOUSTON ST\"], [\"33 ST-RAWSON ST\"], [\"BAYCHESTER AV\"], [\"34 ST-PENN STA\"], [\"MORGAN AV\"], [\"WILSON AV\"], [\"163 ST-AMSTERDM\"], [\"FRANKLIN AV\"], [\"NORTHERN BLVD\"], [\"BROADWAY\"], [\"2 AV\"], [\"YORK ST\"], [\"57 ST\"], [\"21 ST-QNSBRIDGE\"], [\"RECTOR ST\"], [\"CORTLANDT ST\"], [\"WTC-CORTLANDT\"], [\"238 ST\"], [\"138/GRAND CONC\"], [\"MT EDEN AV\"], [\"176 ST\"], [\"111 ST\"], [\"BOWERY\"], [\"W 8 ST-AQUARIUM\"], [\"BUSHWICK AV\"], [\"103 ST\"], [\"155 ST\"], [\"FLUSHING AV\"], [\"CLINTON-WASH AV\"], [\"FULTON ST\"], [\"LEXINGTON AV/63\"], [\"CANAL ST\"], [\"18 ST\"], [\"SPRING ST\"], [\"CENTRAL PK N110\"], [\"116 ST\"], [\"WHITLOCK AV\"], [\"ZEREGA AV\"], [\"52 ST\"], [\"METS-WILLETS PT\"], [\"MORRIS PARK\"], [\"3 AV\"], [\"155 ST\"], [\"135 ST\"], [\"116 ST\"], [\"CATHEDRAL PKWY\"], [\"BEACH 67 ST\"], [\"BEACH 60 ST\"], [\"BEACH 44 ST\"], [\"BEACH 36 ST\"], [\"36 ST\"], [\"65 ST\"], [\"75 AV\"], [\"JAMAICA VAN WK\"], [\"FRANKLIN ST\"], [\"145 ST\"], [\"HARLEM 148 ST\"], [\"COURT SQ\"], [\"69 ST\"], [\"ATLANTIC AV\"], [\"SUTTER AV\"], [\"LIVONIA AV\"], [\"HEWES ST\"], [\"LORIMER ST\"], [\"104 ST\"], [\"111 ST\"], [\"OZONE PK LEFFRT\"], [\"AQUEDUCT N.COND\"], [\"BEACH 25 ST\"], [\"COURT SQ\"], [\"COURT SQ-23 ST\"], [\"21 ST\"], [\"PELHAM PKWY\"], [\"ALLERTON AV\"], [\"BURKE AV\"], [\"GUN HILL RD\"], [\"219 ST\"], [\"225 ST\"], [\"233 ST\"], [\"9 AV\"], [\"FT HAMILTON PKY\"], [\"71 ST\"], [\"79 ST\"], [\"18 AV\"], [\"20 AV\"], [\"BAY PKWY\"], [\"NEW LOTS\"], [\"EAST 105 ST\"], [\"FLUSHING AV\"], [\"MYRTLE AV\"], [\"KOSCIUSZKO ST\"], [\"GATES AV\"], [\"HALSEY ST\"], [\"GRANT AV\"], [\"80 ST\"], [\"88 ST\"], [\"ROCKAWAY BLVD\"], [\"174 ST\"], [\"WEST FARMS SQ\"], [\"E 180 ST\"], [\"BRONX PARK EAST\"], [\"8 AV\"], [\"FT HAMILTON PKY\"], [\"18 AV\"], [\"20 AV\"], [\"BAY PKWY\"], [\"KINGS HWY\"], [\"AVENUE U\"], [\"86 ST\"], [\"NEW UTRECHT AV\"], [\"25 AV\"], [\"BAY 50 ST\"], [\"CENTRAL AV\"], [\"SENECA AVE\"], [\"FOREST AVE\"], [\"FRESH POND RD\"], [\"JACKSON AV\"], [\"PROSPECT AV\"], [\"INTERVALE AV\"], [\"SIMPSON ST\"], [\"FREEMAN ST\"], [\"PARK PLACE\"], [\"BOTANIC GARDEN\"], [\"KNICKERBOCKER\"], [\"HOWARD BCH JFK\"], [\"BROAD CHANNEL\"], [\"BEACH 90 ST\"], [\"BEACH 98 ST\"], [\"BEACH 105 ST\"], [\"ROCKAWAY PARK B\"], [\"DITMAS AV\"], [\"AVENUE I\"], [\"BAY PKWY\"], [\"AVENUE N\"], [\"AVENUE P\"], [\"AVENUE U\"], [\"NEPTUNE AV\"], [\"MIDDLETOWN RD\"], [\"BUHRE AV\"], [\"PELHAM BAY PARK\"], [\"PELHAM PKWY\"], [\"EASTCHSTER/DYRE\"], [\"CHAUNCEY ST\"], [\"ALABAMA AV\"], [\"VAN SICLEN AV\"], [\"CLEVELAND ST\"], [\"NORWOOD AV\"], [\"CRESCENT ST\"], [\"RALPH AV\"], [\"ROCKAWAY AV\"], [\"LIBERTY AV\"], [\"VAN SICLEN AVE\"], [\"SHEPHERD AV\"], [\"170 ST\"], [\"NEREID AV\"], [\"3 AV 138 ST\"], [\"BROOK AV\"], [\"CYPRESS AV\"], [\"E 143/ST MARY'S\"], [\"E 149 ST\"], [\"LONGWOOD AV\"], [\"WINTHROP ST\"], [\"72 ST\"], [\"23 ST\"], [\"25 ST\"], [\"HOYT ST\"], [\"ORCHARD BEACH\"], [\"MARCY AV\"], [\"B'WAY-LAFAYETTE\"], [\"CANAL ST\"], [\"CANAL ST\"], [\"AQUEDUCT RACETR\"], [\"RIT-MANHATTAN\"], [\"RIT-ROOSEVELT\"], [\"HOWARD BCH JFK\"], [\"JFK JAMAICA CT1\"], [\"PATH NEW WTC\"], [\"PATH WTC 2\"], [\"THIRTY ST\"], [\"THIRTY THIRD ST\"], [\"TWENTY THIRD ST\"], [\"EXCHANGE PLACE\"], [\"HARRISON\"], [\"14TH STREET\"], [\"PAVONIA/NEWPORT\"], [\"9TH STREET\"], [\"CHRISTOPHER ST\"], [\"NEWARK BM BW\"], [\"NEWARK C\"], [\"NEWARK HM HE\"], [\"NEWARK HW BMEBE\"], [\"LACKAWANNA\"], [\"GROVE STREET\"], [\"JOURNAL SQUARE\"], [\"72 ST-2 AVE\"], [\"86 ST-2 AVE\"], [\"96 ST-2 AVE\"]], \"hovertemplate\": \"total_turns=%{z}<br>lat=%{lat}<br>lng=%{lon}<br>STATION=%{customdata[0]}<extra></extra>\", \"lat\": [40.703082, 40.703082, 40.689945, 40.69132000000001, 40.692304, 40.693866, 40.69518400000001, 40.697405, 40.700536, 40.757303, 40.757303, 40.752247, 40.752247, 40.709938, 40.760179, 40.75753, 40.75753, 40.746655, 40.746655, 40.712622, 40.75865200000001, 40.754198, 40.749533, 40.749533, 40.700488, 40.702131, 40.706864, 40.709938, 40.71433, 40.71433, 40.71433, 40.715436, 40.750329, 40.755905, 40.755905, 40.815596, 40.840778, 40.860523, 40.864653, 40.869359, 40.874551, 40.878867, 40.704782, 40.704782, 40.707466, 40.71315900000001, 40.71315900000001, 40.751849, 40.751849, 40.751849, 40.751849, 40.757108, 40.762796, 40.762796, 40.885973, 40.816132, 40.753824, 40.75957800000001, 40.688269, 40.684063, 40.680801, 40.675219, 40.672013, 40.669735, 40.669279, 40.664591, 40.661466, 40.662541, 40.663419, 40.664884, 40.665405, 40.666252, 40.643738, 40.755, 40.764909, 40.764755, 40.760139, 40.745574, 40.741006, 40.76811, 40.730348, 40.724332, 40.713086, 40.710662, 40.692182, 40.753076, 40.756977, 40.761959, 40.766843, 40.770426, 40.774984, 40.747647, 40.749143, 40.650494, 40.690612, 40.711353, 40.824787, 40.811056, 40.678848, 40.833773, 40.738007, 40.834255, 40.839892, 40.692404, 40.650843, 40.632836, 40.745924, 40.862803, 40.762877, 40.707564, 40.710459, 40.761675, 40.889185, 40.71823300000001, 40.862941, 40.829495, 40.750508, 40.748541, 40.670711, 40.669409, 40.706539, 40.847369, 40.692338, 40.705416, 40.686154, 40.603234, 40.740088, 40.804406, 40.87963, 40.74238, 40.639961, 40.58681, 40.699707, 40.732251, 40.720852, 40.748948, 40.721681, 40.71838, 40.743095, 40.785822, 40.903085, 40.820889, 40.745623, 40.655053, 40.63505900000001, 40.599307, 40.577423, 40.64666, 40.679279, 40.850307, 40.866974, 40.873026, 40.874827, 40.714444, 40.80819, 40.730056, 40.867899, 40.828894, 40.737348, 40.737348, 40.773424, 40.636948, 40.783872, 40.788844, 40.79388, 40.821994, 40.734836, 40.677172, 40.577961, 40.868045, 40.851686, 40.740388, 40.740388, 40.746119, 40.768143, 40.773636, 40.779485, 40.790582, 40.795066, 40.798574, 40.873399, 40.640905, 40.865286, 40.785822, 40.781435, 40.762439, 40.7331, 40.74407100000001, 40.799354, 40.804032, 40.833879, 40.725665, 40.827888, 40.661596, 40.65515, 40.68041, 40.679921, 40.675382, 40.73308, 40.729869, 40.742868, 40.644039, 40.818429, 40.808076, 40.814459, 40.749858, 40.66275200000001, 40.645089, 40.608691, 40.641426, 40.634945, 40.629702, 40.622715, 40.616624, 40.688465, 40.742445, 40.726462, 40.680231, 40.835535, 40.833246, 40.743079, 40.697356, 40.690547, 40.877796, 40.707222, 40.625028, 40.617568, 40.59523400000001, 40.67730200000001, 40.648866, 40.644959, 40.636232, 40.717241, 40.703839, 40.856085, 40.756864, 40.731324, 40.718542, 40.660376, 40.629881, 40.840048, 40.85339000000001, 40.8315, 40.665438, 40.631412, 40.730901, 40.71459, 40.711874, 40.791654, 40.699316, 40.845892, 40.736998, 40.709174, 40.724608, 40.713647, 40.67032, 40.67032, 40.759123, 40.84949500000001, 40.743778000000006, 40.643982, 40.629164, 40.576298, 40.707889, 40.695607, 40.756312, 40.713875, 40.713875, 40.689636, 40.673714, 40.589547, 40.747224, 40.826426, 40.855176, 40.858389, 40.742624, 40.667879, 40.660481, 40.706636, 40.859022, 40.775545, 40.726202, 40.68617, 40.683263, 40.603983, 40.694568, 40.688855, 40.666276, 40.650722, 40.728202, 40.74455800000001, 40.878656, 40.750264, 40.706148, 40.688676, 40.835957, 40.681159, 40.752898, 40.7061, 40.723291, 40.699756, 40.763625, 40.7541, 40.70784, 40.710454, 40.710454, 40.884821, 40.813208, 40.844406, 40.848635, 40.75176, 40.720315, 40.576152, 40.682558, 40.796105, 40.829934, 40.700374, 40.688123, 40.68713, 40.764763, 40.722819, 40.741096, 40.722397, 40.79911, 40.802098, 40.826508, 40.83646, 40.744103, 40.754622, 40.854137, 40.733243, 40.830551, 40.817902, 40.805072, 40.800637, 40.590867, 40.592334, 40.593214, 40.595381, 40.75202, 40.749663, 40.718477, 40.702566, 40.719323, 40.820402, 40.823877, 40.747029, 40.746325, 40.675496, 40.669376, 40.663801, 40.706994, 40.703855, 40.681745, 40.684364, 40.685975, 40.66823400000001, 40.600138, 40.747257, 40.747257, 40.743973, 40.857188, 40.865481, 40.871387, 40.877796, 40.883767, 40.887887, 40.893386, 40.646343, 40.640872, 40.619588, 40.613513, 40.607958, 40.604798, 40.601898, 40.658748, 40.650625, 40.700244, 40.697266, 40.693329, 40.689652, 40.68617, 40.677107, 40.679369, 40.679857, 40.680429, 40.837382, 40.840097, 40.841882, 40.848797, 40.635011, 40.631428, 40.620728, 40.617373, 40.612006, 40.603967, 40.597482, 40.592676, 40.625419, 40.597873, 40.588879, 40.697673, 40.702798, 40.704424, 40.706181, 40.816505, 40.81939600000001, 40.822172, 40.82417, 40.829966, 40.67491, 40.670499, 40.698666, 40.660476, 40.608693, 40.588032, 40.585514, 40.583542, 40.580454, 40.63615, 40.625305, 40.620907, 40.615174, 40.609147, 40.596065, 40.580992, 40.843635, 40.846817, 40.852465, 40.858973, 40.888244, 40.682867, 40.677107, 40.678018, 40.679938, 40.681598, 40.68320900000001, 40.678815, 40.67836, 40.674552, 40.672786, 40.674161, 40.839301, 40.898382, 40.810512, 40.808044, 40.805737, 40.808742, 40.812104, 40.816083, 40.656648, 40.778575, 40.742981, 40.66043, 40.690545, 40.852417, 40.708377, 40.725297, 40.718697, 40.718697, 40.668221, 40.761268, 40.7574, 40.660476, 40.643942, 40.7126, 40.7126, 40.7491, 40.7491, 40.7429, 40.7162, 40.7384, 40.7374, 40.7267, 40.7342, 40.7331, 40.6895, 40.6895, 40.6895, 40.6895, 40.735, 40.7197, 40.7326, 40.7686869, 40.76868620000001, 40.7807028], \"lon\": [-74.01298299999998, -74.01298299999998, -73.872564, -73.867135, -73.860151, -73.851568, -73.844326, -73.836354, -73.82838199999998, -73.98978699999998, -73.98978699999998, -73.99345600000002, -73.99345600000002, -74.007983, -73.975196, -73.969102, -73.969102, -73.891361, -73.891361, -73.783815, -73.981311, -73.984573, -73.987899, -73.987899, -73.80793299999998, -73.80111, -74.009056, -74.007983, -74.008563, -74.008563, -74.008563, -74.009335, -73.991096, -73.98650400000002, -73.98650400000002, -73.958395, -73.94009100000002, -73.925575, -73.918719, -73.915329, -73.909879, -73.90485799999998, -74.014099, -74.014099, -74.01186700000002, -74.003917, -74.003917, -73.976945, -73.976945, -73.976945, -73.976945, -73.97187, -73.967686, -73.967686, -73.878851, -73.917754, -73.981966, -73.830056, -73.980453, -73.977417, -73.97513199999999, -73.971012, -73.96436, -73.950455, -73.932967, -73.922668, -73.91631600000002, -73.90876300000002, -73.902454, -73.894258, -73.889451, -73.884087, -74.073622, -74.001, -73.973372, -73.980646, -73.984112, -73.988682, -73.989315, -73.981891, -73.992705, -73.99768399999998, -74.007232, -74.011052, -73.985935, -73.93271, -73.929373, -73.925382, -73.921423, -73.917614, -73.91206700000002, -73.883786, -73.869452, -73.962836, -73.981848, -73.88958000000002, -73.944232, -73.952386, -73.904139, -73.91843, -73.99838100000002, -73.85122199999998, -73.842952, -73.990151, -73.949575, -73.947642, -73.998005, -73.901034, -73.98159, -73.803326, -73.7936, -73.983908, -73.898549, -74.000323, -73.901199, -73.87455899999998, -73.940177, -73.876791, -73.958051, -73.942173, -74.011052, -73.939683, -73.987342, -73.810562, -73.990881, -73.972342, -73.986429, -73.93745200000002, -73.88466600000002, -73.94888900000002, -73.948352, -73.954167, -73.91181, -74.000559, -74.005237, -73.93719399999998, -73.84439, -73.987813, -73.984251, -73.95097, -73.85059100000002, -73.890567, -73.902969, -73.96122700000002, -73.962793, -73.955916, -73.981225, -73.901832, -73.930585, -73.905244, -73.893485, -73.88691899999998, -73.878872, -73.830979, -73.964124, -73.99104200000002, -73.897326, -73.879559, -73.9969, -73.9969, -73.98223399999998, -74.07482399999998, -73.979938, -73.97599, -73.972363, -73.95367399999998, -73.990688, -73.972514, -73.96180600000002, -73.919921, -73.937967, -74.002104, -74.002104, -73.981826, -73.964016, -73.959875, -73.955541, -73.947473, -73.94429699999998, -73.94159300000003, -73.890084, -73.96386600000002, -73.92698, -73.968952, -73.972149, -73.985989, -74.0071, -73.99562399999998, -73.968329, -73.96674200000002, -73.944726, -73.995645, -73.925736, -73.962193, -74.003477, -73.950326, -73.94085799999998, -73.87207, -73.869259, -73.86161, -73.99277, -73.979541, -73.926927, -73.94590600000002, -73.94099200000002, -73.862672, -73.95060500000002, -73.948975, -73.95777199999998, -74.017972, -74.023411, -74.025514, -74.028368, -74.030964, -73.985474, -73.882005, -73.85263, -73.99498, -73.92138, -73.860805, -73.918419, -73.992888, -73.985066, -73.866341, -74.013391, -73.960819, -73.95936, -73.95509, -73.983135, -74.010086, -74.014034, -73.994765, -73.956614, -73.91844, -73.900695, -73.920736, -73.954425, -73.994164, -73.979509, -73.977149, -73.917775, -73.907733, -73.867623, -73.992856, -73.995473, -73.981719, -73.94410400000002, -73.94067, -73.964682, -73.990474, -73.910136, -73.87724200000002, -73.820593, -73.95127099999998, -73.990152, -73.98875699999998, -73.98875699999998, -73.953266, -73.93363199999997, -73.923998, -73.96451, -73.961678, -73.968523, -73.940005, -73.904021, -73.913333, -73.951592, -73.951592, -73.953459, -73.996139, -73.974295, -73.99336, -73.950412, -73.929384, -73.903828, -73.95354499999998, -73.950648, -73.998059, -73.922925, -73.93419, -73.976398, -74.00362700000002, -73.973908, -73.965838, -73.755383, -73.949046, -73.960025, -73.980324, -73.975818, -74.005344, -73.930993, -73.838596, -73.99298399999998, -73.93316, -73.903999, -73.939898, -73.956056, -73.905973, -73.95034799999998, -73.989873, -73.98689, -73.977449, -73.94258, -74.01369100000002, -74.011324, -74.011324, -73.900759, -73.929877, -73.914621, -73.912497, -73.855183, -73.994014, -73.975925, -73.905501, -73.961399, -73.938632, -73.950284, -73.96674200000002, -73.975346, -73.966291, -74.00626700000002, -73.997877, -73.997211, -73.95180699999997, -73.949625, -73.886425, -73.846471, -73.912497, -73.845625, -73.860977, -73.987169, -73.941486, -73.947644, -73.954833, -73.958201, -73.797011, -73.788493, -73.776433, -73.768194, -73.92874, -73.898485, -73.837223, -73.816859, -74.006953, -73.93631500000002, -73.93644300000003, -73.94537, -73.896403, -73.902819, -73.902047, -73.900444, -73.95348100000002, -73.947387, -73.837631, -73.832181, -73.824713, -73.834058, -73.76151999999998, -73.945112, -73.945112, -73.949876, -73.86760699999998, -73.867393, -73.867135, -73.86625500000002, -73.862736, -73.860505, -73.857265, -73.994551, -73.994229, -73.99884200000002, -74.00064499999998, -74.00178199999998, -73.998456, -73.993821, -73.899472, -73.899558, -73.94165799999998, -73.935692, -73.928826, -73.92228100000001, -73.916337, -73.865376, -73.85896, -73.85149200000002, -73.843853, -73.887659, -73.879774, -73.873551, -73.868465, -74.011717, -74.005387, -73.990388, -73.985088, -73.98200899999998, -73.98066800000002, -73.979359, -73.978243, -73.99663199999998, -73.98695500000002, -73.98362900000002, -73.927131, -73.907776, -73.903077, -73.89591, -73.907797, -73.90146700000003, -73.89674699999998, -73.89322800000002, -73.891876, -73.95779399999998, -73.958759, -73.919685, -73.830301, -73.816068, -73.813684, -73.820143, -73.82643, -73.837459, -73.978179, -73.975732, -73.975453, -73.974166, -73.97298599999998, -73.973329, -73.974531, -73.836687, -73.832545, -73.828125, -73.855355, -73.83085, -73.91048, -73.898871, -73.891726, -73.884687, -73.880074, -73.873765, -73.920801, -73.911939, -73.89655400000002, -73.890438, -73.88076099999998, -73.91335500000002, -73.854389, -73.926165, -73.919234, -73.91447099999998, -73.90769, -73.904085, -73.89605999999998, -73.950198, -73.981912, -73.992727, -73.99794399999998, -73.985065, -73.828082, -73.957751, -73.996204, -74.000977, -74.000977, -73.834026, -73.964016, -73.954006, -73.830301, -73.78235600000002, -74.0099, -74.0099, -73.9882, -73.9882, -73.9929, -74.0329, -74.1557, -73.9969, -74.0348, -73.9988, -74.0071, -74.1745, -74.1745, -74.1745, -74.1745, -74.0275, -74.0431, -74.0627, -73.9584429, -73.9584429, -73.9494105], \"name\": \"\", \"radius\": 13, \"subplot\": \"mapbox\", \"type\": \"densitymapbox\", \"z\": [188.15239477503627, 321.20362473347546, 105.40108401084011, 164.3548387096774, 188.4616935483871, 123.13789581205312, 86.79865771812081, 145.60772357723576, 60.548048048048045, 503.17225286380994, 516.0014405070585, 412.5184943429069, 342.4541595925297, 319.3008935824533, 345.3538581449727, 210.55161290322582, 412.38017808749515, 255.80650406504066, 562.6878083157153, 173.19753086419752, 393.273640167364, 524.1581790123457, 547.2923621648963, 648.6799516908212, 492.85146053449347, 439.3551215623755, 288.6449165402124, 214.2175170419335, 274.0408031088083, 194.1984126984127, 263.60940695296523, 352.9286761113825, 442.3984877126654, 552.9970384995064, 580.96192, 469.664, 303.61520947176683, 276.552, 243.05962059620597, 94.2459349593496, 198.91027732463294, 168.46031746031747, 239.85302390998592, 478.961262553802, 168.3030650243483, 312.2043902439024, 217.3652575957728, 473.55085324232084, 614.5633112907176, 702.8977159880834, 454.57598499061913, 269.57780119423956, 368.1224028906956, 333.4887640449438, 262.9808, 283.0151162790698, 330.4979658258747, 589.452528837622, 308.94736842105266, 249.27249618708694, 122.24269889224573, 370.47, 218.59571428571428, 410.4543010752688, 374.7075045207957, 338.758064516129, 320.1739837398374, 252.82767978290366, 173.4491869918699, 247.26190476190476, 226.1219512195122, 284.1137566137566, 75.49640512660206, 159.65042892156862, 303.17171129220026, 541.0667414469995, 323.4420731707317, 431.4374445430346, 381.99267605633804, 482.2087890625, 357.37719298245617, 420.8042071197411, 161.10659439927733, 143.24983119513843, 112.83258325832583, 167.77235772357724, 377.8917682926829, 474.16007532956684, 555.7543453070683, 417.0949913644214, 513.991935483871, 494.52041633306646, 520.9078590785908, 358.2717201166181, 318.295177222545, 134.95762711864407, 787.1203953279424, 482.92257742257743, 356.56418918918916, 249.08762886597938, 344.9487776484284, 271.0587557603687, 577.7018970189702, 314.54397590361447, 197.16162570888469, 227.10012836970475, 366.3615176151761, 259.8877221324717, 489.1494565217391, 164.62401150251617, 146.73144687666846, 387.08662477558346, 419.9593495934959, 750.912, 327.99457994579944, 300.9334239130435, 511.5703125, 411.5877034358047, 387.4205714285714, 426.87566137566137, 107.63266666666667, 181.7310379241517, 333.5656445370646, 106.72845528455285, 198.13711151736746, 148.61717921527043, 321.52382528127066, 532.1409244644871, 182.3678048780488, 169.0808, 200.06696832579186, 425.4175925925926, 388.3208722741433, 654.151948051948, 294.2336608287057, 152.16818950930627, 253.15241379310345, 312.74565381708237, 310.2456140350877, 525.5115384615384, 286.2650406504065, 273.78577336641854, 430.1439342015079, 550.6829268292682, 608.6861788617886, 262.479674796748, 210.09008297115764, 299.98464317976516, 341.6423632935261, 272.40525838621943, 170.65746971736203, 204.20900321543408, 272.2858585858586, 360.99160335865656, 597.4733333333334, 423.932123655914, 435.9837398373984, 320.42818428184285, 300.0348300461603, 202.40853658536585, 266.6448497854077, 16.994292237442924, 383.1270125223614, 380.96214689265537, 385.54023668639053, 387.9569105691057, 742.3798801900434, 721.3760162601626, 223.11498257839722, 169.6339648173207, 461.2457516339869, 556.0060501296456, 478.5880376344086, 360.70665171898355, 461.06597222222223, 490.96573875803, 574.404779969651, 620.7574525745257, 499.13279132791325, 443.27510040160644, 378.4105691056911, 430.5934959349593, 353.50948509485096, 300.17378917378915, 419.7532258064516, 303.37931034482756, 480.3125845737483, 576.5730724971231, 467.68428184281845, 398.8367816091954, 364.0, 341.65501792114696, 184.36964285714285, 376.0960854092527, 559.9959349593496, 646.2367816091954, 311.0257801899593, 252.77800407331975, 431.53284671532845, 206.6564185544768, 684.3414634146342, 176.8465547191662, 480.22996515679444, 380.2812858783008, 226.61318830727396, 569.6161434977579, 380.4634146341463, 188.96975806451613, 323.808552958727, 315.0271739130435, 203.4435975609756, 283.01984126984127, 280.91726618705036, 137.82657463330457, 608.4243902439024, 218.48759007205766, 184.7827140549273, 220.0976331360947, 713.5174418604652, 398.03306878306876, 287.08909574468083, 306.4430894308943, 156.86449864498644, 243.53252032520325, 115.6740576496674, 103.10944340212633, 123.48617886178862, 125.9047619047619, 290.7818428184282, 431.38900203665986, 270.1446725317693, 295.75880758807585, 643.9241645244216, 377.57886178861787, 307.6006097560976, 423.51258992805754, 219.89961089494165, 727.7295742232451, 122.7757785467128, 112.15165336374002, 568.6032388663967, 506.9504132231405, 200.21938088829071, 203.86933797909407, 143.4836956521739, 612.5548387096774, 400.0448979591837, 327.1290760869565, 319.9049049049049, 573.2985553772071, 118.76344086021506, 342.7812274368231, 134.478, 245.46844660194174, 253.6570796460177, 319.3516260162602, 220.1189948263119, 348.25338753387535, 684.1824, 475.9731182795699, 335.5907859078591, 66.8119241192412, 114.3125, 541.2547425474255, 247.66932270916334, 153.5635478637101, 203.84, 259.64029438822445, 290.58246828143024, 249.9878048780488, 198.6070460704607, 329.1834189288335, 371.12078977932634, 627.709349593496, 346.1544715447154, 300.1485022307202, 427.3946666666667, 223.01344086021504, 281.66615384615386, 291.5371621621622, 437.0833333333333, 269.169696969697, 106.79382303839733, 165.3003048780488, 201.64692218350754, 183.92147806004618, 515.7853260869565, 281.7371854613234, 146.38297872340425, 217.76338602753697, 278.196015936255, 206.40108401084012, 603.3925788497218, 289.07859078590786, 264.5772357723577, 129.5737704918033, 215.54301075268816, 199.66007194244605, 415.289972899729, 434.8844022169438, 771.5284552845528, 253.04962153069806, 411.8359375, 233.65523632993512, 89.06865464632455, 97.0815331010453, 130.04655870445345, 306.88, 345.9979674796748, 344.63709677419354, 586.6476190476191, 397.45257452574526, 91.34897959183674, 184.48238482384824, 383.5301837270341, 284.9672131147541, 101.32377919320595, 120.28252032520325, 219.80023228803717, 313.0830728003573, 298.0584239130435, 258.4561965811966, 611.9068825910931, 404.6666666666667, 293.9469387755102, 108.33522727272727, 122.59756097560975, 314.2940379403794, 90.38852789603406, 221.2330623306233, 316.49457994579944, 163.4130081300813, 141.59171597633136, 288.70151515151514, 211.59866962305986, 136.83414634146342, 109.42290076335878, 46.65912762520194, 61.1739837398374, 112.6910569105691, 290.0731707317073, 58.308243727598565, 227.30662020905925, 161.66666666666666, 149.547703180212, 383.3411458333333, 219.1522177419355, 202.2570564516129, 130.1951219512195, 515.4349593495934, 169.85040650406503, 156.75874769797423, 200.9106438896189, 78.71280991735537, 71.94907407407408, 220.7170474516696, 85.46612903225807, 117.3219512195122, 210.3451776649746, 293.1417624521073, 196.24661246612467, 202.19623655913978, 356.7602179836512, 224.14634146341464, 405.54002713704205, 228.02173913043478, 294.8719723183391, 177.10894308943088, 238.66898954703834, 130.2384701912261, 223.384126984127, 251.65645161290323, 391.1680216802168, 317.8130081300813, 318.1951219512195, 461.81029810298105, 262.8841463414634, 216.8311444652908, 752.8224489795919, 416.26881720430106, 514.6178861788618, 485.63143631436316, 415.3089430894309, 144.6225319396051, 198.10326086956522, 170.2905027932961, 288.7099358974359, 172.0587172538392, 382.9010840108401, 175.8882833787466, 529.1711111111111, 164.62012987012986, 170.5703564727955, 215.81730769230768, 362.4859967051071, 237.647311827957, 126.72195121951219, 186.53216374269005, 150.22151224707136, 315.5076923076923, 174.5609756097561, 193.0670731707317, 156.0569105691057, 289.1639344262295, 181.0309072781655, 174.79349593495934, 210.7729658792651, 281.390243902439, 149.4115292233787, 172.96383647798743, 110.15284552845529, 144.83333333333334, 314.040625, 72.70365853658537, 17.926509186351705, 60.110236220472444, 36.472131147540985, 21.104, 50.990243902439026, 103.10742971887551, 56.28846153846154, 54.70603674540683, 62.734671125975474, 147.0734908136483, 60.57564575645756, 90.79945799457994, 93.28571428571429, 174.92547425474254, 191.1029810298103, 250.73641304347825, 302.8841463414634, 251.05191256830602, 230.35772357723576, 279.66124661246613, 468.760162601626, 324.6584699453552, 561.4281842818428, 332.4460285132383, 200.46109175377467, 203.98133333333334, 305.0027322404372, 244.09214092140923, 162.48097412480973, 221.1413043478261, 504.9379157427938, 248.82638888888889, 152.17866666666666, 54.6813922356091, 242.20054200542006, 160.42292490118578, 319.2134146341463, 534.1245235069886, 710.5267379679144, 161.69376693766938, 158.81436314363143, 0.9804878048780488, 221.95470798569727, 342.2014896119169, 432.1719520789288, 303.0714584203928, 57.05420054200542, 183.11182108626198, 125.83219178082192, 100.83733333333333, 284.86367281475543, 367.3506419400856, 503.86348122866895, 181.59109792284866, 351.3080977479636, 302.3492537313433, 210.82183098591548, 134.9618386816999, 250.5487421383648, 508.70217729393465, 326.1243523316062, 387.6509635974304, 149.19691863264325, 61.560778727445395, 163.09209888511876, 108.12709832134293, 128.95849056603774, 326.7918118466899, 388.5240577385726, 470.691646778043, 419.3818576860402, 304.69792194627473]}],\n",
       "                        {\"coloraxis\": {\"colorbar\": {\"title\": {\"text\": \"total_turns\"}}, \"colorscale\": [[0.0, \"rgb(255,255,204)\"], [0.125, \"rgb(255,237,160)\"], [0.25, \"rgb(254,217,118)\"], [0.375, \"rgb(254,178,76)\"], [0.5, \"rgb(253,141,60)\"], [0.625, \"rgb(252,78,42)\"], [0.75, \"rgb(227,26,28)\"], [0.875, \"rgb(189,0,38)\"], [1.0, \"rgb(128,0,38)\"]]}, \"legend\": {\"tracegroupgap\": 0}, \"mapbox\": {\"accesstoken\": \"pk.eyJ1IjoiY3dlc3RuZWRnZSIsImEiOiJja2ZnMGNqNmowMGQ3MnJwdDAwdGhyc21hIn0.bo4mFps9s1wRmgjIvI7KiQ\", \"center\": {\"lat\": 40.7429, \"lon\": -73.9929}, \"domain\": {\"x\": [0.0, 1.0], \"y\": [0.0, 1.0]}, \"style\": \"stamen-terrain\", \"zoom\": 9.5}, \"margin\": {\"b\": 0, \"l\": 0, \"r\": 0, \"t\": 0}, \"template\": {\"data\": {\"bar\": [{\"error_x\": {\"color\": \"#2a3f5f\"}, \"error_y\": {\"color\": \"#2a3f5f\"}, \"marker\": {\"line\": {\"color\": \"#E5ECF6\", \"width\": 0.5}}, \"type\": \"bar\"}], \"barpolar\": [{\"marker\": {\"line\": {\"color\": \"#E5ECF6\", \"width\": 0.5}}, \"type\": \"barpolar\"}], \"carpet\": [{\"aaxis\": {\"endlinecolor\": \"#2a3f5f\", \"gridcolor\": \"white\", \"linecolor\": \"white\", \"minorgridcolor\": \"white\", \"startlinecolor\": \"#2a3f5f\"}, \"baxis\": {\"endlinecolor\": \"#2a3f5f\", \"gridcolor\": \"white\", \"linecolor\": \"white\", \"minorgridcolor\": \"white\", \"startlinecolor\": \"#2a3f5f\"}, \"type\": \"carpet\"}], \"choropleth\": [{\"colorbar\": {\"outlinewidth\": 0, \"ticks\": \"\"}, \"type\": \"choropleth\"}], \"contour\": [{\"colorbar\": {\"outlinewidth\": 0, \"ticks\": \"\"}, \"colorscale\": [[0.0, \"#0d0887\"], [0.1111111111111111, \"#46039f\"], [0.2222222222222222, \"#7201a8\"], [0.3333333333333333, \"#9c179e\"], [0.4444444444444444, \"#bd3786\"], [0.5555555555555556, \"#d8576b\"], [0.6666666666666666, \"#ed7953\"], [0.7777777777777778, \"#fb9f3a\"], [0.8888888888888888, \"#fdca26\"], [1.0, \"#f0f921\"]], \"type\": \"contour\"}], \"contourcarpet\": [{\"colorbar\": {\"outlinewidth\": 0, \"ticks\": \"\"}, \"type\": \"contourcarpet\"}], \"heatmap\": [{\"colorbar\": {\"outlinewidth\": 0, \"ticks\": \"\"}, \"colorscale\": [[0.0, \"#0d0887\"], [0.1111111111111111, \"#46039f\"], [0.2222222222222222, \"#7201a8\"], [0.3333333333333333, \"#9c179e\"], [0.4444444444444444, \"#bd3786\"], [0.5555555555555556, \"#d8576b\"], [0.6666666666666666, \"#ed7953\"], [0.7777777777777778, \"#fb9f3a\"], [0.8888888888888888, \"#fdca26\"], [1.0, \"#f0f921\"]], \"type\": \"heatmap\"}], \"heatmapgl\": [{\"colorbar\": {\"outlinewidth\": 0, \"ticks\": \"\"}, \"colorscale\": [[0.0, \"#0d0887\"], [0.1111111111111111, \"#46039f\"], [0.2222222222222222, \"#7201a8\"], [0.3333333333333333, \"#9c179e\"], [0.4444444444444444, \"#bd3786\"], [0.5555555555555556, \"#d8576b\"], [0.6666666666666666, \"#ed7953\"], [0.7777777777777778, \"#fb9f3a\"], [0.8888888888888888, \"#fdca26\"], [1.0, \"#f0f921\"]], \"type\": \"heatmapgl\"}], \"histogram\": [{\"marker\": {\"colorbar\": {\"outlinewidth\": 0, \"ticks\": \"\"}}, \"type\": \"histogram\"}], \"histogram2d\": [{\"colorbar\": {\"outlinewidth\": 0, \"ticks\": \"\"}, \"colorscale\": [[0.0, \"#0d0887\"], [0.1111111111111111, \"#46039f\"], [0.2222222222222222, \"#7201a8\"], [0.3333333333333333, \"#9c179e\"], [0.4444444444444444, \"#bd3786\"], [0.5555555555555556, \"#d8576b\"], [0.6666666666666666, \"#ed7953\"], [0.7777777777777778, \"#fb9f3a\"], [0.8888888888888888, \"#fdca26\"], [1.0, \"#f0f921\"]], \"type\": \"histogram2d\"}], \"histogram2dcontour\": [{\"colorbar\": {\"outlinewidth\": 0, \"ticks\": \"\"}, \"colorscale\": [[0.0, \"#0d0887\"], [0.1111111111111111, \"#46039f\"], [0.2222222222222222, \"#7201a8\"], [0.3333333333333333, \"#9c179e\"], [0.4444444444444444, \"#bd3786\"], [0.5555555555555556, \"#d8576b\"], [0.6666666666666666, \"#ed7953\"], [0.7777777777777778, \"#fb9f3a\"], [0.8888888888888888, \"#fdca26\"], [1.0, \"#f0f921\"]], \"type\": \"histogram2dcontour\"}], \"mesh3d\": [{\"colorbar\": {\"outlinewidth\": 0, \"ticks\": \"\"}, \"type\": \"mesh3d\"}], \"parcoords\": [{\"line\": {\"colorbar\": {\"outlinewidth\": 0, \"ticks\": \"\"}}, \"type\": \"parcoords\"}], \"pie\": [{\"automargin\": true, \"type\": \"pie\"}], \"scatter\": [{\"marker\": {\"colorbar\": {\"outlinewidth\": 0, \"ticks\": \"\"}}, \"type\": \"scatter\"}], \"scatter3d\": [{\"line\": {\"colorbar\": {\"outlinewidth\": 0, \"ticks\": \"\"}}, \"marker\": {\"colorbar\": {\"outlinewidth\": 0, \"ticks\": \"\"}}, \"type\": \"scatter3d\"}], \"scattercarpet\": [{\"marker\": {\"colorbar\": {\"outlinewidth\": 0, \"ticks\": \"\"}}, \"type\": \"scattercarpet\"}], \"scattergeo\": [{\"marker\": {\"colorbar\": {\"outlinewidth\": 0, \"ticks\": \"\"}}, \"type\": \"scattergeo\"}], \"scattergl\": [{\"marker\": {\"colorbar\": {\"outlinewidth\": 0, \"ticks\": \"\"}}, \"type\": \"scattergl\"}], \"scattermapbox\": [{\"marker\": {\"colorbar\": {\"outlinewidth\": 0, \"ticks\": \"\"}}, \"type\": \"scattermapbox\"}], \"scatterpolar\": [{\"marker\": {\"colorbar\": {\"outlinewidth\": 0, \"ticks\": \"\"}}, \"type\": \"scatterpolar\"}], \"scatterpolargl\": [{\"marker\": {\"colorbar\": {\"outlinewidth\": 0, \"ticks\": \"\"}}, \"type\": \"scatterpolargl\"}], \"scatterternary\": [{\"marker\": {\"colorbar\": {\"outlinewidth\": 0, \"ticks\": \"\"}}, \"type\": \"scatterternary\"}], \"surface\": [{\"colorbar\": {\"outlinewidth\": 0, \"ticks\": \"\"}, \"colorscale\": [[0.0, \"#0d0887\"], [0.1111111111111111, \"#46039f\"], [0.2222222222222222, \"#7201a8\"], [0.3333333333333333, \"#9c179e\"], [0.4444444444444444, \"#bd3786\"], [0.5555555555555556, \"#d8576b\"], [0.6666666666666666, \"#ed7953\"], [0.7777777777777778, \"#fb9f3a\"], [0.8888888888888888, \"#fdca26\"], [1.0, \"#f0f921\"]], \"type\": \"surface\"}], \"table\": [{\"cells\": {\"fill\": {\"color\": \"#EBF0F8\"}, \"line\": {\"color\": \"white\"}}, \"header\": {\"fill\": {\"color\": \"#C8D4E3\"}, \"line\": {\"color\": \"white\"}}, \"type\": \"table\"}]}, \"layout\": {\"annotationdefaults\": {\"arrowcolor\": \"#2a3f5f\", \"arrowhead\": 0, \"arrowwidth\": 1}, \"coloraxis\": {\"colorbar\": {\"outlinewidth\": 0, \"ticks\": \"\"}}, \"colorscale\": {\"diverging\": [[0, \"#8e0152\"], [0.1, \"#c51b7d\"], [0.2, \"#de77ae\"], [0.3, \"#f1b6da\"], [0.4, \"#fde0ef\"], [0.5, \"#f7f7f7\"], [0.6, \"#e6f5d0\"], [0.7, \"#b8e186\"], [0.8, \"#7fbc41\"], [0.9, \"#4d9221\"], [1, \"#276419\"]], \"sequential\": [[0.0, \"#0d0887\"], [0.1111111111111111, \"#46039f\"], [0.2222222222222222, \"#7201a8\"], [0.3333333333333333, \"#9c179e\"], [0.4444444444444444, \"#bd3786\"], [0.5555555555555556, \"#d8576b\"], [0.6666666666666666, \"#ed7953\"], [0.7777777777777778, \"#fb9f3a\"], [0.8888888888888888, \"#fdca26\"], [1.0, \"#f0f921\"]], \"sequentialminus\": [[0.0, \"#0d0887\"], [0.1111111111111111, \"#46039f\"], [0.2222222222222222, \"#7201a8\"], [0.3333333333333333, \"#9c179e\"], [0.4444444444444444, \"#bd3786\"], [0.5555555555555556, \"#d8576b\"], [0.6666666666666666, \"#ed7953\"], [0.7777777777777778, \"#fb9f3a\"], [0.8888888888888888, \"#fdca26\"], [1.0, \"#f0f921\"]]}, \"colorway\": [\"#636efa\", \"#EF553B\", \"#00cc96\", \"#ab63fa\", \"#FFA15A\", \"#19d3f3\", \"#FF6692\", \"#B6E880\", \"#FF97FF\", \"#FECB52\"], \"font\": {\"color\": \"#2a3f5f\"}, \"geo\": {\"bgcolor\": \"white\", \"lakecolor\": \"white\", \"landcolor\": \"#E5ECF6\", \"showlakes\": true, \"showland\": true, \"subunitcolor\": \"white\"}, \"hoverlabel\": {\"align\": \"left\"}, \"hovermode\": \"closest\", \"mapbox\": {\"style\": \"light\"}, \"paper_bgcolor\": \"white\", \"plot_bgcolor\": \"#E5ECF6\", \"polar\": {\"angularaxis\": {\"gridcolor\": \"white\", \"linecolor\": \"white\", \"ticks\": \"\"}, \"bgcolor\": \"#E5ECF6\", \"radialaxis\": {\"gridcolor\": \"white\", \"linecolor\": \"white\", \"ticks\": \"\"}}, \"scene\": {\"xaxis\": {\"backgroundcolor\": \"#E5ECF6\", \"gridcolor\": \"white\", \"gridwidth\": 2, \"linecolor\": \"white\", \"showbackground\": true, \"ticks\": \"\", \"zerolinecolor\": \"white\"}, \"yaxis\": {\"backgroundcolor\": \"#E5ECF6\", \"gridcolor\": \"white\", \"gridwidth\": 2, \"linecolor\": \"white\", \"showbackground\": true, \"ticks\": \"\", \"zerolinecolor\": \"white\"}, \"zaxis\": {\"backgroundcolor\": \"#E5ECF6\", \"gridcolor\": \"white\", \"gridwidth\": 2, \"linecolor\": \"white\", \"showbackground\": true, \"ticks\": \"\", \"zerolinecolor\": \"white\"}}, \"shapedefaults\": {\"line\": {\"color\": \"#2a3f5f\"}}, \"ternary\": {\"aaxis\": {\"gridcolor\": \"white\", \"linecolor\": \"white\", \"ticks\": \"\"}, \"baxis\": {\"gridcolor\": \"white\", \"linecolor\": \"white\", \"ticks\": \"\"}, \"bgcolor\": \"#E5ECF6\", \"caxis\": {\"gridcolor\": \"white\", \"linecolor\": \"white\", \"ticks\": \"\"}}, \"title\": {\"x\": 0.05}, \"xaxis\": {\"automargin\": true, \"gridcolor\": \"white\", \"linecolor\": \"white\", \"ticks\": \"\", \"title\": {\"standoff\": 15}, \"zerolinecolor\": \"white\", \"zerolinewidth\": 2}, \"yaxis\": {\"automargin\": true, \"gridcolor\": \"white\", \"linecolor\": \"white\", \"ticks\": \"\", \"title\": {\"standoff\": 15}, \"zerolinecolor\": \"white\", \"zerolinewidth\": 2}}}},\n",
       "                        {\"responsive\": true}\n",
       "                    ).then(function(){\n",
       "                            \n",
       "var gd = document.getElementById('c064feb0-5a97-4ed8-b78d-ccf0971a99db');\n",
       "var x = new MutationObserver(function (mutations, observer) {{\n",
       "        var display = window.getComputedStyle(gd).display;\n",
       "        if (!display || display === 'none') {{\n",
       "            console.log([gd, 'removed!']);\n",
       "            Plotly.purge(gd);\n",
       "            observer.disconnect();\n",
       "        }}\n",
       "}});\n",
       "\n",
       "// Listen for the removal of the full notebook cells\n",
       "var notebookContainer = gd.closest('#notebook-container');\n",
       "if (notebookContainer) {{\n",
       "    x.observe(notebookContainer, {childList: true});\n",
       "}}\n",
       "\n",
       "// Listen for the clearing of the current output cell\n",
       "var outputEl = gd.closest('.output');\n",
       "if (outputEl) {{\n",
       "    x.observe(outputEl, {childList: true});\n",
       "}}\n",
       "\n",
       "                        })\n",
       "                };\n",
       "                });\n",
       "            </script>\n",
       "        </div>"
      ]
     },
     "metadata": {},
     "output_type": "display_data"
    }
   ],
   "source": [
    "fig = px.density_mapbox(map_data, lat='lat', lon='lng', \n",
    "                        z='total_turns', \n",
    "                        radius=13,\n",
    "                        color_continuous_scale=px.colors.sequential.YlOrRd,\n",
    "                        center=dict(lat=40.7429, lon=-73.9929), zoom=9.5,\n",
    "                        hover_data=['STATION'],\n",
    "                        mapbox_style=\"stamen-terrain\")\n",
    "\n",
    "fig.update_layout(margin={\"r\":0,\"t\":0,\"l\":0,\"b\":0})\n",
    "# fig.add_trace(fig1)\n",
    "fig.write_image(\"heatmap.pdf\")\n",
    "fig.show()"
   ]
  },
  {
   "cell_type": "code",
   "execution_count": 34,
   "metadata": {
    "scrolled": false
   },
   "outputs": [],
   "source": [
    "# import plotly.express as px\n",
    "# px.set_mapbox_access_token('pk.eyJ1IjoiY3dlc3RuZWRnZSIsImEiOiJja2ZnMGNqNmowMGQ3MnJwdDAwdGhyc21hIn0.bo4mFps9s1wRmgjIvI7KiQ')\n",
    "# fig = px.scatter_mapbox(a,\n",
    "#                         lat=\"lat\",\n",
    "#                         lon=\"lng\", \n",
    "# #                         color=\"peak_hour\",\n",
    "#                         hover_data=['STATION', 'exits_diff2'],\n",
    "#                         size=\"exits_diff2\",\n",
    "#                         color_continuous_scale=px.colors.cyclical.IceFire,\n",
    "                        \n",
    "#                         size_max=20, zoom=13)\n",
    "\n",
    "# fig.update_layout(margin={\"r\":0,\"t\":0,\"l\":0,\"b\":0})\n",
    "\n",
    "# fig.show()"
   ]
  },
  {
   "cell_type": "code",
   "execution_count": 24,
   "metadata": {},
   "outputs": [],
   "source": [
    "df = pd.read_csv('/Users/collinswestnedge/programming/Metis_Online/project1_group_repo/project-1/final_data.csv')"
   ]
  },
  {
   "cell_type": "code",
   "execution_count": 25,
   "metadata": {},
   "outputs": [
    {
     "data": {
      "text/html": [
       "<div>\n",
       "<style scoped>\n",
       "    .dataframe tbody tr th:only-of-type {\n",
       "        vertical-align: middle;\n",
       "    }\n",
       "\n",
       "    .dataframe tbody tr th {\n",
       "        vertical-align: top;\n",
       "    }\n",
       "\n",
       "    .dataframe thead th {\n",
       "        text-align: right;\n",
       "    }\n",
       "</style>\n",
       "<table border=\"1\" class=\"dataframe\">\n",
       "  <thead>\n",
       "    <tr style=\"text-align: right;\">\n",
       "      <th></th>\n",
       "      <th>C/A</th>\n",
       "      <th>UNIT</th>\n",
       "      <th>SCP</th>\n",
       "      <th>STATION</th>\n",
       "      <th>LINENAME</th>\n",
       "      <th>DIVISION</th>\n",
       "      <th>DATE</th>\n",
       "      <th>TIME</th>\n",
       "      <th>DESC</th>\n",
       "      <th>ENTRIES</th>\n",
       "      <th>...</th>\n",
       "      <th>exits_diff</th>\n",
       "      <th>total_turns</th>\n",
       "      <th>day_of_week</th>\n",
       "      <th>station_unique</th>\n",
       "      <th>station_name</th>\n",
       "      <th>lat</th>\n",
       "      <th>lng</th>\n",
       "      <th>location_string</th>\n",
       "      <th>weekly_turns</th>\n",
       "      <th>borough</th>\n",
       "    </tr>\n",
       "  </thead>\n",
       "  <tbody>\n",
       "    <tr>\n",
       "      <th>0</th>\n",
       "      <td>A002</td>\n",
       "      <td>R051</td>\n",
       "      <td>02-00-00</td>\n",
       "      <td>59 ST</td>\n",
       "      <td>NQR456W</td>\n",
       "      <td>BMT</td>\n",
       "      <td>08/31/2019</td>\n",
       "      <td>04:00:00</td>\n",
       "      <td>REGULAR</td>\n",
       "      <td>7183258</td>\n",
       "      <td>...</td>\n",
       "      <td>7.0</td>\n",
       "      <td>23.0</td>\n",
       "      <td>6. Sat</td>\n",
       "      <td>59 ST-NQR456W</td>\n",
       "      <td>59 ST</td>\n",
       "      <td>40.762796</td>\n",
       "      <td>-73.967686</td>\n",
       "      <td>40.762796,-73.967686</td>\n",
       "      <td>7.666667</td>\n",
       "      <td>Manhattan</td>\n",
       "    </tr>\n",
       "    <tr>\n",
       "      <th>1</th>\n",
       "      <td>A002</td>\n",
       "      <td>R051</td>\n",
       "      <td>02-00-00</td>\n",
       "      <td>59 ST</td>\n",
       "      <td>NQR456W</td>\n",
       "      <td>BMT</td>\n",
       "      <td>08/31/2019</td>\n",
       "      <td>08:00:00</td>\n",
       "      <td>REGULAR</td>\n",
       "      <td>7183278</td>\n",
       "      <td>...</td>\n",
       "      <td>27.0</td>\n",
       "      <td>47.0</td>\n",
       "      <td>6. Sat</td>\n",
       "      <td>59 ST-NQR456W</td>\n",
       "      <td>59 ST</td>\n",
       "      <td>40.762796</td>\n",
       "      <td>-73.967686</td>\n",
       "      <td>40.762796,-73.967686</td>\n",
       "      <td>15.666667</td>\n",
       "      <td>Manhattan</td>\n",
       "    </tr>\n",
       "    <tr>\n",
       "      <th>2</th>\n",
       "      <td>A002</td>\n",
       "      <td>R051</td>\n",
       "      <td>02-00-00</td>\n",
       "      <td>59 ST</td>\n",
       "      <td>NQR456W</td>\n",
       "      <td>BMT</td>\n",
       "      <td>08/31/2019</td>\n",
       "      <td>12:00:00</td>\n",
       "      <td>REGULAR</td>\n",
       "      <td>7183393</td>\n",
       "      <td>...</td>\n",
       "      <td>86.0</td>\n",
       "      <td>201.0</td>\n",
       "      <td>6. Sat</td>\n",
       "      <td>59 ST-NQR456W</td>\n",
       "      <td>59 ST</td>\n",
       "      <td>40.762796</td>\n",
       "      <td>-73.967686</td>\n",
       "      <td>40.762796,-73.967686</td>\n",
       "      <td>67.000000</td>\n",
       "      <td>Manhattan</td>\n",
       "    </tr>\n",
       "    <tr>\n",
       "      <th>3</th>\n",
       "      <td>A002</td>\n",
       "      <td>R051</td>\n",
       "      <td>02-00-00</td>\n",
       "      <td>59 ST</td>\n",
       "      <td>NQR456W</td>\n",
       "      <td>BMT</td>\n",
       "      <td>08/31/2019</td>\n",
       "      <td>16:00:00</td>\n",
       "      <td>REGULAR</td>\n",
       "      <td>7183572</td>\n",
       "      <td>...</td>\n",
       "      <td>50.0</td>\n",
       "      <td>229.0</td>\n",
       "      <td>6. Sat</td>\n",
       "      <td>59 ST-NQR456W</td>\n",
       "      <td>59 ST</td>\n",
       "      <td>40.762796</td>\n",
       "      <td>-73.967686</td>\n",
       "      <td>40.762796,-73.967686</td>\n",
       "      <td>76.333333</td>\n",
       "      <td>Manhattan</td>\n",
       "    </tr>\n",
       "    <tr>\n",
       "      <th>4</th>\n",
       "      <td>A002</td>\n",
       "      <td>R051</td>\n",
       "      <td>02-00-00</td>\n",
       "      <td>59 ST</td>\n",
       "      <td>NQR456W</td>\n",
       "      <td>BMT</td>\n",
       "      <td>08/31/2019</td>\n",
       "      <td>20:00:00</td>\n",
       "      <td>REGULAR</td>\n",
       "      <td>7183842</td>\n",
       "      <td>...</td>\n",
       "      <td>36.0</td>\n",
       "      <td>306.0</td>\n",
       "      <td>6. Sat</td>\n",
       "      <td>59 ST-NQR456W</td>\n",
       "      <td>59 ST</td>\n",
       "      <td>40.762796</td>\n",
       "      <td>-73.967686</td>\n",
       "      <td>40.762796,-73.967686</td>\n",
       "      <td>102.000000</td>\n",
       "      <td>Manhattan</td>\n",
       "    </tr>\n",
       "    <tr>\n",
       "      <th>...</th>\n",
       "      <td>...</td>\n",
       "      <td>...</td>\n",
       "      <td>...</td>\n",
       "      <td>...</td>\n",
       "      <td>...</td>\n",
       "      <td>...</td>\n",
       "      <td>...</td>\n",
       "      <td>...</td>\n",
       "      <td>...</td>\n",
       "      <td>...</td>\n",
       "      <td>...</td>\n",
       "      <td>...</td>\n",
       "      <td>...</td>\n",
       "      <td>...</td>\n",
       "      <td>...</td>\n",
       "      <td>...</td>\n",
       "      <td>...</td>\n",
       "      <td>...</td>\n",
       "      <td>...</td>\n",
       "      <td>...</td>\n",
       "      <td>...</td>\n",
       "    </tr>\n",
       "    <tr>\n",
       "      <th>580911</th>\n",
       "      <td>TRAM2</td>\n",
       "      <td>R469</td>\n",
       "      <td>00-00-01</td>\n",
       "      <td>RIT-ROOSEVELT</td>\n",
       "      <td>R</td>\n",
       "      <td>RIT</td>\n",
       "      <td>09/29/2017</td>\n",
       "      <td>05:00:00</td>\n",
       "      <td>REGULAR</td>\n",
       "      <td>2409061</td>\n",
       "      <td>...</td>\n",
       "      <td>3.0</td>\n",
       "      <td>4.0</td>\n",
       "      <td>5. Fri</td>\n",
       "      <td>RIT-ROOSEVELT-R</td>\n",
       "      <td>RIT-ROOSEVELT</td>\n",
       "      <td>40.757400</td>\n",
       "      <td>-73.954006</td>\n",
       "      <td>40.7574,-73.954006</td>\n",
       "      <td>1.333333</td>\n",
       "      <td>Manhattan</td>\n",
       "    </tr>\n",
       "    <tr>\n",
       "      <th>580912</th>\n",
       "      <td>TRAM2</td>\n",
       "      <td>R469</td>\n",
       "      <td>00-00-01</td>\n",
       "      <td>RIT-ROOSEVELT</td>\n",
       "      <td>R</td>\n",
       "      <td>RIT</td>\n",
       "      <td>09/29/2017</td>\n",
       "      <td>09:00:00</td>\n",
       "      <td>REGULAR</td>\n",
       "      <td>2409381</td>\n",
       "      <td>...</td>\n",
       "      <td>0.0</td>\n",
       "      <td>320.0</td>\n",
       "      <td>5. Fri</td>\n",
       "      <td>RIT-ROOSEVELT-R</td>\n",
       "      <td>RIT-ROOSEVELT</td>\n",
       "      <td>40.757400</td>\n",
       "      <td>-73.954006</td>\n",
       "      <td>40.7574,-73.954006</td>\n",
       "      <td>106.666667</td>\n",
       "      <td>Manhattan</td>\n",
       "    </tr>\n",
       "    <tr>\n",
       "      <th>580913</th>\n",
       "      <td>TRAM2</td>\n",
       "      <td>R469</td>\n",
       "      <td>00-00-01</td>\n",
       "      <td>RIT-ROOSEVELT</td>\n",
       "      <td>R</td>\n",
       "      <td>RIT</td>\n",
       "      <td>09/29/2017</td>\n",
       "      <td>13:00:00</td>\n",
       "      <td>REGULAR</td>\n",
       "      <td>2409728</td>\n",
       "      <td>...</td>\n",
       "      <td>5.0</td>\n",
       "      <td>352.0</td>\n",
       "      <td>5. Fri</td>\n",
       "      <td>RIT-ROOSEVELT-R</td>\n",
       "      <td>RIT-ROOSEVELT</td>\n",
       "      <td>40.757400</td>\n",
       "      <td>-73.954006</td>\n",
       "      <td>40.7574,-73.954006</td>\n",
       "      <td>117.333333</td>\n",
       "      <td>Manhattan</td>\n",
       "    </tr>\n",
       "    <tr>\n",
       "      <th>580914</th>\n",
       "      <td>TRAM2</td>\n",
       "      <td>R469</td>\n",
       "      <td>00-00-01</td>\n",
       "      <td>RIT-ROOSEVELT</td>\n",
       "      <td>R</td>\n",
       "      <td>RIT</td>\n",
       "      <td>09/29/2017</td>\n",
       "      <td>17:00:00</td>\n",
       "      <td>REGULAR</td>\n",
       "      <td>2410067</td>\n",
       "      <td>...</td>\n",
       "      <td>3.0</td>\n",
       "      <td>342.0</td>\n",
       "      <td>5. Fri</td>\n",
       "      <td>RIT-ROOSEVELT-R</td>\n",
       "      <td>RIT-ROOSEVELT</td>\n",
       "      <td>40.757400</td>\n",
       "      <td>-73.954006</td>\n",
       "      <td>40.7574,-73.954006</td>\n",
       "      <td>114.000000</td>\n",
       "      <td>Manhattan</td>\n",
       "    </tr>\n",
       "    <tr>\n",
       "      <th>580915</th>\n",
       "      <td>TRAM2</td>\n",
       "      <td>R469</td>\n",
       "      <td>00-00-01</td>\n",
       "      <td>RIT-ROOSEVELT</td>\n",
       "      <td>R</td>\n",
       "      <td>RIT</td>\n",
       "      <td>09/29/2017</td>\n",
       "      <td>21:00:00</td>\n",
       "      <td>REGULAR</td>\n",
       "      <td>2410356</td>\n",
       "      <td>...</td>\n",
       "      <td>16.0</td>\n",
       "      <td>305.0</td>\n",
       "      <td>5. Fri</td>\n",
       "      <td>RIT-ROOSEVELT-R</td>\n",
       "      <td>RIT-ROOSEVELT</td>\n",
       "      <td>40.757400</td>\n",
       "      <td>-73.954006</td>\n",
       "      <td>40.7574,-73.954006</td>\n",
       "      <td>101.666667</td>\n",
       "      <td>Manhattan</td>\n",
       "    </tr>\n",
       "  </tbody>\n",
       "</table>\n",
       "<p>580916 rows × 25 columns</p>\n",
       "</div>"
      ],
      "text/plain": [
       "          C/A  UNIT       SCP        STATION LINENAME DIVISION        DATE  \\\n",
       "0        A002  R051  02-00-00          59 ST  NQR456W      BMT  08/31/2019   \n",
       "1        A002  R051  02-00-00          59 ST  NQR456W      BMT  08/31/2019   \n",
       "2        A002  R051  02-00-00          59 ST  NQR456W      BMT  08/31/2019   \n",
       "3        A002  R051  02-00-00          59 ST  NQR456W      BMT  08/31/2019   \n",
       "4        A002  R051  02-00-00          59 ST  NQR456W      BMT  08/31/2019   \n",
       "...       ...   ...       ...            ...      ...      ...         ...   \n",
       "580911  TRAM2  R469  00-00-01  RIT-ROOSEVELT        R      RIT  09/29/2017   \n",
       "580912  TRAM2  R469  00-00-01  RIT-ROOSEVELT        R      RIT  09/29/2017   \n",
       "580913  TRAM2  R469  00-00-01  RIT-ROOSEVELT        R      RIT  09/29/2017   \n",
       "580914  TRAM2  R469  00-00-01  RIT-ROOSEVELT        R      RIT  09/29/2017   \n",
       "580915  TRAM2  R469  00-00-01  RIT-ROOSEVELT        R      RIT  09/29/2017   \n",
       "\n",
       "            TIME     DESC  ENTRIES  ...  exits_diff total_turns day_of_week  \\\n",
       "0       04:00:00  REGULAR  7183258  ...         7.0        23.0      6. Sat   \n",
       "1       08:00:00  REGULAR  7183278  ...        27.0        47.0      6. Sat   \n",
       "2       12:00:00  REGULAR  7183393  ...        86.0       201.0      6. Sat   \n",
       "3       16:00:00  REGULAR  7183572  ...        50.0       229.0      6. Sat   \n",
       "4       20:00:00  REGULAR  7183842  ...        36.0       306.0      6. Sat   \n",
       "...          ...      ...      ...  ...         ...         ...         ...   \n",
       "580911  05:00:00  REGULAR  2409061  ...         3.0         4.0      5. Fri   \n",
       "580912  09:00:00  REGULAR  2409381  ...         0.0       320.0      5. Fri   \n",
       "580913  13:00:00  REGULAR  2409728  ...         5.0       352.0      5. Fri   \n",
       "580914  17:00:00  REGULAR  2410067  ...         3.0       342.0      5. Fri   \n",
       "580915  21:00:00  REGULAR  2410356  ...        16.0       305.0      5. Fri   \n",
       "\n",
       "         station_unique   station_name        lat        lng  \\\n",
       "0         59 ST-NQR456W          59 ST  40.762796 -73.967686   \n",
       "1         59 ST-NQR456W          59 ST  40.762796 -73.967686   \n",
       "2         59 ST-NQR456W          59 ST  40.762796 -73.967686   \n",
       "3         59 ST-NQR456W          59 ST  40.762796 -73.967686   \n",
       "4         59 ST-NQR456W          59 ST  40.762796 -73.967686   \n",
       "...                 ...            ...        ...        ...   \n",
       "580911  RIT-ROOSEVELT-R  RIT-ROOSEVELT  40.757400 -73.954006   \n",
       "580912  RIT-ROOSEVELT-R  RIT-ROOSEVELT  40.757400 -73.954006   \n",
       "580913  RIT-ROOSEVELT-R  RIT-ROOSEVELT  40.757400 -73.954006   \n",
       "580914  RIT-ROOSEVELT-R  RIT-ROOSEVELT  40.757400 -73.954006   \n",
       "580915  RIT-ROOSEVELT-R  RIT-ROOSEVELT  40.757400 -73.954006   \n",
       "\n",
       "             location_string weekly_turns    borough  \n",
       "0       40.762796,-73.967686     7.666667  Manhattan  \n",
       "1       40.762796,-73.967686    15.666667  Manhattan  \n",
       "2       40.762796,-73.967686    67.000000  Manhattan  \n",
       "3       40.762796,-73.967686    76.333333  Manhattan  \n",
       "4       40.762796,-73.967686   102.000000  Manhattan  \n",
       "...                      ...          ...        ...  \n",
       "580911    40.7574,-73.954006     1.333333  Manhattan  \n",
       "580912    40.7574,-73.954006   106.666667  Manhattan  \n",
       "580913    40.7574,-73.954006   117.333333  Manhattan  \n",
       "580914    40.7574,-73.954006   114.000000  Manhattan  \n",
       "580915    40.7574,-73.954006   101.666667  Manhattan  \n",
       "\n",
       "[580916 rows x 25 columns]"
      ]
     },
     "execution_count": 25,
     "metadata": {},
     "output_type": "execute_result"
    }
   ],
   "source": [
    "df"
   ]
  },
  {
   "cell_type": "code",
   "execution_count": 28,
   "metadata": {},
   "outputs": [],
   "source": [
    "df_sorted = df[df['borough']=='Manhattan']\n",
    "\n",
    "#Group by Station-Line Name Combo... eg, 34th Penn Station is one huge station but the street team\n",
    "#cannot be at the A-C-E entrance and the 1-2-3 entrance simultaneously, so that traffic should be \n",
    "#split accordingly\n",
    "df_sorted_station = df_sorted.groupby(['station_unique', 'turnstiles']).agg({'entries_diff': 'sum', 'exits_diff':'sum',\\\n",
    "                              'total_turns':'sum', 'weekly_turns':'sum'})\n",
    "#Reset turnstiles index and aggregate again to count number of turnstiles per station\n",
    "#Add turns per turnstile column\n",
    "df_sorted_station = df_sorted_station.reset_index(level='turnstiles').groupby('station_unique').agg({'turnstiles':'count', 'entries_diff': 'sum', 'exits_diff':'sum',\\\n",
    "                              'total_turns':'sum', 'weekly_turns':'sum'})\n",
    "df_sorted_station['weekly_turns_per_turnstile'] = df_sorted_station['weekly_turns']/df_sorted_station['turnstiles']\n",
    "df_sorted_station['total_turns_per_turnstile'] = df_sorted_station['total_turns']/df_sorted_station['turnstiles']\n",
    "df_sorted_station['entry_ratio'] = df_sorted_station['entries_diff']/df_sorted_station['total_turns']"
   ]
  },
  {
   "cell_type": "code",
   "execution_count": 29,
   "metadata": {},
   "outputs": [
    {
     "data": {
      "text/html": [
       "<div>\n",
       "<style scoped>\n",
       "    .dataframe tbody tr th:only-of-type {\n",
       "        vertical-align: middle;\n",
       "    }\n",
       "\n",
       "    .dataframe tbody tr th {\n",
       "        vertical-align: top;\n",
       "    }\n",
       "\n",
       "    .dataframe thead th {\n",
       "        text-align: right;\n",
       "    }\n",
       "</style>\n",
       "<table border=\"1\" class=\"dataframe\">\n",
       "  <thead>\n",
       "    <tr style=\"text-align: right;\">\n",
       "      <th></th>\n",
       "      <th>turnstiles</th>\n",
       "      <th>entries_diff</th>\n",
       "      <th>exits_diff</th>\n",
       "      <th>total_turns</th>\n",
       "      <th>weekly_turns</th>\n",
       "      <th>weekly_turns_per_turnstile</th>\n",
       "      <th>total_turns_per_turnstile</th>\n",
       "      <th>entry_ratio</th>\n",
       "    </tr>\n",
       "    <tr>\n",
       "      <th>station_unique</th>\n",
       "      <th></th>\n",
       "      <th></th>\n",
       "      <th></th>\n",
       "      <th></th>\n",
       "      <th></th>\n",
       "      <th></th>\n",
       "      <th></th>\n",
       "      <th></th>\n",
       "    </tr>\n",
       "  </thead>\n",
       "  <tbody>\n",
       "    <tr>\n",
       "      <th>1 AV-L</th>\n",
       "      <td>10</td>\n",
       "      <td>364730.0</td>\n",
       "      <td>394838.0</td>\n",
       "      <td>759568.0</td>\n",
       "      <td>253189.333333</td>\n",
       "      <td>25318.933333</td>\n",
       "      <td>75956.800000</td>\n",
       "      <td>0.480181</td>\n",
       "    </tr>\n",
       "    <tr>\n",
       "      <th>103 ST-1</th>\n",
       "      <td>6</td>\n",
       "      <td>231875.0</td>\n",
       "      <td>113276.0</td>\n",
       "      <td>345151.0</td>\n",
       "      <td>115050.333333</td>\n",
       "      <td>19175.055556</td>\n",
       "      <td>57525.166667</td>\n",
       "      <td>0.671807</td>\n",
       "    </tr>\n",
       "    <tr>\n",
       "      <th>103 ST-BC</th>\n",
       "      <td>3</td>\n",
       "      <td>84757.0</td>\n",
       "      <td>61368.0</td>\n",
       "      <td>146125.0</td>\n",
       "      <td>48708.333333</td>\n",
       "      <td>16236.111111</td>\n",
       "      <td>48708.333333</td>\n",
       "      <td>0.580031</td>\n",
       "    </tr>\n",
       "    <tr>\n",
       "      <th>116 ST-23</th>\n",
       "      <td>8</td>\n",
       "      <td>198491.0</td>\n",
       "      <td>89577.0</td>\n",
       "      <td>288068.0</td>\n",
       "      <td>96022.666667</td>\n",
       "      <td>12002.833333</td>\n",
       "      <td>36008.500000</td>\n",
       "      <td>0.689042</td>\n",
       "    </tr>\n",
       "    <tr>\n",
       "      <th>116 ST-6</th>\n",
       "      <td>8</td>\n",
       "      <td>279503.0</td>\n",
       "      <td>161999.0</td>\n",
       "      <td>441502.0</td>\n",
       "      <td>147167.333333</td>\n",
       "      <td>18395.916667</td>\n",
       "      <td>55187.750000</td>\n",
       "      <td>0.633073</td>\n",
       "    </tr>\n",
       "    <tr>\n",
       "      <th>...</th>\n",
       "      <td>...</td>\n",
       "      <td>...</td>\n",
       "      <td>...</td>\n",
       "      <td>...</td>\n",
       "      <td>...</td>\n",
       "      <td>...</td>\n",
       "      <td>...</td>\n",
       "      <td>...</td>\n",
       "    </tr>\n",
       "    <tr>\n",
       "      <th>WALL ST-23</th>\n",
       "      <td>22</td>\n",
       "      <td>386669.0</td>\n",
       "      <td>374199.0</td>\n",
       "      <td>760868.0</td>\n",
       "      <td>253622.666667</td>\n",
       "      <td>11528.303030</td>\n",
       "      <td>34584.909091</td>\n",
       "      <td>0.508195</td>\n",
       "    </tr>\n",
       "    <tr>\n",
       "      <th>WALL ST-45</th>\n",
       "      <td>28</td>\n",
       "      <td>334395.0</td>\n",
       "      <td>253151.0</td>\n",
       "      <td>587546.0</td>\n",
       "      <td>195848.666667</td>\n",
       "      <td>6994.595238</td>\n",
       "      <td>20983.785714</td>\n",
       "      <td>0.569138</td>\n",
       "    </tr>\n",
       "    <tr>\n",
       "      <th>WHITEHALL S-FRY-R1W</th>\n",
       "      <td>15</td>\n",
       "      <td>309234.0</td>\n",
       "      <td>293344.0</td>\n",
       "      <td>602578.0</td>\n",
       "      <td>200859.333333</td>\n",
       "      <td>13390.622222</td>\n",
       "      <td>40171.866667</td>\n",
       "      <td>0.513185</td>\n",
       "    </tr>\n",
       "    <tr>\n",
       "      <th>WORLD TRADE CTR-ACE23</th>\n",
       "      <td>19</td>\n",
       "      <td>294765.0</td>\n",
       "      <td>220855.0</td>\n",
       "      <td>515620.0</td>\n",
       "      <td>171873.333333</td>\n",
       "      <td>9045.964912</td>\n",
       "      <td>27137.894737</td>\n",
       "      <td>0.571671</td>\n",
       "    </tr>\n",
       "    <tr>\n",
       "      <th>WTC-CORTLANDT-1</th>\n",
       "      <td>35</td>\n",
       "      <td>76076.0</td>\n",
       "      <td>63236.0</td>\n",
       "      <td>139312.0</td>\n",
       "      <td>46437.333333</td>\n",
       "      <td>1326.780952</td>\n",
       "      <td>3980.342857</td>\n",
       "      <td>0.546084</td>\n",
       "    </tr>\n",
       "  </tbody>\n",
       "</table>\n",
       "<p>136 rows × 8 columns</p>\n",
       "</div>"
      ],
      "text/plain": [
       "                       turnstiles  entries_diff  exits_diff  total_turns  \\\n",
       "station_unique                                                             \n",
       "1 AV-L                         10      364730.0    394838.0     759568.0   \n",
       "103 ST-1                        6      231875.0    113276.0     345151.0   \n",
       "103 ST-BC                       3       84757.0     61368.0     146125.0   \n",
       "116 ST-23                       8      198491.0     89577.0     288068.0   \n",
       "116 ST-6                        8      279503.0    161999.0     441502.0   \n",
       "...                           ...           ...         ...          ...   \n",
       "WALL ST-23                     22      386669.0    374199.0     760868.0   \n",
       "WALL ST-45                     28      334395.0    253151.0     587546.0   \n",
       "WHITEHALL S-FRY-R1W            15      309234.0    293344.0     602578.0   \n",
       "WORLD TRADE CTR-ACE23          19      294765.0    220855.0     515620.0   \n",
       "WTC-CORTLANDT-1                35       76076.0     63236.0     139312.0   \n",
       "\n",
       "                        weekly_turns  weekly_turns_per_turnstile  \\\n",
       "station_unique                                                     \n",
       "1 AV-L                 253189.333333                25318.933333   \n",
       "103 ST-1               115050.333333                19175.055556   \n",
       "103 ST-BC               48708.333333                16236.111111   \n",
       "116 ST-23               96022.666667                12002.833333   \n",
       "116 ST-6               147167.333333                18395.916667   \n",
       "...                              ...                         ...   \n",
       "WALL ST-23             253622.666667                11528.303030   \n",
       "WALL ST-45             195848.666667                 6994.595238   \n",
       "WHITEHALL S-FRY-R1W    200859.333333                13390.622222   \n",
       "WORLD TRADE CTR-ACE23  171873.333333                 9045.964912   \n",
       "WTC-CORTLANDT-1         46437.333333                 1326.780952   \n",
       "\n",
       "                       total_turns_per_turnstile  entry_ratio  \n",
       "station_unique                                                 \n",
       "1 AV-L                              75956.800000     0.480181  \n",
       "103 ST-1                            57525.166667     0.671807  \n",
       "103 ST-BC                           48708.333333     0.580031  \n",
       "116 ST-23                           36008.500000     0.689042  \n",
       "116 ST-6                            55187.750000     0.633073  \n",
       "...                                          ...          ...  \n",
       "WALL ST-23                          34584.909091     0.508195  \n",
       "WALL ST-45                          20983.785714     0.569138  \n",
       "WHITEHALL S-FRY-R1W                 40171.866667     0.513185  \n",
       "WORLD TRADE CTR-ACE23               27137.894737     0.571671  \n",
       "WTC-CORTLANDT-1                      3980.342857     0.546084  \n",
       "\n",
       "[136 rows x 8 columns]"
      ]
     },
     "execution_count": 29,
     "metadata": {},
     "output_type": "execute_result"
    }
   ],
   "source": [
    "df_sorted_station"
   ]
  },
  {
   "cell_type": "code",
   "execution_count": 90,
   "metadata": {
    "scrolled": true
   },
   "outputs": [
    {
     "data": {
      "text/plain": [
       "R549    4\n",
       "R029    3\n",
       "R044    2\n",
       "R305    2\n",
       "R258    2\n",
       "       ..\n",
       "R156    1\n",
       "R213    1\n",
       "R274    1\n",
       "R146    1\n",
       "R185    1\n",
       "Name: UNIT, Length: 470, dtype: int64"
      ]
     },
     "execution_count": 90,
     "metadata": {},
     "output_type": "execute_result"
    }
   ],
   "source": [
    "import plotly.express as px\n",
    "\n",
    "df = pd.read_csv('/Users/collinswestnedge/programming/Metis_Online/project1_group_repo/project-1/final_data.csv')\n",
    "map_data = df.groupby(['UNIT', 'STATION', 'lat', 'lng',])[['total_turns']].mean().reset_index()\n",
    "map_data.UNIT.value_counts()"
   ]
  },
  {
   "cell_type": "code",
   "execution_count": 92,
   "metadata": {
    "scrolled": true
   },
   "outputs": [
    {
     "data": {
      "application/vnd.plotly.v1+json": {
       "config": {
        "plotlyServerURL": "https://plot.ly"
       },
       "data": [
        {
         "coloraxis": "coloraxis",
         "customdata": [
          [
           "SOUTH FERRY"
          ],
          [
           "WHITEHALL S-FRY"
          ],
          [
           "CYPRESS HILLS"
          ],
          [
           "75 ST-ELDERTS"
          ],
          [
           "85 ST-FOREST PK"
          ],
          [
           "WOODHAVEN BLVD"
          ],
          [
           "104 ST"
          ],
          [
           "111 ST"
          ],
          [
           "121 ST"
          ],
          [
           "42 ST-PORT AUTH"
          ],
          [
           "42 ST-PORT AUTH"
          ],
          [
           "34 ST-PENN STA"
          ],
          [
           "34 ST-PENN STA"
          ],
          [
           "FULTON ST"
          ],
          [
           "5 AV/53 ST"
          ],
          [
           "LEXINGTON AV/53"
          ],
          [
           "LEXINGTON AV/53"
          ],
          [
           "74 ST-BROADWAY"
          ],
          [
           "JKSN HT-ROOSVLT"
          ],
          [
           "JAMAICA 179 ST"
          ],
          [
           "47-50 STS ROCK"
          ],
          [
           "42 ST-BRYANT PK"
          ],
          [
           "34 ST-HERALD SQ"
          ],
          [
           "34 ST-HERALD SQ"
          ],
          [
           "SUTPHIN-ARCHER"
          ],
          [
           "JAMAICA CENTER"
          ],
          [
           "WALL ST"
          ],
          [
           "FULTON ST"
          ],
          [
           "CHAMBERS ST"
          ],
          [
           "PARK PLACE"
          ],
          [
           "WORLD TRADE CTR"
          ],
          [
           "CHAMBERS ST"
          ],
          [
           "34 ST-PENN STA"
          ],
          [
           "TIMES SQ-42 ST"
          ],
          [
           "TIMES SQ-42 ST"
          ],
          [
           "125 ST"
          ],
          [
           "168 ST"
          ],
          [
           "DYCKMAN ST"
          ],
          [
           "207 ST"
          ],
          [
           "215 ST"
          ],
          [
           "MARBLE HILL-225"
          ],
          [
           "231 ST"
          ],
          [
           "BOWLING GREEN"
          ],
          [
           "BOWLING GREEN"
          ],
          [
           "WALL ST"
          ],
          [
           "BROOKLYN BRIDGE"
          ],
          [
           "CHAMBERS ST"
          ],
          [
           "GRD CNTRL-42 ST"
          ],
          [
           "GRD CNTRL-42 ST"
          ],
          [
           "GRD CNTRL-42 ST"
          ],
          [
           "GRD CNTRL-42 ST"
          ],
          [
           "51 ST"
          ],
          [
           "59 ST"
          ],
          [
           "59 ST"
          ],
          [
           "WOODLAWN"
          ],
          [
           "3 AV-149 ST"
          ],
          [
           "5 AVE"
          ],
          [
           "FLUSHING-MAIN"
          ],
          [
           "NEVINS ST"
          ],
          [
           "ATL AV-BARCLAY"
          ],
          [
           "BERGEN ST"
          ],
          [
           "GRAND ARMY PLAZ"
          ],
          [
           "EASTN PKWY-MUSM"
          ],
          [
           "NOSTRAND AV"
          ],
          [
           "CROWN HTS-UTICA"
          ],
          [
           "SUTTER AV-RUTLD"
          ],
          [
           "SARATOGA AV"
          ],
          [
           "ROCKAWAY AV"
          ],
          [
           "JUNIUS ST"
          ],
          [
           "PENNSYLVANIA AV"
          ],
          [
           "VAN SICLEN AV"
          ],
          [
           "NEW LOTS AV"
          ],
          [
           "ST. GEORGE"
          ],
          [
           "34 ST-HUDSON YD"
          ],
          [
           "5 AV/59 ST"
          ],
          [
           "57 ST-7 AV"
          ],
          [
           "49 ST"
          ],
          [
           "28 ST"
          ],
          [
           "23 ST"
          ],
          [
           "59 ST COLUMBUS"
          ],
          [
           "8 ST-NYU"
          ],
          [
           "PRINCE ST"
          ],
          [
           "CITY HALL"
          ],
          [
           "CORTLANDT ST"
          ],
          [
           "JAY ST-METROTEC"
          ],
          [
           "39 AV"
          ],
          [
           "36 AV"
          ],
          [
           "BROADWAY"
          ],
          [
           "30 AV"
          ],
          [
           "ASTORIA BLVD"
          ],
          [
           "ASTORIA DITMARS"
          ],
          [
           "82 ST-JACKSON H"
          ],
          [
           "JUNCTION BLVD"
          ],
          [
           "CHURCH AV"
          ],
          [
           "DEKALB AV"
          ],
          [
           "METROPOLITAN AV"
          ],
          [
           "145 ST"
          ],
          [
           "125 ST"
          ],
          [
           "BROADWAY JCT"
          ],
          [
           "167 ST"
          ],
          [
           "14 ST"
          ],
          [
           "CASTLE HILL AV"
          ],
          [
           "WESTCHESTER SQ"
          ],
          [
           "BOROUGH HALL"
          ],
          [
           "CHURCH AV"
          ],
          [
           "FLATBUSH AV-B.C"
          ],
          [
           "23 ST"
          ],
          [
           "FORDHAM RD"
          ],
          [
           "7 AV"
          ],
          [
           "PARSONS BLVD"
          ],
          [
           "169 ST"
          ],
          [
           "50 ST"
          ],
          [
           "V.CORTLANDT PK"
          ],
          [
           "CANAL ST"
          ],
          [
           "FORDHAM RD"
          ],
          [
           "MORISN AV/SNDVW"
          ],
          [
           "QUEENSBORO PLZ"
          ],
          [
           "90 ST-ELMHURST"
          ],
          [
           "FRANKLIN AV"
          ],
          [
           "KINGSTON AV"
          ],
          [
           "BROAD ST"
          ],
          [
           "175 ST"
          ],
          [
           "JAY ST-METROTEC"
          ],
          [
           "SUTPHIN BLVD"
          ],
          [
           "BERGEN ST"
          ],
          [
           "KINGS HWY"
          ],
          [
           "23 ST"
          ],
          [
           "125 ST"
          ],
          [
           "MOSHOLU PKWY"
          ],
          [
           "HUNTERS PT AV"
          ],
          [
           "NEWKIRK AV"
          ],
          [
           "SHEEPSHEAD BAY"
          ],
          [
           "MYRTLE-WYCKOFF"
          ],
          [
           "W 4 ST-WASH SQ"
          ],
          [
           "CANAL ST"
          ],
          [
           "QUEENS PLAZA"
          ],
          [
           "FOREST HILLS 71"
          ],
          [
           "DELANCEY/ESSEX"
          ],
          [
           "28 ST"
          ],
          [
           "96 ST"
          ],
          [
           "WAKEFIELD/241"
          ],
          [
           "HUNTS POINT AV"
          ],
          [
           "61 ST WOODSIDE"
          ],
          [
           "PARKSIDE AV"
          ],
          [
           "NEWKIRK PLAZA"
          ],
          [
           "AVENUE U"
          ],
          [
           "CONEY IS-STILLW"
          ],
          [
           "CANARSIE-ROCKAW"
          ],
          [
           "UTICA AV"
          ],
          [
           "TREMONT AV"
          ],
          [
           "KINGSBRIDGE RD"
          ],
          [
           "BEDFORD PK BLVD"
          ],
          [
           "NORWOOD 205 ST"
          ],
          [
           "KEW GARDENS"
          ],
          [
           "116 ST-COLUMBIA"
          ],
          [
           "ASTOR PL"
          ],
          [
           "KINGSBRIDGE RD"
          ],
          [
           "ELDER AV"
          ],
          [
           "14 ST"
          ],
          [
           "6 AV"
          ],
          [
           "66 ST-LINCOLN"
          ],
          [
           "TOMPKINSVILLE"
          ],
          [
           "79 ST"
          ],
          [
           "86 ST"
          ],
          [
           "96 ST"
          ],
          [
           "137 ST CITY COL"
          ],
          [
           "14 ST-UNION SQ"
          ],
          [
           "7 AV"
          ],
          [
           "BRIGHTON BEACH"
          ],
          [
           "INWOOD-207 ST"
          ],
          [
           "181 ST"
          ],
          [
           "14 ST"
          ],
          [
           "8 AV"
          ],
          [
           "33 ST"
          ],
          [
           "68ST-HUNTER CO"
          ],
          [
           "77 ST"
          ],
          [
           "86 ST"
          ],
          [
           "103 ST"
          ],
          [
           "110 ST"
          ],
          [
           "116 ST"
          ],
          [
           "BEDFORD PK BLVD"
          ],
          [
           "CORTELYOU RD"
          ],
          [
           "DYCKMAN ST"
          ],
          [
           "86 ST"
          ],
          [
           "81 ST-MUSEUM"
          ],
          [
           "50 ST"
          ],
          [
           "CHRISTOPHER ST"
          ],
          [
           "23 ST"
          ],
          [
           "103 ST"
          ],
          [
           "CATHEDRAL PKWY"
          ],
          [
           "157 ST"
          ],
          [
           "BLEECKER ST"
          ],
          [
           "161/YANKEE STAD"
          ],
          [
           "PROSPECT PARK"
          ],
          [
           "36 ST"
          ],
          [
           "NOSTRAND AV"
          ],
          [
           "KINGSTON-THROOP"
          ],
          [
           "EUCLID AV"
          ],
          [
           "WOODHAVEN BLVD"
          ],
          [
           "63 DR-REGO PARK"
          ],
          [
           "23 ST"
          ],
          [
           "CHURCH AV"
          ],
          [
           "149/GRAND CONC"
          ],
          [
           "125 ST"
          ],
          [
           "135 ST"
          ],
          [
           "103 ST-CORONA"
          ],
          [
           "STERLING ST"
          ],
          [
           "BEVERLY RD"
          ],
          [
           "KINGS HWY"
          ],
          [
           "59 ST"
          ],
          [
           "BAY RIDGE AV"
          ],
          [
           "77 ST"
          ],
          [
           "86 ST"
          ],
          [
           "BAY RIDGE-95 ST"
          ],
          [
           "HOYT-SCHER"
          ],
          [
           "ELMHURST AV"
          ],
          [
           "67 AV"
          ],
          [
           "CARROLL ST"
          ],
          [
           "167 ST"
          ],
          [
           "PARKCHESTER"
          ],
          [
           "46 ST BLISS ST"
          ],
          [
           "CLARK ST"
          ],
          [
           "HOYT ST"
          ],
          [
           "GUN HILL RD"
          ],
          [
           "RECTOR ST"
          ],
          [
           "AVENUE J"
          ],
          [
           "AVENUE M"
          ],
          [
           "NECK RD"
          ],
          [
           "UNION ST"
          ],
          [
           "45 ST"
          ],
          [
           "53 ST"
          ],
          [
           "50 ST"
          ],
          [
           "BEDFORD AV"
          ],
          [
           "DEKALB AV"
          ],
          [
           "182-183 STS"
          ],
          [
           "STEINWAY ST"
          ],
          [
           "GREENPOINT AV"
          ],
          [
           "GRAND ST"
          ],
          [
           "15 ST-PROSPECT"
          ],
          [
           "18 AV"
          ],
          [
           "170 ST"
          ],
          [
           "BURNSIDE AV"
          ],
          [
           "ST LAWRENCE AV"
          ],
          [
           "PROSPECT AV"
          ],
          [
           "55 ST"
          ],
          [
           "1 AV"
          ],
          [
           "GRAHAM AV"
          ],
          [
           "GRAND ST"
          ],
          [
           "96 ST"
          ],
          [
           "HIGH ST"
          ],
          [
           "174-175 STS"
          ],
          [
           "GRAND-NEWTOWN"
          ],
          [
           "BRIARWOOD"
          ],
          [
           "NASSAU AV"
          ],
          [
           "EAST BROADWAY"
          ],
          [
           "4 AV-9 ST"
          ],
          [
           "4AV-9 ST"
          ],
          [
           "ROOSEVELT ISLND"
          ],
          [
           "181 ST"
          ],
          [
           "40 ST LOWERY ST"
          ],
          [
           "BEVERLEY ROAD"
          ],
          [
           "AVENUE H"
          ],
          [
           "OCEAN PKWY"
          ],
          [
           "MONTROSE AV"
          ],
          [
           "HALSEY ST"
          ],
          [
           "46 ST"
          ],
          [
           "LORIMER ST"
          ],
          [
           "METROPOLITAN AV"
          ],
          [
           "BEDFORD-NOSTRAN"
          ],
          [
           "SMITH-9 ST"
          ],
          [
           "AVENUE X"
          ],
          [
           "28 ST"
          ],
          [
           "145 ST"
          ],
          [
           "191 ST"
          ],
          [
           "183 ST"
          ],
          [
           "VERNON-JACKSON"
          ],
          [
           "PRESIDENT ST"
          ],
          [
           "25 ST"
          ],
          [
           "JEFFERSON ST"
          ],
          [
           "190 ST"
          ],
          [
           "72 ST"
          ],
          [
           "SPRING ST"
          ],
          [
           "LAFAYETTE AV"
          ],
          [
           "CLINTON-WASH AV"
          ],
          [
           "FAR ROCKAWAY"
          ],
          [
           "MYRTLE-WILLOUGH"
          ],
          [
           "CLASSON AV"
          ],
          [
           "7 AV"
          ],
          [
           "FT HAMILTON PKY"
          ],
          [
           "HOUSTON ST"
          ],
          [
           "33 ST-RAWSON ST"
          ],
          [
           "BAYCHESTER AV"
          ],
          [
           "34 ST-PENN STA"
          ],
          [
           "MORGAN AV"
          ],
          [
           "WILSON AV"
          ],
          [
           "163 ST-AMSTERDM"
          ],
          [
           "FRANKLIN AV"
          ],
          [
           "NORTHERN BLVD"
          ],
          [
           "BROADWAY"
          ],
          [
           "2 AV"
          ],
          [
           "YORK ST"
          ],
          [
           "57 ST"
          ],
          [
           "21 ST-QNSBRIDGE"
          ],
          [
           "RECTOR ST"
          ],
          [
           "CORTLANDT ST"
          ],
          [
           "WTC-CORTLANDT"
          ],
          [
           "238 ST"
          ],
          [
           "138/GRAND CONC"
          ],
          [
           "MT EDEN AV"
          ],
          [
           "176 ST"
          ],
          [
           "111 ST"
          ],
          [
           "BOWERY"
          ],
          [
           "W 8 ST-AQUARIUM"
          ],
          [
           "BUSHWICK AV"
          ],
          [
           "103 ST"
          ],
          [
           "155 ST"
          ],
          [
           "FLUSHING AV"
          ],
          [
           "CLINTON-WASH AV"
          ],
          [
           "FULTON ST"
          ],
          [
           "LEXINGTON AV/63"
          ],
          [
           "CANAL ST"
          ],
          [
           "18 ST"
          ],
          [
           "SPRING ST"
          ],
          [
           "CENTRAL PK N110"
          ],
          [
           "116 ST"
          ],
          [
           "WHITLOCK AV"
          ],
          [
           "ZEREGA AV"
          ],
          [
           "52 ST"
          ],
          [
           "METS-WILLETS PT"
          ],
          [
           "MORRIS PARK"
          ],
          [
           "3 AV"
          ],
          [
           "155 ST"
          ],
          [
           "135 ST"
          ],
          [
           "116 ST"
          ],
          [
           "CATHEDRAL PKWY"
          ],
          [
           "BEACH 67 ST"
          ],
          [
           "BEACH 60 ST"
          ],
          [
           "BEACH 44 ST"
          ],
          [
           "BEACH 36 ST"
          ],
          [
           "36 ST"
          ],
          [
           "65 ST"
          ],
          [
           "75 AV"
          ],
          [
           "JAMAICA VAN WK"
          ],
          [
           "FRANKLIN ST"
          ],
          [
           "145 ST"
          ],
          [
           "HARLEM 148 ST"
          ],
          [
           "COURT SQ"
          ],
          [
           "69 ST"
          ],
          [
           "ATLANTIC AV"
          ],
          [
           "SUTTER AV"
          ],
          [
           "LIVONIA AV"
          ],
          [
           "HEWES ST"
          ],
          [
           "LORIMER ST"
          ],
          [
           "104 ST"
          ],
          [
           "111 ST"
          ],
          [
           "OZONE PK LEFFRT"
          ],
          [
           "AQUEDUCT N.COND"
          ],
          [
           "BEACH 25 ST"
          ],
          [
           "COURT SQ"
          ],
          [
           "COURT SQ-23 ST"
          ],
          [
           "21 ST"
          ],
          [
           "PELHAM PKWY"
          ],
          [
           "ALLERTON AV"
          ],
          [
           "BURKE AV"
          ],
          [
           "GUN HILL RD"
          ],
          [
           "219 ST"
          ],
          [
           "225 ST"
          ],
          [
           "233 ST"
          ],
          [
           "9 AV"
          ],
          [
           "FT HAMILTON PKY"
          ],
          [
           "71 ST"
          ],
          [
           "79 ST"
          ],
          [
           "18 AV"
          ],
          [
           "20 AV"
          ],
          [
           "BAY PKWY"
          ],
          [
           "NEW LOTS"
          ],
          [
           "EAST 105 ST"
          ],
          [
           "FLUSHING AV"
          ],
          [
           "MYRTLE AV"
          ],
          [
           "KOSCIUSZKO ST"
          ],
          [
           "GATES AV"
          ],
          [
           "HALSEY ST"
          ],
          [
           "GRANT AV"
          ],
          [
           "80 ST"
          ],
          [
           "88 ST"
          ],
          [
           "ROCKAWAY BLVD"
          ],
          [
           "174 ST"
          ],
          [
           "WEST FARMS SQ"
          ],
          [
           "E 180 ST"
          ],
          [
           "BRONX PARK EAST"
          ],
          [
           "8 AV"
          ],
          [
           "FT HAMILTON PKY"
          ],
          [
           "18 AV"
          ],
          [
           "20 AV"
          ],
          [
           "BAY PKWY"
          ],
          [
           "KINGS HWY"
          ],
          [
           "AVENUE U"
          ],
          [
           "86 ST"
          ],
          [
           "NEW UTRECHT AV"
          ],
          [
           "25 AV"
          ],
          [
           "BAY 50 ST"
          ],
          [
           "CENTRAL AV"
          ],
          [
           "SENECA AVE"
          ],
          [
           "FOREST AVE"
          ],
          [
           "FRESH POND RD"
          ],
          [
           "JACKSON AV"
          ],
          [
           "PROSPECT AV"
          ],
          [
           "INTERVALE AV"
          ],
          [
           "SIMPSON ST"
          ],
          [
           "FREEMAN ST"
          ],
          [
           "PARK PLACE"
          ],
          [
           "BOTANIC GARDEN"
          ],
          [
           "KNICKERBOCKER"
          ],
          [
           "HOWARD BCH JFK"
          ],
          [
           "BROAD CHANNEL"
          ],
          [
           "BEACH 90 ST"
          ],
          [
           "BEACH 98 ST"
          ],
          [
           "BEACH 105 ST"
          ],
          [
           "ROCKAWAY PARK B"
          ],
          [
           "DITMAS AV"
          ],
          [
           "AVENUE I"
          ],
          [
           "BAY PKWY"
          ],
          [
           "AVENUE N"
          ],
          [
           "AVENUE P"
          ],
          [
           "AVENUE U"
          ],
          [
           "NEPTUNE AV"
          ],
          [
           "MIDDLETOWN RD"
          ],
          [
           "BUHRE AV"
          ],
          [
           "PELHAM BAY PARK"
          ],
          [
           "PELHAM PKWY"
          ],
          [
           "EASTCHSTER/DYRE"
          ],
          [
           "CHAUNCEY ST"
          ],
          [
           "ALABAMA AV"
          ],
          [
           "VAN SICLEN AV"
          ],
          [
           "CLEVELAND ST"
          ],
          [
           "NORWOOD AV"
          ],
          [
           "CRESCENT ST"
          ],
          [
           "RALPH AV"
          ],
          [
           "ROCKAWAY AV"
          ],
          [
           "LIBERTY AV"
          ],
          [
           "VAN SICLEN AVE"
          ],
          [
           "SHEPHERD AV"
          ],
          [
           "170 ST"
          ],
          [
           "NEREID AV"
          ],
          [
           "3 AV 138 ST"
          ],
          [
           "BROOK AV"
          ],
          [
           "CYPRESS AV"
          ],
          [
           "E 143/ST MARY'S"
          ],
          [
           "E 149 ST"
          ],
          [
           "LONGWOOD AV"
          ],
          [
           "WINTHROP ST"
          ],
          [
           "72 ST"
          ],
          [
           "23 ST"
          ],
          [
           "25 ST"
          ],
          [
           "HOYT ST"
          ],
          [
           "ORCHARD BEACH"
          ],
          [
           "MARCY AV"
          ],
          [
           "B'WAY-LAFAYETTE"
          ],
          [
           "CANAL ST"
          ],
          [
           "CANAL ST"
          ],
          [
           "AQUEDUCT RACETR"
          ],
          [
           "RIT-MANHATTAN"
          ],
          [
           "RIT-ROOSEVELT"
          ],
          [
           "HOWARD BCH JFK"
          ],
          [
           "JFK JAMAICA CT1"
          ],
          [
           "PATH NEW WTC"
          ],
          [
           "PATH WTC 2"
          ],
          [
           "THIRTY ST"
          ],
          [
           "THIRTY THIRD ST"
          ],
          [
           "TWENTY THIRD ST"
          ],
          [
           "EXCHANGE PLACE"
          ],
          [
           "HARRISON"
          ],
          [
           "14TH STREET"
          ],
          [
           "PAVONIA/NEWPORT"
          ],
          [
           "9TH STREET"
          ],
          [
           "CHRISTOPHER ST"
          ],
          [
           "NEWARK BM BW"
          ],
          [
           "NEWARK C"
          ],
          [
           "NEWARK HM HE"
          ],
          [
           "NEWARK HW BMEBE"
          ],
          [
           "LACKAWANNA"
          ],
          [
           "GROVE STREET"
          ],
          [
           "JOURNAL SQUARE"
          ],
          [
           "72 ST-2 AVE"
          ],
          [
           "86 ST-2 AVE"
          ],
          [
           "96 ST-2 AVE"
          ]
         ],
         "hovertemplate": "total_turns=%{z}<br>lat=%{lat}<br>lng=%{lon}<br>STATION=%{customdata[0]}<extra></extra>",
         "lat": [
          40.703082,
          40.703082,
          40.689945,
          40.69132000000001,
          40.692304,
          40.693866,
          40.69518400000001,
          40.697405,
          40.700536,
          40.757303,
          40.757303,
          40.752247,
          40.752247,
          40.709938,
          40.760179,
          40.75753,
          40.75753,
          40.746655,
          40.746655,
          40.712622,
          40.75865200000001,
          40.754198,
          40.749533,
          40.749533,
          40.700488,
          40.702131,
          40.706864,
          40.709938,
          40.71433,
          40.71433,
          40.71433,
          40.715436,
          40.750329,
          40.755905,
          40.755905,
          40.815596,
          40.840778,
          40.860523,
          40.864653,
          40.869359,
          40.874551,
          40.878867,
          40.704782,
          40.704782,
          40.707466,
          40.71315900000001,
          40.71315900000001,
          40.751849,
          40.751849,
          40.751849,
          40.751849,
          40.757108,
          40.762796,
          40.762796,
          40.885973,
          40.816132,
          40.753824,
          40.75957800000001,
          40.688269,
          40.684063,
          40.680801,
          40.675219,
          40.672013,
          40.669735,
          40.669279,
          40.664591,
          40.661466,
          40.662541,
          40.663419,
          40.664884,
          40.665405,
          40.666252,
          40.643738,
          40.755,
          40.764909,
          40.764755,
          40.760139,
          40.745574,
          40.741006,
          40.76811,
          40.730348,
          40.724332,
          40.713086,
          40.710662,
          40.692182,
          40.753076,
          40.756977,
          40.761959,
          40.766843,
          40.770426,
          40.774984,
          40.747647,
          40.749143,
          40.650494,
          40.690612,
          40.711353,
          40.824787,
          40.811056,
          40.678848,
          40.833773,
          40.738007,
          40.834255,
          40.839892,
          40.692404,
          40.650843,
          40.632836,
          40.745924,
          40.862803,
          40.762877,
          40.707564,
          40.710459,
          40.761675,
          40.889185,
          40.71823300000001,
          40.862941,
          40.829495,
          40.750508,
          40.748541,
          40.670711,
          40.669409,
          40.706539,
          40.847369,
          40.692338,
          40.705416,
          40.686154,
          40.603234,
          40.740088,
          40.804406,
          40.87963,
          40.74238,
          40.639961,
          40.58681,
          40.699707,
          40.732251,
          40.720852,
          40.748948,
          40.721681,
          40.71838,
          40.743095,
          40.785822,
          40.903085,
          40.820889,
          40.745623,
          40.655053,
          40.63505900000001,
          40.599307,
          40.577423,
          40.64666,
          40.679279,
          40.850307,
          40.866974,
          40.873026,
          40.874827,
          40.714444,
          40.80819,
          40.730056,
          40.867899,
          40.828894,
          40.737348,
          40.737348,
          40.773424,
          40.636948,
          40.783872,
          40.788844,
          40.79388,
          40.821994,
          40.734836,
          40.677172,
          40.577961,
          40.868045,
          40.851686,
          40.740388,
          40.740388,
          40.746119,
          40.768143,
          40.773636,
          40.779485,
          40.790582,
          40.795066,
          40.798574,
          40.873399,
          40.640905,
          40.865286,
          40.785822,
          40.781435,
          40.762439,
          40.7331,
          40.74407100000001,
          40.799354,
          40.804032,
          40.833879,
          40.725665,
          40.827888,
          40.661596,
          40.65515,
          40.68041,
          40.679921,
          40.675382,
          40.73308,
          40.729869,
          40.742868,
          40.644039,
          40.818429,
          40.808076,
          40.814459,
          40.749858,
          40.66275200000001,
          40.645089,
          40.608691,
          40.641426,
          40.634945,
          40.629702,
          40.622715,
          40.616624,
          40.688465,
          40.742445,
          40.726462,
          40.680231,
          40.835535,
          40.833246,
          40.743079,
          40.697356,
          40.690547,
          40.877796,
          40.707222,
          40.625028,
          40.617568,
          40.59523400000001,
          40.67730200000001,
          40.648866,
          40.644959,
          40.636232,
          40.717241,
          40.703839,
          40.856085,
          40.756864,
          40.731324,
          40.718542,
          40.660376,
          40.629881,
          40.840048,
          40.85339000000001,
          40.8315,
          40.665438,
          40.631412,
          40.730901,
          40.71459,
          40.711874,
          40.791654,
          40.699316,
          40.845892,
          40.736998,
          40.709174,
          40.724608,
          40.713647,
          40.67032,
          40.67032,
          40.759123,
          40.84949500000001,
          40.743778000000006,
          40.643982,
          40.629164,
          40.576298,
          40.707889,
          40.695607,
          40.756312,
          40.713875,
          40.713875,
          40.689636,
          40.673714,
          40.589547,
          40.747224,
          40.826426,
          40.855176,
          40.858389,
          40.742624,
          40.667879,
          40.660481,
          40.706636,
          40.859022,
          40.775545,
          40.726202,
          40.68617,
          40.683263,
          40.603983,
          40.694568,
          40.688855,
          40.666276,
          40.650722,
          40.728202,
          40.74455800000001,
          40.878656,
          40.750264,
          40.706148,
          40.688676,
          40.835957,
          40.681159,
          40.752898,
          40.7061,
          40.723291,
          40.699756,
          40.763625,
          40.7541,
          40.70784,
          40.710454,
          40.710454,
          40.884821,
          40.813208,
          40.844406,
          40.848635,
          40.75176,
          40.720315,
          40.576152,
          40.682558,
          40.796105,
          40.829934,
          40.700374,
          40.688123,
          40.68713,
          40.764763,
          40.722819,
          40.741096,
          40.722397,
          40.79911,
          40.802098,
          40.826508,
          40.83646,
          40.744103,
          40.754622,
          40.854137,
          40.733243,
          40.830551,
          40.817902,
          40.805072,
          40.800637,
          40.590867,
          40.592334,
          40.593214,
          40.595381,
          40.75202,
          40.749663,
          40.718477,
          40.702566,
          40.719323,
          40.820402,
          40.823877,
          40.747029,
          40.746325,
          40.675496,
          40.669376,
          40.663801,
          40.706994,
          40.703855,
          40.681745,
          40.684364,
          40.685975,
          40.66823400000001,
          40.600138,
          40.747257,
          40.747257,
          40.743973,
          40.857188,
          40.865481,
          40.871387,
          40.877796,
          40.883767,
          40.887887,
          40.893386,
          40.646343,
          40.640872,
          40.619588,
          40.613513,
          40.607958,
          40.604798,
          40.601898,
          40.658748,
          40.650625,
          40.700244,
          40.697266,
          40.693329,
          40.689652,
          40.68617,
          40.677107,
          40.679369,
          40.679857,
          40.680429,
          40.837382,
          40.840097,
          40.841882,
          40.848797,
          40.635011,
          40.631428,
          40.620728,
          40.617373,
          40.612006,
          40.603967,
          40.597482,
          40.592676,
          40.625419,
          40.597873,
          40.588879,
          40.697673,
          40.702798,
          40.704424,
          40.706181,
          40.816505,
          40.81939600000001,
          40.822172,
          40.82417,
          40.829966,
          40.67491,
          40.670499,
          40.698666,
          40.660476,
          40.608693,
          40.588032,
          40.585514,
          40.583542,
          40.580454,
          40.63615,
          40.625305,
          40.620907,
          40.615174,
          40.609147,
          40.596065,
          40.580992,
          40.843635,
          40.846817,
          40.852465,
          40.858973,
          40.888244,
          40.682867,
          40.677107,
          40.678018,
          40.679938,
          40.681598,
          40.68320900000001,
          40.678815,
          40.67836,
          40.674552,
          40.672786,
          40.674161,
          40.839301,
          40.898382,
          40.810512,
          40.808044,
          40.805737,
          40.808742,
          40.812104,
          40.816083,
          40.656648,
          40.778575,
          40.742981,
          40.66043,
          40.690545,
          40.852417,
          40.708377,
          40.725297,
          40.718697,
          40.718697,
          40.668221,
          40.761268,
          40.7574,
          40.660476,
          40.643942,
          40.7126,
          40.7126,
          40.7491,
          40.7491,
          40.7429,
          40.7162,
          40.7384,
          40.7374,
          40.7267,
          40.7342,
          40.7331,
          40.6895,
          40.6895,
          40.6895,
          40.6895,
          40.735,
          40.7197,
          40.7326,
          40.7686869,
          40.76868620000001,
          40.7807028
         ],
         "lon": [
          -74.01298299999998,
          -74.01298299999998,
          -73.872564,
          -73.867135,
          -73.860151,
          -73.851568,
          -73.844326,
          -73.836354,
          -73.82838199999998,
          -73.98978699999998,
          -73.98978699999998,
          -73.99345600000002,
          -73.99345600000002,
          -74.007983,
          -73.975196,
          -73.969102,
          -73.969102,
          -73.891361,
          -73.891361,
          -73.783815,
          -73.981311,
          -73.984573,
          -73.987899,
          -73.987899,
          -73.80793299999998,
          -73.80111,
          -74.009056,
          -74.007983,
          -74.008563,
          -74.008563,
          -74.008563,
          -74.009335,
          -73.991096,
          -73.98650400000002,
          -73.98650400000002,
          -73.958395,
          -73.94009100000002,
          -73.925575,
          -73.918719,
          -73.915329,
          -73.909879,
          -73.90485799999998,
          -74.014099,
          -74.014099,
          -74.01186700000002,
          -74.003917,
          -74.003917,
          -73.976945,
          -73.976945,
          -73.976945,
          -73.976945,
          -73.97187,
          -73.967686,
          -73.967686,
          -73.878851,
          -73.917754,
          -73.981966,
          -73.830056,
          -73.980453,
          -73.977417,
          -73.97513199999999,
          -73.971012,
          -73.96436,
          -73.950455,
          -73.932967,
          -73.922668,
          -73.91631600000002,
          -73.90876300000002,
          -73.902454,
          -73.894258,
          -73.889451,
          -73.884087,
          -74.073622,
          -74.001,
          -73.973372,
          -73.980646,
          -73.984112,
          -73.988682,
          -73.989315,
          -73.981891,
          -73.992705,
          -73.99768399999998,
          -74.007232,
          -74.011052,
          -73.985935,
          -73.93271,
          -73.929373,
          -73.925382,
          -73.921423,
          -73.917614,
          -73.91206700000002,
          -73.883786,
          -73.869452,
          -73.962836,
          -73.981848,
          -73.88958000000002,
          -73.944232,
          -73.952386,
          -73.904139,
          -73.91843,
          -73.99838100000002,
          -73.85122199999998,
          -73.842952,
          -73.990151,
          -73.949575,
          -73.947642,
          -73.998005,
          -73.901034,
          -73.98159,
          -73.803326,
          -73.7936,
          -73.983908,
          -73.898549,
          -74.000323,
          -73.901199,
          -73.87455899999998,
          -73.940177,
          -73.876791,
          -73.958051,
          -73.942173,
          -74.011052,
          -73.939683,
          -73.987342,
          -73.810562,
          -73.990881,
          -73.972342,
          -73.986429,
          -73.93745200000002,
          -73.88466600000002,
          -73.94888900000002,
          -73.948352,
          -73.954167,
          -73.91181,
          -74.000559,
          -74.005237,
          -73.93719399999998,
          -73.84439,
          -73.987813,
          -73.984251,
          -73.95097,
          -73.85059100000002,
          -73.890567,
          -73.902969,
          -73.96122700000002,
          -73.962793,
          -73.955916,
          -73.981225,
          -73.901832,
          -73.930585,
          -73.905244,
          -73.893485,
          -73.88691899999998,
          -73.878872,
          -73.830979,
          -73.964124,
          -73.99104200000002,
          -73.897326,
          -73.879559,
          -73.9969,
          -73.9969,
          -73.98223399999998,
          -74.07482399999998,
          -73.979938,
          -73.97599,
          -73.972363,
          -73.95367399999998,
          -73.990688,
          -73.972514,
          -73.96180600000002,
          -73.919921,
          -73.937967,
          -74.002104,
          -74.002104,
          -73.981826,
          -73.964016,
          -73.959875,
          -73.955541,
          -73.947473,
          -73.94429699999998,
          -73.94159300000003,
          -73.890084,
          -73.96386600000002,
          -73.92698,
          -73.968952,
          -73.972149,
          -73.985989,
          -74.0071,
          -73.99562399999998,
          -73.968329,
          -73.96674200000002,
          -73.944726,
          -73.995645,
          -73.925736,
          -73.962193,
          -74.003477,
          -73.950326,
          -73.94085799999998,
          -73.87207,
          -73.869259,
          -73.86161,
          -73.99277,
          -73.979541,
          -73.926927,
          -73.94590600000002,
          -73.94099200000002,
          -73.862672,
          -73.95060500000002,
          -73.948975,
          -73.95777199999998,
          -74.017972,
          -74.023411,
          -74.025514,
          -74.028368,
          -74.030964,
          -73.985474,
          -73.882005,
          -73.85263,
          -73.99498,
          -73.92138,
          -73.860805,
          -73.918419,
          -73.992888,
          -73.985066,
          -73.866341,
          -74.013391,
          -73.960819,
          -73.95936,
          -73.95509,
          -73.983135,
          -74.010086,
          -74.014034,
          -73.994765,
          -73.956614,
          -73.91844,
          -73.900695,
          -73.920736,
          -73.954425,
          -73.994164,
          -73.979509,
          -73.977149,
          -73.917775,
          -73.907733,
          -73.867623,
          -73.992856,
          -73.995473,
          -73.981719,
          -73.94410400000002,
          -73.94067,
          -73.964682,
          -73.990474,
          -73.910136,
          -73.87724200000002,
          -73.820593,
          -73.95127099999998,
          -73.990152,
          -73.98875699999998,
          -73.98875699999998,
          -73.953266,
          -73.93363199999997,
          -73.923998,
          -73.96451,
          -73.961678,
          -73.968523,
          -73.940005,
          -73.904021,
          -73.913333,
          -73.951592,
          -73.951592,
          -73.953459,
          -73.996139,
          -73.974295,
          -73.99336,
          -73.950412,
          -73.929384,
          -73.903828,
          -73.95354499999998,
          -73.950648,
          -73.998059,
          -73.922925,
          -73.93419,
          -73.976398,
          -74.00362700000002,
          -73.973908,
          -73.965838,
          -73.755383,
          -73.949046,
          -73.960025,
          -73.980324,
          -73.975818,
          -74.005344,
          -73.930993,
          -73.838596,
          -73.99298399999998,
          -73.93316,
          -73.903999,
          -73.939898,
          -73.956056,
          -73.905973,
          -73.95034799999998,
          -73.989873,
          -73.98689,
          -73.977449,
          -73.94258,
          -74.01369100000002,
          -74.011324,
          -74.011324,
          -73.900759,
          -73.929877,
          -73.914621,
          -73.912497,
          -73.855183,
          -73.994014,
          -73.975925,
          -73.905501,
          -73.961399,
          -73.938632,
          -73.950284,
          -73.96674200000002,
          -73.975346,
          -73.966291,
          -74.00626700000002,
          -73.997877,
          -73.997211,
          -73.95180699999997,
          -73.949625,
          -73.886425,
          -73.846471,
          -73.912497,
          -73.845625,
          -73.860977,
          -73.987169,
          -73.941486,
          -73.947644,
          -73.954833,
          -73.958201,
          -73.797011,
          -73.788493,
          -73.776433,
          -73.768194,
          -73.92874,
          -73.898485,
          -73.837223,
          -73.816859,
          -74.006953,
          -73.93631500000002,
          -73.93644300000003,
          -73.94537,
          -73.896403,
          -73.902819,
          -73.902047,
          -73.900444,
          -73.95348100000002,
          -73.947387,
          -73.837631,
          -73.832181,
          -73.824713,
          -73.834058,
          -73.76151999999998,
          -73.945112,
          -73.945112,
          -73.949876,
          -73.86760699999998,
          -73.867393,
          -73.867135,
          -73.86625500000002,
          -73.862736,
          -73.860505,
          -73.857265,
          -73.994551,
          -73.994229,
          -73.99884200000002,
          -74.00064499999998,
          -74.00178199999998,
          -73.998456,
          -73.993821,
          -73.899472,
          -73.899558,
          -73.94165799999998,
          -73.935692,
          -73.928826,
          -73.92228100000001,
          -73.916337,
          -73.865376,
          -73.85896,
          -73.85149200000002,
          -73.843853,
          -73.887659,
          -73.879774,
          -73.873551,
          -73.868465,
          -74.011717,
          -74.005387,
          -73.990388,
          -73.985088,
          -73.98200899999998,
          -73.98066800000002,
          -73.979359,
          -73.978243,
          -73.99663199999998,
          -73.98695500000002,
          -73.98362900000002,
          -73.927131,
          -73.907776,
          -73.903077,
          -73.89591,
          -73.907797,
          -73.90146700000003,
          -73.89674699999998,
          -73.89322800000002,
          -73.891876,
          -73.95779399999998,
          -73.958759,
          -73.919685,
          -73.830301,
          -73.816068,
          -73.813684,
          -73.820143,
          -73.82643,
          -73.837459,
          -73.978179,
          -73.975732,
          -73.975453,
          -73.974166,
          -73.97298599999998,
          -73.973329,
          -73.974531,
          -73.836687,
          -73.832545,
          -73.828125,
          -73.855355,
          -73.83085,
          -73.91048,
          -73.898871,
          -73.891726,
          -73.884687,
          -73.880074,
          -73.873765,
          -73.920801,
          -73.911939,
          -73.89655400000002,
          -73.890438,
          -73.88076099999998,
          -73.91335500000002,
          -73.854389,
          -73.926165,
          -73.919234,
          -73.91447099999998,
          -73.90769,
          -73.904085,
          -73.89605999999998,
          -73.950198,
          -73.981912,
          -73.992727,
          -73.99794399999998,
          -73.985065,
          -73.828082,
          -73.957751,
          -73.996204,
          -74.000977,
          -74.000977,
          -73.834026,
          -73.964016,
          -73.954006,
          -73.830301,
          -73.78235600000002,
          -74.0099,
          -74.0099,
          -73.9882,
          -73.9882,
          -73.9929,
          -74.0329,
          -74.1557,
          -73.9969,
          -74.0348,
          -73.9988,
          -74.0071,
          -74.1745,
          -74.1745,
          -74.1745,
          -74.1745,
          -74.0275,
          -74.0431,
          -74.0627,
          -73.9584429,
          -73.9584429,
          -73.9494105
         ],
         "name": "",
         "radius": 10,
         "subplot": "mapbox",
         "type": "densitymapbox",
         "z": [
          188.15239477503627,
          321.20362473347546,
          105.40108401084011,
          164.3548387096774,
          188.4616935483871,
          123.13789581205312,
          86.79865771812081,
          145.60772357723576,
          60.548048048048045,
          503.17225286380994,
          516.0014405070585,
          412.5184943429069,
          342.4541595925297,
          319.3008935824533,
          345.3538581449727,
          210.55161290322582,
          412.38017808749515,
          255.80650406504066,
          562.6878083157153,
          173.19753086419752,
          393.273640167364,
          524.1581790123457,
          547.2923621648963,
          648.6799516908212,
          492.85146053449347,
          439.3551215623755,
          288.6449165402124,
          214.2175170419335,
          274.0408031088083,
          194.1984126984127,
          263.60940695296523,
          352.9286761113825,
          442.3984877126654,
          552.9970384995064,
          580.96192,
          469.664,
          303.61520947176683,
          276.552,
          243.05962059620597,
          94.2459349593496,
          198.91027732463294,
          168.46031746031747,
          239.85302390998592,
          478.961262553802,
          168.3030650243483,
          312.2043902439024,
          217.3652575957728,
          473.55085324232084,
          614.5633112907176,
          702.8977159880834,
          454.57598499061913,
          269.57780119423956,
          368.1224028906956,
          333.4887640449438,
          262.9808,
          283.0151162790698,
          330.4979658258747,
          589.452528837622,
          308.94736842105266,
          249.27249618708694,
          122.24269889224573,
          370.47,
          218.59571428571428,
          410.4543010752688,
          374.7075045207957,
          338.758064516129,
          320.1739837398374,
          252.82767978290366,
          173.4491869918699,
          247.26190476190476,
          226.1219512195122,
          284.1137566137566,
          75.49640512660206,
          159.65042892156862,
          303.17171129220026,
          541.0667414469995,
          323.4420731707317,
          431.4374445430346,
          381.99267605633804,
          482.2087890625,
          357.37719298245617,
          420.8042071197411,
          161.10659439927733,
          143.24983119513843,
          112.83258325832583,
          167.77235772357724,
          377.8917682926829,
          474.16007532956684,
          555.7543453070683,
          417.0949913644214,
          513.991935483871,
          494.52041633306646,
          520.9078590785908,
          358.2717201166181,
          318.295177222545,
          134.95762711864407,
          787.1203953279424,
          482.92257742257743,
          356.56418918918916,
          249.08762886597938,
          344.9487776484284,
          271.0587557603687,
          577.7018970189702,
          314.54397590361447,
          197.16162570888469,
          227.10012836970475,
          366.3615176151761,
          259.8877221324717,
          489.1494565217391,
          164.62401150251617,
          146.73144687666846,
          387.08662477558346,
          419.9593495934959,
          750.912,
          327.99457994579944,
          300.9334239130435,
          511.5703125,
          411.5877034358047,
          387.4205714285714,
          426.87566137566137,
          107.63266666666667,
          181.7310379241517,
          333.5656445370646,
          106.72845528455285,
          198.13711151736746,
          148.61717921527043,
          321.52382528127066,
          532.1409244644871,
          182.3678048780488,
          169.0808,
          200.06696832579186,
          425.4175925925926,
          388.3208722741433,
          654.151948051948,
          294.2336608287057,
          152.16818950930627,
          253.15241379310345,
          312.74565381708237,
          310.2456140350877,
          525.5115384615384,
          286.2650406504065,
          273.78577336641854,
          430.1439342015079,
          550.6829268292682,
          608.6861788617886,
          262.479674796748,
          210.09008297115764,
          299.98464317976516,
          341.6423632935261,
          272.40525838621943,
          170.65746971736203,
          204.20900321543408,
          272.2858585858586,
          360.99160335865656,
          597.4733333333334,
          423.932123655914,
          435.9837398373984,
          320.42818428184285,
          300.0348300461603,
          202.40853658536585,
          266.6448497854077,
          16.994292237442924,
          383.1270125223614,
          380.96214689265537,
          385.54023668639053,
          387.9569105691057,
          742.3798801900434,
          721.3760162601626,
          223.11498257839722,
          169.6339648173207,
          461.2457516339869,
          556.0060501296456,
          478.5880376344086,
          360.70665171898355,
          461.06597222222223,
          490.96573875803,
          574.404779969651,
          620.7574525745257,
          499.13279132791325,
          443.27510040160644,
          378.4105691056911,
          430.5934959349593,
          353.50948509485096,
          300.17378917378915,
          419.7532258064516,
          303.37931034482756,
          480.3125845737483,
          576.5730724971231,
          467.68428184281845,
          398.8367816091954,
          364,
          341.65501792114696,
          184.36964285714285,
          376.0960854092527,
          559.9959349593496,
          646.2367816091954,
          311.0257801899593,
          252.77800407331975,
          431.53284671532845,
          206.6564185544768,
          684.3414634146342,
          176.8465547191662,
          480.22996515679444,
          380.2812858783008,
          226.61318830727396,
          569.6161434977579,
          380.4634146341463,
          188.96975806451613,
          323.808552958727,
          315.0271739130435,
          203.4435975609756,
          283.01984126984127,
          280.91726618705036,
          137.82657463330457,
          608.4243902439024,
          218.48759007205766,
          184.7827140549273,
          220.0976331360947,
          713.5174418604652,
          398.03306878306876,
          287.08909574468083,
          306.4430894308943,
          156.86449864498644,
          243.53252032520325,
          115.6740576496674,
          103.10944340212633,
          123.48617886178862,
          125.9047619047619,
          290.7818428184282,
          431.38900203665986,
          270.1446725317693,
          295.75880758807585,
          643.9241645244216,
          377.57886178861787,
          307.6006097560976,
          423.51258992805754,
          219.89961089494165,
          727.7295742232451,
          122.7757785467128,
          112.15165336374002,
          568.6032388663967,
          506.9504132231405,
          200.21938088829071,
          203.86933797909407,
          143.4836956521739,
          612.5548387096774,
          400.0448979591837,
          327.1290760869565,
          319.9049049049049,
          573.2985553772071,
          118.76344086021506,
          342.7812274368231,
          134.478,
          245.46844660194174,
          253.6570796460177,
          319.3516260162602,
          220.1189948263119,
          348.25338753387535,
          684.1824,
          475.9731182795699,
          335.5907859078591,
          66.8119241192412,
          114.3125,
          541.2547425474255,
          247.66932270916334,
          153.5635478637101,
          203.84,
          259.64029438822445,
          290.58246828143024,
          249.9878048780488,
          198.6070460704607,
          329.1834189288335,
          371.12078977932634,
          627.709349593496,
          346.1544715447154,
          300.1485022307202,
          427.3946666666667,
          223.01344086021504,
          281.66615384615386,
          291.5371621621622,
          437.0833333333333,
          269.169696969697,
          106.79382303839733,
          165.3003048780488,
          201.64692218350754,
          183.92147806004618,
          515.7853260869565,
          281.7371854613234,
          146.38297872340425,
          217.76338602753697,
          278.196015936255,
          206.40108401084012,
          603.3925788497218,
          289.07859078590786,
          264.5772357723577,
          129.5737704918033,
          215.54301075268816,
          199.66007194244605,
          415.289972899729,
          434.8844022169438,
          771.5284552845528,
          253.04962153069806,
          411.8359375,
          233.65523632993512,
          89.06865464632455,
          97.0815331010453,
          130.04655870445345,
          306.88,
          345.9979674796748,
          344.63709677419354,
          586.6476190476191,
          397.45257452574526,
          91.34897959183674,
          184.48238482384824,
          383.5301837270341,
          284.9672131147541,
          101.32377919320595,
          120.28252032520325,
          219.80023228803717,
          313.0830728003573,
          298.0584239130435,
          258.4561965811966,
          611.9068825910931,
          404.6666666666667,
          293.9469387755102,
          108.33522727272727,
          122.59756097560975,
          314.2940379403794,
          90.38852789603406,
          221.2330623306233,
          316.49457994579944,
          163.4130081300813,
          141.59171597633136,
          288.70151515151514,
          211.59866962305986,
          136.83414634146342,
          109.42290076335878,
          46.65912762520194,
          61.1739837398374,
          112.6910569105691,
          290.0731707317073,
          58.308243727598565,
          227.30662020905925,
          161.66666666666666,
          149.547703180212,
          383.3411458333333,
          219.1522177419355,
          202.2570564516129,
          130.1951219512195,
          515.4349593495934,
          169.85040650406503,
          156.75874769797423,
          200.9106438896189,
          78.71280991735537,
          71.94907407407408,
          220.7170474516696,
          85.46612903225807,
          117.3219512195122,
          210.3451776649746,
          293.1417624521073,
          196.24661246612467,
          202.19623655913978,
          356.7602179836512,
          224.14634146341464,
          405.54002713704205,
          228.02173913043478,
          294.8719723183391,
          177.10894308943088,
          238.66898954703834,
          130.2384701912261,
          223.384126984127,
          251.65645161290323,
          391.1680216802168,
          317.8130081300813,
          318.1951219512195,
          461.81029810298105,
          262.8841463414634,
          216.8311444652908,
          752.8224489795919,
          416.26881720430106,
          514.6178861788618,
          485.63143631436316,
          415.3089430894309,
          144.6225319396051,
          198.10326086956522,
          170.2905027932961,
          288.7099358974359,
          172.0587172538392,
          382.9010840108401,
          175.8882833787466,
          529.1711111111111,
          164.62012987012986,
          170.5703564727955,
          215.81730769230768,
          362.4859967051071,
          237.647311827957,
          126.72195121951219,
          186.53216374269005,
          150.22151224707136,
          315.5076923076923,
          174.5609756097561,
          193.0670731707317,
          156.0569105691057,
          289.1639344262295,
          181.0309072781655,
          174.79349593495934,
          210.7729658792651,
          281.390243902439,
          149.4115292233787,
          172.96383647798743,
          110.15284552845529,
          144.83333333333334,
          314.040625,
          72.70365853658537,
          17.926509186351705,
          60.110236220472444,
          36.472131147540985,
          21.104,
          50.990243902439026,
          103.10742971887551,
          56.28846153846154,
          54.70603674540683,
          62.734671125975474,
          147.0734908136483,
          60.57564575645756,
          90.79945799457994,
          93.28571428571429,
          174.92547425474254,
          191.1029810298103,
          250.73641304347825,
          302.8841463414634,
          251.05191256830602,
          230.35772357723576,
          279.66124661246613,
          468.760162601626,
          324.6584699453552,
          561.4281842818428,
          332.4460285132383,
          200.46109175377467,
          203.98133333333334,
          305.0027322404372,
          244.09214092140923,
          162.48097412480973,
          221.1413043478261,
          504.9379157427938,
          248.82638888888889,
          152.17866666666666,
          54.6813922356091,
          242.20054200542006,
          160.42292490118578,
          319.2134146341463,
          534.1245235069886,
          710.5267379679144,
          161.69376693766938,
          158.81436314363143,
          0.9804878048780488,
          221.95470798569727,
          342.2014896119169,
          432.1719520789288,
          303.0714584203928,
          57.05420054200542,
          183.11182108626198,
          125.83219178082192,
          100.83733333333333,
          284.86367281475543,
          367.3506419400856,
          503.86348122866895,
          181.59109792284866,
          351.3080977479636,
          302.3492537313433,
          210.82183098591548,
          134.9618386816999,
          250.5487421383648,
          508.70217729393465,
          326.1243523316062,
          387.6509635974304,
          149.19691863264325,
          61.560778727445395,
          163.09209888511876,
          108.12709832134293,
          128.95849056603774,
          326.7918118466899,
          388.5240577385726,
          470.691646778043,
          419.3818576860402,
          304.69792194627473
         ]
        }
       ],
       "layout": {
        "coloraxis": {
         "colorbar": {
          "title": {
           "text": "total_turns"
          }
         },
         "colorscale": [
          [
           0,
           "#0d0887"
          ],
          [
           0.1111111111111111,
           "#46039f"
          ],
          [
           0.2222222222222222,
           "#7201a8"
          ],
          [
           0.3333333333333333,
           "#9c179e"
          ],
          [
           0.4444444444444444,
           "#bd3786"
          ],
          [
           0.5555555555555556,
           "#d8576b"
          ],
          [
           0.6666666666666666,
           "#ed7953"
          ],
          [
           0.7777777777777778,
           "#fb9f3a"
          ],
          [
           0.8888888888888888,
           "#fdca26"
          ],
          [
           1,
           "#f0f921"
          ]
         ]
        },
        "legend": {
         "tracegroupgap": 0
        },
        "mapbox": {
         "accesstoken": "pk.eyJ1IjoiY3dlc3RuZWRnZSIsImEiOiJja2ZnMGNqNmowMGQ3MnJwdDAwdGhyc21hIn0.bo4mFps9s1wRmgjIvI7KiQ",
         "center": {
          "lat": 40.71,
          "lon": -74
         },
         "domain": {
          "x": [
           0,
           1
          ],
          "y": [
           0,
           1
          ]
         },
         "style": "stamen-terrain",
         "zoom": 13
        },
        "margin": {
         "b": 0,
         "l": 0,
         "r": 0,
         "t": 0
        },
        "template": {
         "data": {
          "bar": [
           {
            "error_x": {
             "color": "#2a3f5f"
            },
            "error_y": {
             "color": "#2a3f5f"
            },
            "marker": {
             "line": {
              "color": "#E5ECF6",
              "width": 0.5
             }
            },
            "type": "bar"
           }
          ],
          "barpolar": [
           {
            "marker": {
             "line": {
              "color": "#E5ECF6",
              "width": 0.5
             }
            },
            "type": "barpolar"
           }
          ],
          "carpet": [
           {
            "aaxis": {
             "endlinecolor": "#2a3f5f",
             "gridcolor": "white",
             "linecolor": "white",
             "minorgridcolor": "white",
             "startlinecolor": "#2a3f5f"
            },
            "baxis": {
             "endlinecolor": "#2a3f5f",
             "gridcolor": "white",
             "linecolor": "white",
             "minorgridcolor": "white",
             "startlinecolor": "#2a3f5f"
            },
            "type": "carpet"
           }
          ],
          "choropleth": [
           {
            "colorbar": {
             "outlinewidth": 0,
             "ticks": ""
            },
            "type": "choropleth"
           }
          ],
          "contour": [
           {
            "colorbar": {
             "outlinewidth": 0,
             "ticks": ""
            },
            "colorscale": [
             [
              0,
              "#0d0887"
             ],
             [
              0.1111111111111111,
              "#46039f"
             ],
             [
              0.2222222222222222,
              "#7201a8"
             ],
             [
              0.3333333333333333,
              "#9c179e"
             ],
             [
              0.4444444444444444,
              "#bd3786"
             ],
             [
              0.5555555555555556,
              "#d8576b"
             ],
             [
              0.6666666666666666,
              "#ed7953"
             ],
             [
              0.7777777777777778,
              "#fb9f3a"
             ],
             [
              0.8888888888888888,
              "#fdca26"
             ],
             [
              1,
              "#f0f921"
             ]
            ],
            "type": "contour"
           }
          ],
          "contourcarpet": [
           {
            "colorbar": {
             "outlinewidth": 0,
             "ticks": ""
            },
            "type": "contourcarpet"
           }
          ],
          "heatmap": [
           {
            "colorbar": {
             "outlinewidth": 0,
             "ticks": ""
            },
            "colorscale": [
             [
              0,
              "#0d0887"
             ],
             [
              0.1111111111111111,
              "#46039f"
             ],
             [
              0.2222222222222222,
              "#7201a8"
             ],
             [
              0.3333333333333333,
              "#9c179e"
             ],
             [
              0.4444444444444444,
              "#bd3786"
             ],
             [
              0.5555555555555556,
              "#d8576b"
             ],
             [
              0.6666666666666666,
              "#ed7953"
             ],
             [
              0.7777777777777778,
              "#fb9f3a"
             ],
             [
              0.8888888888888888,
              "#fdca26"
             ],
             [
              1,
              "#f0f921"
             ]
            ],
            "type": "heatmap"
           }
          ],
          "heatmapgl": [
           {
            "colorbar": {
             "outlinewidth": 0,
             "ticks": ""
            },
            "colorscale": [
             [
              0,
              "#0d0887"
             ],
             [
              0.1111111111111111,
              "#46039f"
             ],
             [
              0.2222222222222222,
              "#7201a8"
             ],
             [
              0.3333333333333333,
              "#9c179e"
             ],
             [
              0.4444444444444444,
              "#bd3786"
             ],
             [
              0.5555555555555556,
              "#d8576b"
             ],
             [
              0.6666666666666666,
              "#ed7953"
             ],
             [
              0.7777777777777778,
              "#fb9f3a"
             ],
             [
              0.8888888888888888,
              "#fdca26"
             ],
             [
              1,
              "#f0f921"
             ]
            ],
            "type": "heatmapgl"
           }
          ],
          "histogram": [
           {
            "marker": {
             "colorbar": {
              "outlinewidth": 0,
              "ticks": ""
             }
            },
            "type": "histogram"
           }
          ],
          "histogram2d": [
           {
            "colorbar": {
             "outlinewidth": 0,
             "ticks": ""
            },
            "colorscale": [
             [
              0,
              "#0d0887"
             ],
             [
              0.1111111111111111,
              "#46039f"
             ],
             [
              0.2222222222222222,
              "#7201a8"
             ],
             [
              0.3333333333333333,
              "#9c179e"
             ],
             [
              0.4444444444444444,
              "#bd3786"
             ],
             [
              0.5555555555555556,
              "#d8576b"
             ],
             [
              0.6666666666666666,
              "#ed7953"
             ],
             [
              0.7777777777777778,
              "#fb9f3a"
             ],
             [
              0.8888888888888888,
              "#fdca26"
             ],
             [
              1,
              "#f0f921"
             ]
            ],
            "type": "histogram2d"
           }
          ],
          "histogram2dcontour": [
           {
            "colorbar": {
             "outlinewidth": 0,
             "ticks": ""
            },
            "colorscale": [
             [
              0,
              "#0d0887"
             ],
             [
              0.1111111111111111,
              "#46039f"
             ],
             [
              0.2222222222222222,
              "#7201a8"
             ],
             [
              0.3333333333333333,
              "#9c179e"
             ],
             [
              0.4444444444444444,
              "#bd3786"
             ],
             [
              0.5555555555555556,
              "#d8576b"
             ],
             [
              0.6666666666666666,
              "#ed7953"
             ],
             [
              0.7777777777777778,
              "#fb9f3a"
             ],
             [
              0.8888888888888888,
              "#fdca26"
             ],
             [
              1,
              "#f0f921"
             ]
            ],
            "type": "histogram2dcontour"
           }
          ],
          "mesh3d": [
           {
            "colorbar": {
             "outlinewidth": 0,
             "ticks": ""
            },
            "type": "mesh3d"
           }
          ],
          "parcoords": [
           {
            "line": {
             "colorbar": {
              "outlinewidth": 0,
              "ticks": ""
             }
            },
            "type": "parcoords"
           }
          ],
          "pie": [
           {
            "automargin": true,
            "type": "pie"
           }
          ],
          "scatter": [
           {
            "marker": {
             "colorbar": {
              "outlinewidth": 0,
              "ticks": ""
             }
            },
            "type": "scatter"
           }
          ],
          "scatter3d": [
           {
            "line": {
             "colorbar": {
              "outlinewidth": 0,
              "ticks": ""
             }
            },
            "marker": {
             "colorbar": {
              "outlinewidth": 0,
              "ticks": ""
             }
            },
            "type": "scatter3d"
           }
          ],
          "scattercarpet": [
           {
            "marker": {
             "colorbar": {
              "outlinewidth": 0,
              "ticks": ""
             }
            },
            "type": "scattercarpet"
           }
          ],
          "scattergeo": [
           {
            "marker": {
             "colorbar": {
              "outlinewidth": 0,
              "ticks": ""
             }
            },
            "type": "scattergeo"
           }
          ],
          "scattergl": [
           {
            "marker": {
             "colorbar": {
              "outlinewidth": 0,
              "ticks": ""
             }
            },
            "type": "scattergl"
           }
          ],
          "scattermapbox": [
           {
            "marker": {
             "colorbar": {
              "outlinewidth": 0,
              "ticks": ""
             }
            },
            "type": "scattermapbox"
           }
          ],
          "scatterpolar": [
           {
            "marker": {
             "colorbar": {
              "outlinewidth": 0,
              "ticks": ""
             }
            },
            "type": "scatterpolar"
           }
          ],
          "scatterpolargl": [
           {
            "marker": {
             "colorbar": {
              "outlinewidth": 0,
              "ticks": ""
             }
            },
            "type": "scatterpolargl"
           }
          ],
          "scatterternary": [
           {
            "marker": {
             "colorbar": {
              "outlinewidth": 0,
              "ticks": ""
             }
            },
            "type": "scatterternary"
           }
          ],
          "surface": [
           {
            "colorbar": {
             "outlinewidth": 0,
             "ticks": ""
            },
            "colorscale": [
             [
              0,
              "#0d0887"
             ],
             [
              0.1111111111111111,
              "#46039f"
             ],
             [
              0.2222222222222222,
              "#7201a8"
             ],
             [
              0.3333333333333333,
              "#9c179e"
             ],
             [
              0.4444444444444444,
              "#bd3786"
             ],
             [
              0.5555555555555556,
              "#d8576b"
             ],
             [
              0.6666666666666666,
              "#ed7953"
             ],
             [
              0.7777777777777778,
              "#fb9f3a"
             ],
             [
              0.8888888888888888,
              "#fdca26"
             ],
             [
              1,
              "#f0f921"
             ]
            ],
            "type": "surface"
           }
          ],
          "table": [
           {
            "cells": {
             "fill": {
              "color": "#EBF0F8"
             },
             "line": {
              "color": "white"
             }
            },
            "header": {
             "fill": {
              "color": "#C8D4E3"
             },
             "line": {
              "color": "white"
             }
            },
            "type": "table"
           }
          ]
         },
         "layout": {
          "annotationdefaults": {
           "arrowcolor": "#2a3f5f",
           "arrowhead": 0,
           "arrowwidth": 1
          },
          "coloraxis": {
           "colorbar": {
            "outlinewidth": 0,
            "ticks": ""
           }
          },
          "colorscale": {
           "diverging": [
            [
             0,
             "#8e0152"
            ],
            [
             0.1,
             "#c51b7d"
            ],
            [
             0.2,
             "#de77ae"
            ],
            [
             0.3,
             "#f1b6da"
            ],
            [
             0.4,
             "#fde0ef"
            ],
            [
             0.5,
             "#f7f7f7"
            ],
            [
             0.6,
             "#e6f5d0"
            ],
            [
             0.7,
             "#b8e186"
            ],
            [
             0.8,
             "#7fbc41"
            ],
            [
             0.9,
             "#4d9221"
            ],
            [
             1,
             "#276419"
            ]
           ],
           "sequential": [
            [
             0,
             "#0d0887"
            ],
            [
             0.1111111111111111,
             "#46039f"
            ],
            [
             0.2222222222222222,
             "#7201a8"
            ],
            [
             0.3333333333333333,
             "#9c179e"
            ],
            [
             0.4444444444444444,
             "#bd3786"
            ],
            [
             0.5555555555555556,
             "#d8576b"
            ],
            [
             0.6666666666666666,
             "#ed7953"
            ],
            [
             0.7777777777777778,
             "#fb9f3a"
            ],
            [
             0.8888888888888888,
             "#fdca26"
            ],
            [
             1,
             "#f0f921"
            ]
           ],
           "sequentialminus": [
            [
             0,
             "#0d0887"
            ],
            [
             0.1111111111111111,
             "#46039f"
            ],
            [
             0.2222222222222222,
             "#7201a8"
            ],
            [
             0.3333333333333333,
             "#9c179e"
            ],
            [
             0.4444444444444444,
             "#bd3786"
            ],
            [
             0.5555555555555556,
             "#d8576b"
            ],
            [
             0.6666666666666666,
             "#ed7953"
            ],
            [
             0.7777777777777778,
             "#fb9f3a"
            ],
            [
             0.8888888888888888,
             "#fdca26"
            ],
            [
             1,
             "#f0f921"
            ]
           ]
          },
          "colorway": [
           "#636efa",
           "#EF553B",
           "#00cc96",
           "#ab63fa",
           "#FFA15A",
           "#19d3f3",
           "#FF6692",
           "#B6E880",
           "#FF97FF",
           "#FECB52"
          ],
          "font": {
           "color": "#2a3f5f"
          },
          "geo": {
           "bgcolor": "white",
           "lakecolor": "white",
           "landcolor": "#E5ECF6",
           "showlakes": true,
           "showland": true,
           "subunitcolor": "white"
          },
          "hoverlabel": {
           "align": "left"
          },
          "hovermode": "closest",
          "mapbox": {
           "style": "light"
          },
          "paper_bgcolor": "white",
          "plot_bgcolor": "#E5ECF6",
          "polar": {
           "angularaxis": {
            "gridcolor": "white",
            "linecolor": "white",
            "ticks": ""
           },
           "bgcolor": "#E5ECF6",
           "radialaxis": {
            "gridcolor": "white",
            "linecolor": "white",
            "ticks": ""
           }
          },
          "scene": {
           "xaxis": {
            "backgroundcolor": "#E5ECF6",
            "gridcolor": "white",
            "gridwidth": 2,
            "linecolor": "white",
            "showbackground": true,
            "ticks": "",
            "zerolinecolor": "white"
           },
           "yaxis": {
            "backgroundcolor": "#E5ECF6",
            "gridcolor": "white",
            "gridwidth": 2,
            "linecolor": "white",
            "showbackground": true,
            "ticks": "",
            "zerolinecolor": "white"
           },
           "zaxis": {
            "backgroundcolor": "#E5ECF6",
            "gridcolor": "white",
            "gridwidth": 2,
            "linecolor": "white",
            "showbackground": true,
            "ticks": "",
            "zerolinecolor": "white"
           }
          },
          "shapedefaults": {
           "line": {
            "color": "#2a3f5f"
           }
          },
          "ternary": {
           "aaxis": {
            "gridcolor": "white",
            "linecolor": "white",
            "ticks": ""
           },
           "baxis": {
            "gridcolor": "white",
            "linecolor": "white",
            "ticks": ""
           },
           "bgcolor": "#E5ECF6",
           "caxis": {
            "gridcolor": "white",
            "linecolor": "white",
            "ticks": ""
           }
          },
          "title": {
           "x": 0.05
          },
          "xaxis": {
           "automargin": true,
           "gridcolor": "white",
           "linecolor": "white",
           "ticks": "",
           "title": {
            "standoff": 15
           },
           "zerolinecolor": "white",
           "zerolinewidth": 2
          },
          "yaxis": {
           "automargin": true,
           "gridcolor": "white",
           "linecolor": "white",
           "ticks": "",
           "title": {
            "standoff": 15
           },
           "zerolinecolor": "white",
           "zerolinewidth": 2
          }
         }
        }
       }
      },
      "text/html": [
       "<div>\n",
       "        \n",
       "        \n",
       "            <div id=\"bbcbd8aa-3620-466b-a541-ae0192d52943\" class=\"plotly-graph-div\" style=\"height:525px; width:100%;\"></div>\n",
       "            <script type=\"text/javascript\">\n",
       "                require([\"plotly\"], function(Plotly) {\n",
       "                    window.PLOTLYENV=window.PLOTLYENV || {};\n",
       "                    \n",
       "                if (document.getElementById(\"bbcbd8aa-3620-466b-a541-ae0192d52943\")) {\n",
       "                    Plotly.newPlot(\n",
       "                        'bbcbd8aa-3620-466b-a541-ae0192d52943',\n",
       "                        [{\"coloraxis\": \"coloraxis\", \"customdata\": [[\"SOUTH FERRY\"], [\"WHITEHALL S-FRY\"], [\"CYPRESS HILLS\"], [\"75 ST-ELDERTS\"], [\"85 ST-FOREST PK\"], [\"WOODHAVEN BLVD\"], [\"104 ST\"], [\"111 ST\"], [\"121 ST\"], [\"42 ST-PORT AUTH\"], [\"42 ST-PORT AUTH\"], [\"34 ST-PENN STA\"], [\"34 ST-PENN STA\"], [\"FULTON ST\"], [\"5 AV/53 ST\"], [\"LEXINGTON AV/53\"], [\"LEXINGTON AV/53\"], [\"74 ST-BROADWAY\"], [\"JKSN HT-ROOSVLT\"], [\"JAMAICA 179 ST\"], [\"47-50 STS ROCK\"], [\"42 ST-BRYANT PK\"], [\"34 ST-HERALD SQ\"], [\"34 ST-HERALD SQ\"], [\"SUTPHIN-ARCHER\"], [\"JAMAICA CENTER\"], [\"WALL ST\"], [\"FULTON ST\"], [\"CHAMBERS ST\"], [\"PARK PLACE\"], [\"WORLD TRADE CTR\"], [\"CHAMBERS ST\"], [\"34 ST-PENN STA\"], [\"TIMES SQ-42 ST\"], [\"TIMES SQ-42 ST\"], [\"125 ST\"], [\"168 ST\"], [\"DYCKMAN ST\"], [\"207 ST\"], [\"215 ST\"], [\"MARBLE HILL-225\"], [\"231 ST\"], [\"BOWLING GREEN\"], [\"BOWLING GREEN\"], [\"WALL ST\"], [\"BROOKLYN BRIDGE\"], [\"CHAMBERS ST\"], [\"GRD CNTRL-42 ST\"], [\"GRD CNTRL-42 ST\"], [\"GRD CNTRL-42 ST\"], [\"GRD CNTRL-42 ST\"], [\"51 ST\"], [\"59 ST\"], [\"59 ST\"], [\"WOODLAWN\"], [\"3 AV-149 ST\"], [\"5 AVE\"], [\"FLUSHING-MAIN\"], [\"NEVINS ST\"], [\"ATL AV-BARCLAY\"], [\"BERGEN ST\"], [\"GRAND ARMY PLAZ\"], [\"EASTN PKWY-MUSM\"], [\"NOSTRAND AV\"], [\"CROWN HTS-UTICA\"], [\"SUTTER AV-RUTLD\"], [\"SARATOGA AV\"], [\"ROCKAWAY AV\"], [\"JUNIUS ST\"], [\"PENNSYLVANIA AV\"], [\"VAN SICLEN AV\"], [\"NEW LOTS AV\"], [\"ST. GEORGE\"], [\"34 ST-HUDSON YD\"], [\"5 AV/59 ST\"], [\"57 ST-7 AV\"], [\"49 ST\"], [\"28 ST\"], [\"23 ST\"], [\"59 ST COLUMBUS\"], [\"8 ST-NYU\"], [\"PRINCE ST\"], [\"CITY HALL\"], [\"CORTLANDT ST\"], [\"JAY ST-METROTEC\"], [\"39 AV\"], [\"36 AV\"], [\"BROADWAY\"], [\"30 AV\"], [\"ASTORIA BLVD\"], [\"ASTORIA DITMARS\"], [\"82 ST-JACKSON H\"], [\"JUNCTION BLVD\"], [\"CHURCH AV\"], [\"DEKALB AV\"], [\"METROPOLITAN AV\"], [\"145 ST\"], [\"125 ST\"], [\"BROADWAY JCT\"], [\"167 ST\"], [\"14 ST\"], [\"CASTLE HILL AV\"], [\"WESTCHESTER SQ\"], [\"BOROUGH HALL\"], [\"CHURCH AV\"], [\"FLATBUSH AV-B.C\"], [\"23 ST\"], [\"FORDHAM RD\"], [\"7 AV\"], [\"PARSONS BLVD\"], [\"169 ST\"], [\"50 ST\"], [\"V.CORTLANDT PK\"], [\"CANAL ST\"], [\"FORDHAM RD\"], [\"MORISN AV/SNDVW\"], [\"QUEENSBORO PLZ\"], [\"90 ST-ELMHURST\"], [\"FRANKLIN AV\"], [\"KINGSTON AV\"], [\"BROAD ST\"], [\"175 ST\"], [\"JAY ST-METROTEC\"], [\"SUTPHIN BLVD\"], [\"BERGEN ST\"], [\"KINGS HWY\"], [\"23 ST\"], [\"125 ST\"], [\"MOSHOLU PKWY\"], [\"HUNTERS PT AV\"], [\"NEWKIRK AV\"], [\"SHEEPSHEAD BAY\"], [\"MYRTLE-WYCKOFF\"], [\"W 4 ST-WASH SQ\"], [\"CANAL ST\"], [\"QUEENS PLAZA\"], [\"FOREST HILLS 71\"], [\"DELANCEY/ESSEX\"], [\"28 ST\"], [\"96 ST\"], [\"WAKEFIELD/241\"], [\"HUNTS POINT AV\"], [\"61 ST WOODSIDE\"], [\"PARKSIDE AV\"], [\"NEWKIRK PLAZA\"], [\"AVENUE U\"], [\"CONEY IS-STILLW\"], [\"CANARSIE-ROCKAW\"], [\"UTICA AV\"], [\"TREMONT AV\"], [\"KINGSBRIDGE RD\"], [\"BEDFORD PK BLVD\"], [\"NORWOOD 205 ST\"], [\"KEW GARDENS\"], [\"116 ST-COLUMBIA\"], [\"ASTOR PL\"], [\"KINGSBRIDGE RD\"], [\"ELDER AV\"], [\"14 ST\"], [\"6 AV\"], [\"66 ST-LINCOLN\"], [\"TOMPKINSVILLE\"], [\"79 ST\"], [\"86 ST\"], [\"96 ST\"], [\"137 ST CITY COL\"], [\"14 ST-UNION SQ\"], [\"7 AV\"], [\"BRIGHTON BEACH\"], [\"INWOOD-207 ST\"], [\"181 ST\"], [\"14 ST\"], [\"8 AV\"], [\"33 ST\"], [\"68ST-HUNTER CO\"], [\"77 ST\"], [\"86 ST\"], [\"103 ST\"], [\"110 ST\"], [\"116 ST\"], [\"BEDFORD PK BLVD\"], [\"CORTELYOU RD\"], [\"DYCKMAN ST\"], [\"86 ST\"], [\"81 ST-MUSEUM\"], [\"50 ST\"], [\"CHRISTOPHER ST\"], [\"23 ST\"], [\"103 ST\"], [\"CATHEDRAL PKWY\"], [\"157 ST\"], [\"BLEECKER ST\"], [\"161/YANKEE STAD\"], [\"PROSPECT PARK\"], [\"36 ST\"], [\"NOSTRAND AV\"], [\"KINGSTON-THROOP\"], [\"EUCLID AV\"], [\"WOODHAVEN BLVD\"], [\"63 DR-REGO PARK\"], [\"23 ST\"], [\"CHURCH AV\"], [\"149/GRAND CONC\"], [\"125 ST\"], [\"135 ST\"], [\"103 ST-CORONA\"], [\"STERLING ST\"], [\"BEVERLY RD\"], [\"KINGS HWY\"], [\"59 ST\"], [\"BAY RIDGE AV\"], [\"77 ST\"], [\"86 ST\"], [\"BAY RIDGE-95 ST\"], [\"HOYT-SCHER\"], [\"ELMHURST AV\"], [\"67 AV\"], [\"CARROLL ST\"], [\"167 ST\"], [\"PARKCHESTER\"], [\"46 ST BLISS ST\"], [\"CLARK ST\"], [\"HOYT ST\"], [\"GUN HILL RD\"], [\"RECTOR ST\"], [\"AVENUE J\"], [\"AVENUE M\"], [\"NECK RD\"], [\"UNION ST\"], [\"45 ST\"], [\"53 ST\"], [\"50 ST\"], [\"BEDFORD AV\"], [\"DEKALB AV\"], [\"182-183 STS\"], [\"STEINWAY ST\"], [\"GREENPOINT AV\"], [\"GRAND ST\"], [\"15 ST-PROSPECT\"], [\"18 AV\"], [\"170 ST\"], [\"BURNSIDE AV\"], [\"ST LAWRENCE AV\"], [\"PROSPECT AV\"], [\"55 ST\"], [\"1 AV\"], [\"GRAHAM AV\"], [\"GRAND ST\"], [\"96 ST\"], [\"HIGH ST\"], [\"174-175 STS\"], [\"GRAND-NEWTOWN\"], [\"BRIARWOOD\"], [\"NASSAU AV\"], [\"EAST BROADWAY\"], [\"4 AV-9 ST\"], [\"4AV-9 ST\"], [\"ROOSEVELT ISLND\"], [\"181 ST\"], [\"40 ST LOWERY ST\"], [\"BEVERLEY ROAD\"], [\"AVENUE H\"], [\"OCEAN PKWY\"], [\"MONTROSE AV\"], [\"HALSEY ST\"], [\"46 ST\"], [\"LORIMER ST\"], [\"METROPOLITAN AV\"], [\"BEDFORD-NOSTRAN\"], [\"SMITH-9 ST\"], [\"AVENUE X\"], [\"28 ST\"], [\"145 ST\"], [\"191 ST\"], [\"183 ST\"], [\"VERNON-JACKSON\"], [\"PRESIDENT ST\"], [\"25 ST\"], [\"JEFFERSON ST\"], [\"190 ST\"], [\"72 ST\"], [\"SPRING ST\"], [\"LAFAYETTE AV\"], [\"CLINTON-WASH AV\"], [\"FAR ROCKAWAY\"], [\"MYRTLE-WILLOUGH\"], [\"CLASSON AV\"], [\"7 AV\"], [\"FT HAMILTON PKY\"], [\"HOUSTON ST\"], [\"33 ST-RAWSON ST\"], [\"BAYCHESTER AV\"], [\"34 ST-PENN STA\"], [\"MORGAN AV\"], [\"WILSON AV\"], [\"163 ST-AMSTERDM\"], [\"FRANKLIN AV\"], [\"NORTHERN BLVD\"], [\"BROADWAY\"], [\"2 AV\"], [\"YORK ST\"], [\"57 ST\"], [\"21 ST-QNSBRIDGE\"], [\"RECTOR ST\"], [\"CORTLANDT ST\"], [\"WTC-CORTLANDT\"], [\"238 ST\"], [\"138/GRAND CONC\"], [\"MT EDEN AV\"], [\"176 ST\"], [\"111 ST\"], [\"BOWERY\"], [\"W 8 ST-AQUARIUM\"], [\"BUSHWICK AV\"], [\"103 ST\"], [\"155 ST\"], [\"FLUSHING AV\"], [\"CLINTON-WASH AV\"], [\"FULTON ST\"], [\"LEXINGTON AV/63\"], [\"CANAL ST\"], [\"18 ST\"], [\"SPRING ST\"], [\"CENTRAL PK N110\"], [\"116 ST\"], [\"WHITLOCK AV\"], [\"ZEREGA AV\"], [\"52 ST\"], [\"METS-WILLETS PT\"], [\"MORRIS PARK\"], [\"3 AV\"], [\"155 ST\"], [\"135 ST\"], [\"116 ST\"], [\"CATHEDRAL PKWY\"], [\"BEACH 67 ST\"], [\"BEACH 60 ST\"], [\"BEACH 44 ST\"], [\"BEACH 36 ST\"], [\"36 ST\"], [\"65 ST\"], [\"75 AV\"], [\"JAMAICA VAN WK\"], [\"FRANKLIN ST\"], [\"145 ST\"], [\"HARLEM 148 ST\"], [\"COURT SQ\"], [\"69 ST\"], [\"ATLANTIC AV\"], [\"SUTTER AV\"], [\"LIVONIA AV\"], [\"HEWES ST\"], [\"LORIMER ST\"], [\"104 ST\"], [\"111 ST\"], [\"OZONE PK LEFFRT\"], [\"AQUEDUCT N.COND\"], [\"BEACH 25 ST\"], [\"COURT SQ\"], [\"COURT SQ-23 ST\"], [\"21 ST\"], [\"PELHAM PKWY\"], [\"ALLERTON AV\"], [\"BURKE AV\"], [\"GUN HILL RD\"], [\"219 ST\"], [\"225 ST\"], [\"233 ST\"], [\"9 AV\"], [\"FT HAMILTON PKY\"], [\"71 ST\"], [\"79 ST\"], [\"18 AV\"], [\"20 AV\"], [\"BAY PKWY\"], [\"NEW LOTS\"], [\"EAST 105 ST\"], [\"FLUSHING AV\"], [\"MYRTLE AV\"], [\"KOSCIUSZKO ST\"], [\"GATES AV\"], [\"HALSEY ST\"], [\"GRANT AV\"], [\"80 ST\"], [\"88 ST\"], [\"ROCKAWAY BLVD\"], [\"174 ST\"], [\"WEST FARMS SQ\"], [\"E 180 ST\"], [\"BRONX PARK EAST\"], [\"8 AV\"], [\"FT HAMILTON PKY\"], [\"18 AV\"], [\"20 AV\"], [\"BAY PKWY\"], [\"KINGS HWY\"], [\"AVENUE U\"], [\"86 ST\"], [\"NEW UTRECHT AV\"], [\"25 AV\"], [\"BAY 50 ST\"], [\"CENTRAL AV\"], [\"SENECA AVE\"], [\"FOREST AVE\"], [\"FRESH POND RD\"], [\"JACKSON AV\"], [\"PROSPECT AV\"], [\"INTERVALE AV\"], [\"SIMPSON ST\"], [\"FREEMAN ST\"], [\"PARK PLACE\"], [\"BOTANIC GARDEN\"], [\"KNICKERBOCKER\"], [\"HOWARD BCH JFK\"], [\"BROAD CHANNEL\"], [\"BEACH 90 ST\"], [\"BEACH 98 ST\"], [\"BEACH 105 ST\"], [\"ROCKAWAY PARK B\"], [\"DITMAS AV\"], [\"AVENUE I\"], [\"BAY PKWY\"], [\"AVENUE N\"], [\"AVENUE P\"], [\"AVENUE U\"], [\"NEPTUNE AV\"], [\"MIDDLETOWN RD\"], [\"BUHRE AV\"], [\"PELHAM BAY PARK\"], [\"PELHAM PKWY\"], [\"EASTCHSTER/DYRE\"], [\"CHAUNCEY ST\"], [\"ALABAMA AV\"], [\"VAN SICLEN AV\"], [\"CLEVELAND ST\"], [\"NORWOOD AV\"], [\"CRESCENT ST\"], [\"RALPH AV\"], [\"ROCKAWAY AV\"], [\"LIBERTY AV\"], [\"VAN SICLEN AVE\"], [\"SHEPHERD AV\"], [\"170 ST\"], [\"NEREID AV\"], [\"3 AV 138 ST\"], [\"BROOK AV\"], [\"CYPRESS AV\"], [\"E 143/ST MARY'S\"], [\"E 149 ST\"], [\"LONGWOOD AV\"], [\"WINTHROP ST\"], [\"72 ST\"], [\"23 ST\"], [\"25 ST\"], [\"HOYT ST\"], [\"ORCHARD BEACH\"], [\"MARCY AV\"], [\"B'WAY-LAFAYETTE\"], [\"CANAL ST\"], [\"CANAL ST\"], [\"AQUEDUCT RACETR\"], [\"RIT-MANHATTAN\"], [\"RIT-ROOSEVELT\"], [\"HOWARD BCH JFK\"], [\"JFK JAMAICA CT1\"], [\"PATH NEW WTC\"], [\"PATH WTC 2\"], [\"THIRTY ST\"], [\"THIRTY THIRD ST\"], [\"TWENTY THIRD ST\"], [\"EXCHANGE PLACE\"], [\"HARRISON\"], [\"14TH STREET\"], [\"PAVONIA/NEWPORT\"], [\"9TH STREET\"], [\"CHRISTOPHER ST\"], [\"NEWARK BM BW\"], [\"NEWARK C\"], [\"NEWARK HM HE\"], [\"NEWARK HW BMEBE\"], [\"LACKAWANNA\"], [\"GROVE STREET\"], [\"JOURNAL SQUARE\"], [\"72 ST-2 AVE\"], [\"86 ST-2 AVE\"], [\"96 ST-2 AVE\"]], \"hovertemplate\": \"total_turns=%{z}<br>lat=%{lat}<br>lng=%{lon}<br>STATION=%{customdata[0]}<extra></extra>\", \"lat\": [40.703082, 40.703082, 40.689945, 40.69132000000001, 40.692304, 40.693866, 40.69518400000001, 40.697405, 40.700536, 40.757303, 40.757303, 40.752247, 40.752247, 40.709938, 40.760179, 40.75753, 40.75753, 40.746655, 40.746655, 40.712622, 40.75865200000001, 40.754198, 40.749533, 40.749533, 40.700488, 40.702131, 40.706864, 40.709938, 40.71433, 40.71433, 40.71433, 40.715436, 40.750329, 40.755905, 40.755905, 40.815596, 40.840778, 40.860523, 40.864653, 40.869359, 40.874551, 40.878867, 40.704782, 40.704782, 40.707466, 40.71315900000001, 40.71315900000001, 40.751849, 40.751849, 40.751849, 40.751849, 40.757108, 40.762796, 40.762796, 40.885973, 40.816132, 40.753824, 40.75957800000001, 40.688269, 40.684063, 40.680801, 40.675219, 40.672013, 40.669735, 40.669279, 40.664591, 40.661466, 40.662541, 40.663419, 40.664884, 40.665405, 40.666252, 40.643738, 40.755, 40.764909, 40.764755, 40.760139, 40.745574, 40.741006, 40.76811, 40.730348, 40.724332, 40.713086, 40.710662, 40.692182, 40.753076, 40.756977, 40.761959, 40.766843, 40.770426, 40.774984, 40.747647, 40.749143, 40.650494, 40.690612, 40.711353, 40.824787, 40.811056, 40.678848, 40.833773, 40.738007, 40.834255, 40.839892, 40.692404, 40.650843, 40.632836, 40.745924, 40.862803, 40.762877, 40.707564, 40.710459, 40.761675, 40.889185, 40.71823300000001, 40.862941, 40.829495, 40.750508, 40.748541, 40.670711, 40.669409, 40.706539, 40.847369, 40.692338, 40.705416, 40.686154, 40.603234, 40.740088, 40.804406, 40.87963, 40.74238, 40.639961, 40.58681, 40.699707, 40.732251, 40.720852, 40.748948, 40.721681, 40.71838, 40.743095, 40.785822, 40.903085, 40.820889, 40.745623, 40.655053, 40.63505900000001, 40.599307, 40.577423, 40.64666, 40.679279, 40.850307, 40.866974, 40.873026, 40.874827, 40.714444, 40.80819, 40.730056, 40.867899, 40.828894, 40.737348, 40.737348, 40.773424, 40.636948, 40.783872, 40.788844, 40.79388, 40.821994, 40.734836, 40.677172, 40.577961, 40.868045, 40.851686, 40.740388, 40.740388, 40.746119, 40.768143, 40.773636, 40.779485, 40.790582, 40.795066, 40.798574, 40.873399, 40.640905, 40.865286, 40.785822, 40.781435, 40.762439, 40.7331, 40.74407100000001, 40.799354, 40.804032, 40.833879, 40.725665, 40.827888, 40.661596, 40.65515, 40.68041, 40.679921, 40.675382, 40.73308, 40.729869, 40.742868, 40.644039, 40.818429, 40.808076, 40.814459, 40.749858, 40.66275200000001, 40.645089, 40.608691, 40.641426, 40.634945, 40.629702, 40.622715, 40.616624, 40.688465, 40.742445, 40.726462, 40.680231, 40.835535, 40.833246, 40.743079, 40.697356, 40.690547, 40.877796, 40.707222, 40.625028, 40.617568, 40.59523400000001, 40.67730200000001, 40.648866, 40.644959, 40.636232, 40.717241, 40.703839, 40.856085, 40.756864, 40.731324, 40.718542, 40.660376, 40.629881, 40.840048, 40.85339000000001, 40.8315, 40.665438, 40.631412, 40.730901, 40.71459, 40.711874, 40.791654, 40.699316, 40.845892, 40.736998, 40.709174, 40.724608, 40.713647, 40.67032, 40.67032, 40.759123, 40.84949500000001, 40.743778000000006, 40.643982, 40.629164, 40.576298, 40.707889, 40.695607, 40.756312, 40.713875, 40.713875, 40.689636, 40.673714, 40.589547, 40.747224, 40.826426, 40.855176, 40.858389, 40.742624, 40.667879, 40.660481, 40.706636, 40.859022, 40.775545, 40.726202, 40.68617, 40.683263, 40.603983, 40.694568, 40.688855, 40.666276, 40.650722, 40.728202, 40.74455800000001, 40.878656, 40.750264, 40.706148, 40.688676, 40.835957, 40.681159, 40.752898, 40.7061, 40.723291, 40.699756, 40.763625, 40.7541, 40.70784, 40.710454, 40.710454, 40.884821, 40.813208, 40.844406, 40.848635, 40.75176, 40.720315, 40.576152, 40.682558, 40.796105, 40.829934, 40.700374, 40.688123, 40.68713, 40.764763, 40.722819, 40.741096, 40.722397, 40.79911, 40.802098, 40.826508, 40.83646, 40.744103, 40.754622, 40.854137, 40.733243, 40.830551, 40.817902, 40.805072, 40.800637, 40.590867, 40.592334, 40.593214, 40.595381, 40.75202, 40.749663, 40.718477, 40.702566, 40.719323, 40.820402, 40.823877, 40.747029, 40.746325, 40.675496, 40.669376, 40.663801, 40.706994, 40.703855, 40.681745, 40.684364, 40.685975, 40.66823400000001, 40.600138, 40.747257, 40.747257, 40.743973, 40.857188, 40.865481, 40.871387, 40.877796, 40.883767, 40.887887, 40.893386, 40.646343, 40.640872, 40.619588, 40.613513, 40.607958, 40.604798, 40.601898, 40.658748, 40.650625, 40.700244, 40.697266, 40.693329, 40.689652, 40.68617, 40.677107, 40.679369, 40.679857, 40.680429, 40.837382, 40.840097, 40.841882, 40.848797, 40.635011, 40.631428, 40.620728, 40.617373, 40.612006, 40.603967, 40.597482, 40.592676, 40.625419, 40.597873, 40.588879, 40.697673, 40.702798, 40.704424, 40.706181, 40.816505, 40.81939600000001, 40.822172, 40.82417, 40.829966, 40.67491, 40.670499, 40.698666, 40.660476, 40.608693, 40.588032, 40.585514, 40.583542, 40.580454, 40.63615, 40.625305, 40.620907, 40.615174, 40.609147, 40.596065, 40.580992, 40.843635, 40.846817, 40.852465, 40.858973, 40.888244, 40.682867, 40.677107, 40.678018, 40.679938, 40.681598, 40.68320900000001, 40.678815, 40.67836, 40.674552, 40.672786, 40.674161, 40.839301, 40.898382, 40.810512, 40.808044, 40.805737, 40.808742, 40.812104, 40.816083, 40.656648, 40.778575, 40.742981, 40.66043, 40.690545, 40.852417, 40.708377, 40.725297, 40.718697, 40.718697, 40.668221, 40.761268, 40.7574, 40.660476, 40.643942, 40.7126, 40.7126, 40.7491, 40.7491, 40.7429, 40.7162, 40.7384, 40.7374, 40.7267, 40.7342, 40.7331, 40.6895, 40.6895, 40.6895, 40.6895, 40.735, 40.7197, 40.7326, 40.7686869, 40.76868620000001, 40.7807028], \"lon\": [-74.01298299999998, -74.01298299999998, -73.872564, -73.867135, -73.860151, -73.851568, -73.844326, -73.836354, -73.82838199999998, -73.98978699999998, -73.98978699999998, -73.99345600000002, -73.99345600000002, -74.007983, -73.975196, -73.969102, -73.969102, -73.891361, -73.891361, -73.783815, -73.981311, -73.984573, -73.987899, -73.987899, -73.80793299999998, -73.80111, -74.009056, -74.007983, -74.008563, -74.008563, -74.008563, -74.009335, -73.991096, -73.98650400000002, -73.98650400000002, -73.958395, -73.94009100000002, -73.925575, -73.918719, -73.915329, -73.909879, -73.90485799999998, -74.014099, -74.014099, -74.01186700000002, -74.003917, -74.003917, -73.976945, -73.976945, -73.976945, -73.976945, -73.97187, -73.967686, -73.967686, -73.878851, -73.917754, -73.981966, -73.830056, -73.980453, -73.977417, -73.97513199999999, -73.971012, -73.96436, -73.950455, -73.932967, -73.922668, -73.91631600000002, -73.90876300000002, -73.902454, -73.894258, -73.889451, -73.884087, -74.073622, -74.001, -73.973372, -73.980646, -73.984112, -73.988682, -73.989315, -73.981891, -73.992705, -73.99768399999998, -74.007232, -74.011052, -73.985935, -73.93271, -73.929373, -73.925382, -73.921423, -73.917614, -73.91206700000002, -73.883786, -73.869452, -73.962836, -73.981848, -73.88958000000002, -73.944232, -73.952386, -73.904139, -73.91843, -73.99838100000002, -73.85122199999998, -73.842952, -73.990151, -73.949575, -73.947642, -73.998005, -73.901034, -73.98159, -73.803326, -73.7936, -73.983908, -73.898549, -74.000323, -73.901199, -73.87455899999998, -73.940177, -73.876791, -73.958051, -73.942173, -74.011052, -73.939683, -73.987342, -73.810562, -73.990881, -73.972342, -73.986429, -73.93745200000002, -73.88466600000002, -73.94888900000002, -73.948352, -73.954167, -73.91181, -74.000559, -74.005237, -73.93719399999998, -73.84439, -73.987813, -73.984251, -73.95097, -73.85059100000002, -73.890567, -73.902969, -73.96122700000002, -73.962793, -73.955916, -73.981225, -73.901832, -73.930585, -73.905244, -73.893485, -73.88691899999998, -73.878872, -73.830979, -73.964124, -73.99104200000002, -73.897326, -73.879559, -73.9969, -73.9969, -73.98223399999998, -74.07482399999998, -73.979938, -73.97599, -73.972363, -73.95367399999998, -73.990688, -73.972514, -73.96180600000002, -73.919921, -73.937967, -74.002104, -74.002104, -73.981826, -73.964016, -73.959875, -73.955541, -73.947473, -73.94429699999998, -73.94159300000003, -73.890084, -73.96386600000002, -73.92698, -73.968952, -73.972149, -73.985989, -74.0071, -73.99562399999998, -73.968329, -73.96674200000002, -73.944726, -73.995645, -73.925736, -73.962193, -74.003477, -73.950326, -73.94085799999998, -73.87207, -73.869259, -73.86161, -73.99277, -73.979541, -73.926927, -73.94590600000002, -73.94099200000002, -73.862672, -73.95060500000002, -73.948975, -73.95777199999998, -74.017972, -74.023411, -74.025514, -74.028368, -74.030964, -73.985474, -73.882005, -73.85263, -73.99498, -73.92138, -73.860805, -73.918419, -73.992888, -73.985066, -73.866341, -74.013391, -73.960819, -73.95936, -73.95509, -73.983135, -74.010086, -74.014034, -73.994765, -73.956614, -73.91844, -73.900695, -73.920736, -73.954425, -73.994164, -73.979509, -73.977149, -73.917775, -73.907733, -73.867623, -73.992856, -73.995473, -73.981719, -73.94410400000002, -73.94067, -73.964682, -73.990474, -73.910136, -73.87724200000002, -73.820593, -73.95127099999998, -73.990152, -73.98875699999998, -73.98875699999998, -73.953266, -73.93363199999997, -73.923998, -73.96451, -73.961678, -73.968523, -73.940005, -73.904021, -73.913333, -73.951592, -73.951592, -73.953459, -73.996139, -73.974295, -73.99336, -73.950412, -73.929384, -73.903828, -73.95354499999998, -73.950648, -73.998059, -73.922925, -73.93419, -73.976398, -74.00362700000002, -73.973908, -73.965838, -73.755383, -73.949046, -73.960025, -73.980324, -73.975818, -74.005344, -73.930993, -73.838596, -73.99298399999998, -73.93316, -73.903999, -73.939898, -73.956056, -73.905973, -73.95034799999998, -73.989873, -73.98689, -73.977449, -73.94258, -74.01369100000002, -74.011324, -74.011324, -73.900759, -73.929877, -73.914621, -73.912497, -73.855183, -73.994014, -73.975925, -73.905501, -73.961399, -73.938632, -73.950284, -73.96674200000002, -73.975346, -73.966291, -74.00626700000002, -73.997877, -73.997211, -73.95180699999997, -73.949625, -73.886425, -73.846471, -73.912497, -73.845625, -73.860977, -73.987169, -73.941486, -73.947644, -73.954833, -73.958201, -73.797011, -73.788493, -73.776433, -73.768194, -73.92874, -73.898485, -73.837223, -73.816859, -74.006953, -73.93631500000002, -73.93644300000003, -73.94537, -73.896403, -73.902819, -73.902047, -73.900444, -73.95348100000002, -73.947387, -73.837631, -73.832181, -73.824713, -73.834058, -73.76151999999998, -73.945112, -73.945112, -73.949876, -73.86760699999998, -73.867393, -73.867135, -73.86625500000002, -73.862736, -73.860505, -73.857265, -73.994551, -73.994229, -73.99884200000002, -74.00064499999998, -74.00178199999998, -73.998456, -73.993821, -73.899472, -73.899558, -73.94165799999998, -73.935692, -73.928826, -73.92228100000001, -73.916337, -73.865376, -73.85896, -73.85149200000002, -73.843853, -73.887659, -73.879774, -73.873551, -73.868465, -74.011717, -74.005387, -73.990388, -73.985088, -73.98200899999998, -73.98066800000002, -73.979359, -73.978243, -73.99663199999998, -73.98695500000002, -73.98362900000002, -73.927131, -73.907776, -73.903077, -73.89591, -73.907797, -73.90146700000003, -73.89674699999998, -73.89322800000002, -73.891876, -73.95779399999998, -73.958759, -73.919685, -73.830301, -73.816068, -73.813684, -73.820143, -73.82643, -73.837459, -73.978179, -73.975732, -73.975453, -73.974166, -73.97298599999998, -73.973329, -73.974531, -73.836687, -73.832545, -73.828125, -73.855355, -73.83085, -73.91048, -73.898871, -73.891726, -73.884687, -73.880074, -73.873765, -73.920801, -73.911939, -73.89655400000002, -73.890438, -73.88076099999998, -73.91335500000002, -73.854389, -73.926165, -73.919234, -73.91447099999998, -73.90769, -73.904085, -73.89605999999998, -73.950198, -73.981912, -73.992727, -73.99794399999998, -73.985065, -73.828082, -73.957751, -73.996204, -74.000977, -74.000977, -73.834026, -73.964016, -73.954006, -73.830301, -73.78235600000002, -74.0099, -74.0099, -73.9882, -73.9882, -73.9929, -74.0329, -74.1557, -73.9969, -74.0348, -73.9988, -74.0071, -74.1745, -74.1745, -74.1745, -74.1745, -74.0275, -74.0431, -74.0627, -73.9584429, -73.9584429, -73.9494105], \"name\": \"\", \"radius\": 10, \"subplot\": \"mapbox\", \"type\": \"densitymapbox\", \"z\": [188.15239477503627, 321.20362473347546, 105.40108401084011, 164.3548387096774, 188.4616935483871, 123.13789581205312, 86.79865771812081, 145.60772357723576, 60.548048048048045, 503.17225286380994, 516.0014405070585, 412.5184943429069, 342.4541595925297, 319.3008935824533, 345.3538581449727, 210.55161290322582, 412.38017808749515, 255.80650406504066, 562.6878083157153, 173.19753086419752, 393.273640167364, 524.1581790123457, 547.2923621648963, 648.6799516908212, 492.85146053449347, 439.3551215623755, 288.6449165402124, 214.2175170419335, 274.0408031088083, 194.1984126984127, 263.60940695296523, 352.9286761113825, 442.3984877126654, 552.9970384995064, 580.96192, 469.664, 303.61520947176683, 276.552, 243.05962059620597, 94.2459349593496, 198.91027732463294, 168.46031746031747, 239.85302390998592, 478.961262553802, 168.3030650243483, 312.2043902439024, 217.3652575957728, 473.55085324232084, 614.5633112907176, 702.8977159880834, 454.57598499061913, 269.57780119423956, 368.1224028906956, 333.4887640449438, 262.9808, 283.0151162790698, 330.4979658258747, 589.452528837622, 308.94736842105266, 249.27249618708694, 122.24269889224573, 370.47, 218.59571428571428, 410.4543010752688, 374.7075045207957, 338.758064516129, 320.1739837398374, 252.82767978290366, 173.4491869918699, 247.26190476190476, 226.1219512195122, 284.1137566137566, 75.49640512660206, 159.65042892156862, 303.17171129220026, 541.0667414469995, 323.4420731707317, 431.4374445430346, 381.99267605633804, 482.2087890625, 357.37719298245617, 420.8042071197411, 161.10659439927733, 143.24983119513843, 112.83258325832583, 167.77235772357724, 377.8917682926829, 474.16007532956684, 555.7543453070683, 417.0949913644214, 513.991935483871, 494.52041633306646, 520.9078590785908, 358.2717201166181, 318.295177222545, 134.95762711864407, 787.1203953279424, 482.92257742257743, 356.56418918918916, 249.08762886597938, 344.9487776484284, 271.0587557603687, 577.7018970189702, 314.54397590361447, 197.16162570888469, 227.10012836970475, 366.3615176151761, 259.8877221324717, 489.1494565217391, 164.62401150251617, 146.73144687666846, 387.08662477558346, 419.9593495934959, 750.912, 327.99457994579944, 300.9334239130435, 511.5703125, 411.5877034358047, 387.4205714285714, 426.87566137566137, 107.63266666666667, 181.7310379241517, 333.5656445370646, 106.72845528455285, 198.13711151736746, 148.61717921527043, 321.52382528127066, 532.1409244644871, 182.3678048780488, 169.0808, 200.06696832579186, 425.4175925925926, 388.3208722741433, 654.151948051948, 294.2336608287057, 152.16818950930627, 253.15241379310345, 312.74565381708237, 310.2456140350877, 525.5115384615384, 286.2650406504065, 273.78577336641854, 430.1439342015079, 550.6829268292682, 608.6861788617886, 262.479674796748, 210.09008297115764, 299.98464317976516, 341.6423632935261, 272.40525838621943, 170.65746971736203, 204.20900321543408, 272.2858585858586, 360.99160335865656, 597.4733333333334, 423.932123655914, 435.9837398373984, 320.42818428184285, 300.0348300461603, 202.40853658536585, 266.6448497854077, 16.994292237442924, 383.1270125223614, 380.96214689265537, 385.54023668639053, 387.9569105691057, 742.3798801900434, 721.3760162601626, 223.11498257839722, 169.6339648173207, 461.2457516339869, 556.0060501296456, 478.5880376344086, 360.70665171898355, 461.06597222222223, 490.96573875803, 574.404779969651, 620.7574525745257, 499.13279132791325, 443.27510040160644, 378.4105691056911, 430.5934959349593, 353.50948509485096, 300.17378917378915, 419.7532258064516, 303.37931034482756, 480.3125845737483, 576.5730724971231, 467.68428184281845, 398.8367816091954, 364.0, 341.65501792114696, 184.36964285714285, 376.0960854092527, 559.9959349593496, 646.2367816091954, 311.0257801899593, 252.77800407331975, 431.53284671532845, 206.6564185544768, 684.3414634146342, 176.8465547191662, 480.22996515679444, 380.2812858783008, 226.61318830727396, 569.6161434977579, 380.4634146341463, 188.96975806451613, 323.808552958727, 315.0271739130435, 203.4435975609756, 283.01984126984127, 280.91726618705036, 137.82657463330457, 608.4243902439024, 218.48759007205766, 184.7827140549273, 220.0976331360947, 713.5174418604652, 398.03306878306876, 287.08909574468083, 306.4430894308943, 156.86449864498644, 243.53252032520325, 115.6740576496674, 103.10944340212633, 123.48617886178862, 125.9047619047619, 290.7818428184282, 431.38900203665986, 270.1446725317693, 295.75880758807585, 643.9241645244216, 377.57886178861787, 307.6006097560976, 423.51258992805754, 219.89961089494165, 727.7295742232451, 122.7757785467128, 112.15165336374002, 568.6032388663967, 506.9504132231405, 200.21938088829071, 203.86933797909407, 143.4836956521739, 612.5548387096774, 400.0448979591837, 327.1290760869565, 319.9049049049049, 573.2985553772071, 118.76344086021506, 342.7812274368231, 134.478, 245.46844660194174, 253.6570796460177, 319.3516260162602, 220.1189948263119, 348.25338753387535, 684.1824, 475.9731182795699, 335.5907859078591, 66.8119241192412, 114.3125, 541.2547425474255, 247.66932270916334, 153.5635478637101, 203.84, 259.64029438822445, 290.58246828143024, 249.9878048780488, 198.6070460704607, 329.1834189288335, 371.12078977932634, 627.709349593496, 346.1544715447154, 300.1485022307202, 427.3946666666667, 223.01344086021504, 281.66615384615386, 291.5371621621622, 437.0833333333333, 269.169696969697, 106.79382303839733, 165.3003048780488, 201.64692218350754, 183.92147806004618, 515.7853260869565, 281.7371854613234, 146.38297872340425, 217.76338602753697, 278.196015936255, 206.40108401084012, 603.3925788497218, 289.07859078590786, 264.5772357723577, 129.5737704918033, 215.54301075268816, 199.66007194244605, 415.289972899729, 434.8844022169438, 771.5284552845528, 253.04962153069806, 411.8359375, 233.65523632993512, 89.06865464632455, 97.0815331010453, 130.04655870445345, 306.88, 345.9979674796748, 344.63709677419354, 586.6476190476191, 397.45257452574526, 91.34897959183674, 184.48238482384824, 383.5301837270341, 284.9672131147541, 101.32377919320595, 120.28252032520325, 219.80023228803717, 313.0830728003573, 298.0584239130435, 258.4561965811966, 611.9068825910931, 404.6666666666667, 293.9469387755102, 108.33522727272727, 122.59756097560975, 314.2940379403794, 90.38852789603406, 221.2330623306233, 316.49457994579944, 163.4130081300813, 141.59171597633136, 288.70151515151514, 211.59866962305986, 136.83414634146342, 109.42290076335878, 46.65912762520194, 61.1739837398374, 112.6910569105691, 290.0731707317073, 58.308243727598565, 227.30662020905925, 161.66666666666666, 149.547703180212, 383.3411458333333, 219.1522177419355, 202.2570564516129, 130.1951219512195, 515.4349593495934, 169.85040650406503, 156.75874769797423, 200.9106438896189, 78.71280991735537, 71.94907407407408, 220.7170474516696, 85.46612903225807, 117.3219512195122, 210.3451776649746, 293.1417624521073, 196.24661246612467, 202.19623655913978, 356.7602179836512, 224.14634146341464, 405.54002713704205, 228.02173913043478, 294.8719723183391, 177.10894308943088, 238.66898954703834, 130.2384701912261, 223.384126984127, 251.65645161290323, 391.1680216802168, 317.8130081300813, 318.1951219512195, 461.81029810298105, 262.8841463414634, 216.8311444652908, 752.8224489795919, 416.26881720430106, 514.6178861788618, 485.63143631436316, 415.3089430894309, 144.6225319396051, 198.10326086956522, 170.2905027932961, 288.7099358974359, 172.0587172538392, 382.9010840108401, 175.8882833787466, 529.1711111111111, 164.62012987012986, 170.5703564727955, 215.81730769230768, 362.4859967051071, 237.647311827957, 126.72195121951219, 186.53216374269005, 150.22151224707136, 315.5076923076923, 174.5609756097561, 193.0670731707317, 156.0569105691057, 289.1639344262295, 181.0309072781655, 174.79349593495934, 210.7729658792651, 281.390243902439, 149.4115292233787, 172.96383647798743, 110.15284552845529, 144.83333333333334, 314.040625, 72.70365853658537, 17.926509186351705, 60.110236220472444, 36.472131147540985, 21.104, 50.990243902439026, 103.10742971887551, 56.28846153846154, 54.70603674540683, 62.734671125975474, 147.0734908136483, 60.57564575645756, 90.79945799457994, 93.28571428571429, 174.92547425474254, 191.1029810298103, 250.73641304347825, 302.8841463414634, 251.05191256830602, 230.35772357723576, 279.66124661246613, 468.760162601626, 324.6584699453552, 561.4281842818428, 332.4460285132383, 200.46109175377467, 203.98133333333334, 305.0027322404372, 244.09214092140923, 162.48097412480973, 221.1413043478261, 504.9379157427938, 248.82638888888889, 152.17866666666666, 54.6813922356091, 242.20054200542006, 160.42292490118578, 319.2134146341463, 534.1245235069886, 710.5267379679144, 161.69376693766938, 158.81436314363143, 0.9804878048780488, 221.95470798569727, 342.2014896119169, 432.1719520789288, 303.0714584203928, 57.05420054200542, 183.11182108626198, 125.83219178082192, 100.83733333333333, 284.86367281475543, 367.3506419400856, 503.86348122866895, 181.59109792284866, 351.3080977479636, 302.3492537313433, 210.82183098591548, 134.9618386816999, 250.5487421383648, 508.70217729393465, 326.1243523316062, 387.6509635974304, 149.19691863264325, 61.560778727445395, 163.09209888511876, 108.12709832134293, 128.95849056603774, 326.7918118466899, 388.5240577385726, 470.691646778043, 419.3818576860402, 304.69792194627473]}],\n",
       "                        {\"coloraxis\": {\"colorbar\": {\"title\": {\"text\": \"total_turns\"}}, \"colorscale\": [[0.0, \"#0d0887\"], [0.1111111111111111, \"#46039f\"], [0.2222222222222222, \"#7201a8\"], [0.3333333333333333, \"#9c179e\"], [0.4444444444444444, \"#bd3786\"], [0.5555555555555556, \"#d8576b\"], [0.6666666666666666, \"#ed7953\"], [0.7777777777777778, \"#fb9f3a\"], [0.8888888888888888, \"#fdca26\"], [1.0, \"#f0f921\"]]}, \"legend\": {\"tracegroupgap\": 0}, \"mapbox\": {\"accesstoken\": \"pk.eyJ1IjoiY3dlc3RuZWRnZSIsImEiOiJja2ZnMGNqNmowMGQ3MnJwdDAwdGhyc21hIn0.bo4mFps9s1wRmgjIvI7KiQ\", \"center\": {\"lat\": 40.71, \"lon\": -74.0}, \"domain\": {\"x\": [0.0, 1.0], \"y\": [0.0, 1.0]}, \"style\": \"stamen-terrain\", \"zoom\": 13}, \"margin\": {\"b\": 0, \"l\": 0, \"r\": 0, \"t\": 0}, \"template\": {\"data\": {\"bar\": [{\"error_x\": {\"color\": \"#2a3f5f\"}, \"error_y\": {\"color\": \"#2a3f5f\"}, \"marker\": {\"line\": {\"color\": \"#E5ECF6\", \"width\": 0.5}}, \"type\": \"bar\"}], \"barpolar\": [{\"marker\": {\"line\": {\"color\": \"#E5ECF6\", \"width\": 0.5}}, \"type\": \"barpolar\"}], \"carpet\": [{\"aaxis\": {\"endlinecolor\": \"#2a3f5f\", \"gridcolor\": \"white\", \"linecolor\": \"white\", \"minorgridcolor\": \"white\", \"startlinecolor\": \"#2a3f5f\"}, \"baxis\": {\"endlinecolor\": \"#2a3f5f\", \"gridcolor\": \"white\", \"linecolor\": \"white\", \"minorgridcolor\": \"white\", \"startlinecolor\": \"#2a3f5f\"}, \"type\": \"carpet\"}], \"choropleth\": [{\"colorbar\": {\"outlinewidth\": 0, \"ticks\": \"\"}, \"type\": \"choropleth\"}], \"contour\": [{\"colorbar\": {\"outlinewidth\": 0, \"ticks\": \"\"}, \"colorscale\": [[0.0, \"#0d0887\"], [0.1111111111111111, \"#46039f\"], [0.2222222222222222, \"#7201a8\"], [0.3333333333333333, \"#9c179e\"], [0.4444444444444444, \"#bd3786\"], [0.5555555555555556, \"#d8576b\"], [0.6666666666666666, \"#ed7953\"], [0.7777777777777778, \"#fb9f3a\"], [0.8888888888888888, \"#fdca26\"], [1.0, \"#f0f921\"]], \"type\": \"contour\"}], \"contourcarpet\": [{\"colorbar\": {\"outlinewidth\": 0, \"ticks\": \"\"}, \"type\": \"contourcarpet\"}], \"heatmap\": [{\"colorbar\": {\"outlinewidth\": 0, \"ticks\": \"\"}, \"colorscale\": [[0.0, \"#0d0887\"], [0.1111111111111111, \"#46039f\"], [0.2222222222222222, \"#7201a8\"], [0.3333333333333333, \"#9c179e\"], [0.4444444444444444, \"#bd3786\"], [0.5555555555555556, \"#d8576b\"], [0.6666666666666666, \"#ed7953\"], [0.7777777777777778, \"#fb9f3a\"], [0.8888888888888888, \"#fdca26\"], [1.0, \"#f0f921\"]], \"type\": \"heatmap\"}], \"heatmapgl\": [{\"colorbar\": {\"outlinewidth\": 0, \"ticks\": \"\"}, \"colorscale\": [[0.0, \"#0d0887\"], [0.1111111111111111, \"#46039f\"], [0.2222222222222222, \"#7201a8\"], [0.3333333333333333, \"#9c179e\"], [0.4444444444444444, \"#bd3786\"], [0.5555555555555556, \"#d8576b\"], [0.6666666666666666, \"#ed7953\"], [0.7777777777777778, \"#fb9f3a\"], [0.8888888888888888, \"#fdca26\"], [1.0, \"#f0f921\"]], \"type\": \"heatmapgl\"}], \"histogram\": [{\"marker\": {\"colorbar\": {\"outlinewidth\": 0, \"ticks\": \"\"}}, \"type\": \"histogram\"}], \"histogram2d\": [{\"colorbar\": {\"outlinewidth\": 0, \"ticks\": \"\"}, \"colorscale\": [[0.0, \"#0d0887\"], [0.1111111111111111, \"#46039f\"], [0.2222222222222222, \"#7201a8\"], [0.3333333333333333, \"#9c179e\"], [0.4444444444444444, \"#bd3786\"], [0.5555555555555556, \"#d8576b\"], [0.6666666666666666, \"#ed7953\"], [0.7777777777777778, \"#fb9f3a\"], [0.8888888888888888, \"#fdca26\"], [1.0, \"#f0f921\"]], \"type\": \"histogram2d\"}], \"histogram2dcontour\": [{\"colorbar\": {\"outlinewidth\": 0, \"ticks\": \"\"}, \"colorscale\": [[0.0, \"#0d0887\"], [0.1111111111111111, \"#46039f\"], [0.2222222222222222, \"#7201a8\"], [0.3333333333333333, \"#9c179e\"], [0.4444444444444444, \"#bd3786\"], [0.5555555555555556, \"#d8576b\"], [0.6666666666666666, \"#ed7953\"], [0.7777777777777778, \"#fb9f3a\"], [0.8888888888888888, \"#fdca26\"], [1.0, \"#f0f921\"]], \"type\": \"histogram2dcontour\"}], \"mesh3d\": [{\"colorbar\": {\"outlinewidth\": 0, \"ticks\": \"\"}, \"type\": \"mesh3d\"}], \"parcoords\": [{\"line\": {\"colorbar\": {\"outlinewidth\": 0, \"ticks\": \"\"}}, \"type\": \"parcoords\"}], \"pie\": [{\"automargin\": true, \"type\": \"pie\"}], \"scatter\": [{\"marker\": {\"colorbar\": {\"outlinewidth\": 0, \"ticks\": \"\"}}, \"type\": \"scatter\"}], \"scatter3d\": [{\"line\": {\"colorbar\": {\"outlinewidth\": 0, \"ticks\": \"\"}}, \"marker\": {\"colorbar\": {\"outlinewidth\": 0, \"ticks\": \"\"}}, \"type\": \"scatter3d\"}], \"scattercarpet\": [{\"marker\": {\"colorbar\": {\"outlinewidth\": 0, \"ticks\": \"\"}}, \"type\": \"scattercarpet\"}], \"scattergeo\": [{\"marker\": {\"colorbar\": {\"outlinewidth\": 0, \"ticks\": \"\"}}, \"type\": \"scattergeo\"}], \"scattergl\": [{\"marker\": {\"colorbar\": {\"outlinewidth\": 0, \"ticks\": \"\"}}, \"type\": \"scattergl\"}], \"scattermapbox\": [{\"marker\": {\"colorbar\": {\"outlinewidth\": 0, \"ticks\": \"\"}}, \"type\": \"scattermapbox\"}], \"scatterpolar\": [{\"marker\": {\"colorbar\": {\"outlinewidth\": 0, \"ticks\": \"\"}}, \"type\": \"scatterpolar\"}], \"scatterpolargl\": [{\"marker\": {\"colorbar\": {\"outlinewidth\": 0, \"ticks\": \"\"}}, \"type\": \"scatterpolargl\"}], \"scatterternary\": [{\"marker\": {\"colorbar\": {\"outlinewidth\": 0, \"ticks\": \"\"}}, \"type\": \"scatterternary\"}], \"surface\": [{\"colorbar\": {\"outlinewidth\": 0, \"ticks\": \"\"}, \"colorscale\": [[0.0, \"#0d0887\"], [0.1111111111111111, \"#46039f\"], [0.2222222222222222, \"#7201a8\"], [0.3333333333333333, \"#9c179e\"], [0.4444444444444444, \"#bd3786\"], [0.5555555555555556, \"#d8576b\"], [0.6666666666666666, \"#ed7953\"], [0.7777777777777778, \"#fb9f3a\"], [0.8888888888888888, \"#fdca26\"], [1.0, \"#f0f921\"]], \"type\": \"surface\"}], \"table\": [{\"cells\": {\"fill\": {\"color\": \"#EBF0F8\"}, \"line\": {\"color\": \"white\"}}, \"header\": {\"fill\": {\"color\": \"#C8D4E3\"}, \"line\": {\"color\": \"white\"}}, \"type\": \"table\"}]}, \"layout\": {\"annotationdefaults\": {\"arrowcolor\": \"#2a3f5f\", \"arrowhead\": 0, \"arrowwidth\": 1}, \"coloraxis\": {\"colorbar\": {\"outlinewidth\": 0, \"ticks\": \"\"}}, \"colorscale\": {\"diverging\": [[0, \"#8e0152\"], [0.1, \"#c51b7d\"], [0.2, \"#de77ae\"], [0.3, \"#f1b6da\"], [0.4, \"#fde0ef\"], [0.5, \"#f7f7f7\"], [0.6, \"#e6f5d0\"], [0.7, \"#b8e186\"], [0.8, \"#7fbc41\"], [0.9, \"#4d9221\"], [1, \"#276419\"]], \"sequential\": [[0.0, \"#0d0887\"], [0.1111111111111111, \"#46039f\"], [0.2222222222222222, \"#7201a8\"], [0.3333333333333333, \"#9c179e\"], [0.4444444444444444, \"#bd3786\"], [0.5555555555555556, \"#d8576b\"], [0.6666666666666666, \"#ed7953\"], [0.7777777777777778, \"#fb9f3a\"], [0.8888888888888888, \"#fdca26\"], [1.0, \"#f0f921\"]], \"sequentialminus\": [[0.0, \"#0d0887\"], [0.1111111111111111, \"#46039f\"], [0.2222222222222222, \"#7201a8\"], [0.3333333333333333, \"#9c179e\"], [0.4444444444444444, \"#bd3786\"], [0.5555555555555556, \"#d8576b\"], [0.6666666666666666, \"#ed7953\"], [0.7777777777777778, \"#fb9f3a\"], [0.8888888888888888, \"#fdca26\"], [1.0, \"#f0f921\"]]}, \"colorway\": [\"#636efa\", \"#EF553B\", \"#00cc96\", \"#ab63fa\", \"#FFA15A\", \"#19d3f3\", \"#FF6692\", \"#B6E880\", \"#FF97FF\", \"#FECB52\"], \"font\": {\"color\": \"#2a3f5f\"}, \"geo\": {\"bgcolor\": \"white\", \"lakecolor\": \"white\", \"landcolor\": \"#E5ECF6\", \"showlakes\": true, \"showland\": true, \"subunitcolor\": \"white\"}, \"hoverlabel\": {\"align\": \"left\"}, \"hovermode\": \"closest\", \"mapbox\": {\"style\": \"light\"}, \"paper_bgcolor\": \"white\", \"plot_bgcolor\": \"#E5ECF6\", \"polar\": {\"angularaxis\": {\"gridcolor\": \"white\", \"linecolor\": \"white\", \"ticks\": \"\"}, \"bgcolor\": \"#E5ECF6\", \"radialaxis\": {\"gridcolor\": \"white\", \"linecolor\": \"white\", \"ticks\": \"\"}}, \"scene\": {\"xaxis\": {\"backgroundcolor\": \"#E5ECF6\", \"gridcolor\": \"white\", \"gridwidth\": 2, \"linecolor\": \"white\", \"showbackground\": true, \"ticks\": \"\", \"zerolinecolor\": \"white\"}, \"yaxis\": {\"backgroundcolor\": \"#E5ECF6\", \"gridcolor\": \"white\", \"gridwidth\": 2, \"linecolor\": \"white\", \"showbackground\": true, \"ticks\": \"\", \"zerolinecolor\": \"white\"}, \"zaxis\": {\"backgroundcolor\": \"#E5ECF6\", \"gridcolor\": \"white\", \"gridwidth\": 2, \"linecolor\": \"white\", \"showbackground\": true, \"ticks\": \"\", \"zerolinecolor\": \"white\"}}, \"shapedefaults\": {\"line\": {\"color\": \"#2a3f5f\"}}, \"ternary\": {\"aaxis\": {\"gridcolor\": \"white\", \"linecolor\": \"white\", \"ticks\": \"\"}, \"baxis\": {\"gridcolor\": \"white\", \"linecolor\": \"white\", \"ticks\": \"\"}, \"bgcolor\": \"#E5ECF6\", \"caxis\": {\"gridcolor\": \"white\", \"linecolor\": \"white\", \"ticks\": \"\"}}, \"title\": {\"x\": 0.05}, \"xaxis\": {\"automargin\": true, \"gridcolor\": \"white\", \"linecolor\": \"white\", \"ticks\": \"\", \"title\": {\"standoff\": 15}, \"zerolinecolor\": \"white\", \"zerolinewidth\": 2}, \"yaxis\": {\"automargin\": true, \"gridcolor\": \"white\", \"linecolor\": \"white\", \"ticks\": \"\", \"title\": {\"standoff\": 15}, \"zerolinecolor\": \"white\", \"zerolinewidth\": 2}}}},\n",
       "                        {\"responsive\": true}\n",
       "                    ).then(function(){\n",
       "                            \n",
       "var gd = document.getElementById('bbcbd8aa-3620-466b-a541-ae0192d52943');\n",
       "var x = new MutationObserver(function (mutations, observer) {{\n",
       "        var display = window.getComputedStyle(gd).display;\n",
       "        if (!display || display === 'none') {{\n",
       "            console.log([gd, 'removed!']);\n",
       "            Plotly.purge(gd);\n",
       "            observer.disconnect();\n",
       "        }}\n",
       "}});\n",
       "\n",
       "// Listen for the removal of the full notebook cells\n",
       "var notebookContainer = gd.closest('#notebook-container');\n",
       "if (notebookContainer) {{\n",
       "    x.observe(notebookContainer, {childList: true});\n",
       "}}\n",
       "\n",
       "// Listen for the clearing of the current output cell\n",
       "var outputEl = gd.closest('.output');\n",
       "if (outputEl) {{\n",
       "    x.observe(outputEl, {childList: true});\n",
       "}}\n",
       "\n",
       "                        })\n",
       "                };\n",
       "                });\n",
       "            </script>\n",
       "        </div>"
      ]
     },
     "metadata": {},
     "output_type": "display_data"
    }
   ],
   "source": [
    "fig = px.density_mapbox(map_data, lat='lat', lon='lng', \n",
    "                        z='total_turns', \n",
    "                        radius=13,\n",
    "                        center=dict(lat=40.71, lon=-74.0), zoom=9.5,\n",
    "                        hover_data=['STATION'],\n",
    "                        mapbox_style=\"stamen-terrain\")\n",
    "\n",
    "fig.update_layout(margin={\"r\":0,\"t\":0,\"l\":0,\"b\":0})\n",
    "fig.show()"
   ]
  },
  {
   "cell_type": "code",
   "execution_count": 79,
   "metadata": {},
   "outputs": [
    {
     "data": {
      "text/html": [
       "<div>\n",
       "<style scoped>\n",
       "    .dataframe tbody tr th:only-of-type {\n",
       "        vertical-align: middle;\n",
       "    }\n",
       "\n",
       "    .dataframe tbody tr th {\n",
       "        vertical-align: top;\n",
       "    }\n",
       "\n",
       "    .dataframe thead th {\n",
       "        text-align: right;\n",
       "    }\n",
       "</style>\n",
       "<table border=\"1\" class=\"dataframe\">\n",
       "  <thead>\n",
       "    <tr style=\"text-align: right;\">\n",
       "      <th></th>\n",
       "      <th>UNIT</th>\n",
       "      <th>STATION</th>\n",
       "      <th>ENTRIES</th>\n",
       "      <th>EXITS</th>\n",
       "      <th>entries_diff</th>\n",
       "      <th>exits_diff</th>\n",
       "      <th>lat</th>\n",
       "      <th>lng</th>\n",
       "      <th>exits_diff2</th>\n",
       "    </tr>\n",
       "  </thead>\n",
       "  <tbody>\n",
       "    <tr>\n",
       "      <th>0</th>\n",
       "      <td>R001</td>\n",
       "      <td>SOUTH FERRY</td>\n",
       "      <td>7.379688e+06</td>\n",
       "      <td>1.228505e+06</td>\n",
       "      <td>97.161905</td>\n",
       "      <td>87.857143</td>\n",
       "      <td>40.703082</td>\n",
       "      <td>-74.012983</td>\n",
       "      <td>87.857143</td>\n",
       "    </tr>\n",
       "    <tr>\n",
       "      <th>1</th>\n",
       "      <td>R001</td>\n",
       "      <td>WHITEHALL S-FRY</td>\n",
       "      <td>1.875012e+07</td>\n",
       "      <td>5.036563e+06</td>\n",
       "      <td>121.440000</td>\n",
       "      <td>131.493333</td>\n",
       "      <td>40.703082</td>\n",
       "      <td>-74.012983</td>\n",
       "      <td>131.493333</td>\n",
       "    </tr>\n",
       "    <tr>\n",
       "      <th>2</th>\n",
       "      <td>R003</td>\n",
       "      <td>CYPRESS HILLS</td>\n",
       "      <td>2.394375e+06</td>\n",
       "      <td>1.423587e+06</td>\n",
       "      <td>49.200000</td>\n",
       "      <td>28.200000</td>\n",
       "      <td>40.689945</td>\n",
       "      <td>-73.872564</td>\n",
       "      <td>28.200000</td>\n",
       "    </tr>\n",
       "    <tr>\n",
       "      <th>3</th>\n",
       "      <td>R004</td>\n",
       "      <td>75 ST-ELDERTS</td>\n",
       "      <td>2.476289e+06</td>\n",
       "      <td>2.169410e+06</td>\n",
       "      <td>77.680000</td>\n",
       "      <td>49.560000</td>\n",
       "      <td>40.691320</td>\n",
       "      <td>-73.867135</td>\n",
       "      <td>49.560000</td>\n",
       "    </tr>\n",
       "    <tr>\n",
       "      <th>4</th>\n",
       "      <td>R005</td>\n",
       "      <td>85 ST-FOREST PK</td>\n",
       "      <td>5.234938e+06</td>\n",
       "      <td>4.260675e+06</td>\n",
       "      <td>99.200000</td>\n",
       "      <td>41.000000</td>\n",
       "      <td>40.692304</td>\n",
       "      <td>-73.860151</td>\n",
       "      <td>41.000000</td>\n",
       "    </tr>\n",
       "    <tr>\n",
       "      <th>...</th>\n",
       "      <td>...</td>\n",
       "      <td>...</td>\n",
       "      <td>...</td>\n",
       "      <td>...</td>\n",
       "      <td>...</td>\n",
       "      <td>...</td>\n",
       "      <td>...</td>\n",
       "      <td>...</td>\n",
       "      <td>...</td>\n",
       "    </tr>\n",
       "    <tr>\n",
       "      <th>479</th>\n",
       "      <td>R551</td>\n",
       "      <td>GROVE STREET</td>\n",
       "      <td>4.018313e+04</td>\n",
       "      <td>4.160198e+04</td>\n",
       "      <td>111.442105</td>\n",
       "      <td>99.768421</td>\n",
       "      <td>NaN</td>\n",
       "      <td>NaN</td>\n",
       "      <td>99.768421</td>\n",
       "    </tr>\n",
       "    <tr>\n",
       "      <th>480</th>\n",
       "      <td>R552</td>\n",
       "      <td>JOURNAL SQUARE</td>\n",
       "      <td>3.538649e+04</td>\n",
       "      <td>3.657110e+04</td>\n",
       "      <td>111.168675</td>\n",
       "      <td>96.807229</td>\n",
       "      <td>NaN</td>\n",
       "      <td>NaN</td>\n",
       "      <td>96.807229</td>\n",
       "    </tr>\n",
       "    <tr>\n",
       "      <th>481</th>\n",
       "      <td>R570</td>\n",
       "      <td>72 ST-2 AVE</td>\n",
       "      <td>8.146583e+06</td>\n",
       "      <td>1.133177e+06</td>\n",
       "      <td>153.705882</td>\n",
       "      <td>124.082353</td>\n",
       "      <td>40.768687</td>\n",
       "      <td>-73.958443</td>\n",
       "      <td>124.082353</td>\n",
       "    </tr>\n",
       "    <tr>\n",
       "      <th>482</th>\n",
       "      <td>R571</td>\n",
       "      <td>86 ST-2 AVE</td>\n",
       "      <td>3.818658e+06</td>\n",
       "      <td>4.290601e+06</td>\n",
       "      <td>202.906667</td>\n",
       "      <td>141.680000</td>\n",
       "      <td>40.768686</td>\n",
       "      <td>-73.958443</td>\n",
       "      <td>141.680000</td>\n",
       "    </tr>\n",
       "    <tr>\n",
       "      <th>483</th>\n",
       "      <td>R572</td>\n",
       "      <td>96 ST-2 AVE</td>\n",
       "      <td>9.429450e+05</td>\n",
       "      <td>6.951964e+05</td>\n",
       "      <td>141.450000</td>\n",
       "      <td>93.962500</td>\n",
       "      <td>40.780703</td>\n",
       "      <td>-73.949411</td>\n",
       "      <td>93.962500</td>\n",
       "    </tr>\n",
       "  </tbody>\n",
       "</table>\n",
       "<p>484 rows × 9 columns</p>\n",
       "</div>"
      ],
      "text/plain": [
       "     UNIT          STATION       ENTRIES         EXITS  entries_diff  \\\n",
       "0    R001      SOUTH FERRY  7.379688e+06  1.228505e+06     97.161905   \n",
       "1    R001  WHITEHALL S-FRY  1.875012e+07  5.036563e+06    121.440000   \n",
       "2    R003    CYPRESS HILLS  2.394375e+06  1.423587e+06     49.200000   \n",
       "3    R004    75 ST-ELDERTS  2.476289e+06  2.169410e+06     77.680000   \n",
       "4    R005  85 ST-FOREST PK  5.234938e+06  4.260675e+06     99.200000   \n",
       "..    ...              ...           ...           ...           ...   \n",
       "479  R551     GROVE STREET  4.018313e+04  4.160198e+04    111.442105   \n",
       "480  R552   JOURNAL SQUARE  3.538649e+04  3.657110e+04    111.168675   \n",
       "481  R570      72 ST-2 AVE  8.146583e+06  1.133177e+06    153.705882   \n",
       "482  R571      86 ST-2 AVE  3.818658e+06  4.290601e+06    202.906667   \n",
       "483  R572      96 ST-2 AVE  9.429450e+05  6.951964e+05    141.450000   \n",
       "\n",
       "     exits_diff        lat        lng  exits_diff2  \n",
       "0     87.857143  40.703082 -74.012983    87.857143  \n",
       "1    131.493333  40.703082 -74.012983   131.493333  \n",
       "2     28.200000  40.689945 -73.872564    28.200000  \n",
       "3     49.560000  40.691320 -73.867135    49.560000  \n",
       "4     41.000000  40.692304 -73.860151    41.000000  \n",
       "..          ...        ...        ...          ...  \n",
       "479   99.768421        NaN        NaN    99.768421  \n",
       "480   96.807229        NaN        NaN    96.807229  \n",
       "481  124.082353  40.768687 -73.958443   124.082353  \n",
       "482  141.680000  40.768686 -73.958443   141.680000  \n",
       "483   93.962500  40.780703 -73.949411    93.962500  \n",
       "\n",
       "[484 rows x 9 columns]"
      ]
     },
     "execution_count": 79,
     "metadata": {},
     "output_type": "execute_result"
    }
   ],
   "source": [
    "a"
   ]
  },
  {
   "cell_type": "code",
   "execution_count": 80,
   "metadata": {},
   "outputs": [
    {
     "data": {
      "text/html": [
       "<div>\n",
       "<style scoped>\n",
       "    .dataframe tbody tr th:only-of-type {\n",
       "        vertical-align: middle;\n",
       "    }\n",
       "\n",
       "    .dataframe tbody tr th {\n",
       "        vertical-align: top;\n",
       "    }\n",
       "\n",
       "    .dataframe thead th {\n",
       "        text-align: right;\n",
       "    }\n",
       "</style>\n",
       "<table border=\"1\" class=\"dataframe\">\n",
       "  <thead>\n",
       "    <tr style=\"text-align: right;\">\n",
       "      <th></th>\n",
       "      <th>UNIT</th>\n",
       "      <th>STATION</th>\n",
       "      <th>lat</th>\n",
       "      <th>lng</th>\n",
       "      <th>exits_diff</th>\n",
       "      <th>entries_diff</th>\n",
       "    </tr>\n",
       "  </thead>\n",
       "  <tbody>\n",
       "    <tr>\n",
       "      <th>0</th>\n",
       "      <td>R001</td>\n",
       "      <td>SOUTH FERRY</td>\n",
       "      <td>40.703082</td>\n",
       "      <td>-74.012983</td>\n",
       "      <td>938.0</td>\n",
       "      <td>794.0</td>\n",
       "    </tr>\n",
       "    <tr>\n",
       "      <th>1</th>\n",
       "      <td>R001</td>\n",
       "      <td>WHITEHALL S-FRY</td>\n",
       "      <td>40.703082</td>\n",
       "      <td>-74.012983</td>\n",
       "      <td>1160.0</td>\n",
       "      <td>1310.0</td>\n",
       "    </tr>\n",
       "    <tr>\n",
       "      <th>2</th>\n",
       "      <td>R003</td>\n",
       "      <td>CYPRESS HILLS</td>\n",
       "      <td>40.689945</td>\n",
       "      <td>-73.872564</td>\n",
       "      <td>217.0</td>\n",
       "      <td>337.0</td>\n",
       "    </tr>\n",
       "    <tr>\n",
       "      <th>3</th>\n",
       "      <td>R004</td>\n",
       "      <td>75 ST-ELDERTS</td>\n",
       "      <td>40.691320</td>\n",
       "      <td>-73.867135</td>\n",
       "      <td>307.0</td>\n",
       "      <td>547.0</td>\n",
       "    </tr>\n",
       "    <tr>\n",
       "      <th>4</th>\n",
       "      <td>R005</td>\n",
       "      <td>85 ST-FOREST PK</td>\n",
       "      <td>40.692304</td>\n",
       "      <td>-73.860151</td>\n",
       "      <td>370.0</td>\n",
       "      <td>614.0</td>\n",
       "    </tr>\n",
       "    <tr>\n",
       "      <th>...</th>\n",
       "      <td>...</td>\n",
       "      <td>...</td>\n",
       "      <td>...</td>\n",
       "      <td>...</td>\n",
       "      <td>...</td>\n",
       "      <td>...</td>\n",
       "    </tr>\n",
       "    <tr>\n",
       "      <th>481</th>\n",
       "      <td>R551</td>\n",
       "      <td>GROVE STREET</td>\n",
       "      <td>40.719700</td>\n",
       "      <td>-74.043100</td>\n",
       "      <td>1361.0</td>\n",
       "      <td>1545.0</td>\n",
       "    </tr>\n",
       "    <tr>\n",
       "      <th>482</th>\n",
       "      <td>R552</td>\n",
       "      <td>JOURNAL SQUARE</td>\n",
       "      <td>40.732600</td>\n",
       "      <td>-74.062700</td>\n",
       "      <td>6509.0</td>\n",
       "      <td>7625.0</td>\n",
       "    </tr>\n",
       "    <tr>\n",
       "      <th>483</th>\n",
       "      <td>R570</td>\n",
       "      <td>72 ST-2 AVE</td>\n",
       "      <td>40.768687</td>\n",
       "      <td>-73.958443</td>\n",
       "      <td>1605.0</td>\n",
       "      <td>2270.0</td>\n",
       "    </tr>\n",
       "    <tr>\n",
       "      <th>484</th>\n",
       "      <td>R571</td>\n",
       "      <td>86 ST-2 AVE</td>\n",
       "      <td>40.768686</td>\n",
       "      <td>-73.958443</td>\n",
       "      <td>1091.0</td>\n",
       "      <td>1938.0</td>\n",
       "    </tr>\n",
       "    <tr>\n",
       "      <th>485</th>\n",
       "      <td>R572</td>\n",
       "      <td>96 ST-2 AVE</td>\n",
       "      <td>40.780703</td>\n",
       "      <td>-73.949410</td>\n",
       "      <td>904.0</td>\n",
       "      <td>1066.0</td>\n",
       "    </tr>\n",
       "  </tbody>\n",
       "</table>\n",
       "<p>486 rows × 6 columns</p>\n",
       "</div>"
      ],
      "text/plain": [
       "     UNIT          STATION        lat        lng  exits_diff  entries_diff\n",
       "0    R001      SOUTH FERRY  40.703082 -74.012983       938.0         794.0\n",
       "1    R001  WHITEHALL S-FRY  40.703082 -74.012983      1160.0        1310.0\n",
       "2    R003    CYPRESS HILLS  40.689945 -73.872564       217.0         337.0\n",
       "3    R004    75 ST-ELDERTS  40.691320 -73.867135       307.0         547.0\n",
       "4    R005  85 ST-FOREST PK  40.692304 -73.860151       370.0         614.0\n",
       "..    ...              ...        ...        ...         ...           ...\n",
       "481  R551     GROVE STREET  40.719700 -74.043100      1361.0        1545.0\n",
       "482  R552   JOURNAL SQUARE  40.732600 -74.062700      6509.0        7625.0\n",
       "483  R570      72 ST-2 AVE  40.768687 -73.958443      1605.0        2270.0\n",
       "484  R571      86 ST-2 AVE  40.768686 -73.958443      1091.0        1938.0\n",
       "485  R572      96 ST-2 AVE  40.780703 -73.949410       904.0        1066.0\n",
       "\n",
       "[486 rows x 6 columns]"
      ]
     },
     "execution_count": 80,
     "metadata": {},
     "output_type": "execute_result"
    }
   ],
   "source": [
    "map_data"
   ]
  },
  {
   "cell_type": "code",
   "execution_count": 76,
   "metadata": {
    "scrolled": true
   },
   "outputs": [],
   "source": [
    "# import plotly.express as px\n",
    "\n",
    "# fig = px.density_mapbox(hey, lat='lat', lon='lng', \n",
    "# #                         z='entries_diff', \n",
    "#                         radius=10,\n",
    "#                         center=dict(lat=40.71, lon=-74.0), zoom=13,\n",
    "# #                         hover_data=['STATION'],\n",
    "#                         mapbox_style=\"stamen-terrain\")\n",
    "\n",
    "# fig.update_layout(margin={\"r\":0,\"t\":0,\"l\":0,\"b\":0}, width=800, height=800)\n",
    "# fig.show()"
   ]
  },
  {
   "cell_type": "code",
   "execution_count": null,
   "metadata": {},
   "outputs": [],
   "source": [
    "# px.set_mapbox_access_token('pk.eyJ1IjoiY3dlc3RuZWRnZSIsImEiOiJja2ZnMGNqNmowMGQ3MnJwdDAwdGhyc21hIn0.bo4mFps9s1wRmgjIvI7KiQ')\n",
    "# df = px.data.carshare()\n",
    "# fig = px.scatter_mapbox(b,\n",
    "#                         lat=\"GTFS Latitude\",\n",
    "#                         lon=\"GTFS Longitude\", \n",
    "# #                         color=\"peak_hour\", \n",
    "#                         size=\"exits_diff2\",\n",
    "#                         color_continuous_scale=px.colors.cyclical.IceFire,\n",
    "#                         size_max=15, zoom=10)\n",
    "# fig.show()\n"
   ]
  },
  {
   "cell_type": "code",
   "execution_count": 131,
   "metadata": {},
   "outputs": [
    {
     "data": {
      "application/vnd.plotly.v1+json": {
       "config": {
        "plotlyServerURL": "https://plot.ly"
       },
       "data": [
        {
         "coloraxis": "coloraxis",
         "customdata": [
          [
           "SOUTH FERRY"
          ],
          [
           "WHITEHALL S-FRY"
          ],
          [
           "CYPRESS HILLS"
          ],
          [
           "75 ST-ELDERTS"
          ],
          [
           "85 ST-FOREST PK"
          ],
          [
           "WOODHAVEN BLVD"
          ],
          [
           "104 ST"
          ],
          [
           "111 ST"
          ],
          [
           "121 ST"
          ],
          [
           "42 ST-PORT AUTH"
          ],
          [
           "42 ST-PORT AUTH"
          ],
          [
           "34 ST-PENN STA"
          ],
          [
           "34 ST-PENN STA"
          ],
          [
           "FULTON ST"
          ],
          [
           "5 AV/53 ST"
          ],
          [
           "LEXINGTON AV/53"
          ],
          [
           "LEXINGTON AV/53"
          ],
          [
           "74 ST-BROADWAY"
          ],
          [
           "JKSN HT-ROOSVLT"
          ],
          [
           "JAMAICA 179 ST"
          ],
          [
           "47-50 STS ROCK"
          ],
          [
           "42 ST-BRYANT PK"
          ],
          [
           "34 ST-HERALD SQ"
          ],
          [
           "34 ST-HERALD SQ"
          ],
          [
           "SUTPHIN-ARCHER"
          ],
          [
           "JAMAICA CENTER"
          ],
          [
           "WALL ST"
          ],
          [
           "FULTON ST"
          ],
          [
           "CHAMBERS ST"
          ],
          [
           "PARK PLACE"
          ],
          [
           "WORLD TRADE CTR"
          ],
          [
           "CHAMBERS ST"
          ],
          [
           "34 ST-PENN STA"
          ],
          [
           "TIMES SQ-42 ST"
          ],
          [
           "TIMES SQ-42 ST"
          ],
          [
           "125 ST"
          ],
          [
           "168 ST"
          ],
          [
           "DYCKMAN ST"
          ],
          [
           "207 ST"
          ],
          [
           "215 ST"
          ],
          [
           "MARBLE HILL-225"
          ],
          [
           "231 ST"
          ],
          [
           "BOWLING GREEN"
          ],
          [
           "BOWLING GREEN"
          ],
          [
           "WALL ST"
          ],
          [
           "BROOKLYN BRIDGE"
          ],
          [
           "CHAMBERS ST"
          ],
          [
           "GRD CNTRL-42 ST"
          ],
          [
           "GRD CNTRL-42 ST"
          ],
          [
           "GRD CNTRL-42 ST"
          ],
          [
           "GRD CNTRL-42 ST"
          ],
          [
           "51 ST"
          ],
          [
           "59 ST"
          ],
          [
           "59 ST"
          ],
          [
           "WOODLAWN"
          ],
          [
           "3 AV-149 ST"
          ],
          [
           "5 AVE"
          ],
          [
           "FLUSHING-MAIN"
          ],
          [
           "NEVINS ST"
          ],
          [
           "ATL AV-BARCLAY"
          ],
          [
           "BERGEN ST"
          ],
          [
           "GRAND ARMY PLAZ"
          ],
          [
           "EASTN PKWY-MUSM"
          ],
          [
           "NOSTRAND AV"
          ],
          [
           "CROWN HTS-UTICA"
          ],
          [
           "SUTTER AV-RUTLD"
          ],
          [
           "SARATOGA AV"
          ],
          [
           "ROCKAWAY AV"
          ],
          [
           "JUNIUS ST"
          ],
          [
           "PENNSYLVANIA AV"
          ],
          [
           "VAN SICLEN AV"
          ],
          [
           "NEW LOTS AV"
          ],
          [
           "ST. GEORGE"
          ],
          [
           "34 ST-HUDSON YD"
          ],
          [
           "5 AV/59 ST"
          ],
          [
           "57 ST-7 AV"
          ],
          [
           "49 ST"
          ],
          [
           "28 ST"
          ],
          [
           "23 ST"
          ],
          [
           "59 ST COLUMBUS"
          ],
          [
           "8 ST-NYU"
          ],
          [
           "PRINCE ST"
          ],
          [
           "CITY HALL"
          ],
          [
           "CORTLANDT ST"
          ],
          [
           "JAY ST-METROTEC"
          ],
          [
           "39 AV"
          ],
          [
           "36 AV"
          ],
          [
           "BROADWAY"
          ],
          [
           "30 AV"
          ],
          [
           "ASTORIA BLVD"
          ],
          [
           "ASTORIA DITMARS"
          ],
          [
           "82 ST-JACKSON H"
          ],
          [
           "JUNCTION BLVD"
          ],
          [
           "CHURCH AV"
          ],
          [
           "DEKALB AV"
          ],
          [
           "METROPOLITAN AV"
          ],
          [
           "145 ST"
          ],
          [
           "125 ST"
          ],
          [
           "BROADWAY JCT"
          ],
          [
           "167 ST"
          ],
          [
           "14 ST"
          ],
          [
           "CASTLE HILL AV"
          ],
          [
           "WESTCHESTER SQ"
          ],
          [
           "BOROUGH HALL"
          ],
          [
           "CHURCH AV"
          ],
          [
           "FLATBUSH AV-B.C"
          ],
          [
           "23 ST"
          ],
          [
           "FORDHAM RD"
          ],
          [
           "7 AV"
          ],
          [
           "PARSONS BLVD"
          ],
          [
           "169 ST"
          ],
          [
           "50 ST"
          ],
          [
           "V.CORTLANDT PK"
          ],
          [
           "CANAL ST"
          ],
          [
           "FORDHAM RD"
          ],
          [
           "MORISN AV/SNDVW"
          ],
          [
           "QUEENSBORO PLZ"
          ],
          [
           "90 ST-ELMHURST"
          ],
          [
           "FRANKLIN AV"
          ],
          [
           "KINGSTON AV"
          ],
          [
           "BROAD ST"
          ],
          [
           "175 ST"
          ],
          [
           "JAY ST-METROTEC"
          ],
          [
           "SUTPHIN BLVD"
          ],
          [
           "BERGEN ST"
          ],
          [
           "KINGS HWY"
          ],
          [
           "23 ST"
          ],
          [
           "125 ST"
          ],
          [
           "MOSHOLU PKWY"
          ],
          [
           "HUNTERS PT AV"
          ],
          [
           "NEWKIRK AV"
          ],
          [
           "SHEEPSHEAD BAY"
          ],
          [
           "MYRTLE-WYCKOFF"
          ],
          [
           "W 4 ST-WASH SQ"
          ],
          [
           "CANAL ST"
          ],
          [
           "QUEENS PLAZA"
          ],
          [
           "FOREST HILLS 71"
          ],
          [
           "DELANCEY/ESSEX"
          ],
          [
           "28 ST"
          ],
          [
           "96 ST"
          ],
          [
           "WAKEFIELD/241"
          ],
          [
           "HUNTS POINT AV"
          ],
          [
           "61 ST WOODSIDE"
          ],
          [
           "PARKSIDE AV"
          ],
          [
           "NEWKIRK PLAZA"
          ],
          [
           "AVENUE U"
          ],
          [
           "CONEY IS-STILLW"
          ],
          [
           "CANARSIE-ROCKAW"
          ],
          [
           "UTICA AV"
          ],
          [
           "TREMONT AV"
          ],
          [
           "KINGSBRIDGE RD"
          ],
          [
           "BEDFORD PK BLVD"
          ],
          [
           "NORWOOD 205 ST"
          ],
          [
           "KEW GARDENS"
          ],
          [
           "116 ST-COLUMBIA"
          ],
          [
           "ASTOR PL"
          ],
          [
           "KINGSBRIDGE RD"
          ],
          [
           "ELDER AV"
          ],
          [
           "14 ST"
          ],
          [
           "6 AV"
          ],
          [
           "66 ST-LINCOLN"
          ],
          [
           "TOMPKINSVILLE"
          ],
          [
           "79 ST"
          ],
          [
           "86 ST"
          ],
          [
           "96 ST"
          ],
          [
           "137 ST CITY COL"
          ],
          [
           "14 ST-UNION SQ"
          ],
          [
           "7 AV"
          ],
          [
           "BRIGHTON BEACH"
          ],
          [
           "INWOOD-207 ST"
          ],
          [
           "181 ST"
          ],
          [
           "14 ST"
          ],
          [
           "8 AV"
          ],
          [
           "33 ST"
          ],
          [
           "68ST-HUNTER CO"
          ],
          [
           "77 ST"
          ],
          [
           "86 ST"
          ],
          [
           "103 ST"
          ],
          [
           "110 ST"
          ],
          [
           "116 ST"
          ],
          [
           "BEDFORD PK BLVD"
          ],
          [
           "CORTELYOU RD"
          ],
          [
           "DYCKMAN ST"
          ],
          [
           "86 ST"
          ],
          [
           "81 ST-MUSEUM"
          ],
          [
           "50 ST"
          ],
          [
           "CHRISTOPHER ST"
          ],
          [
           "23 ST"
          ],
          [
           "103 ST"
          ],
          [
           "CATHEDRAL PKWY"
          ],
          [
           "157 ST"
          ],
          [
           "BLEECKER ST"
          ],
          [
           "161/YANKEE STAD"
          ],
          [
           "PROSPECT PARK"
          ],
          [
           "36 ST"
          ],
          [
           "NOSTRAND AV"
          ],
          [
           "KINGSTON-THROOP"
          ],
          [
           "EUCLID AV"
          ],
          [
           "WOODHAVEN BLVD"
          ],
          [
           "63 DR-REGO PARK"
          ],
          [
           "23 ST"
          ],
          [
           "CHURCH AV"
          ],
          [
           "149/GRAND CONC"
          ],
          [
           "125 ST"
          ],
          [
           "135 ST"
          ],
          [
           "103 ST-CORONA"
          ],
          [
           "STERLING ST"
          ],
          [
           "BEVERLY RD"
          ],
          [
           "KINGS HWY"
          ],
          [
           "59 ST"
          ],
          [
           "BAY RIDGE AV"
          ],
          [
           "77 ST"
          ],
          [
           "86 ST"
          ],
          [
           "BAY RIDGE-95 ST"
          ],
          [
           "HOYT-SCHER"
          ],
          [
           "ELMHURST AV"
          ],
          [
           "67 AV"
          ],
          [
           "CARROLL ST"
          ],
          [
           "167 ST"
          ],
          [
           "PARKCHESTER"
          ],
          [
           "46 ST BLISS ST"
          ],
          [
           "CLARK ST"
          ],
          [
           "HOYT ST"
          ],
          [
           "GUN HILL RD"
          ],
          [
           "RECTOR ST"
          ],
          [
           "AVENUE J"
          ],
          [
           "AVENUE M"
          ],
          [
           "NECK RD"
          ],
          [
           "UNION ST"
          ],
          [
           "45 ST"
          ],
          [
           "53 ST"
          ],
          [
           "50 ST"
          ],
          [
           "BEDFORD AV"
          ],
          [
           "DEKALB AV"
          ],
          [
           "182-183 STS"
          ],
          [
           "STEINWAY ST"
          ],
          [
           "GREENPOINT AV"
          ],
          [
           "GRAND ST"
          ],
          [
           "15 ST-PROSPECT"
          ],
          [
           "18 AV"
          ],
          [
           "170 ST"
          ],
          [
           "BURNSIDE AV"
          ],
          [
           "ST LAWRENCE AV"
          ],
          [
           "PROSPECT AV"
          ],
          [
           "55 ST"
          ],
          [
           "1 AV"
          ],
          [
           "GRAHAM AV"
          ],
          [
           "GRAND ST"
          ],
          [
           "96 ST"
          ],
          [
           "HIGH ST"
          ],
          [
           "174-175 STS"
          ],
          [
           "GRAND-NEWTOWN"
          ],
          [
           "BRIARWOOD"
          ],
          [
           "NASSAU AV"
          ],
          [
           "EAST BROADWAY"
          ],
          [
           "4 AV-9 ST"
          ],
          [
           "4AV-9 ST"
          ],
          [
           "ROOSEVELT ISLND"
          ],
          [
           "181 ST"
          ],
          [
           "40 ST LOWERY ST"
          ],
          [
           "BEVERLEY ROAD"
          ],
          [
           "AVENUE H"
          ],
          [
           "OCEAN PKWY"
          ],
          [
           "MONTROSE AV"
          ],
          [
           "HALSEY ST"
          ],
          [
           "46 ST"
          ],
          [
           "LORIMER ST"
          ],
          [
           "METROPOLITAN AV"
          ],
          [
           "BEDFORD-NOSTRAN"
          ],
          [
           "SMITH-9 ST"
          ],
          [
           "AVENUE X"
          ],
          [
           "28 ST"
          ],
          [
           "145 ST"
          ],
          [
           "191 ST"
          ],
          [
           "183 ST"
          ],
          [
           "VERNON-JACKSON"
          ],
          [
           "PRESIDENT ST"
          ],
          [
           "25 ST"
          ],
          [
           "JEFFERSON ST"
          ],
          [
           "190 ST"
          ],
          [
           "72 ST"
          ],
          [
           "SPRING ST"
          ],
          [
           "LAFAYETTE AV"
          ],
          [
           "CLINTON-WASH AV"
          ],
          [
           "FAR ROCKAWAY"
          ],
          [
           "MYRTLE-WILLOUGH"
          ],
          [
           "CLASSON AV"
          ],
          [
           "7 AV"
          ],
          [
           "FT HAMILTON PKY"
          ],
          [
           "HOUSTON ST"
          ],
          [
           "33 ST-RAWSON ST"
          ],
          [
           "BAYCHESTER AV"
          ],
          [
           "34 ST-PENN STA"
          ],
          [
           "MORGAN AV"
          ],
          [
           "WILSON AV"
          ],
          [
           "163 ST-AMSTERDM"
          ],
          [
           "FRANKLIN AV"
          ],
          [
           "NORTHERN BLVD"
          ],
          [
           "BROADWAY"
          ],
          [
           "2 AV"
          ],
          [
           "YORK ST"
          ],
          [
           "57 ST"
          ],
          [
           "21 ST-QNSBRIDGE"
          ],
          [
           "RECTOR ST"
          ],
          [
           "CORTLANDT ST"
          ],
          [
           "WTC-CORTLANDT"
          ],
          [
           "238 ST"
          ],
          [
           "138/GRAND CONC"
          ],
          [
           "MT EDEN AV"
          ],
          [
           "176 ST"
          ],
          [
           "111 ST"
          ],
          [
           "BOWERY"
          ],
          [
           "W 8 ST-AQUARIUM"
          ],
          [
           "BUSHWICK AV"
          ],
          [
           "103 ST"
          ],
          [
           "155 ST"
          ],
          [
           "FLUSHING AV"
          ],
          [
           "CLINTON-WASH AV"
          ],
          [
           "FULTON ST"
          ],
          [
           "LEXINGTON AV/63"
          ],
          [
           "CANAL ST"
          ],
          [
           "18 ST"
          ],
          [
           "SPRING ST"
          ],
          [
           "CENTRAL PK N110"
          ],
          [
           "116 ST"
          ],
          [
           "WHITLOCK AV"
          ],
          [
           "ZEREGA AV"
          ],
          [
           "52 ST"
          ],
          [
           "METS-WILLETS PT"
          ],
          [
           "MORRIS PARK"
          ],
          [
           "3 AV"
          ],
          [
           "155 ST"
          ],
          [
           "135 ST"
          ],
          [
           "116 ST"
          ],
          [
           "CATHEDRAL PKWY"
          ],
          [
           "BEACH 67 ST"
          ],
          [
           "BEACH 60 ST"
          ],
          [
           "BEACH 44 ST"
          ],
          [
           "BEACH 36 ST"
          ],
          [
           "36 ST"
          ],
          [
           "65 ST"
          ],
          [
           "75 AV"
          ],
          [
           "JAMAICA VAN WK"
          ],
          [
           "FRANKLIN ST"
          ],
          [
           "145 ST"
          ],
          [
           "HARLEM 148 ST"
          ],
          [
           "COURT SQ"
          ],
          [
           "69 ST"
          ],
          [
           "ATLANTIC AV"
          ],
          [
           "SUTTER AV"
          ],
          [
           "LIVONIA AV"
          ],
          [
           "HEWES ST"
          ],
          [
           "LORIMER ST"
          ],
          [
           "104 ST"
          ],
          [
           "111 ST"
          ],
          [
           "OZONE PK LEFFRT"
          ],
          [
           "AQUEDUCT N.COND"
          ],
          [
           "BEACH 25 ST"
          ],
          [
           "COURT SQ"
          ],
          [
           "COURT SQ-23 ST"
          ],
          [
           "21 ST"
          ],
          [
           "PELHAM PKWY"
          ],
          [
           "ALLERTON AV"
          ],
          [
           "BURKE AV"
          ],
          [
           "GUN HILL RD"
          ],
          [
           "219 ST"
          ],
          [
           "225 ST"
          ],
          [
           "233 ST"
          ],
          [
           "9 AV"
          ],
          [
           "FT HAMILTON PKY"
          ],
          [
           "71 ST"
          ],
          [
           "79 ST"
          ],
          [
           "18 AV"
          ],
          [
           "20 AV"
          ],
          [
           "BAY PKWY"
          ],
          [
           "NEW LOTS"
          ],
          [
           "EAST 105 ST"
          ],
          [
           "FLUSHING AV"
          ],
          [
           "MYRTLE AV"
          ],
          [
           "KOSCIUSZKO ST"
          ],
          [
           "GATES AV"
          ],
          [
           "HALSEY ST"
          ],
          [
           "GRANT AV"
          ],
          [
           "80 ST"
          ],
          [
           "88 ST"
          ],
          [
           "ROCKAWAY BLVD"
          ],
          [
           "174 ST"
          ],
          [
           "WEST FARMS SQ"
          ],
          [
           "E 180 ST"
          ],
          [
           "BRONX PARK EAST"
          ],
          [
           "8 AV"
          ],
          [
           "FT HAMILTON PKY"
          ],
          [
           "18 AV"
          ],
          [
           "20 AV"
          ],
          [
           "BAY PKWY"
          ],
          [
           "KINGS HWY"
          ],
          [
           "AVENUE U"
          ],
          [
           "86 ST"
          ],
          [
           "NEW UTRECHT AV"
          ],
          [
           "25 AV"
          ],
          [
           "BAY 50 ST"
          ],
          [
           "CENTRAL AV"
          ],
          [
           "SENECA AVE"
          ],
          [
           "FOREST AVE"
          ],
          [
           "FRESH POND RD"
          ],
          [
           "JACKSON AV"
          ],
          [
           "PROSPECT AV"
          ],
          [
           "INTERVALE AV"
          ],
          [
           "SIMPSON ST"
          ],
          [
           "FREEMAN ST"
          ],
          [
           "PARK PLACE"
          ],
          [
           "BOTANIC GARDEN"
          ],
          [
           "KNICKERBOCKER"
          ],
          [
           "HOWARD BCH JFK"
          ],
          [
           "BROAD CHANNEL"
          ],
          [
           "BEACH 90 ST"
          ],
          [
           "BEACH 98 ST"
          ],
          [
           "BEACH 105 ST"
          ],
          [
           "ROCKAWAY PARK B"
          ],
          [
           "DITMAS AV"
          ],
          [
           "AVENUE I"
          ],
          [
           "BAY PKWY"
          ],
          [
           "AVENUE N"
          ],
          [
           "AVENUE P"
          ],
          [
           "AVENUE U"
          ],
          [
           "NEPTUNE AV"
          ],
          [
           "MIDDLETOWN RD"
          ],
          [
           "BUHRE AV"
          ],
          [
           "PELHAM BAY PARK"
          ],
          [
           "PELHAM PKWY"
          ],
          [
           "EASTCHSTER/DYRE"
          ],
          [
           "CHAUNCEY ST"
          ],
          [
           "ALABAMA AV"
          ],
          [
           "VAN SICLEN AV"
          ],
          [
           "CLEVELAND ST"
          ],
          [
           "NORWOOD AV"
          ],
          [
           "CRESCENT ST"
          ],
          [
           "RALPH AV"
          ],
          [
           "ROCKAWAY AV"
          ],
          [
           "LIBERTY AV"
          ],
          [
           "VAN SICLEN AVE"
          ],
          [
           "SHEPHERD AV"
          ],
          [
           "170 ST"
          ],
          [
           "NEREID AV"
          ],
          [
           "3 AV 138 ST"
          ],
          [
           "BROOK AV"
          ],
          [
           "CYPRESS AV"
          ],
          [
           "E 143/ST MARY'S"
          ],
          [
           "E 149 ST"
          ],
          [
           "LONGWOOD AV"
          ],
          [
           "WINTHROP ST"
          ],
          [
           "72 ST"
          ],
          [
           "23 ST"
          ],
          [
           "25 ST"
          ],
          [
           "HOYT ST"
          ],
          [
           "ORCHARD BEACH"
          ],
          [
           "MARCY AV"
          ],
          [
           "B'WAY-LAFAYETTE"
          ],
          [
           "CANAL ST"
          ],
          [
           "CANAL ST"
          ],
          [
           "AQUEDUCT RACETR"
          ],
          [
           "RIT-MANHATTAN"
          ],
          [
           "RIT-ROOSEVELT"
          ],
          [
           "HOWARD BCH JFK"
          ],
          [
           "JFK JAMAICA CT1"
          ],
          [
           "PATH NEW WTC"
          ],
          [
           "PATH WTC 2"
          ],
          [
           "THIRTY ST"
          ],
          [
           "THIRTY THIRD ST"
          ],
          [
           "TWENTY THIRD ST"
          ],
          [
           "EXCHANGE PLACE"
          ],
          [
           "HARRISON"
          ],
          [
           "14TH STREET"
          ],
          [
           "PAVONIA/NEWPORT"
          ],
          [
           "9TH STREET"
          ],
          [
           "CHRISTOPHER ST"
          ],
          [
           "NEWARK BM BW"
          ],
          [
           "NEWARK C"
          ],
          [
           "NEWARK HM HE"
          ],
          [
           "NEWARK HW BMEBE"
          ],
          [
           "LACKAWANNA"
          ],
          [
           "GROVE STREET"
          ],
          [
           "JOURNAL SQUARE"
          ],
          [
           "72 ST-2 AVE"
          ],
          [
           "86 ST-2 AVE"
          ],
          [
           "96 ST-2 AVE"
          ]
         ],
         "hovertemplate": "total_turns=%{z}<br>lat=%{lat}<br>lng=%{lon}<br>STATION=%{customdata[0]}<extra></extra>",
         "lat": [
          40.703082,
          40.703082,
          40.689945,
          40.69132000000001,
          40.692304,
          40.693866,
          40.69518400000001,
          40.697405,
          40.700536,
          40.757303,
          40.757303,
          40.752247,
          40.752247,
          40.709938,
          40.760179,
          40.75753,
          40.75753,
          40.746655,
          40.746655,
          40.712622,
          40.75865200000001,
          40.754198,
          40.749533,
          40.749533,
          40.700488,
          40.702131,
          40.706864,
          40.709938,
          40.71433,
          40.71433,
          40.71433,
          40.715436,
          40.750329,
          40.755905,
          40.755905,
          40.815596,
          40.840778,
          40.860523,
          40.864653,
          40.869359,
          40.874551,
          40.878867,
          40.704782,
          40.704782,
          40.707466,
          40.71315900000001,
          40.71315900000001,
          40.751849,
          40.751849,
          40.751849,
          40.751849,
          40.757108,
          40.762796,
          40.762796,
          40.885973,
          40.816132,
          40.753824,
          40.75957800000001,
          40.688269,
          40.684063,
          40.680801,
          40.675219,
          40.672013,
          40.669735,
          40.669279,
          40.664591,
          40.661466,
          40.662541,
          40.663419,
          40.664884,
          40.665405,
          40.666252,
          40.643738,
          40.755,
          40.764909,
          40.764755,
          40.760139,
          40.745574,
          40.741006,
          40.76811,
          40.730348,
          40.724332,
          40.713086,
          40.710662,
          40.692182,
          40.753076,
          40.756977,
          40.761959,
          40.766843,
          40.770426,
          40.774984,
          40.747647,
          40.749143,
          40.650494,
          40.690612,
          40.711353,
          40.824787,
          40.811056,
          40.678848,
          40.833773,
          40.738007,
          40.834255,
          40.839892,
          40.692404,
          40.650843,
          40.632836,
          40.745924,
          40.862803,
          40.762877,
          40.707564,
          40.710459,
          40.761675,
          40.889185,
          40.71823300000001,
          40.862941,
          40.829495,
          40.750508,
          40.748541,
          40.670711,
          40.669409,
          40.706539,
          40.847369,
          40.692338,
          40.705416,
          40.686154,
          40.603234,
          40.740088,
          40.804406,
          40.87963,
          40.74238,
          40.639961,
          40.58681,
          40.699707,
          40.732251,
          40.720852,
          40.748948,
          40.721681,
          40.71838,
          40.743095,
          40.785822,
          40.903085,
          40.820889,
          40.745623,
          40.655053,
          40.63505900000001,
          40.599307,
          40.577423,
          40.64666,
          40.679279,
          40.850307,
          40.866974,
          40.873026,
          40.874827,
          40.714444,
          40.80819,
          40.730056,
          40.867899,
          40.828894,
          40.737348,
          40.737348,
          40.773424,
          40.636948,
          40.783872,
          40.788844,
          40.79388,
          40.821994,
          40.734836,
          40.677172,
          40.577961,
          40.868045,
          40.851686,
          40.740388,
          40.740388,
          40.746119,
          40.768143,
          40.773636,
          40.779485,
          40.790582,
          40.795066,
          40.798574,
          40.873399,
          40.640905,
          40.865286,
          40.785822,
          40.781435,
          40.762439,
          40.7331,
          40.74407100000001,
          40.799354,
          40.804032,
          40.833879,
          40.725665,
          40.827888,
          40.661596,
          40.65515,
          40.68041,
          40.679921,
          40.675382,
          40.73308,
          40.729869,
          40.742868,
          40.644039,
          40.818429,
          40.808076,
          40.814459,
          40.749858,
          40.66275200000001,
          40.645089,
          40.608691,
          40.641426,
          40.634945,
          40.629702,
          40.622715,
          40.616624,
          40.688465,
          40.742445,
          40.726462,
          40.680231,
          40.835535,
          40.833246,
          40.743079,
          40.697356,
          40.690547,
          40.877796,
          40.707222,
          40.625028,
          40.617568,
          40.59523400000001,
          40.67730200000001,
          40.648866,
          40.644959,
          40.636232,
          40.717241,
          40.703839,
          40.856085,
          40.756864,
          40.731324,
          40.718542,
          40.660376,
          40.629881,
          40.840048,
          40.85339000000001,
          40.8315,
          40.665438,
          40.631412,
          40.730901,
          40.71459,
          40.711874,
          40.791654,
          40.699316,
          40.845892,
          40.736998,
          40.709174,
          40.724608,
          40.713647,
          40.67032,
          40.67032,
          40.759123,
          40.84949500000001,
          40.743778000000006,
          40.643982,
          40.629164,
          40.576298,
          40.707889,
          40.695607,
          40.756312,
          40.713875,
          40.713875,
          40.689636,
          40.673714,
          40.589547,
          40.747224,
          40.826426,
          40.855176,
          40.858389,
          40.742624,
          40.667879,
          40.660481,
          40.706636,
          40.859022,
          40.775545,
          40.726202,
          40.68617,
          40.683263,
          40.603983,
          40.694568,
          40.688855,
          40.666276,
          40.650722,
          40.728202,
          40.74455800000001,
          40.878656,
          40.750264,
          40.706148,
          40.688676,
          40.835957,
          40.681159,
          40.752898,
          40.7061,
          40.723291,
          40.699756,
          40.763625,
          40.7541,
          40.70784,
          40.710454,
          40.710454,
          40.884821,
          40.813208,
          40.844406,
          40.848635,
          40.75176,
          40.720315,
          40.576152,
          40.682558,
          40.796105,
          40.829934,
          40.700374,
          40.688123,
          40.68713,
          40.764763,
          40.722819,
          40.741096,
          40.722397,
          40.79911,
          40.802098,
          40.826508,
          40.83646,
          40.744103,
          40.754622,
          40.854137,
          40.733243,
          40.830551,
          40.817902,
          40.805072,
          40.800637,
          40.590867,
          40.592334,
          40.593214,
          40.595381,
          40.75202,
          40.749663,
          40.718477,
          40.702566,
          40.719323,
          40.820402,
          40.823877,
          40.747029,
          40.746325,
          40.675496,
          40.669376,
          40.663801,
          40.706994,
          40.703855,
          40.681745,
          40.684364,
          40.685975,
          40.66823400000001,
          40.600138,
          40.747257,
          40.747257,
          40.743973,
          40.857188,
          40.865481,
          40.871387,
          40.877796,
          40.883767,
          40.887887,
          40.893386,
          40.646343,
          40.640872,
          40.619588,
          40.613513,
          40.607958,
          40.604798,
          40.601898,
          40.658748,
          40.650625,
          40.700244,
          40.697266,
          40.693329,
          40.689652,
          40.68617,
          40.677107,
          40.679369,
          40.679857,
          40.680429,
          40.837382,
          40.840097,
          40.841882,
          40.848797,
          40.635011,
          40.631428,
          40.620728,
          40.617373,
          40.612006,
          40.603967,
          40.597482,
          40.592676,
          40.625419,
          40.597873,
          40.588879,
          40.697673,
          40.702798,
          40.704424,
          40.706181,
          40.816505,
          40.81939600000001,
          40.822172,
          40.82417,
          40.829966,
          40.67491,
          40.670499,
          40.698666,
          40.660476,
          40.608693,
          40.588032,
          40.585514,
          40.583542,
          40.580454,
          40.63615,
          40.625305,
          40.620907,
          40.615174,
          40.609147,
          40.596065,
          40.580992,
          40.843635,
          40.846817,
          40.852465,
          40.858973,
          40.888244,
          40.682867,
          40.677107,
          40.678018,
          40.679938,
          40.681598,
          40.68320900000001,
          40.678815,
          40.67836,
          40.674552,
          40.672786,
          40.674161,
          40.839301,
          40.898382,
          40.810512,
          40.808044,
          40.805737,
          40.808742,
          40.812104,
          40.816083,
          40.656648,
          40.778575,
          40.742981,
          40.66043,
          40.690545,
          40.852417,
          40.708377,
          40.725297,
          40.718697,
          40.718697,
          40.668221,
          40.761268,
          40.7574,
          40.660476,
          40.643942,
          40.7126,
          40.7126,
          40.7491,
          40.7491,
          40.7429,
          40.7162,
          40.7384,
          40.7374,
          40.7267,
          40.7342,
          40.7331,
          40.6895,
          40.6895,
          40.6895,
          40.6895,
          40.735,
          40.7197,
          40.7326,
          40.7686869,
          40.76868620000001,
          40.7807028
         ],
         "lon": [
          -74.01298299999998,
          -74.01298299999998,
          -73.872564,
          -73.867135,
          -73.860151,
          -73.851568,
          -73.844326,
          -73.836354,
          -73.82838199999998,
          -73.98978699999998,
          -73.98978699999998,
          -73.99345600000002,
          -73.99345600000002,
          -74.007983,
          -73.975196,
          -73.969102,
          -73.969102,
          -73.891361,
          -73.891361,
          -73.783815,
          -73.981311,
          -73.984573,
          -73.987899,
          -73.987899,
          -73.80793299999998,
          -73.80111,
          -74.009056,
          -74.007983,
          -74.008563,
          -74.008563,
          -74.008563,
          -74.009335,
          -73.991096,
          -73.98650400000002,
          -73.98650400000002,
          -73.958395,
          -73.94009100000002,
          -73.925575,
          -73.918719,
          -73.915329,
          -73.909879,
          -73.90485799999998,
          -74.014099,
          -74.014099,
          -74.01186700000002,
          -74.003917,
          -74.003917,
          -73.976945,
          -73.976945,
          -73.976945,
          -73.976945,
          -73.97187,
          -73.967686,
          -73.967686,
          -73.878851,
          -73.917754,
          -73.981966,
          -73.830056,
          -73.980453,
          -73.977417,
          -73.97513199999999,
          -73.971012,
          -73.96436,
          -73.950455,
          -73.932967,
          -73.922668,
          -73.91631600000002,
          -73.90876300000002,
          -73.902454,
          -73.894258,
          -73.889451,
          -73.884087,
          -74.073622,
          -74.001,
          -73.973372,
          -73.980646,
          -73.984112,
          -73.988682,
          -73.989315,
          -73.981891,
          -73.992705,
          -73.99768399999998,
          -74.007232,
          -74.011052,
          -73.985935,
          -73.93271,
          -73.929373,
          -73.925382,
          -73.921423,
          -73.917614,
          -73.91206700000002,
          -73.883786,
          -73.869452,
          -73.962836,
          -73.981848,
          -73.88958000000002,
          -73.944232,
          -73.952386,
          -73.904139,
          -73.91843,
          -73.99838100000002,
          -73.85122199999998,
          -73.842952,
          -73.990151,
          -73.949575,
          -73.947642,
          -73.998005,
          -73.901034,
          -73.98159,
          -73.803326,
          -73.7936,
          -73.983908,
          -73.898549,
          -74.000323,
          -73.901199,
          -73.87455899999998,
          -73.940177,
          -73.876791,
          -73.958051,
          -73.942173,
          -74.011052,
          -73.939683,
          -73.987342,
          -73.810562,
          -73.990881,
          -73.972342,
          -73.986429,
          -73.93745200000002,
          -73.88466600000002,
          -73.94888900000002,
          -73.948352,
          -73.954167,
          -73.91181,
          -74.000559,
          -74.005237,
          -73.93719399999998,
          -73.84439,
          -73.987813,
          -73.984251,
          -73.95097,
          -73.85059100000002,
          -73.890567,
          -73.902969,
          -73.96122700000002,
          -73.962793,
          -73.955916,
          -73.981225,
          -73.901832,
          -73.930585,
          -73.905244,
          -73.893485,
          -73.88691899999998,
          -73.878872,
          -73.830979,
          -73.964124,
          -73.99104200000002,
          -73.897326,
          -73.879559,
          -73.9969,
          -73.9969,
          -73.98223399999998,
          -74.07482399999998,
          -73.979938,
          -73.97599,
          -73.972363,
          -73.95367399999998,
          -73.990688,
          -73.972514,
          -73.96180600000002,
          -73.919921,
          -73.937967,
          -74.002104,
          -74.002104,
          -73.981826,
          -73.964016,
          -73.959875,
          -73.955541,
          -73.947473,
          -73.94429699999998,
          -73.94159300000003,
          -73.890084,
          -73.96386600000002,
          -73.92698,
          -73.968952,
          -73.972149,
          -73.985989,
          -74.0071,
          -73.99562399999998,
          -73.968329,
          -73.96674200000002,
          -73.944726,
          -73.995645,
          -73.925736,
          -73.962193,
          -74.003477,
          -73.950326,
          -73.94085799999998,
          -73.87207,
          -73.869259,
          -73.86161,
          -73.99277,
          -73.979541,
          -73.926927,
          -73.94590600000002,
          -73.94099200000002,
          -73.862672,
          -73.95060500000002,
          -73.948975,
          -73.95777199999998,
          -74.017972,
          -74.023411,
          -74.025514,
          -74.028368,
          -74.030964,
          -73.985474,
          -73.882005,
          -73.85263,
          -73.99498,
          -73.92138,
          -73.860805,
          -73.918419,
          -73.992888,
          -73.985066,
          -73.866341,
          -74.013391,
          -73.960819,
          -73.95936,
          -73.95509,
          -73.983135,
          -74.010086,
          -74.014034,
          -73.994765,
          -73.956614,
          -73.91844,
          -73.900695,
          -73.920736,
          -73.954425,
          -73.994164,
          -73.979509,
          -73.977149,
          -73.917775,
          -73.907733,
          -73.867623,
          -73.992856,
          -73.995473,
          -73.981719,
          -73.94410400000002,
          -73.94067,
          -73.964682,
          -73.990474,
          -73.910136,
          -73.87724200000002,
          -73.820593,
          -73.95127099999998,
          -73.990152,
          -73.98875699999998,
          -73.98875699999998,
          -73.953266,
          -73.93363199999997,
          -73.923998,
          -73.96451,
          -73.961678,
          -73.968523,
          -73.940005,
          -73.904021,
          -73.913333,
          -73.951592,
          -73.951592,
          -73.953459,
          -73.996139,
          -73.974295,
          -73.99336,
          -73.950412,
          -73.929384,
          -73.903828,
          -73.95354499999998,
          -73.950648,
          -73.998059,
          -73.922925,
          -73.93419,
          -73.976398,
          -74.00362700000002,
          -73.973908,
          -73.965838,
          -73.755383,
          -73.949046,
          -73.960025,
          -73.980324,
          -73.975818,
          -74.005344,
          -73.930993,
          -73.838596,
          -73.99298399999998,
          -73.93316,
          -73.903999,
          -73.939898,
          -73.956056,
          -73.905973,
          -73.95034799999998,
          -73.989873,
          -73.98689,
          -73.977449,
          -73.94258,
          -74.01369100000002,
          -74.011324,
          -74.011324,
          -73.900759,
          -73.929877,
          -73.914621,
          -73.912497,
          -73.855183,
          -73.994014,
          -73.975925,
          -73.905501,
          -73.961399,
          -73.938632,
          -73.950284,
          -73.96674200000002,
          -73.975346,
          -73.966291,
          -74.00626700000002,
          -73.997877,
          -73.997211,
          -73.95180699999997,
          -73.949625,
          -73.886425,
          -73.846471,
          -73.912497,
          -73.845625,
          -73.860977,
          -73.987169,
          -73.941486,
          -73.947644,
          -73.954833,
          -73.958201,
          -73.797011,
          -73.788493,
          -73.776433,
          -73.768194,
          -73.92874,
          -73.898485,
          -73.837223,
          -73.816859,
          -74.006953,
          -73.93631500000002,
          -73.93644300000003,
          -73.94537,
          -73.896403,
          -73.902819,
          -73.902047,
          -73.900444,
          -73.95348100000002,
          -73.947387,
          -73.837631,
          -73.832181,
          -73.824713,
          -73.834058,
          -73.76151999999998,
          -73.945112,
          -73.945112,
          -73.949876,
          -73.86760699999998,
          -73.867393,
          -73.867135,
          -73.86625500000002,
          -73.862736,
          -73.860505,
          -73.857265,
          -73.994551,
          -73.994229,
          -73.99884200000002,
          -74.00064499999998,
          -74.00178199999998,
          -73.998456,
          -73.993821,
          -73.899472,
          -73.899558,
          -73.94165799999998,
          -73.935692,
          -73.928826,
          -73.92228100000001,
          -73.916337,
          -73.865376,
          -73.85896,
          -73.85149200000002,
          -73.843853,
          -73.887659,
          -73.879774,
          -73.873551,
          -73.868465,
          -74.011717,
          -74.005387,
          -73.990388,
          -73.985088,
          -73.98200899999998,
          -73.98066800000002,
          -73.979359,
          -73.978243,
          -73.99663199999998,
          -73.98695500000002,
          -73.98362900000002,
          -73.927131,
          -73.907776,
          -73.903077,
          -73.89591,
          -73.907797,
          -73.90146700000003,
          -73.89674699999998,
          -73.89322800000002,
          -73.891876,
          -73.95779399999998,
          -73.958759,
          -73.919685,
          -73.830301,
          -73.816068,
          -73.813684,
          -73.820143,
          -73.82643,
          -73.837459,
          -73.978179,
          -73.975732,
          -73.975453,
          -73.974166,
          -73.97298599999998,
          -73.973329,
          -73.974531,
          -73.836687,
          -73.832545,
          -73.828125,
          -73.855355,
          -73.83085,
          -73.91048,
          -73.898871,
          -73.891726,
          -73.884687,
          -73.880074,
          -73.873765,
          -73.920801,
          -73.911939,
          -73.89655400000002,
          -73.890438,
          -73.88076099999998,
          -73.91335500000002,
          -73.854389,
          -73.926165,
          -73.919234,
          -73.91447099999998,
          -73.90769,
          -73.904085,
          -73.89605999999998,
          -73.950198,
          -73.981912,
          -73.992727,
          -73.99794399999998,
          -73.985065,
          -73.828082,
          -73.957751,
          -73.996204,
          -74.000977,
          -74.000977,
          -73.834026,
          -73.964016,
          -73.954006,
          -73.830301,
          -73.78235600000002,
          -74.0099,
          -74.0099,
          -73.9882,
          -73.9882,
          -73.9929,
          -74.0329,
          -74.1557,
          -73.9969,
          -74.0348,
          -73.9988,
          -74.0071,
          -74.1745,
          -74.1745,
          -74.1745,
          -74.1745,
          -74.0275,
          -74.0431,
          -74.0627,
          -73.9584429,
          -73.9584429,
          -73.9494105
         ],
         "name": "",
         "radius": 13,
         "subplot": "mapbox",
         "type": "densitymapbox",
         "z": [
          188.15239477503627,
          321.20362473347546,
          105.40108401084011,
          164.3548387096774,
          188.4616935483871,
          123.13789581205312,
          86.79865771812081,
          145.60772357723576,
          60.548048048048045,
          503.17225286380994,
          516.0014405070585,
          412.5184943429069,
          342.4541595925297,
          319.3008935824533,
          345.3538581449727,
          210.55161290322582,
          412.38017808749515,
          255.80650406504066,
          562.6878083157153,
          173.19753086419752,
          393.273640167364,
          524.1581790123457,
          547.2923621648963,
          648.6799516908212,
          492.85146053449347,
          439.3551215623755,
          288.6449165402124,
          214.2175170419335,
          274.0408031088083,
          194.1984126984127,
          263.60940695296523,
          352.9286761113825,
          442.3984877126654,
          552.9970384995064,
          580.96192,
          469.664,
          303.61520947176683,
          276.552,
          243.05962059620597,
          94.2459349593496,
          198.91027732463294,
          168.46031746031747,
          239.85302390998592,
          478.961262553802,
          168.3030650243483,
          312.2043902439024,
          217.3652575957728,
          473.55085324232084,
          614.5633112907176,
          702.8977159880834,
          454.57598499061913,
          269.57780119423956,
          368.1224028906956,
          333.4887640449438,
          262.9808,
          283.0151162790698,
          330.4979658258747,
          589.452528837622,
          308.94736842105266,
          249.27249618708694,
          122.24269889224573,
          370.47,
          218.59571428571428,
          410.4543010752688,
          374.7075045207957,
          338.758064516129,
          320.1739837398374,
          252.82767978290366,
          173.4491869918699,
          247.26190476190476,
          226.1219512195122,
          284.1137566137566,
          75.49640512660206,
          159.65042892156862,
          303.17171129220026,
          541.0667414469995,
          323.4420731707317,
          431.4374445430346,
          381.99267605633804,
          482.2087890625,
          357.37719298245617,
          420.8042071197411,
          161.10659439927733,
          143.24983119513843,
          112.83258325832583,
          167.77235772357724,
          377.8917682926829,
          474.16007532956684,
          555.7543453070683,
          417.0949913644214,
          513.991935483871,
          494.52041633306646,
          520.9078590785908,
          358.2717201166181,
          318.295177222545,
          134.95762711864407,
          787.1203953279424,
          482.92257742257743,
          356.56418918918916,
          249.08762886597938,
          344.9487776484284,
          271.0587557603687,
          577.7018970189702,
          314.54397590361447,
          197.16162570888469,
          227.10012836970475,
          366.3615176151761,
          259.8877221324717,
          489.1494565217391,
          164.62401150251617,
          146.73144687666846,
          387.08662477558346,
          419.9593495934959,
          750.912,
          327.99457994579944,
          300.9334239130435,
          511.5703125,
          411.5877034358047,
          387.4205714285714,
          426.87566137566137,
          107.63266666666667,
          181.7310379241517,
          333.5656445370646,
          106.72845528455285,
          198.13711151736746,
          148.61717921527043,
          321.52382528127066,
          532.1409244644871,
          182.3678048780488,
          169.0808,
          200.06696832579186,
          425.4175925925926,
          388.3208722741433,
          654.151948051948,
          294.2336608287057,
          152.16818950930627,
          253.15241379310345,
          312.74565381708237,
          310.2456140350877,
          525.5115384615384,
          286.2650406504065,
          273.78577336641854,
          430.1439342015079,
          550.6829268292682,
          608.6861788617886,
          262.479674796748,
          210.09008297115764,
          299.98464317976516,
          341.6423632935261,
          272.40525838621943,
          170.65746971736203,
          204.20900321543408,
          272.2858585858586,
          360.99160335865656,
          597.4733333333334,
          423.932123655914,
          435.9837398373984,
          320.42818428184285,
          300.0348300461603,
          202.40853658536585,
          266.6448497854077,
          16.994292237442924,
          383.1270125223614,
          380.96214689265537,
          385.54023668639053,
          387.9569105691057,
          742.3798801900434,
          721.3760162601626,
          223.11498257839722,
          169.6339648173207,
          461.2457516339869,
          556.0060501296456,
          478.5880376344086,
          360.70665171898355,
          461.06597222222223,
          490.96573875803,
          574.404779969651,
          620.7574525745257,
          499.13279132791325,
          443.27510040160644,
          378.4105691056911,
          430.5934959349593,
          353.50948509485096,
          300.17378917378915,
          419.7532258064516,
          303.37931034482756,
          480.3125845737483,
          576.5730724971231,
          467.68428184281845,
          398.8367816091954,
          364,
          341.65501792114696,
          184.36964285714285,
          376.0960854092527,
          559.9959349593496,
          646.2367816091954,
          311.0257801899593,
          252.77800407331975,
          431.53284671532845,
          206.6564185544768,
          684.3414634146342,
          176.8465547191662,
          480.22996515679444,
          380.2812858783008,
          226.61318830727396,
          569.6161434977579,
          380.4634146341463,
          188.96975806451613,
          323.808552958727,
          315.0271739130435,
          203.4435975609756,
          283.01984126984127,
          280.91726618705036,
          137.82657463330457,
          608.4243902439024,
          218.48759007205766,
          184.7827140549273,
          220.0976331360947,
          713.5174418604652,
          398.03306878306876,
          287.08909574468083,
          306.4430894308943,
          156.86449864498644,
          243.53252032520325,
          115.6740576496674,
          103.10944340212633,
          123.48617886178862,
          125.9047619047619,
          290.7818428184282,
          431.38900203665986,
          270.1446725317693,
          295.75880758807585,
          643.9241645244216,
          377.57886178861787,
          307.6006097560976,
          423.51258992805754,
          219.89961089494165,
          727.7295742232451,
          122.7757785467128,
          112.15165336374002,
          568.6032388663967,
          506.9504132231405,
          200.21938088829071,
          203.86933797909407,
          143.4836956521739,
          612.5548387096774,
          400.0448979591837,
          327.1290760869565,
          319.9049049049049,
          573.2985553772071,
          118.76344086021506,
          342.7812274368231,
          134.478,
          245.46844660194174,
          253.6570796460177,
          319.3516260162602,
          220.1189948263119,
          348.25338753387535,
          684.1824,
          475.9731182795699,
          335.5907859078591,
          66.8119241192412,
          114.3125,
          541.2547425474255,
          247.66932270916334,
          153.5635478637101,
          203.84,
          259.64029438822445,
          290.58246828143024,
          249.9878048780488,
          198.6070460704607,
          329.1834189288335,
          371.12078977932634,
          627.709349593496,
          346.1544715447154,
          300.1485022307202,
          427.3946666666667,
          223.01344086021504,
          281.66615384615386,
          291.5371621621622,
          437.0833333333333,
          269.169696969697,
          106.79382303839733,
          165.3003048780488,
          201.64692218350754,
          183.92147806004618,
          515.7853260869565,
          281.7371854613234,
          146.38297872340425,
          217.76338602753697,
          278.196015936255,
          206.40108401084012,
          603.3925788497218,
          289.07859078590786,
          264.5772357723577,
          129.5737704918033,
          215.54301075268816,
          199.66007194244605,
          415.289972899729,
          434.8844022169438,
          771.5284552845528,
          253.04962153069806,
          411.8359375,
          233.65523632993512,
          89.06865464632455,
          97.0815331010453,
          130.04655870445345,
          306.88,
          345.9979674796748,
          344.63709677419354,
          586.6476190476191,
          397.45257452574526,
          91.34897959183674,
          184.48238482384824,
          383.5301837270341,
          284.9672131147541,
          101.32377919320595,
          120.28252032520325,
          219.80023228803717,
          313.0830728003573,
          298.0584239130435,
          258.4561965811966,
          611.9068825910931,
          404.6666666666667,
          293.9469387755102,
          108.33522727272727,
          122.59756097560975,
          314.2940379403794,
          90.38852789603406,
          221.2330623306233,
          316.49457994579944,
          163.4130081300813,
          141.59171597633136,
          288.70151515151514,
          211.59866962305986,
          136.83414634146342,
          109.42290076335878,
          46.65912762520194,
          61.1739837398374,
          112.6910569105691,
          290.0731707317073,
          58.308243727598565,
          227.30662020905925,
          161.66666666666666,
          149.547703180212,
          383.3411458333333,
          219.1522177419355,
          202.2570564516129,
          130.1951219512195,
          515.4349593495934,
          169.85040650406503,
          156.75874769797423,
          200.9106438896189,
          78.71280991735537,
          71.94907407407408,
          220.7170474516696,
          85.46612903225807,
          117.3219512195122,
          210.3451776649746,
          293.1417624521073,
          196.24661246612467,
          202.19623655913978,
          356.7602179836512,
          224.14634146341464,
          405.54002713704205,
          228.02173913043478,
          294.8719723183391,
          177.10894308943088,
          238.66898954703834,
          130.2384701912261,
          223.384126984127,
          251.65645161290323,
          391.1680216802168,
          317.8130081300813,
          318.1951219512195,
          461.81029810298105,
          262.8841463414634,
          216.8311444652908,
          752.8224489795919,
          416.26881720430106,
          514.6178861788618,
          485.63143631436316,
          415.3089430894309,
          144.6225319396051,
          198.10326086956522,
          170.2905027932961,
          288.7099358974359,
          172.0587172538392,
          382.9010840108401,
          175.8882833787466,
          529.1711111111111,
          164.62012987012986,
          170.5703564727955,
          215.81730769230768,
          362.4859967051071,
          237.647311827957,
          126.72195121951219,
          186.53216374269005,
          150.22151224707136,
          315.5076923076923,
          174.5609756097561,
          193.0670731707317,
          156.0569105691057,
          289.1639344262295,
          181.0309072781655,
          174.79349593495934,
          210.7729658792651,
          281.390243902439,
          149.4115292233787,
          172.96383647798743,
          110.15284552845529,
          144.83333333333334,
          314.040625,
          72.70365853658537,
          17.926509186351705,
          60.110236220472444,
          36.472131147540985,
          21.104,
          50.990243902439026,
          103.10742971887551,
          56.28846153846154,
          54.70603674540683,
          62.734671125975474,
          147.0734908136483,
          60.57564575645756,
          90.79945799457994,
          93.28571428571429,
          174.92547425474254,
          191.1029810298103,
          250.73641304347825,
          302.8841463414634,
          251.05191256830602,
          230.35772357723576,
          279.66124661246613,
          468.760162601626,
          324.6584699453552,
          561.4281842818428,
          332.4460285132383,
          200.46109175377467,
          203.98133333333334,
          305.0027322404372,
          244.09214092140923,
          162.48097412480973,
          221.1413043478261,
          504.9379157427938,
          248.82638888888889,
          152.17866666666666,
          54.6813922356091,
          242.20054200542006,
          160.42292490118578,
          319.2134146341463,
          534.1245235069886,
          710.5267379679144,
          161.69376693766938,
          158.81436314363143,
          0.9804878048780488,
          221.95470798569727,
          342.2014896119169,
          432.1719520789288,
          303.0714584203928,
          57.05420054200542,
          183.11182108626198,
          125.83219178082192,
          100.83733333333333,
          284.86367281475543,
          367.3506419400856,
          503.86348122866895,
          181.59109792284866,
          351.3080977479636,
          302.3492537313433,
          210.82183098591548,
          134.9618386816999,
          250.5487421383648,
          508.70217729393465,
          326.1243523316062,
          387.6509635974304,
          149.19691863264325,
          61.560778727445395,
          163.09209888511876,
          108.12709832134293,
          128.95849056603774,
          326.7918118466899,
          388.5240577385726,
          470.691646778043,
          419.3818576860402,
          304.69792194627473
         ]
        }
       ],
       "layout": {
        "coloraxis": {
         "colorbar": {
          "title": {
           "text": "total_turns"
          }
         },
         "colorscale": [
          [
           0,
           "rgb(255,255,204)"
          ],
          [
           0.125,
           "rgb(255,237,160)"
          ],
          [
           0.25,
           "rgb(254,217,118)"
          ],
          [
           0.375,
           "rgb(254,178,76)"
          ],
          [
           0.5,
           "rgb(253,141,60)"
          ],
          [
           0.625,
           "rgb(252,78,42)"
          ],
          [
           0.75,
           "rgb(227,26,28)"
          ],
          [
           0.875,
           "rgb(189,0,38)"
          ],
          [
           1,
           "rgb(128,0,38)"
          ]
         ]
        },
        "legend": {
         "tracegroupgap": 0
        },
        "mapbox": {
         "accesstoken": "pk.eyJ1IjoiY3dlc3RuZWRnZSIsImEiOiJja2ZnMGNqNmowMGQ3MnJwdDAwdGhyc21hIn0.bo4mFps9s1wRmgjIvI7KiQ",
         "center": {
          "lat": 40.7429,
          "lon": -73.9929
         },
         "domain": {
          "x": [
           0,
           1
          ],
          "y": [
           0,
           1
          ]
         },
         "style": "stamen-terrain",
         "zoom": 9.5
        },
        "margin": {
         "b": 0,
         "l": 0,
         "r": 0,
         "t": 0
        },
        "template": {
         "data": {
          "bar": [
           {
            "error_x": {
             "color": "#2a3f5f"
            },
            "error_y": {
             "color": "#2a3f5f"
            },
            "marker": {
             "line": {
              "color": "#E5ECF6",
              "width": 0.5
             }
            },
            "type": "bar"
           }
          ],
          "barpolar": [
           {
            "marker": {
             "line": {
              "color": "#E5ECF6",
              "width": 0.5
             }
            },
            "type": "barpolar"
           }
          ],
          "carpet": [
           {
            "aaxis": {
             "endlinecolor": "#2a3f5f",
             "gridcolor": "white",
             "linecolor": "white",
             "minorgridcolor": "white",
             "startlinecolor": "#2a3f5f"
            },
            "baxis": {
             "endlinecolor": "#2a3f5f",
             "gridcolor": "white",
             "linecolor": "white",
             "minorgridcolor": "white",
             "startlinecolor": "#2a3f5f"
            },
            "type": "carpet"
           }
          ],
          "choropleth": [
           {
            "colorbar": {
             "outlinewidth": 0,
             "ticks": ""
            },
            "type": "choropleth"
           }
          ],
          "contour": [
           {
            "colorbar": {
             "outlinewidth": 0,
             "ticks": ""
            },
            "colorscale": [
             [
              0,
              "#0d0887"
             ],
             [
              0.1111111111111111,
              "#46039f"
             ],
             [
              0.2222222222222222,
              "#7201a8"
             ],
             [
              0.3333333333333333,
              "#9c179e"
             ],
             [
              0.4444444444444444,
              "#bd3786"
             ],
             [
              0.5555555555555556,
              "#d8576b"
             ],
             [
              0.6666666666666666,
              "#ed7953"
             ],
             [
              0.7777777777777778,
              "#fb9f3a"
             ],
             [
              0.8888888888888888,
              "#fdca26"
             ],
             [
              1,
              "#f0f921"
             ]
            ],
            "type": "contour"
           }
          ],
          "contourcarpet": [
           {
            "colorbar": {
             "outlinewidth": 0,
             "ticks": ""
            },
            "type": "contourcarpet"
           }
          ],
          "heatmap": [
           {
            "colorbar": {
             "outlinewidth": 0,
             "ticks": ""
            },
            "colorscale": [
             [
              0,
              "#0d0887"
             ],
             [
              0.1111111111111111,
              "#46039f"
             ],
             [
              0.2222222222222222,
              "#7201a8"
             ],
             [
              0.3333333333333333,
              "#9c179e"
             ],
             [
              0.4444444444444444,
              "#bd3786"
             ],
             [
              0.5555555555555556,
              "#d8576b"
             ],
             [
              0.6666666666666666,
              "#ed7953"
             ],
             [
              0.7777777777777778,
              "#fb9f3a"
             ],
             [
              0.8888888888888888,
              "#fdca26"
             ],
             [
              1,
              "#f0f921"
             ]
            ],
            "type": "heatmap"
           }
          ],
          "heatmapgl": [
           {
            "colorbar": {
             "outlinewidth": 0,
             "ticks": ""
            },
            "colorscale": [
             [
              0,
              "#0d0887"
             ],
             [
              0.1111111111111111,
              "#46039f"
             ],
             [
              0.2222222222222222,
              "#7201a8"
             ],
             [
              0.3333333333333333,
              "#9c179e"
             ],
             [
              0.4444444444444444,
              "#bd3786"
             ],
             [
              0.5555555555555556,
              "#d8576b"
             ],
             [
              0.6666666666666666,
              "#ed7953"
             ],
             [
              0.7777777777777778,
              "#fb9f3a"
             ],
             [
              0.8888888888888888,
              "#fdca26"
             ],
             [
              1,
              "#f0f921"
             ]
            ],
            "type": "heatmapgl"
           }
          ],
          "histogram": [
           {
            "marker": {
             "colorbar": {
              "outlinewidth": 0,
              "ticks": ""
             }
            },
            "type": "histogram"
           }
          ],
          "histogram2d": [
           {
            "colorbar": {
             "outlinewidth": 0,
             "ticks": ""
            },
            "colorscale": [
             [
              0,
              "#0d0887"
             ],
             [
              0.1111111111111111,
              "#46039f"
             ],
             [
              0.2222222222222222,
              "#7201a8"
             ],
             [
              0.3333333333333333,
              "#9c179e"
             ],
             [
              0.4444444444444444,
              "#bd3786"
             ],
             [
              0.5555555555555556,
              "#d8576b"
             ],
             [
              0.6666666666666666,
              "#ed7953"
             ],
             [
              0.7777777777777778,
              "#fb9f3a"
             ],
             [
              0.8888888888888888,
              "#fdca26"
             ],
             [
              1,
              "#f0f921"
             ]
            ],
            "type": "histogram2d"
           }
          ],
          "histogram2dcontour": [
           {
            "colorbar": {
             "outlinewidth": 0,
             "ticks": ""
            },
            "colorscale": [
             [
              0,
              "#0d0887"
             ],
             [
              0.1111111111111111,
              "#46039f"
             ],
             [
              0.2222222222222222,
              "#7201a8"
             ],
             [
              0.3333333333333333,
              "#9c179e"
             ],
             [
              0.4444444444444444,
              "#bd3786"
             ],
             [
              0.5555555555555556,
              "#d8576b"
             ],
             [
              0.6666666666666666,
              "#ed7953"
             ],
             [
              0.7777777777777778,
              "#fb9f3a"
             ],
             [
              0.8888888888888888,
              "#fdca26"
             ],
             [
              1,
              "#f0f921"
             ]
            ],
            "type": "histogram2dcontour"
           }
          ],
          "mesh3d": [
           {
            "colorbar": {
             "outlinewidth": 0,
             "ticks": ""
            },
            "type": "mesh3d"
           }
          ],
          "parcoords": [
           {
            "line": {
             "colorbar": {
              "outlinewidth": 0,
              "ticks": ""
             }
            },
            "type": "parcoords"
           }
          ],
          "pie": [
           {
            "automargin": true,
            "type": "pie"
           }
          ],
          "scatter": [
           {
            "marker": {
             "colorbar": {
              "outlinewidth": 0,
              "ticks": ""
             }
            },
            "type": "scatter"
           }
          ],
          "scatter3d": [
           {
            "line": {
             "colorbar": {
              "outlinewidth": 0,
              "ticks": ""
             }
            },
            "marker": {
             "colorbar": {
              "outlinewidth": 0,
              "ticks": ""
             }
            },
            "type": "scatter3d"
           }
          ],
          "scattercarpet": [
           {
            "marker": {
             "colorbar": {
              "outlinewidth": 0,
              "ticks": ""
             }
            },
            "type": "scattercarpet"
           }
          ],
          "scattergeo": [
           {
            "marker": {
             "colorbar": {
              "outlinewidth": 0,
              "ticks": ""
             }
            },
            "type": "scattergeo"
           }
          ],
          "scattergl": [
           {
            "marker": {
             "colorbar": {
              "outlinewidth": 0,
              "ticks": ""
             }
            },
            "type": "scattergl"
           }
          ],
          "scattermapbox": [
           {
            "marker": {
             "colorbar": {
              "outlinewidth": 0,
              "ticks": ""
             }
            },
            "type": "scattermapbox"
           }
          ],
          "scatterpolar": [
           {
            "marker": {
             "colorbar": {
              "outlinewidth": 0,
              "ticks": ""
             }
            },
            "type": "scatterpolar"
           }
          ],
          "scatterpolargl": [
           {
            "marker": {
             "colorbar": {
              "outlinewidth": 0,
              "ticks": ""
             }
            },
            "type": "scatterpolargl"
           }
          ],
          "scatterternary": [
           {
            "marker": {
             "colorbar": {
              "outlinewidth": 0,
              "ticks": ""
             }
            },
            "type": "scatterternary"
           }
          ],
          "surface": [
           {
            "colorbar": {
             "outlinewidth": 0,
             "ticks": ""
            },
            "colorscale": [
             [
              0,
              "#0d0887"
             ],
             [
              0.1111111111111111,
              "#46039f"
             ],
             [
              0.2222222222222222,
              "#7201a8"
             ],
             [
              0.3333333333333333,
              "#9c179e"
             ],
             [
              0.4444444444444444,
              "#bd3786"
             ],
             [
              0.5555555555555556,
              "#d8576b"
             ],
             [
              0.6666666666666666,
              "#ed7953"
             ],
             [
              0.7777777777777778,
              "#fb9f3a"
             ],
             [
              0.8888888888888888,
              "#fdca26"
             ],
             [
              1,
              "#f0f921"
             ]
            ],
            "type": "surface"
           }
          ],
          "table": [
           {
            "cells": {
             "fill": {
              "color": "#EBF0F8"
             },
             "line": {
              "color": "white"
             }
            },
            "header": {
             "fill": {
              "color": "#C8D4E3"
             },
             "line": {
              "color": "white"
             }
            },
            "type": "table"
           }
          ]
         },
         "layout": {
          "annotationdefaults": {
           "arrowcolor": "#2a3f5f",
           "arrowhead": 0,
           "arrowwidth": 1
          },
          "coloraxis": {
           "colorbar": {
            "outlinewidth": 0,
            "ticks": ""
           }
          },
          "colorscale": {
           "diverging": [
            [
             0,
             "#8e0152"
            ],
            [
             0.1,
             "#c51b7d"
            ],
            [
             0.2,
             "#de77ae"
            ],
            [
             0.3,
             "#f1b6da"
            ],
            [
             0.4,
             "#fde0ef"
            ],
            [
             0.5,
             "#f7f7f7"
            ],
            [
             0.6,
             "#e6f5d0"
            ],
            [
             0.7,
             "#b8e186"
            ],
            [
             0.8,
             "#7fbc41"
            ],
            [
             0.9,
             "#4d9221"
            ],
            [
             1,
             "#276419"
            ]
           ],
           "sequential": [
            [
             0,
             "#0d0887"
            ],
            [
             0.1111111111111111,
             "#46039f"
            ],
            [
             0.2222222222222222,
             "#7201a8"
            ],
            [
             0.3333333333333333,
             "#9c179e"
            ],
            [
             0.4444444444444444,
             "#bd3786"
            ],
            [
             0.5555555555555556,
             "#d8576b"
            ],
            [
             0.6666666666666666,
             "#ed7953"
            ],
            [
             0.7777777777777778,
             "#fb9f3a"
            ],
            [
             0.8888888888888888,
             "#fdca26"
            ],
            [
             1,
             "#f0f921"
            ]
           ],
           "sequentialminus": [
            [
             0,
             "#0d0887"
            ],
            [
             0.1111111111111111,
             "#46039f"
            ],
            [
             0.2222222222222222,
             "#7201a8"
            ],
            [
             0.3333333333333333,
             "#9c179e"
            ],
            [
             0.4444444444444444,
             "#bd3786"
            ],
            [
             0.5555555555555556,
             "#d8576b"
            ],
            [
             0.6666666666666666,
             "#ed7953"
            ],
            [
             0.7777777777777778,
             "#fb9f3a"
            ],
            [
             0.8888888888888888,
             "#fdca26"
            ],
            [
             1,
             "#f0f921"
            ]
           ]
          },
          "colorway": [
           "#636efa",
           "#EF553B",
           "#00cc96",
           "#ab63fa",
           "#FFA15A",
           "#19d3f3",
           "#FF6692",
           "#B6E880",
           "#FF97FF",
           "#FECB52"
          ],
          "font": {
           "color": "#2a3f5f"
          },
          "geo": {
           "bgcolor": "white",
           "lakecolor": "white",
           "landcolor": "#E5ECF6",
           "showlakes": true,
           "showland": true,
           "subunitcolor": "white"
          },
          "hoverlabel": {
           "align": "left"
          },
          "hovermode": "closest",
          "mapbox": {
           "style": "light"
          },
          "paper_bgcolor": "white",
          "plot_bgcolor": "#E5ECF6",
          "polar": {
           "angularaxis": {
            "gridcolor": "white",
            "linecolor": "white",
            "ticks": ""
           },
           "bgcolor": "#E5ECF6",
           "radialaxis": {
            "gridcolor": "white",
            "linecolor": "white",
            "ticks": ""
           }
          },
          "scene": {
           "xaxis": {
            "backgroundcolor": "#E5ECF6",
            "gridcolor": "white",
            "gridwidth": 2,
            "linecolor": "white",
            "showbackground": true,
            "ticks": "",
            "zerolinecolor": "white"
           },
           "yaxis": {
            "backgroundcolor": "#E5ECF6",
            "gridcolor": "white",
            "gridwidth": 2,
            "linecolor": "white",
            "showbackground": true,
            "ticks": "",
            "zerolinecolor": "white"
           },
           "zaxis": {
            "backgroundcolor": "#E5ECF6",
            "gridcolor": "white",
            "gridwidth": 2,
            "linecolor": "white",
            "showbackground": true,
            "ticks": "",
            "zerolinecolor": "white"
           }
          },
          "shapedefaults": {
           "line": {
            "color": "#2a3f5f"
           }
          },
          "ternary": {
           "aaxis": {
            "gridcolor": "white",
            "linecolor": "white",
            "ticks": ""
           },
           "baxis": {
            "gridcolor": "white",
            "linecolor": "white",
            "ticks": ""
           },
           "bgcolor": "#E5ECF6",
           "caxis": {
            "gridcolor": "white",
            "linecolor": "white",
            "ticks": ""
           }
          },
          "title": {
           "x": 0.05
          },
          "xaxis": {
           "automargin": true,
           "gridcolor": "white",
           "linecolor": "white",
           "ticks": "",
           "title": {
            "standoff": 15
           },
           "zerolinecolor": "white",
           "zerolinewidth": 2
          },
          "yaxis": {
           "automargin": true,
           "gridcolor": "white",
           "linecolor": "white",
           "ticks": "",
           "title": {
            "standoff": 15
           },
           "zerolinecolor": "white",
           "zerolinewidth": 2
          }
         }
        }
       }
      },
      "text/html": [
       "<div>\n",
       "        \n",
       "        \n",
       "            <div id=\"bb778257-5e33-41e2-8f6b-358a62acd300\" class=\"plotly-graph-div\" style=\"height:525px; width:100%;\"></div>\n",
       "            <script type=\"text/javascript\">\n",
       "                require([\"plotly\"], function(Plotly) {\n",
       "                    window.PLOTLYENV=window.PLOTLYENV || {};\n",
       "                    \n",
       "                if (document.getElementById(\"bb778257-5e33-41e2-8f6b-358a62acd300\")) {\n",
       "                    Plotly.newPlot(\n",
       "                        'bb778257-5e33-41e2-8f6b-358a62acd300',\n",
       "                        [{\"coloraxis\": \"coloraxis\", \"customdata\": [[\"SOUTH FERRY\"], [\"WHITEHALL S-FRY\"], [\"CYPRESS HILLS\"], [\"75 ST-ELDERTS\"], [\"85 ST-FOREST PK\"], [\"WOODHAVEN BLVD\"], [\"104 ST\"], [\"111 ST\"], [\"121 ST\"], [\"42 ST-PORT AUTH\"], [\"42 ST-PORT AUTH\"], [\"34 ST-PENN STA\"], [\"34 ST-PENN STA\"], [\"FULTON ST\"], [\"5 AV/53 ST\"], [\"LEXINGTON AV/53\"], [\"LEXINGTON AV/53\"], [\"74 ST-BROADWAY\"], [\"JKSN HT-ROOSVLT\"], [\"JAMAICA 179 ST\"], [\"47-50 STS ROCK\"], [\"42 ST-BRYANT PK\"], [\"34 ST-HERALD SQ\"], [\"34 ST-HERALD SQ\"], [\"SUTPHIN-ARCHER\"], [\"JAMAICA CENTER\"], [\"WALL ST\"], [\"FULTON ST\"], [\"CHAMBERS ST\"], [\"PARK PLACE\"], [\"WORLD TRADE CTR\"], [\"CHAMBERS ST\"], [\"34 ST-PENN STA\"], [\"TIMES SQ-42 ST\"], [\"TIMES SQ-42 ST\"], [\"125 ST\"], [\"168 ST\"], [\"DYCKMAN ST\"], [\"207 ST\"], [\"215 ST\"], [\"MARBLE HILL-225\"], [\"231 ST\"], [\"BOWLING GREEN\"], [\"BOWLING GREEN\"], [\"WALL ST\"], [\"BROOKLYN BRIDGE\"], [\"CHAMBERS ST\"], [\"GRD CNTRL-42 ST\"], [\"GRD CNTRL-42 ST\"], [\"GRD CNTRL-42 ST\"], [\"GRD CNTRL-42 ST\"], [\"51 ST\"], [\"59 ST\"], [\"59 ST\"], [\"WOODLAWN\"], [\"3 AV-149 ST\"], [\"5 AVE\"], [\"FLUSHING-MAIN\"], [\"NEVINS ST\"], [\"ATL AV-BARCLAY\"], [\"BERGEN ST\"], [\"GRAND ARMY PLAZ\"], [\"EASTN PKWY-MUSM\"], [\"NOSTRAND AV\"], [\"CROWN HTS-UTICA\"], [\"SUTTER AV-RUTLD\"], [\"SARATOGA AV\"], [\"ROCKAWAY AV\"], [\"JUNIUS ST\"], [\"PENNSYLVANIA AV\"], [\"VAN SICLEN AV\"], [\"NEW LOTS AV\"], [\"ST. GEORGE\"], [\"34 ST-HUDSON YD\"], [\"5 AV/59 ST\"], [\"57 ST-7 AV\"], [\"49 ST\"], [\"28 ST\"], [\"23 ST\"], [\"59 ST COLUMBUS\"], [\"8 ST-NYU\"], [\"PRINCE ST\"], [\"CITY HALL\"], [\"CORTLANDT ST\"], [\"JAY ST-METROTEC\"], [\"39 AV\"], [\"36 AV\"], [\"BROADWAY\"], [\"30 AV\"], [\"ASTORIA BLVD\"], [\"ASTORIA DITMARS\"], [\"82 ST-JACKSON H\"], [\"JUNCTION BLVD\"], [\"CHURCH AV\"], [\"DEKALB AV\"], [\"METROPOLITAN AV\"], [\"145 ST\"], [\"125 ST\"], [\"BROADWAY JCT\"], [\"167 ST\"], [\"14 ST\"], [\"CASTLE HILL AV\"], [\"WESTCHESTER SQ\"], [\"BOROUGH HALL\"], [\"CHURCH AV\"], [\"FLATBUSH AV-B.C\"], [\"23 ST\"], [\"FORDHAM RD\"], [\"7 AV\"], [\"PARSONS BLVD\"], [\"169 ST\"], [\"50 ST\"], [\"V.CORTLANDT PK\"], [\"CANAL ST\"], [\"FORDHAM RD\"], [\"MORISN AV/SNDVW\"], [\"QUEENSBORO PLZ\"], [\"90 ST-ELMHURST\"], [\"FRANKLIN AV\"], [\"KINGSTON AV\"], [\"BROAD ST\"], [\"175 ST\"], [\"JAY ST-METROTEC\"], [\"SUTPHIN BLVD\"], [\"BERGEN ST\"], [\"KINGS HWY\"], [\"23 ST\"], [\"125 ST\"], [\"MOSHOLU PKWY\"], [\"HUNTERS PT AV\"], [\"NEWKIRK AV\"], [\"SHEEPSHEAD BAY\"], [\"MYRTLE-WYCKOFF\"], [\"W 4 ST-WASH SQ\"], [\"CANAL ST\"], [\"QUEENS PLAZA\"], [\"FOREST HILLS 71\"], [\"DELANCEY/ESSEX\"], [\"28 ST\"], [\"96 ST\"], [\"WAKEFIELD/241\"], [\"HUNTS POINT AV\"], [\"61 ST WOODSIDE\"], [\"PARKSIDE AV\"], [\"NEWKIRK PLAZA\"], [\"AVENUE U\"], [\"CONEY IS-STILLW\"], [\"CANARSIE-ROCKAW\"], [\"UTICA AV\"], [\"TREMONT AV\"], [\"KINGSBRIDGE RD\"], [\"BEDFORD PK BLVD\"], [\"NORWOOD 205 ST\"], [\"KEW GARDENS\"], [\"116 ST-COLUMBIA\"], [\"ASTOR PL\"], [\"KINGSBRIDGE RD\"], [\"ELDER AV\"], [\"14 ST\"], [\"6 AV\"], [\"66 ST-LINCOLN\"], [\"TOMPKINSVILLE\"], [\"79 ST\"], [\"86 ST\"], [\"96 ST\"], [\"137 ST CITY COL\"], [\"14 ST-UNION SQ\"], [\"7 AV\"], [\"BRIGHTON BEACH\"], [\"INWOOD-207 ST\"], [\"181 ST\"], [\"14 ST\"], [\"8 AV\"], [\"33 ST\"], [\"68ST-HUNTER CO\"], [\"77 ST\"], [\"86 ST\"], [\"103 ST\"], [\"110 ST\"], [\"116 ST\"], [\"BEDFORD PK BLVD\"], [\"CORTELYOU RD\"], [\"DYCKMAN ST\"], [\"86 ST\"], [\"81 ST-MUSEUM\"], [\"50 ST\"], [\"CHRISTOPHER ST\"], [\"23 ST\"], [\"103 ST\"], [\"CATHEDRAL PKWY\"], [\"157 ST\"], [\"BLEECKER ST\"], [\"161/YANKEE STAD\"], [\"PROSPECT PARK\"], [\"36 ST\"], [\"NOSTRAND AV\"], [\"KINGSTON-THROOP\"], [\"EUCLID AV\"], [\"WOODHAVEN BLVD\"], [\"63 DR-REGO PARK\"], [\"23 ST\"], [\"CHURCH AV\"], [\"149/GRAND CONC\"], [\"125 ST\"], [\"135 ST\"], [\"103 ST-CORONA\"], [\"STERLING ST\"], [\"BEVERLY RD\"], [\"KINGS HWY\"], [\"59 ST\"], [\"BAY RIDGE AV\"], [\"77 ST\"], [\"86 ST\"], [\"BAY RIDGE-95 ST\"], [\"HOYT-SCHER\"], [\"ELMHURST AV\"], [\"67 AV\"], [\"CARROLL ST\"], [\"167 ST\"], [\"PARKCHESTER\"], [\"46 ST BLISS ST\"], [\"CLARK ST\"], [\"HOYT ST\"], [\"GUN HILL RD\"], [\"RECTOR ST\"], [\"AVENUE J\"], [\"AVENUE M\"], [\"NECK RD\"], [\"UNION ST\"], [\"45 ST\"], [\"53 ST\"], [\"50 ST\"], [\"BEDFORD AV\"], [\"DEKALB AV\"], [\"182-183 STS\"], [\"STEINWAY ST\"], [\"GREENPOINT AV\"], [\"GRAND ST\"], [\"15 ST-PROSPECT\"], [\"18 AV\"], [\"170 ST\"], [\"BURNSIDE AV\"], [\"ST LAWRENCE AV\"], [\"PROSPECT AV\"], [\"55 ST\"], [\"1 AV\"], [\"GRAHAM AV\"], [\"GRAND ST\"], [\"96 ST\"], [\"HIGH ST\"], [\"174-175 STS\"], [\"GRAND-NEWTOWN\"], [\"BRIARWOOD\"], [\"NASSAU AV\"], [\"EAST BROADWAY\"], [\"4 AV-9 ST\"], [\"4AV-9 ST\"], [\"ROOSEVELT ISLND\"], [\"181 ST\"], [\"40 ST LOWERY ST\"], [\"BEVERLEY ROAD\"], [\"AVENUE H\"], [\"OCEAN PKWY\"], [\"MONTROSE AV\"], [\"HALSEY ST\"], [\"46 ST\"], [\"LORIMER ST\"], [\"METROPOLITAN AV\"], [\"BEDFORD-NOSTRAN\"], [\"SMITH-9 ST\"], [\"AVENUE X\"], [\"28 ST\"], [\"145 ST\"], [\"191 ST\"], [\"183 ST\"], [\"VERNON-JACKSON\"], [\"PRESIDENT ST\"], [\"25 ST\"], [\"JEFFERSON ST\"], [\"190 ST\"], [\"72 ST\"], [\"SPRING ST\"], [\"LAFAYETTE AV\"], [\"CLINTON-WASH AV\"], [\"FAR ROCKAWAY\"], [\"MYRTLE-WILLOUGH\"], [\"CLASSON AV\"], [\"7 AV\"], [\"FT HAMILTON PKY\"], [\"HOUSTON ST\"], [\"33 ST-RAWSON ST\"], [\"BAYCHESTER AV\"], [\"34 ST-PENN STA\"], [\"MORGAN AV\"], [\"WILSON AV\"], [\"163 ST-AMSTERDM\"], [\"FRANKLIN AV\"], [\"NORTHERN BLVD\"], [\"BROADWAY\"], [\"2 AV\"], [\"YORK ST\"], [\"57 ST\"], [\"21 ST-QNSBRIDGE\"], [\"RECTOR ST\"], [\"CORTLANDT ST\"], [\"WTC-CORTLANDT\"], [\"238 ST\"], [\"138/GRAND CONC\"], [\"MT EDEN AV\"], [\"176 ST\"], [\"111 ST\"], [\"BOWERY\"], [\"W 8 ST-AQUARIUM\"], [\"BUSHWICK AV\"], [\"103 ST\"], [\"155 ST\"], [\"FLUSHING AV\"], [\"CLINTON-WASH AV\"], [\"FULTON ST\"], [\"LEXINGTON AV/63\"], [\"CANAL ST\"], [\"18 ST\"], [\"SPRING ST\"], [\"CENTRAL PK N110\"], [\"116 ST\"], [\"WHITLOCK AV\"], [\"ZEREGA AV\"], [\"52 ST\"], [\"METS-WILLETS PT\"], [\"MORRIS PARK\"], [\"3 AV\"], [\"155 ST\"], [\"135 ST\"], [\"116 ST\"], [\"CATHEDRAL PKWY\"], [\"BEACH 67 ST\"], [\"BEACH 60 ST\"], [\"BEACH 44 ST\"], [\"BEACH 36 ST\"], [\"36 ST\"], [\"65 ST\"], [\"75 AV\"], [\"JAMAICA VAN WK\"], [\"FRANKLIN ST\"], [\"145 ST\"], [\"HARLEM 148 ST\"], [\"COURT SQ\"], [\"69 ST\"], [\"ATLANTIC AV\"], [\"SUTTER AV\"], [\"LIVONIA AV\"], [\"HEWES ST\"], [\"LORIMER ST\"], [\"104 ST\"], [\"111 ST\"], [\"OZONE PK LEFFRT\"], [\"AQUEDUCT N.COND\"], [\"BEACH 25 ST\"], [\"COURT SQ\"], [\"COURT SQ-23 ST\"], [\"21 ST\"], [\"PELHAM PKWY\"], [\"ALLERTON AV\"], [\"BURKE AV\"], [\"GUN HILL RD\"], [\"219 ST\"], [\"225 ST\"], [\"233 ST\"], [\"9 AV\"], [\"FT HAMILTON PKY\"], [\"71 ST\"], [\"79 ST\"], [\"18 AV\"], [\"20 AV\"], [\"BAY PKWY\"], [\"NEW LOTS\"], [\"EAST 105 ST\"], [\"FLUSHING AV\"], [\"MYRTLE AV\"], [\"KOSCIUSZKO ST\"], [\"GATES AV\"], [\"HALSEY ST\"], [\"GRANT AV\"], [\"80 ST\"], [\"88 ST\"], [\"ROCKAWAY BLVD\"], [\"174 ST\"], [\"WEST FARMS SQ\"], [\"E 180 ST\"], [\"BRONX PARK EAST\"], [\"8 AV\"], [\"FT HAMILTON PKY\"], [\"18 AV\"], [\"20 AV\"], [\"BAY PKWY\"], [\"KINGS HWY\"], [\"AVENUE U\"], [\"86 ST\"], [\"NEW UTRECHT AV\"], [\"25 AV\"], [\"BAY 50 ST\"], [\"CENTRAL AV\"], [\"SENECA AVE\"], [\"FOREST AVE\"], [\"FRESH POND RD\"], [\"JACKSON AV\"], [\"PROSPECT AV\"], [\"INTERVALE AV\"], [\"SIMPSON ST\"], [\"FREEMAN ST\"], [\"PARK PLACE\"], [\"BOTANIC GARDEN\"], [\"KNICKERBOCKER\"], [\"HOWARD BCH JFK\"], [\"BROAD CHANNEL\"], [\"BEACH 90 ST\"], [\"BEACH 98 ST\"], [\"BEACH 105 ST\"], [\"ROCKAWAY PARK B\"], [\"DITMAS AV\"], [\"AVENUE I\"], [\"BAY PKWY\"], [\"AVENUE N\"], [\"AVENUE P\"], [\"AVENUE U\"], [\"NEPTUNE AV\"], [\"MIDDLETOWN RD\"], [\"BUHRE AV\"], [\"PELHAM BAY PARK\"], [\"PELHAM PKWY\"], [\"EASTCHSTER/DYRE\"], [\"CHAUNCEY ST\"], [\"ALABAMA AV\"], [\"VAN SICLEN AV\"], [\"CLEVELAND ST\"], [\"NORWOOD AV\"], [\"CRESCENT ST\"], [\"RALPH AV\"], [\"ROCKAWAY AV\"], [\"LIBERTY AV\"], [\"VAN SICLEN AVE\"], [\"SHEPHERD AV\"], [\"170 ST\"], [\"NEREID AV\"], [\"3 AV 138 ST\"], [\"BROOK AV\"], [\"CYPRESS AV\"], [\"E 143/ST MARY'S\"], [\"E 149 ST\"], [\"LONGWOOD AV\"], [\"WINTHROP ST\"], [\"72 ST\"], [\"23 ST\"], [\"25 ST\"], [\"HOYT ST\"], [\"ORCHARD BEACH\"], [\"MARCY AV\"], [\"B'WAY-LAFAYETTE\"], [\"CANAL ST\"], [\"CANAL ST\"], [\"AQUEDUCT RACETR\"], [\"RIT-MANHATTAN\"], [\"RIT-ROOSEVELT\"], [\"HOWARD BCH JFK\"], [\"JFK JAMAICA CT1\"], [\"PATH NEW WTC\"], [\"PATH WTC 2\"], [\"THIRTY ST\"], [\"THIRTY THIRD ST\"], [\"TWENTY THIRD ST\"], [\"EXCHANGE PLACE\"], [\"HARRISON\"], [\"14TH STREET\"], [\"PAVONIA/NEWPORT\"], [\"9TH STREET\"], [\"CHRISTOPHER ST\"], [\"NEWARK BM BW\"], [\"NEWARK C\"], [\"NEWARK HM HE\"], [\"NEWARK HW BMEBE\"], [\"LACKAWANNA\"], [\"GROVE STREET\"], [\"JOURNAL SQUARE\"], [\"72 ST-2 AVE\"], [\"86 ST-2 AVE\"], [\"96 ST-2 AVE\"]], \"hovertemplate\": \"total_turns=%{z}<br>lat=%{lat}<br>lng=%{lon}<br>STATION=%{customdata[0]}<extra></extra>\", \"lat\": [40.703082, 40.703082, 40.689945, 40.69132000000001, 40.692304, 40.693866, 40.69518400000001, 40.697405, 40.700536, 40.757303, 40.757303, 40.752247, 40.752247, 40.709938, 40.760179, 40.75753, 40.75753, 40.746655, 40.746655, 40.712622, 40.75865200000001, 40.754198, 40.749533, 40.749533, 40.700488, 40.702131, 40.706864, 40.709938, 40.71433, 40.71433, 40.71433, 40.715436, 40.750329, 40.755905, 40.755905, 40.815596, 40.840778, 40.860523, 40.864653, 40.869359, 40.874551, 40.878867, 40.704782, 40.704782, 40.707466, 40.71315900000001, 40.71315900000001, 40.751849, 40.751849, 40.751849, 40.751849, 40.757108, 40.762796, 40.762796, 40.885973, 40.816132, 40.753824, 40.75957800000001, 40.688269, 40.684063, 40.680801, 40.675219, 40.672013, 40.669735, 40.669279, 40.664591, 40.661466, 40.662541, 40.663419, 40.664884, 40.665405, 40.666252, 40.643738, 40.755, 40.764909, 40.764755, 40.760139, 40.745574, 40.741006, 40.76811, 40.730348, 40.724332, 40.713086, 40.710662, 40.692182, 40.753076, 40.756977, 40.761959, 40.766843, 40.770426, 40.774984, 40.747647, 40.749143, 40.650494, 40.690612, 40.711353, 40.824787, 40.811056, 40.678848, 40.833773, 40.738007, 40.834255, 40.839892, 40.692404, 40.650843, 40.632836, 40.745924, 40.862803, 40.762877, 40.707564, 40.710459, 40.761675, 40.889185, 40.71823300000001, 40.862941, 40.829495, 40.750508, 40.748541, 40.670711, 40.669409, 40.706539, 40.847369, 40.692338, 40.705416, 40.686154, 40.603234, 40.740088, 40.804406, 40.87963, 40.74238, 40.639961, 40.58681, 40.699707, 40.732251, 40.720852, 40.748948, 40.721681, 40.71838, 40.743095, 40.785822, 40.903085, 40.820889, 40.745623, 40.655053, 40.63505900000001, 40.599307, 40.577423, 40.64666, 40.679279, 40.850307, 40.866974, 40.873026, 40.874827, 40.714444, 40.80819, 40.730056, 40.867899, 40.828894, 40.737348, 40.737348, 40.773424, 40.636948, 40.783872, 40.788844, 40.79388, 40.821994, 40.734836, 40.677172, 40.577961, 40.868045, 40.851686, 40.740388, 40.740388, 40.746119, 40.768143, 40.773636, 40.779485, 40.790582, 40.795066, 40.798574, 40.873399, 40.640905, 40.865286, 40.785822, 40.781435, 40.762439, 40.7331, 40.74407100000001, 40.799354, 40.804032, 40.833879, 40.725665, 40.827888, 40.661596, 40.65515, 40.68041, 40.679921, 40.675382, 40.73308, 40.729869, 40.742868, 40.644039, 40.818429, 40.808076, 40.814459, 40.749858, 40.66275200000001, 40.645089, 40.608691, 40.641426, 40.634945, 40.629702, 40.622715, 40.616624, 40.688465, 40.742445, 40.726462, 40.680231, 40.835535, 40.833246, 40.743079, 40.697356, 40.690547, 40.877796, 40.707222, 40.625028, 40.617568, 40.59523400000001, 40.67730200000001, 40.648866, 40.644959, 40.636232, 40.717241, 40.703839, 40.856085, 40.756864, 40.731324, 40.718542, 40.660376, 40.629881, 40.840048, 40.85339000000001, 40.8315, 40.665438, 40.631412, 40.730901, 40.71459, 40.711874, 40.791654, 40.699316, 40.845892, 40.736998, 40.709174, 40.724608, 40.713647, 40.67032, 40.67032, 40.759123, 40.84949500000001, 40.743778000000006, 40.643982, 40.629164, 40.576298, 40.707889, 40.695607, 40.756312, 40.713875, 40.713875, 40.689636, 40.673714, 40.589547, 40.747224, 40.826426, 40.855176, 40.858389, 40.742624, 40.667879, 40.660481, 40.706636, 40.859022, 40.775545, 40.726202, 40.68617, 40.683263, 40.603983, 40.694568, 40.688855, 40.666276, 40.650722, 40.728202, 40.74455800000001, 40.878656, 40.750264, 40.706148, 40.688676, 40.835957, 40.681159, 40.752898, 40.7061, 40.723291, 40.699756, 40.763625, 40.7541, 40.70784, 40.710454, 40.710454, 40.884821, 40.813208, 40.844406, 40.848635, 40.75176, 40.720315, 40.576152, 40.682558, 40.796105, 40.829934, 40.700374, 40.688123, 40.68713, 40.764763, 40.722819, 40.741096, 40.722397, 40.79911, 40.802098, 40.826508, 40.83646, 40.744103, 40.754622, 40.854137, 40.733243, 40.830551, 40.817902, 40.805072, 40.800637, 40.590867, 40.592334, 40.593214, 40.595381, 40.75202, 40.749663, 40.718477, 40.702566, 40.719323, 40.820402, 40.823877, 40.747029, 40.746325, 40.675496, 40.669376, 40.663801, 40.706994, 40.703855, 40.681745, 40.684364, 40.685975, 40.66823400000001, 40.600138, 40.747257, 40.747257, 40.743973, 40.857188, 40.865481, 40.871387, 40.877796, 40.883767, 40.887887, 40.893386, 40.646343, 40.640872, 40.619588, 40.613513, 40.607958, 40.604798, 40.601898, 40.658748, 40.650625, 40.700244, 40.697266, 40.693329, 40.689652, 40.68617, 40.677107, 40.679369, 40.679857, 40.680429, 40.837382, 40.840097, 40.841882, 40.848797, 40.635011, 40.631428, 40.620728, 40.617373, 40.612006, 40.603967, 40.597482, 40.592676, 40.625419, 40.597873, 40.588879, 40.697673, 40.702798, 40.704424, 40.706181, 40.816505, 40.81939600000001, 40.822172, 40.82417, 40.829966, 40.67491, 40.670499, 40.698666, 40.660476, 40.608693, 40.588032, 40.585514, 40.583542, 40.580454, 40.63615, 40.625305, 40.620907, 40.615174, 40.609147, 40.596065, 40.580992, 40.843635, 40.846817, 40.852465, 40.858973, 40.888244, 40.682867, 40.677107, 40.678018, 40.679938, 40.681598, 40.68320900000001, 40.678815, 40.67836, 40.674552, 40.672786, 40.674161, 40.839301, 40.898382, 40.810512, 40.808044, 40.805737, 40.808742, 40.812104, 40.816083, 40.656648, 40.778575, 40.742981, 40.66043, 40.690545, 40.852417, 40.708377, 40.725297, 40.718697, 40.718697, 40.668221, 40.761268, 40.7574, 40.660476, 40.643942, 40.7126, 40.7126, 40.7491, 40.7491, 40.7429, 40.7162, 40.7384, 40.7374, 40.7267, 40.7342, 40.7331, 40.6895, 40.6895, 40.6895, 40.6895, 40.735, 40.7197, 40.7326, 40.7686869, 40.76868620000001, 40.7807028], \"lon\": [-74.01298299999998, -74.01298299999998, -73.872564, -73.867135, -73.860151, -73.851568, -73.844326, -73.836354, -73.82838199999998, -73.98978699999998, -73.98978699999998, -73.99345600000002, -73.99345600000002, -74.007983, -73.975196, -73.969102, -73.969102, -73.891361, -73.891361, -73.783815, -73.981311, -73.984573, -73.987899, -73.987899, -73.80793299999998, -73.80111, -74.009056, -74.007983, -74.008563, -74.008563, -74.008563, -74.009335, -73.991096, -73.98650400000002, -73.98650400000002, -73.958395, -73.94009100000002, -73.925575, -73.918719, -73.915329, -73.909879, -73.90485799999998, -74.014099, -74.014099, -74.01186700000002, -74.003917, -74.003917, -73.976945, -73.976945, -73.976945, -73.976945, -73.97187, -73.967686, -73.967686, -73.878851, -73.917754, -73.981966, -73.830056, -73.980453, -73.977417, -73.97513199999999, -73.971012, -73.96436, -73.950455, -73.932967, -73.922668, -73.91631600000002, -73.90876300000002, -73.902454, -73.894258, -73.889451, -73.884087, -74.073622, -74.001, -73.973372, -73.980646, -73.984112, -73.988682, -73.989315, -73.981891, -73.992705, -73.99768399999998, -74.007232, -74.011052, -73.985935, -73.93271, -73.929373, -73.925382, -73.921423, -73.917614, -73.91206700000002, -73.883786, -73.869452, -73.962836, -73.981848, -73.88958000000002, -73.944232, -73.952386, -73.904139, -73.91843, -73.99838100000002, -73.85122199999998, -73.842952, -73.990151, -73.949575, -73.947642, -73.998005, -73.901034, -73.98159, -73.803326, -73.7936, -73.983908, -73.898549, -74.000323, -73.901199, -73.87455899999998, -73.940177, -73.876791, -73.958051, -73.942173, -74.011052, -73.939683, -73.987342, -73.810562, -73.990881, -73.972342, -73.986429, -73.93745200000002, -73.88466600000002, -73.94888900000002, -73.948352, -73.954167, -73.91181, -74.000559, -74.005237, -73.93719399999998, -73.84439, -73.987813, -73.984251, -73.95097, -73.85059100000002, -73.890567, -73.902969, -73.96122700000002, -73.962793, -73.955916, -73.981225, -73.901832, -73.930585, -73.905244, -73.893485, -73.88691899999998, -73.878872, -73.830979, -73.964124, -73.99104200000002, -73.897326, -73.879559, -73.9969, -73.9969, -73.98223399999998, -74.07482399999998, -73.979938, -73.97599, -73.972363, -73.95367399999998, -73.990688, -73.972514, -73.96180600000002, -73.919921, -73.937967, -74.002104, -74.002104, -73.981826, -73.964016, -73.959875, -73.955541, -73.947473, -73.94429699999998, -73.94159300000003, -73.890084, -73.96386600000002, -73.92698, -73.968952, -73.972149, -73.985989, -74.0071, -73.99562399999998, -73.968329, -73.96674200000002, -73.944726, -73.995645, -73.925736, -73.962193, -74.003477, -73.950326, -73.94085799999998, -73.87207, -73.869259, -73.86161, -73.99277, -73.979541, -73.926927, -73.94590600000002, -73.94099200000002, -73.862672, -73.95060500000002, -73.948975, -73.95777199999998, -74.017972, -74.023411, -74.025514, -74.028368, -74.030964, -73.985474, -73.882005, -73.85263, -73.99498, -73.92138, -73.860805, -73.918419, -73.992888, -73.985066, -73.866341, -74.013391, -73.960819, -73.95936, -73.95509, -73.983135, -74.010086, -74.014034, -73.994765, -73.956614, -73.91844, -73.900695, -73.920736, -73.954425, -73.994164, -73.979509, -73.977149, -73.917775, -73.907733, -73.867623, -73.992856, -73.995473, -73.981719, -73.94410400000002, -73.94067, -73.964682, -73.990474, -73.910136, -73.87724200000002, -73.820593, -73.95127099999998, -73.990152, -73.98875699999998, -73.98875699999998, -73.953266, -73.93363199999997, -73.923998, -73.96451, -73.961678, -73.968523, -73.940005, -73.904021, -73.913333, -73.951592, -73.951592, -73.953459, -73.996139, -73.974295, -73.99336, -73.950412, -73.929384, -73.903828, -73.95354499999998, -73.950648, -73.998059, -73.922925, -73.93419, -73.976398, -74.00362700000002, -73.973908, -73.965838, -73.755383, -73.949046, -73.960025, -73.980324, -73.975818, -74.005344, -73.930993, -73.838596, -73.99298399999998, -73.93316, -73.903999, -73.939898, -73.956056, -73.905973, -73.95034799999998, -73.989873, -73.98689, -73.977449, -73.94258, -74.01369100000002, -74.011324, -74.011324, -73.900759, -73.929877, -73.914621, -73.912497, -73.855183, -73.994014, -73.975925, -73.905501, -73.961399, -73.938632, -73.950284, -73.96674200000002, -73.975346, -73.966291, -74.00626700000002, -73.997877, -73.997211, -73.95180699999997, -73.949625, -73.886425, -73.846471, -73.912497, -73.845625, -73.860977, -73.987169, -73.941486, -73.947644, -73.954833, -73.958201, -73.797011, -73.788493, -73.776433, -73.768194, -73.92874, -73.898485, -73.837223, -73.816859, -74.006953, -73.93631500000002, -73.93644300000003, -73.94537, -73.896403, -73.902819, -73.902047, -73.900444, -73.95348100000002, -73.947387, -73.837631, -73.832181, -73.824713, -73.834058, -73.76151999999998, -73.945112, -73.945112, -73.949876, -73.86760699999998, -73.867393, -73.867135, -73.86625500000002, -73.862736, -73.860505, -73.857265, -73.994551, -73.994229, -73.99884200000002, -74.00064499999998, -74.00178199999998, -73.998456, -73.993821, -73.899472, -73.899558, -73.94165799999998, -73.935692, -73.928826, -73.92228100000001, -73.916337, -73.865376, -73.85896, -73.85149200000002, -73.843853, -73.887659, -73.879774, -73.873551, -73.868465, -74.011717, -74.005387, -73.990388, -73.985088, -73.98200899999998, -73.98066800000002, -73.979359, -73.978243, -73.99663199999998, -73.98695500000002, -73.98362900000002, -73.927131, -73.907776, -73.903077, -73.89591, -73.907797, -73.90146700000003, -73.89674699999998, -73.89322800000002, -73.891876, -73.95779399999998, -73.958759, -73.919685, -73.830301, -73.816068, -73.813684, -73.820143, -73.82643, -73.837459, -73.978179, -73.975732, -73.975453, -73.974166, -73.97298599999998, -73.973329, -73.974531, -73.836687, -73.832545, -73.828125, -73.855355, -73.83085, -73.91048, -73.898871, -73.891726, -73.884687, -73.880074, -73.873765, -73.920801, -73.911939, -73.89655400000002, -73.890438, -73.88076099999998, -73.91335500000002, -73.854389, -73.926165, -73.919234, -73.91447099999998, -73.90769, -73.904085, -73.89605999999998, -73.950198, -73.981912, -73.992727, -73.99794399999998, -73.985065, -73.828082, -73.957751, -73.996204, -74.000977, -74.000977, -73.834026, -73.964016, -73.954006, -73.830301, -73.78235600000002, -74.0099, -74.0099, -73.9882, -73.9882, -73.9929, -74.0329, -74.1557, -73.9969, -74.0348, -73.9988, -74.0071, -74.1745, -74.1745, -74.1745, -74.1745, -74.0275, -74.0431, -74.0627, -73.9584429, -73.9584429, -73.9494105], \"name\": \"\", \"radius\": 13, \"subplot\": \"mapbox\", \"type\": \"densitymapbox\", \"z\": [188.15239477503627, 321.20362473347546, 105.40108401084011, 164.3548387096774, 188.4616935483871, 123.13789581205312, 86.79865771812081, 145.60772357723576, 60.548048048048045, 503.17225286380994, 516.0014405070585, 412.5184943429069, 342.4541595925297, 319.3008935824533, 345.3538581449727, 210.55161290322582, 412.38017808749515, 255.80650406504066, 562.6878083157153, 173.19753086419752, 393.273640167364, 524.1581790123457, 547.2923621648963, 648.6799516908212, 492.85146053449347, 439.3551215623755, 288.6449165402124, 214.2175170419335, 274.0408031088083, 194.1984126984127, 263.60940695296523, 352.9286761113825, 442.3984877126654, 552.9970384995064, 580.96192, 469.664, 303.61520947176683, 276.552, 243.05962059620597, 94.2459349593496, 198.91027732463294, 168.46031746031747, 239.85302390998592, 478.961262553802, 168.3030650243483, 312.2043902439024, 217.3652575957728, 473.55085324232084, 614.5633112907176, 702.8977159880834, 454.57598499061913, 269.57780119423956, 368.1224028906956, 333.4887640449438, 262.9808, 283.0151162790698, 330.4979658258747, 589.452528837622, 308.94736842105266, 249.27249618708694, 122.24269889224573, 370.47, 218.59571428571428, 410.4543010752688, 374.7075045207957, 338.758064516129, 320.1739837398374, 252.82767978290366, 173.4491869918699, 247.26190476190476, 226.1219512195122, 284.1137566137566, 75.49640512660206, 159.65042892156862, 303.17171129220026, 541.0667414469995, 323.4420731707317, 431.4374445430346, 381.99267605633804, 482.2087890625, 357.37719298245617, 420.8042071197411, 161.10659439927733, 143.24983119513843, 112.83258325832583, 167.77235772357724, 377.8917682926829, 474.16007532956684, 555.7543453070683, 417.0949913644214, 513.991935483871, 494.52041633306646, 520.9078590785908, 358.2717201166181, 318.295177222545, 134.95762711864407, 787.1203953279424, 482.92257742257743, 356.56418918918916, 249.08762886597938, 344.9487776484284, 271.0587557603687, 577.7018970189702, 314.54397590361447, 197.16162570888469, 227.10012836970475, 366.3615176151761, 259.8877221324717, 489.1494565217391, 164.62401150251617, 146.73144687666846, 387.08662477558346, 419.9593495934959, 750.912, 327.99457994579944, 300.9334239130435, 511.5703125, 411.5877034358047, 387.4205714285714, 426.87566137566137, 107.63266666666667, 181.7310379241517, 333.5656445370646, 106.72845528455285, 198.13711151736746, 148.61717921527043, 321.52382528127066, 532.1409244644871, 182.3678048780488, 169.0808, 200.06696832579186, 425.4175925925926, 388.3208722741433, 654.151948051948, 294.2336608287057, 152.16818950930627, 253.15241379310345, 312.74565381708237, 310.2456140350877, 525.5115384615384, 286.2650406504065, 273.78577336641854, 430.1439342015079, 550.6829268292682, 608.6861788617886, 262.479674796748, 210.09008297115764, 299.98464317976516, 341.6423632935261, 272.40525838621943, 170.65746971736203, 204.20900321543408, 272.2858585858586, 360.99160335865656, 597.4733333333334, 423.932123655914, 435.9837398373984, 320.42818428184285, 300.0348300461603, 202.40853658536585, 266.6448497854077, 16.994292237442924, 383.1270125223614, 380.96214689265537, 385.54023668639053, 387.9569105691057, 742.3798801900434, 721.3760162601626, 223.11498257839722, 169.6339648173207, 461.2457516339869, 556.0060501296456, 478.5880376344086, 360.70665171898355, 461.06597222222223, 490.96573875803, 574.404779969651, 620.7574525745257, 499.13279132791325, 443.27510040160644, 378.4105691056911, 430.5934959349593, 353.50948509485096, 300.17378917378915, 419.7532258064516, 303.37931034482756, 480.3125845737483, 576.5730724971231, 467.68428184281845, 398.8367816091954, 364.0, 341.65501792114696, 184.36964285714285, 376.0960854092527, 559.9959349593496, 646.2367816091954, 311.0257801899593, 252.77800407331975, 431.53284671532845, 206.6564185544768, 684.3414634146342, 176.8465547191662, 480.22996515679444, 380.2812858783008, 226.61318830727396, 569.6161434977579, 380.4634146341463, 188.96975806451613, 323.808552958727, 315.0271739130435, 203.4435975609756, 283.01984126984127, 280.91726618705036, 137.82657463330457, 608.4243902439024, 218.48759007205766, 184.7827140549273, 220.0976331360947, 713.5174418604652, 398.03306878306876, 287.08909574468083, 306.4430894308943, 156.86449864498644, 243.53252032520325, 115.6740576496674, 103.10944340212633, 123.48617886178862, 125.9047619047619, 290.7818428184282, 431.38900203665986, 270.1446725317693, 295.75880758807585, 643.9241645244216, 377.57886178861787, 307.6006097560976, 423.51258992805754, 219.89961089494165, 727.7295742232451, 122.7757785467128, 112.15165336374002, 568.6032388663967, 506.9504132231405, 200.21938088829071, 203.86933797909407, 143.4836956521739, 612.5548387096774, 400.0448979591837, 327.1290760869565, 319.9049049049049, 573.2985553772071, 118.76344086021506, 342.7812274368231, 134.478, 245.46844660194174, 253.6570796460177, 319.3516260162602, 220.1189948263119, 348.25338753387535, 684.1824, 475.9731182795699, 335.5907859078591, 66.8119241192412, 114.3125, 541.2547425474255, 247.66932270916334, 153.5635478637101, 203.84, 259.64029438822445, 290.58246828143024, 249.9878048780488, 198.6070460704607, 329.1834189288335, 371.12078977932634, 627.709349593496, 346.1544715447154, 300.1485022307202, 427.3946666666667, 223.01344086021504, 281.66615384615386, 291.5371621621622, 437.0833333333333, 269.169696969697, 106.79382303839733, 165.3003048780488, 201.64692218350754, 183.92147806004618, 515.7853260869565, 281.7371854613234, 146.38297872340425, 217.76338602753697, 278.196015936255, 206.40108401084012, 603.3925788497218, 289.07859078590786, 264.5772357723577, 129.5737704918033, 215.54301075268816, 199.66007194244605, 415.289972899729, 434.8844022169438, 771.5284552845528, 253.04962153069806, 411.8359375, 233.65523632993512, 89.06865464632455, 97.0815331010453, 130.04655870445345, 306.88, 345.9979674796748, 344.63709677419354, 586.6476190476191, 397.45257452574526, 91.34897959183674, 184.48238482384824, 383.5301837270341, 284.9672131147541, 101.32377919320595, 120.28252032520325, 219.80023228803717, 313.0830728003573, 298.0584239130435, 258.4561965811966, 611.9068825910931, 404.6666666666667, 293.9469387755102, 108.33522727272727, 122.59756097560975, 314.2940379403794, 90.38852789603406, 221.2330623306233, 316.49457994579944, 163.4130081300813, 141.59171597633136, 288.70151515151514, 211.59866962305986, 136.83414634146342, 109.42290076335878, 46.65912762520194, 61.1739837398374, 112.6910569105691, 290.0731707317073, 58.308243727598565, 227.30662020905925, 161.66666666666666, 149.547703180212, 383.3411458333333, 219.1522177419355, 202.2570564516129, 130.1951219512195, 515.4349593495934, 169.85040650406503, 156.75874769797423, 200.9106438896189, 78.71280991735537, 71.94907407407408, 220.7170474516696, 85.46612903225807, 117.3219512195122, 210.3451776649746, 293.1417624521073, 196.24661246612467, 202.19623655913978, 356.7602179836512, 224.14634146341464, 405.54002713704205, 228.02173913043478, 294.8719723183391, 177.10894308943088, 238.66898954703834, 130.2384701912261, 223.384126984127, 251.65645161290323, 391.1680216802168, 317.8130081300813, 318.1951219512195, 461.81029810298105, 262.8841463414634, 216.8311444652908, 752.8224489795919, 416.26881720430106, 514.6178861788618, 485.63143631436316, 415.3089430894309, 144.6225319396051, 198.10326086956522, 170.2905027932961, 288.7099358974359, 172.0587172538392, 382.9010840108401, 175.8882833787466, 529.1711111111111, 164.62012987012986, 170.5703564727955, 215.81730769230768, 362.4859967051071, 237.647311827957, 126.72195121951219, 186.53216374269005, 150.22151224707136, 315.5076923076923, 174.5609756097561, 193.0670731707317, 156.0569105691057, 289.1639344262295, 181.0309072781655, 174.79349593495934, 210.7729658792651, 281.390243902439, 149.4115292233787, 172.96383647798743, 110.15284552845529, 144.83333333333334, 314.040625, 72.70365853658537, 17.926509186351705, 60.110236220472444, 36.472131147540985, 21.104, 50.990243902439026, 103.10742971887551, 56.28846153846154, 54.70603674540683, 62.734671125975474, 147.0734908136483, 60.57564575645756, 90.79945799457994, 93.28571428571429, 174.92547425474254, 191.1029810298103, 250.73641304347825, 302.8841463414634, 251.05191256830602, 230.35772357723576, 279.66124661246613, 468.760162601626, 324.6584699453552, 561.4281842818428, 332.4460285132383, 200.46109175377467, 203.98133333333334, 305.0027322404372, 244.09214092140923, 162.48097412480973, 221.1413043478261, 504.9379157427938, 248.82638888888889, 152.17866666666666, 54.6813922356091, 242.20054200542006, 160.42292490118578, 319.2134146341463, 534.1245235069886, 710.5267379679144, 161.69376693766938, 158.81436314363143, 0.9804878048780488, 221.95470798569727, 342.2014896119169, 432.1719520789288, 303.0714584203928, 57.05420054200542, 183.11182108626198, 125.83219178082192, 100.83733333333333, 284.86367281475543, 367.3506419400856, 503.86348122866895, 181.59109792284866, 351.3080977479636, 302.3492537313433, 210.82183098591548, 134.9618386816999, 250.5487421383648, 508.70217729393465, 326.1243523316062, 387.6509635974304, 149.19691863264325, 61.560778727445395, 163.09209888511876, 108.12709832134293, 128.95849056603774, 326.7918118466899, 388.5240577385726, 470.691646778043, 419.3818576860402, 304.69792194627473]}],\n",
       "                        {\"coloraxis\": {\"colorbar\": {\"title\": {\"text\": \"total_turns\"}}, \"colorscale\": [[0.0, \"rgb(255,255,204)\"], [0.125, \"rgb(255,237,160)\"], [0.25, \"rgb(254,217,118)\"], [0.375, \"rgb(254,178,76)\"], [0.5, \"rgb(253,141,60)\"], [0.625, \"rgb(252,78,42)\"], [0.75, \"rgb(227,26,28)\"], [0.875, \"rgb(189,0,38)\"], [1.0, \"rgb(128,0,38)\"]]}, \"legend\": {\"tracegroupgap\": 0}, \"mapbox\": {\"accesstoken\": \"pk.eyJ1IjoiY3dlc3RuZWRnZSIsImEiOiJja2ZnMGNqNmowMGQ3MnJwdDAwdGhyc21hIn0.bo4mFps9s1wRmgjIvI7KiQ\", \"center\": {\"lat\": 40.7429, \"lon\": -73.9929}, \"domain\": {\"x\": [0.0, 1.0], \"y\": [0.0, 1.0]}, \"style\": \"stamen-terrain\", \"zoom\": 9.5}, \"margin\": {\"b\": 0, \"l\": 0, \"r\": 0, \"t\": 0}, \"template\": {\"data\": {\"bar\": [{\"error_x\": {\"color\": \"#2a3f5f\"}, \"error_y\": {\"color\": \"#2a3f5f\"}, \"marker\": {\"line\": {\"color\": \"#E5ECF6\", \"width\": 0.5}}, \"type\": \"bar\"}], \"barpolar\": [{\"marker\": {\"line\": {\"color\": \"#E5ECF6\", \"width\": 0.5}}, \"type\": \"barpolar\"}], \"carpet\": [{\"aaxis\": {\"endlinecolor\": \"#2a3f5f\", \"gridcolor\": \"white\", \"linecolor\": \"white\", \"minorgridcolor\": \"white\", \"startlinecolor\": \"#2a3f5f\"}, \"baxis\": {\"endlinecolor\": \"#2a3f5f\", \"gridcolor\": \"white\", \"linecolor\": \"white\", \"minorgridcolor\": \"white\", \"startlinecolor\": \"#2a3f5f\"}, \"type\": \"carpet\"}], \"choropleth\": [{\"colorbar\": {\"outlinewidth\": 0, \"ticks\": \"\"}, \"type\": \"choropleth\"}], \"contour\": [{\"colorbar\": {\"outlinewidth\": 0, \"ticks\": \"\"}, \"colorscale\": [[0.0, \"#0d0887\"], [0.1111111111111111, \"#46039f\"], [0.2222222222222222, \"#7201a8\"], [0.3333333333333333, \"#9c179e\"], [0.4444444444444444, \"#bd3786\"], [0.5555555555555556, \"#d8576b\"], [0.6666666666666666, \"#ed7953\"], [0.7777777777777778, \"#fb9f3a\"], [0.8888888888888888, \"#fdca26\"], [1.0, \"#f0f921\"]], \"type\": \"contour\"}], \"contourcarpet\": [{\"colorbar\": {\"outlinewidth\": 0, \"ticks\": \"\"}, \"type\": \"contourcarpet\"}], \"heatmap\": [{\"colorbar\": {\"outlinewidth\": 0, \"ticks\": \"\"}, \"colorscale\": [[0.0, \"#0d0887\"], [0.1111111111111111, \"#46039f\"], [0.2222222222222222, \"#7201a8\"], [0.3333333333333333, \"#9c179e\"], [0.4444444444444444, \"#bd3786\"], [0.5555555555555556, \"#d8576b\"], [0.6666666666666666, \"#ed7953\"], [0.7777777777777778, \"#fb9f3a\"], [0.8888888888888888, \"#fdca26\"], [1.0, \"#f0f921\"]], \"type\": \"heatmap\"}], \"heatmapgl\": [{\"colorbar\": {\"outlinewidth\": 0, \"ticks\": \"\"}, \"colorscale\": [[0.0, \"#0d0887\"], [0.1111111111111111, \"#46039f\"], [0.2222222222222222, \"#7201a8\"], [0.3333333333333333, \"#9c179e\"], [0.4444444444444444, \"#bd3786\"], [0.5555555555555556, \"#d8576b\"], [0.6666666666666666, \"#ed7953\"], [0.7777777777777778, \"#fb9f3a\"], [0.8888888888888888, \"#fdca26\"], [1.0, \"#f0f921\"]], \"type\": \"heatmapgl\"}], \"histogram\": [{\"marker\": {\"colorbar\": {\"outlinewidth\": 0, \"ticks\": \"\"}}, \"type\": \"histogram\"}], \"histogram2d\": [{\"colorbar\": {\"outlinewidth\": 0, \"ticks\": \"\"}, \"colorscale\": [[0.0, \"#0d0887\"], [0.1111111111111111, \"#46039f\"], [0.2222222222222222, \"#7201a8\"], [0.3333333333333333, \"#9c179e\"], [0.4444444444444444, \"#bd3786\"], [0.5555555555555556, \"#d8576b\"], [0.6666666666666666, \"#ed7953\"], [0.7777777777777778, \"#fb9f3a\"], [0.8888888888888888, \"#fdca26\"], [1.0, \"#f0f921\"]], \"type\": \"histogram2d\"}], \"histogram2dcontour\": [{\"colorbar\": {\"outlinewidth\": 0, \"ticks\": \"\"}, \"colorscale\": [[0.0, \"#0d0887\"], [0.1111111111111111, \"#46039f\"], [0.2222222222222222, \"#7201a8\"], [0.3333333333333333, \"#9c179e\"], [0.4444444444444444, \"#bd3786\"], [0.5555555555555556, \"#d8576b\"], [0.6666666666666666, \"#ed7953\"], [0.7777777777777778, \"#fb9f3a\"], [0.8888888888888888, \"#fdca26\"], [1.0, \"#f0f921\"]], \"type\": \"histogram2dcontour\"}], \"mesh3d\": [{\"colorbar\": {\"outlinewidth\": 0, \"ticks\": \"\"}, \"type\": \"mesh3d\"}], \"parcoords\": [{\"line\": {\"colorbar\": {\"outlinewidth\": 0, \"ticks\": \"\"}}, \"type\": \"parcoords\"}], \"pie\": [{\"automargin\": true, \"type\": \"pie\"}], \"scatter\": [{\"marker\": {\"colorbar\": {\"outlinewidth\": 0, \"ticks\": \"\"}}, \"type\": \"scatter\"}], \"scatter3d\": [{\"line\": {\"colorbar\": {\"outlinewidth\": 0, \"ticks\": \"\"}}, \"marker\": {\"colorbar\": {\"outlinewidth\": 0, \"ticks\": \"\"}}, \"type\": \"scatter3d\"}], \"scattercarpet\": [{\"marker\": {\"colorbar\": {\"outlinewidth\": 0, \"ticks\": \"\"}}, \"type\": \"scattercarpet\"}], \"scattergeo\": [{\"marker\": {\"colorbar\": {\"outlinewidth\": 0, \"ticks\": \"\"}}, \"type\": \"scattergeo\"}], \"scattergl\": [{\"marker\": {\"colorbar\": {\"outlinewidth\": 0, \"ticks\": \"\"}}, \"type\": \"scattergl\"}], \"scattermapbox\": [{\"marker\": {\"colorbar\": {\"outlinewidth\": 0, \"ticks\": \"\"}}, \"type\": \"scattermapbox\"}], \"scatterpolar\": [{\"marker\": {\"colorbar\": {\"outlinewidth\": 0, \"ticks\": \"\"}}, \"type\": \"scatterpolar\"}], \"scatterpolargl\": [{\"marker\": {\"colorbar\": {\"outlinewidth\": 0, \"ticks\": \"\"}}, \"type\": \"scatterpolargl\"}], \"scatterternary\": [{\"marker\": {\"colorbar\": {\"outlinewidth\": 0, \"ticks\": \"\"}}, \"type\": \"scatterternary\"}], \"surface\": [{\"colorbar\": {\"outlinewidth\": 0, \"ticks\": \"\"}, \"colorscale\": [[0.0, \"#0d0887\"], [0.1111111111111111, \"#46039f\"], [0.2222222222222222, \"#7201a8\"], [0.3333333333333333, \"#9c179e\"], [0.4444444444444444, \"#bd3786\"], [0.5555555555555556, \"#d8576b\"], [0.6666666666666666, \"#ed7953\"], [0.7777777777777778, \"#fb9f3a\"], [0.8888888888888888, \"#fdca26\"], [1.0, \"#f0f921\"]], \"type\": \"surface\"}], \"table\": [{\"cells\": {\"fill\": {\"color\": \"#EBF0F8\"}, \"line\": {\"color\": \"white\"}}, \"header\": {\"fill\": {\"color\": \"#C8D4E3\"}, \"line\": {\"color\": \"white\"}}, \"type\": \"table\"}]}, \"layout\": {\"annotationdefaults\": {\"arrowcolor\": \"#2a3f5f\", \"arrowhead\": 0, \"arrowwidth\": 1}, \"coloraxis\": {\"colorbar\": {\"outlinewidth\": 0, \"ticks\": \"\"}}, \"colorscale\": {\"diverging\": [[0, \"#8e0152\"], [0.1, \"#c51b7d\"], [0.2, \"#de77ae\"], [0.3, \"#f1b6da\"], [0.4, \"#fde0ef\"], [0.5, \"#f7f7f7\"], [0.6, \"#e6f5d0\"], [0.7, \"#b8e186\"], [0.8, \"#7fbc41\"], [0.9, \"#4d9221\"], [1, \"#276419\"]], \"sequential\": [[0.0, \"#0d0887\"], [0.1111111111111111, \"#46039f\"], [0.2222222222222222, \"#7201a8\"], [0.3333333333333333, \"#9c179e\"], [0.4444444444444444, \"#bd3786\"], [0.5555555555555556, \"#d8576b\"], [0.6666666666666666, \"#ed7953\"], [0.7777777777777778, \"#fb9f3a\"], [0.8888888888888888, \"#fdca26\"], [1.0, \"#f0f921\"]], \"sequentialminus\": [[0.0, \"#0d0887\"], [0.1111111111111111, \"#46039f\"], [0.2222222222222222, \"#7201a8\"], [0.3333333333333333, \"#9c179e\"], [0.4444444444444444, \"#bd3786\"], [0.5555555555555556, \"#d8576b\"], [0.6666666666666666, \"#ed7953\"], [0.7777777777777778, \"#fb9f3a\"], [0.8888888888888888, \"#fdca26\"], [1.0, \"#f0f921\"]]}, \"colorway\": [\"#636efa\", \"#EF553B\", \"#00cc96\", \"#ab63fa\", \"#FFA15A\", \"#19d3f3\", \"#FF6692\", \"#B6E880\", \"#FF97FF\", \"#FECB52\"], \"font\": {\"color\": \"#2a3f5f\"}, \"geo\": {\"bgcolor\": \"white\", \"lakecolor\": \"white\", \"landcolor\": \"#E5ECF6\", \"showlakes\": true, \"showland\": true, \"subunitcolor\": \"white\"}, \"hoverlabel\": {\"align\": \"left\"}, \"hovermode\": \"closest\", \"mapbox\": {\"style\": \"light\"}, \"paper_bgcolor\": \"white\", \"plot_bgcolor\": \"#E5ECF6\", \"polar\": {\"angularaxis\": {\"gridcolor\": \"white\", \"linecolor\": \"white\", \"ticks\": \"\"}, \"bgcolor\": \"#E5ECF6\", \"radialaxis\": {\"gridcolor\": \"white\", \"linecolor\": \"white\", \"ticks\": \"\"}}, \"scene\": {\"xaxis\": {\"backgroundcolor\": \"#E5ECF6\", \"gridcolor\": \"white\", \"gridwidth\": 2, \"linecolor\": \"white\", \"showbackground\": true, \"ticks\": \"\", \"zerolinecolor\": \"white\"}, \"yaxis\": {\"backgroundcolor\": \"#E5ECF6\", \"gridcolor\": \"white\", \"gridwidth\": 2, \"linecolor\": \"white\", \"showbackground\": true, \"ticks\": \"\", \"zerolinecolor\": \"white\"}, \"zaxis\": {\"backgroundcolor\": \"#E5ECF6\", \"gridcolor\": \"white\", \"gridwidth\": 2, \"linecolor\": \"white\", \"showbackground\": true, \"ticks\": \"\", \"zerolinecolor\": \"white\"}}, \"shapedefaults\": {\"line\": {\"color\": \"#2a3f5f\"}}, \"ternary\": {\"aaxis\": {\"gridcolor\": \"white\", \"linecolor\": \"white\", \"ticks\": \"\"}, \"baxis\": {\"gridcolor\": \"white\", \"linecolor\": \"white\", \"ticks\": \"\"}, \"bgcolor\": \"#E5ECF6\", \"caxis\": {\"gridcolor\": \"white\", \"linecolor\": \"white\", \"ticks\": \"\"}}, \"title\": {\"x\": 0.05}, \"xaxis\": {\"automargin\": true, \"gridcolor\": \"white\", \"linecolor\": \"white\", \"ticks\": \"\", \"title\": {\"standoff\": 15}, \"zerolinecolor\": \"white\", \"zerolinewidth\": 2}, \"yaxis\": {\"automargin\": true, \"gridcolor\": \"white\", \"linecolor\": \"white\", \"ticks\": \"\", \"title\": {\"standoff\": 15}, \"zerolinecolor\": \"white\", \"zerolinewidth\": 2}}}},\n",
       "                        {\"responsive\": true}\n",
       "                    ).then(function(){\n",
       "                            \n",
       "var gd = document.getElementById('bb778257-5e33-41e2-8f6b-358a62acd300');\n",
       "var x = new MutationObserver(function (mutations, observer) {{\n",
       "        var display = window.getComputedStyle(gd).display;\n",
       "        if (!display || display === 'none') {{\n",
       "            console.log([gd, 'removed!']);\n",
       "            Plotly.purge(gd);\n",
       "            observer.disconnect();\n",
       "        }}\n",
       "}});\n",
       "\n",
       "// Listen for the removal of the full notebook cells\n",
       "var notebookContainer = gd.closest('#notebook-container');\n",
       "if (notebookContainer) {{\n",
       "    x.observe(notebookContainer, {childList: true});\n",
       "}}\n",
       "\n",
       "// Listen for the clearing of the current output cell\n",
       "var outputEl = gd.closest('.output');\n",
       "if (outputEl) {{\n",
       "    x.observe(outputEl, {childList: true});\n",
       "}}\n",
       "\n",
       "                        })\n",
       "                };\n",
       "                });\n",
       "            </script>\n",
       "        </div>"
      ]
     },
     "metadata": {},
     "output_type": "display_data"
    }
   ],
   "source": [
    "# color_continuous_scale=px.colors.cyclical.IceFire\n",
    "\n",
    "fig = px.density_mapbox(map_data, lat='lat', lon='lng', \n",
    "                        z='total_turns', \n",
    "                        radius=13,\n",
    "                        color_continuous_scale=px.colors.sequential.YlOrRd,\n",
    "                        center=dict(lat=40.7429, lon=-73.9929), zoom=9.5,\n",
    "                        hover_data=['STATION'],\n",
    "                        mapbox_style=\"stamen-terrain\")\n",
    "\n",
    "fig.update_layout(margin={\"r\":0,\"t\":0,\"l\":0,\"b\":0})\n",
    "# fig.write_image(\"heatmap.pdf\")\n",
    "fig.show()"
   ]
  },
  {
   "cell_type": "code",
   "execution_count": null,
   "metadata": {},
   "outputs": [],
   "source": [
    "# remote_station_df.lat.values[:]"
   ]
  },
  {
   "cell_type": "code",
   "execution_count": null,
   "metadata": {},
   "outputs": [],
   "source": [
    "test2['lat-lng'] = list(zip(round(test2['GTFS Latitude'], 10), round(test2['GTFS Longitude'], 10)))\n",
    "# test2[test2['Stop Name'].str.contains('South')]\n",
    "\n",
    "len(test2['lat-lng'].unique())"
   ]
  },
  {
   "cell_type": "code",
   "execution_count": null,
   "metadata": {},
   "outputs": [],
   "source": [
    "# 123 - 1\n",
    "# ACE - A\n",
    "# BDFM - B\n",
    "# 456 - 4\n",
    "# NQRW - N\n",
    "# JZ - J\n",
    "# S - S\n",
    "# 7 - 7\n",
    "# L - L\n",
    "# G - G\n",
    "# T - T"
   ]
  },
  {
   "cell_type": "code",
   "execution_count": null,
   "metadata": {},
   "outputs": [],
   "source": [
    "lookup_dict = {'1': ['1','2','3'],\n",
    "               'A': ['A', 'C', 'E'],\n",
    "               'B': ['B', 'D', 'F', 'M'],\n",
    "               '4': ['4', '5', '6'], \n",
    "               'N': ['N', 'Q', 'R', 'W'],\n",
    "               'J': ['J', 'Z'],\n",
    "               'S': ['S'],\n",
    "               'L': ['L'],\n",
    "               'G': ['G'],\n",
    "               'T': ['T'],\n",
    "              }"
   ]
  },
  {
   "cell_type": "code",
   "execution_count": null,
   "metadata": {},
   "outputs": [],
   "source": [
    "lookup_dict.keys['A']"
   ]
  },
  {
   "cell_type": "code",
   "execution_count": null,
   "metadata": {},
   "outputs": [],
   "source": [
    "col_val = 'NW'\n",
    "\n",
    "for key, val in lookup_dict.items():\n",
    "    print(key, val)"
   ]
  },
  {
   "cell_type": "code",
   "execution_count": null,
   "metadata": {},
   "outputs": [],
   "source": [
    "import re\n",
    "def combine_datasets(df1):\n",
    "\n",
    "    \"\"\"This function will perform a left merge on the 'STATION' column\n",
    "    from the turnstile.txt and the 'Stop Name' column from the stations.csv.\n",
    "\n",
    "    Parameters:\n",
    "        df1 (pandas.DataFrame): specifically, mta turnstile.txt dataframe\n",
    "\n",
    "    Returns:\n",
    "        merged_df (pandas.DataFrame): a new dataframe of mta turnstile.txt \n",
    "        and stations.csv\n",
    "    \"\"\"\n",
    "    station_df = pd.read_csv('http://web.mta.info/developers/data/nyct/subway/Stations.csv')\n",
    "    # drop duplicates as vinny suggested for stop name column \n",
    "    station_df.drop_duplicates(subset =\"Stop Name\", inplace=True)\n",
    "    # format columns for merge in both datasets\n",
    "    station_df['station_formatted'] = station_df['Stop Name'].map(lambda x: re.sub(r'\\W+', '', x.lower()))\n",
    "    df1['station_formatted'] = df1.STATION.map(lambda x: re.sub(r'\\W+', '', x.lower()))\n",
    "    \n",
    "    # this is for debugging\n",
    "    a = set(df1.station_formatted.sort_values().unique())\n",
    "    b = set(station_df.station_formatted.sort_values().unique())\n",
    "    print('number of non matching station names between datasets', len(a-b))\n",
    "    print('number of matching station names between datasets', len(a&b))\n",
    "    \n",
    "    combined_df = df1.merge(station_df, how='left').drop(columns=['station_formatted'])\n",
    "    print('number of na values in a single new column after left merge',\\\n",
    "          combined_df.Borough.isna().sum())\n",
    "    \n",
    "    return combined_df\n",
    "\n"
   ]
  },
  {
   "cell_type": "code",
   "execution_count": null,
   "metadata": {},
   "outputs": [],
   "source": [
    "compare_df = combine_datasets(df_sorted)\n",
    "compare_df"
   ]
  },
  {
   "cell_type": "code",
   "execution_count": null,
   "metadata": {},
   "outputs": [],
   "source": [
    "# ask question about why the dataset is like half the original when doing an inner merge\n",
    "# but when doing a left merge the na values are only 7000 something... "
   ]
  },
  {
   "cell_type": "code",
   "execution_count": null,
   "metadata": {},
   "outputs": [],
   "source": [
    "# new_df = combine_datasets()\n",
    "# new_df.columns.to_list()"
   ]
  },
  {
   "cell_type": "code",
   "execution_count": null,
   "metadata": {},
   "outputs": [],
   "source": [
    "# type(new_df)"
   ]
  },
  {
   "cell_type": "code",
   "execution_count": null,
   "metadata": {},
   "outputs": [],
   "source": [
    "# ok so we need to get rid of the the outliers here look how far away max/min are from 75%\n",
    "# maybe replace them with the mean/median at that locationor just 0 whatever yall think\n",
    "# # is best\n",
    "# print(df_sorted.entries_diff.describe())\n",
    "# print()\n",
    "# print(df_sorted.exits_diff.describe())"
   ]
  },
  {
   "cell_type": "code",
   "execution_count": null,
   "metadata": {},
   "outputs": [],
   "source": [
    "# df_sorted[df_sorted['STATION'] == '59 ST']['C/A'].unique()"
   ]
  },
  {
   "cell_type": "code",
   "execution_count": null,
   "metadata": {},
   "outputs": [],
   "source": [
    "# test = pd.read_excel('/Users/collinswestnedge/Downloads/Remote-Booth-Station.xls')"
   ]
  },
  {
   "cell_type": "code",
   "execution_count": null,
   "metadata": {},
   "outputs": [],
   "source": [
    "# test.head()"
   ]
  },
  {
   "cell_type": "code",
   "execution_count": null,
   "metadata": {},
   "outputs": [],
   "source": [
    "# test2 = pd.read_csv('http://web.mta.info/developers/data/nyct/subway/Stations.csv')\n",
    "# test2['GTFS Stop ID'].unique()"
   ]
  },
  {
   "cell_type": "code",
   "execution_count": null,
   "metadata": {},
   "outputs": [],
   "source": [
    "# df['UNIT'].unique()"
   ]
  },
  {
   "cell_type": "code",
   "execution_count": null,
   "metadata": {},
   "outputs": [],
   "source": [
    "# df['UNIT'].unique()"
   ]
  },
  {
   "cell_type": "code",
   "execution_count": null,
   "metadata": {},
   "outputs": [],
   "source": [
    "# test2['Daytime Routes'].unique()"
   ]
  },
  {
   "cell_type": "code",
   "execution_count": null,
   "metadata": {},
   "outputs": [],
   "source": [
    "# a = list(df_sorted.STATION.sort_values().unique())\n",
    "# b = list(test2['Stop Name'].sort_values().unique())"
   ]
  },
  {
   "cell_type": "code",
   "execution_count": null,
   "metadata": {},
   "outputs": [],
   "source": [
    "# test2.drop_duplicates(subset =\"Stop Name\", inplace=True)"
   ]
  },
  {
   "cell_type": "code",
   "execution_count": null,
   "metadata": {},
   "outputs": [],
   "source": [
    "# import re\n",
    "# def combine_datasets(df1):\n",
    "    \n",
    "#     station_df = pd.read_csv('http://web.mta.info/developers/data/nyct/subway/Stations.csv')\n",
    "#     # drop duplicates as vinny suggested for stop name column \n",
    "#     station_df.drop_duplicates(subset =\"Stop Name\", inplace=True)\n",
    "#     # format columns for merge in both datasets\n",
    "#     station_df['station_formatted'] = station_df['Stop Name'].map(lambda x: re.sub(r'\\W+', '', x.lower()))\n",
    "#     df1['station_formatted'] = df1.STATION.map(lambda x: re.sub(r'\\W+', '', x.lower()))\n",
    "    \n",
    "#     # this is for debugging\n",
    "#     a = set(df1.station_formatted.sort_values().unique())\n",
    "#     b = set(test2.station_formatted.sort_values().unique())\n",
    "#     print('number of unaccounted for values', a-b)\n",
    "    \n",
    "#     return df1.merge(station_df, how='left')\n",
    "    \n",
    "    \n",
    "    \n",
    "# # get rid of duplicates as vinny pointed out\n",
    "# test2.drop_duplicates(subset =\"Stop Name\", inplace=True)\n",
    "# df_sorted['station_formatted'] = df_sorted.STATION.map(lambda x: re.sub(r'\\W+', '', x.lower()))\n",
    "\n",
    "# a = list(df_sorted['station_formatted'].sort_values().unique())"
   ]
  },
  {
   "cell_type": "code",
   "execution_count": null,
   "metadata": {},
   "outputs": [],
   "source": [
    "# test2['station_formatted'] = test2['Stop Name'].map(lambda x: re.sub(r'\\W+', '', x.lower()))\n",
    "# b = list(test2.station_formatted.sort_values().unique())"
   ]
  },
  {
   "cell_type": "code",
   "execution_count": null,
   "metadata": {},
   "outputs": [],
   "source": [
    "# len(set(a) - set(b))"
   ]
  },
  {
   "cell_type": "code",
   "execution_count": null,
   "metadata": {},
   "outputs": [],
   "source": [
    "# # idk = df_sorted.merge(test2, left_on='station_formatted', right_on='stop_formatted')\n",
    "# idk = df_sorted.merge(test2, how='left')\n",
    "# idk2 = df_sorted.merge(test2, how='outer')"
   ]
  },
  {
   "cell_type": "code",
   "execution_count": null,
   "metadata": {},
   "outputs": [],
   "source": [
    "# test2['Stop Name'].sort_values().unique()\n",
    "\n",
    "# check to see if num of unique vals in station.csv \n",
    "# is equal or close to number of rows for that colummn\n",
    "# get rid of duplicates in stop name try merge see see how that affects dimensions after merge. \n"
   ]
  },
  {
   "cell_type": "code",
   "execution_count": null,
   "metadata": {},
   "outputs": [],
   "source": [
    "# test2['Stop Name'].value_counts().to_list()"
   ]
  },
  {
   "cell_type": "code",
   "execution_count": null,
   "metadata": {},
   "outputs": [],
   "source": [
    "# test2.head()"
   ]
  },
  {
   "cell_type": "code",
   "execution_count": null,
   "metadata": {},
   "outputs": [],
   "source": [
    "# 123 - 1\n",
    "# ACE - A\n",
    "# BDFM - B\n",
    "# 456 - 4\n",
    "# NQRW - N\n",
    "# JZ - J\n",
    "# S - S\n",
    "# 7 - 7\n",
    "# L - L\n",
    "# G - G\n",
    "# T - T"
   ]
  },
  {
   "cell_type": "code",
   "execution_count": 66,
   "metadata": {},
   "outputs": [
    {
     "data": {
      "text/html": [
       "<div>\n",
       "<style scoped>\n",
       "    .dataframe tbody tr th:only-of-type {\n",
       "        vertical-align: middle;\n",
       "    }\n",
       "\n",
       "    .dataframe tbody tr th {\n",
       "        vertical-align: top;\n",
       "    }\n",
       "\n",
       "    .dataframe thead th {\n",
       "        text-align: right;\n",
       "    }\n",
       "</style>\n",
       "<table border=\"1\" class=\"dataframe\">\n",
       "  <thead>\n",
       "    <tr style=\"text-align: right;\">\n",
       "      <th></th>\n",
       "      <th>UNIT</th>\n",
       "      <th>station_name</th>\n",
       "      <th>lat</th>\n",
       "      <th>lng</th>\n",
       "      <th>location_string</th>\n",
       "    </tr>\n",
       "  </thead>\n",
       "  <tbody>\n",
       "    <tr>\n",
       "      <th>0</th>\n",
       "      <td>R001</td>\n",
       "      <td>SOUTH FERRY</td>\n",
       "      <td>40.703082</td>\n",
       "      <td>-74.012983</td>\n",
       "      <td>40.703082,-74.012983</td>\n",
       "    </tr>\n",
       "    <tr>\n",
       "      <th>1</th>\n",
       "      <td>R002</td>\n",
       "      <td>FULTON ST</td>\n",
       "      <td>40.709938</td>\n",
       "      <td>-74.007983</td>\n",
       "      <td>40.709938,-74.007983</td>\n",
       "    </tr>\n",
       "    <tr>\n",
       "      <th>2</th>\n",
       "      <td>R003</td>\n",
       "      <td>CYPRESS HILLS</td>\n",
       "      <td>40.689945</td>\n",
       "      <td>-73.872564</td>\n",
       "      <td>40.689945,-73.872564</td>\n",
       "    </tr>\n",
       "    <tr>\n",
       "      <th>3</th>\n",
       "      <td>R004</td>\n",
       "      <td>ELDERTS LANE</td>\n",
       "      <td>40.691320</td>\n",
       "      <td>-73.867135</td>\n",
       "      <td>40.69132,-73.867135</td>\n",
       "    </tr>\n",
       "    <tr>\n",
       "      <th>4</th>\n",
       "      <td>R005</td>\n",
       "      <td>FOREST PARKWAY</td>\n",
       "      <td>40.692304</td>\n",
       "      <td>-73.860151</td>\n",
       "      <td>40.692304,-73.860151</td>\n",
       "    </tr>\n",
       "    <tr>\n",
       "      <th>...</th>\n",
       "      <td>...</td>\n",
       "      <td>...</td>\n",
       "      <td>...</td>\n",
       "      <td>...</td>\n",
       "      <td>...</td>\n",
       "    </tr>\n",
       "    <tr>\n",
       "      <th>456</th>\n",
       "      <td>R535</td>\n",
       "      <td>JFK HOWARD BCH</td>\n",
       "      <td>40.660476</td>\n",
       "      <td>-73.830301</td>\n",
       "      <td>40.660476,-73.830301</td>\n",
       "    </tr>\n",
       "    <tr>\n",
       "      <th>457</th>\n",
       "      <td>R536</td>\n",
       "      <td>JFK JAMAICA CT1</td>\n",
       "      <td>40.643942</td>\n",
       "      <td>-73.782356</td>\n",
       "      <td>40.643942,-73.782356</td>\n",
       "    </tr>\n",
       "    <tr>\n",
       "      <th>458</th>\n",
       "      <td>R570</td>\n",
       "      <td>72 ST-2 AVE</td>\n",
       "      <td>40.768687</td>\n",
       "      <td>-73.958443</td>\n",
       "      <td>40.7686869,-73.9584429</td>\n",
       "    </tr>\n",
       "    <tr>\n",
       "      <th>459</th>\n",
       "      <td>R571</td>\n",
       "      <td>86 ST-2 AVE</td>\n",
       "      <td>40.768686</td>\n",
       "      <td>-73.958443</td>\n",
       "      <td>40.7686862,-73.9584429</td>\n",
       "    </tr>\n",
       "    <tr>\n",
       "      <th>460</th>\n",
       "      <td>R572</td>\n",
       "      <td>96 ST-2 AVE</td>\n",
       "      <td>40.780703</td>\n",
       "      <td>-73.949410</td>\n",
       "      <td>40.7807028,-73.9494105</td>\n",
       "    </tr>\n",
       "  </tbody>\n",
       "</table>\n",
       "<p>461 rows × 5 columns</p>\n",
       "</div>"
      ],
      "text/plain": [
       "     UNIT     station_name        lat        lng         location_string\n",
       "0    R001      SOUTH FERRY  40.703082 -74.012983    40.703082,-74.012983\n",
       "1    R002        FULTON ST  40.709938 -74.007983    40.709938,-74.007983\n",
       "2    R003    CYPRESS HILLS  40.689945 -73.872564    40.689945,-73.872564\n",
       "3    R004     ELDERTS LANE  40.691320 -73.867135     40.69132,-73.867135\n",
       "4    R005   FOREST PARKWAY  40.692304 -73.860151    40.692304,-73.860151\n",
       "..    ...              ...        ...        ...                     ...\n",
       "456  R535   JFK HOWARD BCH  40.660476 -73.830301    40.660476,-73.830301\n",
       "457  R536  JFK JAMAICA CT1  40.643942 -73.782356    40.643942,-73.782356\n",
       "458  R570      72 ST-2 AVE  40.768687 -73.958443  40.7686869,-73.9584429\n",
       "459  R571      86 ST-2 AVE  40.768686 -73.958443  40.7686862,-73.9584429\n",
       "460  R572      96 ST-2 AVE  40.780703 -73.949410  40.7807028,-73.9494105\n",
       "\n",
       "[461 rows x 5 columns]"
      ]
     },
     "execution_count": 66,
     "metadata": {},
     "output_type": "execute_result"
    }
   ],
   "source": [
    "pd.read_csv('https://raw.githubusercontent.com/dirtylittledirtbike/mta_data/master/location_by_remote_unit.csv')"
   ]
  },
  {
   "cell_type": "code",
   "execution_count": 65,
   "metadata": {},
   "outputs": [
    {
     "data": {
      "text/html": [
       "<div>\n",
       "<style scoped>\n",
       "    .dataframe tbody tr th:only-of-type {\n",
       "        vertical-align: middle;\n",
       "    }\n",
       "\n",
       "    .dataframe tbody tr th {\n",
       "        vertical-align: top;\n",
       "    }\n",
       "\n",
       "    .dataframe thead th {\n",
       "        text-align: right;\n",
       "    }\n",
       "</style>\n",
       "<table border=\"1\" class=\"dataframe\">\n",
       "  <thead>\n",
       "    <tr style=\"text-align: right;\">\n",
       "      <th></th>\n",
       "      <th>UNIT</th>\n",
       "      <th>station_name</th>\n",
       "      <th>lat</th>\n",
       "      <th>lng</th>\n",
       "      <th>location_string</th>\n",
       "    </tr>\n",
       "  </thead>\n",
       "  <tbody>\n",
       "    <tr>\n",
       "      <th>0</th>\n",
       "      <td>R001</td>\n",
       "      <td>SOUTH FERRY</td>\n",
       "      <td>40.703082</td>\n",
       "      <td>-74.012983</td>\n",
       "      <td>40.703082,-74.012983</td>\n",
       "    </tr>\n",
       "    <tr>\n",
       "      <th>1</th>\n",
       "      <td>R002</td>\n",
       "      <td>FULTON ST</td>\n",
       "      <td>40.709938</td>\n",
       "      <td>-74.007983</td>\n",
       "      <td>40.709938,-74.007983</td>\n",
       "    </tr>\n",
       "    <tr>\n",
       "      <th>2</th>\n",
       "      <td>R003</td>\n",
       "      <td>CYPRESS HILLS</td>\n",
       "      <td>40.689945</td>\n",
       "      <td>-73.872564</td>\n",
       "      <td>40.689945,-73.872564</td>\n",
       "    </tr>\n",
       "    <tr>\n",
       "      <th>3</th>\n",
       "      <td>R004</td>\n",
       "      <td>ELDERTS LANE</td>\n",
       "      <td>40.691320</td>\n",
       "      <td>-73.867135</td>\n",
       "      <td>40.69132,-73.867135</td>\n",
       "    </tr>\n",
       "    <tr>\n",
       "      <th>4</th>\n",
       "      <td>R005</td>\n",
       "      <td>FOREST PARKWAY</td>\n",
       "      <td>40.692304</td>\n",
       "      <td>-73.860151</td>\n",
       "      <td>40.692304,-73.860151</td>\n",
       "    </tr>\n",
       "    <tr>\n",
       "      <th>...</th>\n",
       "      <td>...</td>\n",
       "      <td>...</td>\n",
       "      <td>...</td>\n",
       "      <td>...</td>\n",
       "      <td>...</td>\n",
       "    </tr>\n",
       "    <tr>\n",
       "      <th>456</th>\n",
       "      <td>R535</td>\n",
       "      <td>JFK HOWARD BCH</td>\n",
       "      <td>40.660476</td>\n",
       "      <td>-73.830301</td>\n",
       "      <td>40.660476,-73.830301</td>\n",
       "    </tr>\n",
       "    <tr>\n",
       "      <th>457</th>\n",
       "      <td>R536</td>\n",
       "      <td>JFK JAMAICA CT1</td>\n",
       "      <td>40.643942</td>\n",
       "      <td>-73.782356</td>\n",
       "      <td>40.643942,-73.782356</td>\n",
       "    </tr>\n",
       "    <tr>\n",
       "      <th>458</th>\n",
       "      <td>R570</td>\n",
       "      <td>72 ST-2 AVE</td>\n",
       "      <td>40.768687</td>\n",
       "      <td>-73.958443</td>\n",
       "      <td>40.7686869,-73.9584429</td>\n",
       "    </tr>\n",
       "    <tr>\n",
       "      <th>459</th>\n",
       "      <td>R571</td>\n",
       "      <td>86 ST-2 AVE</td>\n",
       "      <td>40.768686</td>\n",
       "      <td>-73.958443</td>\n",
       "      <td>40.7686862,-73.9584429</td>\n",
       "    </tr>\n",
       "    <tr>\n",
       "      <th>460</th>\n",
       "      <td>R572</td>\n",
       "      <td>96 ST-2 AVE</td>\n",
       "      <td>40.780703</td>\n",
       "      <td>-73.949410</td>\n",
       "      <td>40.7807028,-73.9494105</td>\n",
       "    </tr>\n",
       "  </tbody>\n",
       "</table>\n",
       "<p>461 rows × 5 columns</p>\n",
       "</div>"
      ],
      "text/plain": [
       "     UNIT     station_name        lat        lng         location_string\n",
       "0    R001      SOUTH FERRY  40.703082 -74.012983    40.703082,-74.012983\n",
       "1    R002        FULTON ST  40.709938 -74.007983    40.709938,-74.007983\n",
       "2    R003    CYPRESS HILLS  40.689945 -73.872564    40.689945,-73.872564\n",
       "3    R004     ELDERTS LANE  40.691320 -73.867135     40.69132,-73.867135\n",
       "4    R005   FOREST PARKWAY  40.692304 -73.860151    40.692304,-73.860151\n",
       "..    ...              ...        ...        ...                     ...\n",
       "456  R535   JFK HOWARD BCH  40.660476 -73.830301    40.660476,-73.830301\n",
       "457  R536  JFK JAMAICA CT1  40.643942 -73.782356    40.643942,-73.782356\n",
       "458  R570      72 ST-2 AVE  40.768687 -73.958443  40.7686869,-73.9584429\n",
       "459  R571      86 ST-2 AVE  40.768686 -73.958443  40.7686862,-73.9584429\n",
       "460  R572      96 ST-2 AVE  40.780703 -73.949410  40.7807028,-73.9494105\n",
       "\n",
       "[461 rows x 5 columns]"
      ]
     },
     "execution_count": 65,
     "metadata": {},
     "output_type": "execute_result"
    }
   ],
   "source": [
    "pd.read_csv('https://raw.githubusercontent.com/dirtylittledirtbike/mta_data/master/location_by_remote_unit.csv')"
   ]
  },
  {
   "cell_type": "code",
   "execution_count": null,
   "metadata": {},
   "outputs": [],
   "source": [
    "for i in range(1,len(l))"
   ]
  },
  {
   "cell_type": "code",
   "execution_count": 66,
   "metadata": {},
   "outputs": [],
   "source": [
    "def test_prime(val):\n",
    "    for i in range(2, val):\n",
    "        if val % i == 0:\n",
    "            return False\n",
    "        return True\n",
    "    "
   ]
  },
  {
   "cell_type": "code",
   "execution_count": 69,
   "metadata": {},
   "outputs": [
    {
     "data": {
      "text/plain": [
       "True"
      ]
     },
     "execution_count": 69,
     "metadata": {},
     "output_type": "execute_result"
    }
   ],
   "source": [
    "test_prime(11)"
   ]
  },
  {
   "cell_type": "code",
   "execution_count": 79,
   "metadata": {},
   "outputs": [
    {
     "data": {
      "text/plain": [
       "'Tue'"
      ]
     },
     "execution_count": 79,
     "metadata": {},
     "output_type": "execute_result"
    }
   ],
   "source": [
    "weekday_key = {0:'Mon', 1:'Tue', 2:'Wed', 3:'Thu', 4:'Fri', 5:'Sat', 6:'Sun' }\n",
    "\n",
    "weekday_key[1]"
   ]
  },
  {
   "cell_type": "code",
   "execution_count": 82,
   "metadata": {},
   "outputs": [
    {
     "data": {
      "text/html": [
       "<div>\n",
       "<style scoped>\n",
       "    .dataframe tbody tr th:only-of-type {\n",
       "        vertical-align: middle;\n",
       "    }\n",
       "\n",
       "    .dataframe tbody tr th {\n",
       "        vertical-align: top;\n",
       "    }\n",
       "\n",
       "    .dataframe thead th {\n",
       "        text-align: right;\n",
       "    }\n",
       "</style>\n",
       "<table border=\"1\" class=\"dataframe\">\n",
       "  <thead>\n",
       "    <tr style=\"text-align: right;\">\n",
       "      <th></th>\n",
       "      <th>C/A</th>\n",
       "      <th>UNIT</th>\n",
       "      <th>SCP</th>\n",
       "      <th>STATION</th>\n",
       "      <th>LINENAME</th>\n",
       "      <th>DIVISION</th>\n",
       "      <th>DATE</th>\n",
       "      <th>TIME</th>\n",
       "      <th>DESC</th>\n",
       "      <th>ENTRIES</th>\n",
       "      <th>EXITS</th>\n",
       "      <th>converted_time</th>\n",
       "      <th>turnstiles</th>\n",
       "      <th>entries_diff</th>\n",
       "      <th>exits_diff</th>\n",
       "      <th>Day</th>\n",
       "    </tr>\n",
       "  </thead>\n",
       "  <tbody>\n",
       "    <tr>\n",
       "      <th>0</th>\n",
       "      <td>A002</td>\n",
       "      <td>R051</td>\n",
       "      <td>02-00-00</td>\n",
       "      <td>59 ST</td>\n",
       "      <td>NQR456W</td>\n",
       "      <td>BMT</td>\n",
       "      <td>07/27/2019</td>\n",
       "      <td>00:00:00</td>\n",
       "      <td>REGULAR</td>\n",
       "      <td>7148288</td>\n",
       "      <td>2418935</td>\n",
       "      <td>2019-07-27 00:00:00</td>\n",
       "      <td>A002-R051-02-00-00-59 ST</td>\n",
       "      <td>NaN</td>\n",
       "      <td>NaN</td>\n",
       "      <td>Sat</td>\n",
       "    </tr>\n",
       "    <tr>\n",
       "      <th>1</th>\n",
       "      <td>A002</td>\n",
       "      <td>R051</td>\n",
       "      <td>02-00-00</td>\n",
       "      <td>59 ST</td>\n",
       "      <td>NQR456W</td>\n",
       "      <td>BMT</td>\n",
       "      <td>07/27/2019</td>\n",
       "      <td>04:00:00</td>\n",
       "      <td>REGULAR</td>\n",
       "      <td>7148306</td>\n",
       "      <td>2418939</td>\n",
       "      <td>2019-07-27 04:00:00</td>\n",
       "      <td>A002-R051-02-00-00-59 ST</td>\n",
       "      <td>18.0</td>\n",
       "      <td>4.0</td>\n",
       "      <td>Sat</td>\n",
       "    </tr>\n",
       "    <tr>\n",
       "      <th>2</th>\n",
       "      <td>A002</td>\n",
       "      <td>R051</td>\n",
       "      <td>02-00-00</td>\n",
       "      <td>59 ST</td>\n",
       "      <td>NQR456W</td>\n",
       "      <td>BMT</td>\n",
       "      <td>07/27/2019</td>\n",
       "      <td>08:00:00</td>\n",
       "      <td>REGULAR</td>\n",
       "      <td>7148326</td>\n",
       "      <td>2418975</td>\n",
       "      <td>2019-07-27 08:00:00</td>\n",
       "      <td>A002-R051-02-00-00-59 ST</td>\n",
       "      <td>20.0</td>\n",
       "      <td>36.0</td>\n",
       "      <td>Sat</td>\n",
       "    </tr>\n",
       "    <tr>\n",
       "      <th>3</th>\n",
       "      <td>A002</td>\n",
       "      <td>R051</td>\n",
       "      <td>02-00-00</td>\n",
       "      <td>59 ST</td>\n",
       "      <td>NQR456W</td>\n",
       "      <td>BMT</td>\n",
       "      <td>07/27/2019</td>\n",
       "      <td>12:00:00</td>\n",
       "      <td>REGULAR</td>\n",
       "      <td>7148441</td>\n",
       "      <td>2419042</td>\n",
       "      <td>2019-07-27 12:00:00</td>\n",
       "      <td>A002-R051-02-00-00-59 ST</td>\n",
       "      <td>115.0</td>\n",
       "      <td>67.0</td>\n",
       "      <td>Sat</td>\n",
       "    </tr>\n",
       "    <tr>\n",
       "      <th>4</th>\n",
       "      <td>A002</td>\n",
       "      <td>R051</td>\n",
       "      <td>02-00-00</td>\n",
       "      <td>59 ST</td>\n",
       "      <td>NQR456W</td>\n",
       "      <td>BMT</td>\n",
       "      <td>07/27/2019</td>\n",
       "      <td>16:00:00</td>\n",
       "      <td>REGULAR</td>\n",
       "      <td>7148647</td>\n",
       "      <td>2419101</td>\n",
       "      <td>2019-07-27 16:00:00</td>\n",
       "      <td>A002-R051-02-00-00-59 ST</td>\n",
       "      <td>206.0</td>\n",
       "      <td>59.0</td>\n",
       "      <td>Sat</td>\n",
       "    </tr>\n",
       "    <tr>\n",
       "      <th>...</th>\n",
       "      <td>...</td>\n",
       "      <td>...</td>\n",
       "      <td>...</td>\n",
       "      <td>...</td>\n",
       "      <td>...</td>\n",
       "      <td>...</td>\n",
       "      <td>...</td>\n",
       "      <td>...</td>\n",
       "      <td>...</td>\n",
       "      <td>...</td>\n",
       "      <td>...</td>\n",
       "      <td>...</td>\n",
       "      <td>...</td>\n",
       "      <td>...</td>\n",
       "      <td>...</td>\n",
       "      <td>...</td>\n",
       "    </tr>\n",
       "    <tr>\n",
       "      <th>206991</th>\n",
       "      <td>TRAM2</td>\n",
       "      <td>R469</td>\n",
       "      <td>00-05-01</td>\n",
       "      <td>RIT-ROOSEVELT</td>\n",
       "      <td>R</td>\n",
       "      <td>RIT</td>\n",
       "      <td>08/02/2019</td>\n",
       "      <td>05:00:00</td>\n",
       "      <td>REGULAR</td>\n",
       "      <td>5554</td>\n",
       "      <td>386</td>\n",
       "      <td>2019-08-02 05:00:00</td>\n",
       "      <td>TRAM2-R469-00-05-01-RIT-ROOSEVELT</td>\n",
       "      <td>0.0</td>\n",
       "      <td>0.0</td>\n",
       "      <td>Fri</td>\n",
       "    </tr>\n",
       "    <tr>\n",
       "      <th>206992</th>\n",
       "      <td>TRAM2</td>\n",
       "      <td>R469</td>\n",
       "      <td>00-05-01</td>\n",
       "      <td>RIT-ROOSEVELT</td>\n",
       "      <td>R</td>\n",
       "      <td>RIT</td>\n",
       "      <td>08/02/2019</td>\n",
       "      <td>09:00:00</td>\n",
       "      <td>REGULAR</td>\n",
       "      <td>5554</td>\n",
       "      <td>386</td>\n",
       "      <td>2019-08-02 09:00:00</td>\n",
       "      <td>TRAM2-R469-00-05-01-RIT-ROOSEVELT</td>\n",
       "      <td>0.0</td>\n",
       "      <td>0.0</td>\n",
       "      <td>Fri</td>\n",
       "    </tr>\n",
       "    <tr>\n",
       "      <th>206993</th>\n",
       "      <td>TRAM2</td>\n",
       "      <td>R469</td>\n",
       "      <td>00-05-01</td>\n",
       "      <td>RIT-ROOSEVELT</td>\n",
       "      <td>R</td>\n",
       "      <td>RIT</td>\n",
       "      <td>08/02/2019</td>\n",
       "      <td>13:00:00</td>\n",
       "      <td>REGULAR</td>\n",
       "      <td>5554</td>\n",
       "      <td>386</td>\n",
       "      <td>2019-08-02 13:00:00</td>\n",
       "      <td>TRAM2-R469-00-05-01-RIT-ROOSEVELT</td>\n",
       "      <td>0.0</td>\n",
       "      <td>0.0</td>\n",
       "      <td>Fri</td>\n",
       "    </tr>\n",
       "    <tr>\n",
       "      <th>206994</th>\n",
       "      <td>TRAM2</td>\n",
       "      <td>R469</td>\n",
       "      <td>00-05-01</td>\n",
       "      <td>RIT-ROOSEVELT</td>\n",
       "      <td>R</td>\n",
       "      <td>RIT</td>\n",
       "      <td>08/02/2019</td>\n",
       "      <td>17:00:00</td>\n",
       "      <td>REGULAR</td>\n",
       "      <td>5554</td>\n",
       "      <td>386</td>\n",
       "      <td>2019-08-02 17:00:00</td>\n",
       "      <td>TRAM2-R469-00-05-01-RIT-ROOSEVELT</td>\n",
       "      <td>0.0</td>\n",
       "      <td>0.0</td>\n",
       "      <td>Fri</td>\n",
       "    </tr>\n",
       "    <tr>\n",
       "      <th>206995</th>\n",
       "      <td>TRAM2</td>\n",
       "      <td>R469</td>\n",
       "      <td>00-05-01</td>\n",
       "      <td>RIT-ROOSEVELT</td>\n",
       "      <td>R</td>\n",
       "      <td>RIT</td>\n",
       "      <td>08/02/2019</td>\n",
       "      <td>21:00:00</td>\n",
       "      <td>REGULAR</td>\n",
       "      <td>5554</td>\n",
       "      <td>386</td>\n",
       "      <td>2019-08-02 21:00:00</td>\n",
       "      <td>TRAM2-R469-00-05-01-RIT-ROOSEVELT</td>\n",
       "      <td>0.0</td>\n",
       "      <td>0.0</td>\n",
       "      <td>Fri</td>\n",
       "    </tr>\n",
       "  </tbody>\n",
       "</table>\n",
       "<p>206996 rows × 16 columns</p>\n",
       "</div>"
      ],
      "text/plain": [
       "          C/A  UNIT       SCP        STATION LINENAME DIVISION        DATE  \\\n",
       "0        A002  R051  02-00-00          59 ST  NQR456W      BMT  07/27/2019   \n",
       "1        A002  R051  02-00-00          59 ST  NQR456W      BMT  07/27/2019   \n",
       "2        A002  R051  02-00-00          59 ST  NQR456W      BMT  07/27/2019   \n",
       "3        A002  R051  02-00-00          59 ST  NQR456W      BMT  07/27/2019   \n",
       "4        A002  R051  02-00-00          59 ST  NQR456W      BMT  07/27/2019   \n",
       "...       ...   ...       ...            ...      ...      ...         ...   \n",
       "206991  TRAM2  R469  00-05-01  RIT-ROOSEVELT        R      RIT  08/02/2019   \n",
       "206992  TRAM2  R469  00-05-01  RIT-ROOSEVELT        R      RIT  08/02/2019   \n",
       "206993  TRAM2  R469  00-05-01  RIT-ROOSEVELT        R      RIT  08/02/2019   \n",
       "206994  TRAM2  R469  00-05-01  RIT-ROOSEVELT        R      RIT  08/02/2019   \n",
       "206995  TRAM2  R469  00-05-01  RIT-ROOSEVELT        R      RIT  08/02/2019   \n",
       "\n",
       "            TIME     DESC  ENTRIES    EXITS      converted_time  \\\n",
       "0       00:00:00  REGULAR  7148288  2418935 2019-07-27 00:00:00   \n",
       "1       04:00:00  REGULAR  7148306  2418939 2019-07-27 04:00:00   \n",
       "2       08:00:00  REGULAR  7148326  2418975 2019-07-27 08:00:00   \n",
       "3       12:00:00  REGULAR  7148441  2419042 2019-07-27 12:00:00   \n",
       "4       16:00:00  REGULAR  7148647  2419101 2019-07-27 16:00:00   \n",
       "...          ...      ...      ...      ...                 ...   \n",
       "206991  05:00:00  REGULAR     5554      386 2019-08-02 05:00:00   \n",
       "206992  09:00:00  REGULAR     5554      386 2019-08-02 09:00:00   \n",
       "206993  13:00:00  REGULAR     5554      386 2019-08-02 13:00:00   \n",
       "206994  17:00:00  REGULAR     5554      386 2019-08-02 17:00:00   \n",
       "206995  21:00:00  REGULAR     5554      386 2019-08-02 21:00:00   \n",
       "\n",
       "                               turnstiles  entries_diff  exits_diff  Day  \n",
       "0                A002-R051-02-00-00-59 ST           NaN         NaN  Sat  \n",
       "1                A002-R051-02-00-00-59 ST          18.0         4.0  Sat  \n",
       "2                A002-R051-02-00-00-59 ST          20.0        36.0  Sat  \n",
       "3                A002-R051-02-00-00-59 ST         115.0        67.0  Sat  \n",
       "4                A002-R051-02-00-00-59 ST         206.0        59.0  Sat  \n",
       "...                                   ...           ...         ...  ...  \n",
       "206991  TRAM2-R469-00-05-01-RIT-ROOSEVELT           0.0         0.0  Fri  \n",
       "206992  TRAM2-R469-00-05-01-RIT-ROOSEVELT           0.0         0.0  Fri  \n",
       "206993  TRAM2-R469-00-05-01-RIT-ROOSEVELT           0.0         0.0  Fri  \n",
       "206994  TRAM2-R469-00-05-01-RIT-ROOSEVELT           0.0         0.0  Fri  \n",
       "206995  TRAM2-R469-00-05-01-RIT-ROOSEVELT           0.0         0.0  Fri  \n",
       "\n",
       "[206996 rows x 16 columns]"
      ]
     },
     "execution_count": 82,
     "metadata": {},
     "output_type": "execute_result"
    }
   ],
   "source": [
    "def get_date(x):\n",
    "    weekday_key = {0:'Mon', 1:'Tue', 2:'Wed', 3:'Thu', 4:'Fri', 5:'Sat', 6:'Sun' }\n",
    "    return weekday_key[x]\n",
    "    \n",
    "df_sorted['Day'] = df_sorted.converted_time.dt.dayofweek.apply(get_date)\n",
    "df_sorted"
   ]
  },
  {
   "cell_type": "code",
   "execution_count": null,
   "metadata": {},
   "outputs": [],
   "source": [
    "def get_weekday(x):\n",
    "    weekday_key = {0:'Mon', 1:'Tue', 2:'Wed', 3:'Thu', 4:'Fri', 5:'Sat', 6:'Sun' }\n",
    "    return weekday_key[x]\n",
    "df_sorted['Day'] = df_sorted.converted_time.dt.dayofweek.apply(get_weekday)"
   ]
  },
  {
   "cell_type": "code",
   "execution_count": 86,
   "metadata": {},
   "outputs": [
    {
     "ename": "HTTPError",
     "evalue": "HTTP Error 404: Not Found",
     "output_type": "error",
     "traceback": [
      "\u001b[0;31m---------------------------------------------------------------------------\u001b[0m",
      "\u001b[0;31mHTTPError\u001b[0m                                 Traceback (most recent call last)",
      "\u001b[0;32m<ipython-input-86-8ba8c5365730>\u001b[0m in \u001b[0;36m<module>\u001b[0;34m\u001b[0m\n\u001b[1;32m      9\u001b[0m     \u001b[0;32mreturn\u001b[0m \u001b[0mpd\u001b[0m\u001b[0;34m.\u001b[0m\u001b[0mconcat\u001b[0m\u001b[0;34m(\u001b[0m\u001b[0mdfs\u001b[0m\u001b[0;34m)\u001b[0m\u001b[0;34m\u001b[0m\u001b[0;34m\u001b[0m\u001b[0m\n\u001b[1;32m     10\u001b[0m \u001b[0;34m\u001b[0m\u001b[0m\n\u001b[0;32m---> 11\u001b[0;31m \u001b[0ma\u001b[0m \u001b[0;34m=\u001b[0m \u001b[0mget_urls\u001b[0m\u001b[0;34m(\u001b[0m\u001b[0myears\u001b[0m\u001b[0;34m)\u001b[0m\u001b[0;34m\u001b[0m\u001b[0;34m\u001b[0m\u001b[0m\n\u001b[0m\u001b[1;32m     12\u001b[0m \u001b[0ma\u001b[0m\u001b[0;34m\u001b[0m\u001b[0;34m\u001b[0m\u001b[0m\n",
      "\u001b[0;32m<ipython-input-86-8ba8c5365730>\u001b[0m in \u001b[0;36mget_urls\u001b[0;34m(url_list)\u001b[0m\n\u001b[1;32m      5\u001b[0m     \u001b[0;32mfor\u001b[0m \u001b[0mchar\u001b[0m \u001b[0;32min\u001b[0m \u001b[0murl_list\u001b[0m\u001b[0;34m:\u001b[0m\u001b[0;34m\u001b[0m\u001b[0;34m\u001b[0m\u001b[0m\n\u001b[1;32m      6\u001b[0m         \u001b[0murl\u001b[0m \u001b[0;34m=\u001b[0m \u001b[0;34m'http://web.mta.info/developers/data/nyct/turnstile/turnstile_{}.txt'\u001b[0m\u001b[0;34m.\u001b[0m\u001b[0mformat\u001b[0m\u001b[0;34m(\u001b[0m\u001b[0mchar\u001b[0m\u001b[0;34m)\u001b[0m\u001b[0;34m\u001b[0m\u001b[0;34m\u001b[0m\u001b[0m\n\u001b[0;32m----> 7\u001b[0;31m         \u001b[0mdfs\u001b[0m\u001b[0;34m.\u001b[0m\u001b[0mappend\u001b[0m\u001b[0;34m(\u001b[0m\u001b[0mpd\u001b[0m\u001b[0;34m.\u001b[0m\u001b[0mread_csv\u001b[0m\u001b[0;34m(\u001b[0m\u001b[0murl\u001b[0m\u001b[0;34m)\u001b[0m\u001b[0;34m)\u001b[0m\u001b[0;34m\u001b[0m\u001b[0;34m\u001b[0m\u001b[0m\n\u001b[0m\u001b[1;32m      8\u001b[0m \u001b[0;34m\u001b[0m\u001b[0m\n\u001b[1;32m      9\u001b[0m     \u001b[0;32mreturn\u001b[0m \u001b[0mpd\u001b[0m\u001b[0;34m.\u001b[0m\u001b[0mconcat\u001b[0m\u001b[0;34m(\u001b[0m\u001b[0mdfs\u001b[0m\u001b[0;34m)\u001b[0m\u001b[0;34m\u001b[0m\u001b[0;34m\u001b[0m\u001b[0m\n",
      "\u001b[0;32m~/opt/anaconda3/lib/python3.7/site-packages/pandas/io/parsers.py\u001b[0m in \u001b[0;36mread_csv\u001b[0;34m(filepath_or_buffer, sep, delimiter, header, names, index_col, usecols, squeeze, prefix, mangle_dupe_cols, dtype, engine, converters, true_values, false_values, skipinitialspace, skiprows, skipfooter, nrows, na_values, keep_default_na, na_filter, verbose, skip_blank_lines, parse_dates, infer_datetime_format, keep_date_col, date_parser, dayfirst, cache_dates, iterator, chunksize, compression, thousands, decimal, lineterminator, quotechar, quoting, doublequote, escapechar, comment, encoding, dialect, error_bad_lines, warn_bad_lines, delim_whitespace, low_memory, memory_map, float_precision)\u001b[0m\n\u001b[1;32m    684\u001b[0m     )\n\u001b[1;32m    685\u001b[0m \u001b[0;34m\u001b[0m\u001b[0m\n\u001b[0;32m--> 686\u001b[0;31m     \u001b[0;32mreturn\u001b[0m \u001b[0m_read\u001b[0m\u001b[0;34m(\u001b[0m\u001b[0mfilepath_or_buffer\u001b[0m\u001b[0;34m,\u001b[0m \u001b[0mkwds\u001b[0m\u001b[0;34m)\u001b[0m\u001b[0;34m\u001b[0m\u001b[0;34m\u001b[0m\u001b[0m\n\u001b[0m\u001b[1;32m    687\u001b[0m \u001b[0;34m\u001b[0m\u001b[0m\n\u001b[1;32m    688\u001b[0m \u001b[0;34m\u001b[0m\u001b[0m\n",
      "\u001b[0;32m~/opt/anaconda3/lib/python3.7/site-packages/pandas/io/parsers.py\u001b[0m in \u001b[0;36m_read\u001b[0;34m(filepath_or_buffer, kwds)\u001b[0m\n\u001b[1;32m    433\u001b[0m     \u001b[0;31m# See https://github.com/python/mypy/issues/1297\u001b[0m\u001b[0;34m\u001b[0m\u001b[0;34m\u001b[0m\u001b[0;34m\u001b[0m\u001b[0m\n\u001b[1;32m    434\u001b[0m     fp_or_buf, _, compression, should_close = get_filepath_or_buffer(\n\u001b[0;32m--> 435\u001b[0;31m         \u001b[0mfilepath_or_buffer\u001b[0m\u001b[0;34m,\u001b[0m \u001b[0mencoding\u001b[0m\u001b[0;34m,\u001b[0m \u001b[0mcompression\u001b[0m\u001b[0;34m\u001b[0m\u001b[0;34m\u001b[0m\u001b[0m\n\u001b[0m\u001b[1;32m    436\u001b[0m     )\n\u001b[1;32m    437\u001b[0m     \u001b[0mkwds\u001b[0m\u001b[0;34m[\u001b[0m\u001b[0;34m\"compression\"\u001b[0m\u001b[0;34m]\u001b[0m \u001b[0;34m=\u001b[0m \u001b[0mcompression\u001b[0m\u001b[0;34m\u001b[0m\u001b[0;34m\u001b[0m\u001b[0m\n",
      "\u001b[0;32m~/opt/anaconda3/lib/python3.7/site-packages/pandas/io/common.py\u001b[0m in \u001b[0;36mget_filepath_or_buffer\u001b[0;34m(filepath_or_buffer, encoding, compression, mode, storage_options)\u001b[0m\n\u001b[1;32m    181\u001b[0m     \u001b[0;32mif\u001b[0m \u001b[0misinstance\u001b[0m\u001b[0;34m(\u001b[0m\u001b[0mfilepath_or_buffer\u001b[0m\u001b[0;34m,\u001b[0m \u001b[0mstr\u001b[0m\u001b[0;34m)\u001b[0m \u001b[0;32mand\u001b[0m \u001b[0mis_url\u001b[0m\u001b[0;34m(\u001b[0m\u001b[0mfilepath_or_buffer\u001b[0m\u001b[0;34m)\u001b[0m\u001b[0;34m:\u001b[0m\u001b[0;34m\u001b[0m\u001b[0;34m\u001b[0m\u001b[0m\n\u001b[1;32m    182\u001b[0m         \u001b[0;31m# TODO: fsspec can also handle HTTP via requests, but leaving this unchanged\u001b[0m\u001b[0;34m\u001b[0m\u001b[0;34m\u001b[0m\u001b[0;34m\u001b[0m\u001b[0m\n\u001b[0;32m--> 183\u001b[0;31m         \u001b[0mreq\u001b[0m \u001b[0;34m=\u001b[0m \u001b[0murlopen\u001b[0m\u001b[0;34m(\u001b[0m\u001b[0mfilepath_or_buffer\u001b[0m\u001b[0;34m)\u001b[0m\u001b[0;34m\u001b[0m\u001b[0;34m\u001b[0m\u001b[0m\n\u001b[0m\u001b[1;32m    184\u001b[0m         \u001b[0mcontent_encoding\u001b[0m \u001b[0;34m=\u001b[0m \u001b[0mreq\u001b[0m\u001b[0;34m.\u001b[0m\u001b[0mheaders\u001b[0m\u001b[0;34m.\u001b[0m\u001b[0mget\u001b[0m\u001b[0;34m(\u001b[0m\u001b[0;34m\"Content-Encoding\"\u001b[0m\u001b[0;34m,\u001b[0m \u001b[0;32mNone\u001b[0m\u001b[0;34m)\u001b[0m\u001b[0;34m\u001b[0m\u001b[0;34m\u001b[0m\u001b[0m\n\u001b[1;32m    185\u001b[0m         \u001b[0;32mif\u001b[0m \u001b[0mcontent_encoding\u001b[0m \u001b[0;34m==\u001b[0m \u001b[0;34m\"gzip\"\u001b[0m\u001b[0;34m:\u001b[0m\u001b[0;34m\u001b[0m\u001b[0;34m\u001b[0m\u001b[0m\n",
      "\u001b[0;32m~/opt/anaconda3/lib/python3.7/site-packages/pandas/io/common.py\u001b[0m in \u001b[0;36murlopen\u001b[0;34m(*args, **kwargs)\u001b[0m\n\u001b[1;32m    135\u001b[0m     \u001b[0;32mimport\u001b[0m \u001b[0murllib\u001b[0m\u001b[0;34m.\u001b[0m\u001b[0mrequest\u001b[0m\u001b[0;34m\u001b[0m\u001b[0;34m\u001b[0m\u001b[0m\n\u001b[1;32m    136\u001b[0m \u001b[0;34m\u001b[0m\u001b[0m\n\u001b[0;32m--> 137\u001b[0;31m     \u001b[0;32mreturn\u001b[0m \u001b[0murllib\u001b[0m\u001b[0;34m.\u001b[0m\u001b[0mrequest\u001b[0m\u001b[0;34m.\u001b[0m\u001b[0murlopen\u001b[0m\u001b[0;34m(\u001b[0m\u001b[0;34m*\u001b[0m\u001b[0margs\u001b[0m\u001b[0;34m,\u001b[0m \u001b[0;34m**\u001b[0m\u001b[0mkwargs\u001b[0m\u001b[0;34m)\u001b[0m\u001b[0;34m\u001b[0m\u001b[0;34m\u001b[0m\u001b[0m\n\u001b[0m\u001b[1;32m    138\u001b[0m \u001b[0;34m\u001b[0m\u001b[0m\n\u001b[1;32m    139\u001b[0m \u001b[0;34m\u001b[0m\u001b[0m\n",
      "\u001b[0;32m~/opt/anaconda3/lib/python3.7/urllib/request.py\u001b[0m in \u001b[0;36murlopen\u001b[0;34m(url, data, timeout, cafile, capath, cadefault, context)\u001b[0m\n\u001b[1;32m    220\u001b[0m     \u001b[0;32melse\u001b[0m\u001b[0;34m:\u001b[0m\u001b[0;34m\u001b[0m\u001b[0;34m\u001b[0m\u001b[0m\n\u001b[1;32m    221\u001b[0m         \u001b[0mopener\u001b[0m \u001b[0;34m=\u001b[0m \u001b[0m_opener\u001b[0m\u001b[0;34m\u001b[0m\u001b[0;34m\u001b[0m\u001b[0m\n\u001b[0;32m--> 222\u001b[0;31m     \u001b[0;32mreturn\u001b[0m \u001b[0mopener\u001b[0m\u001b[0;34m.\u001b[0m\u001b[0mopen\u001b[0m\u001b[0;34m(\u001b[0m\u001b[0murl\u001b[0m\u001b[0;34m,\u001b[0m \u001b[0mdata\u001b[0m\u001b[0;34m,\u001b[0m \u001b[0mtimeout\u001b[0m\u001b[0;34m)\u001b[0m\u001b[0;34m\u001b[0m\u001b[0;34m\u001b[0m\u001b[0m\n\u001b[0m\u001b[1;32m    223\u001b[0m \u001b[0;34m\u001b[0m\u001b[0m\n\u001b[1;32m    224\u001b[0m \u001b[0;32mdef\u001b[0m \u001b[0minstall_opener\u001b[0m\u001b[0;34m(\u001b[0m\u001b[0mopener\u001b[0m\u001b[0;34m)\u001b[0m\u001b[0;34m:\u001b[0m\u001b[0;34m\u001b[0m\u001b[0;34m\u001b[0m\u001b[0m\n",
      "\u001b[0;32m~/opt/anaconda3/lib/python3.7/urllib/request.py\u001b[0m in \u001b[0;36mopen\u001b[0;34m(self, fullurl, data, timeout)\u001b[0m\n\u001b[1;32m    529\u001b[0m         \u001b[0;32mfor\u001b[0m \u001b[0mprocessor\u001b[0m \u001b[0;32min\u001b[0m \u001b[0mself\u001b[0m\u001b[0;34m.\u001b[0m\u001b[0mprocess_response\u001b[0m\u001b[0;34m.\u001b[0m\u001b[0mget\u001b[0m\u001b[0;34m(\u001b[0m\u001b[0mprotocol\u001b[0m\u001b[0;34m,\u001b[0m \u001b[0;34m[\u001b[0m\u001b[0;34m]\u001b[0m\u001b[0;34m)\u001b[0m\u001b[0;34m:\u001b[0m\u001b[0;34m\u001b[0m\u001b[0;34m\u001b[0m\u001b[0m\n\u001b[1;32m    530\u001b[0m             \u001b[0mmeth\u001b[0m \u001b[0;34m=\u001b[0m \u001b[0mgetattr\u001b[0m\u001b[0;34m(\u001b[0m\u001b[0mprocessor\u001b[0m\u001b[0;34m,\u001b[0m \u001b[0mmeth_name\u001b[0m\u001b[0;34m)\u001b[0m\u001b[0;34m\u001b[0m\u001b[0;34m\u001b[0m\u001b[0m\n\u001b[0;32m--> 531\u001b[0;31m             \u001b[0mresponse\u001b[0m \u001b[0;34m=\u001b[0m \u001b[0mmeth\u001b[0m\u001b[0;34m(\u001b[0m\u001b[0mreq\u001b[0m\u001b[0;34m,\u001b[0m \u001b[0mresponse\u001b[0m\u001b[0;34m)\u001b[0m\u001b[0;34m\u001b[0m\u001b[0;34m\u001b[0m\u001b[0m\n\u001b[0m\u001b[1;32m    532\u001b[0m \u001b[0;34m\u001b[0m\u001b[0m\n\u001b[1;32m    533\u001b[0m         \u001b[0;32mreturn\u001b[0m \u001b[0mresponse\u001b[0m\u001b[0;34m\u001b[0m\u001b[0;34m\u001b[0m\u001b[0m\n",
      "\u001b[0;32m~/opt/anaconda3/lib/python3.7/urllib/request.py\u001b[0m in \u001b[0;36mhttp_response\u001b[0;34m(self, request, response)\u001b[0m\n\u001b[1;32m    639\u001b[0m         \u001b[0;32mif\u001b[0m \u001b[0;32mnot\u001b[0m \u001b[0;34m(\u001b[0m\u001b[0;36m200\u001b[0m \u001b[0;34m<=\u001b[0m \u001b[0mcode\u001b[0m \u001b[0;34m<\u001b[0m \u001b[0;36m300\u001b[0m\u001b[0;34m)\u001b[0m\u001b[0;34m:\u001b[0m\u001b[0;34m\u001b[0m\u001b[0;34m\u001b[0m\u001b[0m\n\u001b[1;32m    640\u001b[0m             response = self.parent.error(\n\u001b[0;32m--> 641\u001b[0;31m                 'http', request, response, code, msg, hdrs)\n\u001b[0m\u001b[1;32m    642\u001b[0m \u001b[0;34m\u001b[0m\u001b[0m\n\u001b[1;32m    643\u001b[0m         \u001b[0;32mreturn\u001b[0m \u001b[0mresponse\u001b[0m\u001b[0;34m\u001b[0m\u001b[0;34m\u001b[0m\u001b[0m\n",
      "\u001b[0;32m~/opt/anaconda3/lib/python3.7/urllib/request.py\u001b[0m in \u001b[0;36merror\u001b[0;34m(self, proto, *args)\u001b[0m\n\u001b[1;32m    567\u001b[0m         \u001b[0;32mif\u001b[0m \u001b[0mhttp_err\u001b[0m\u001b[0;34m:\u001b[0m\u001b[0;34m\u001b[0m\u001b[0;34m\u001b[0m\u001b[0m\n\u001b[1;32m    568\u001b[0m             \u001b[0margs\u001b[0m \u001b[0;34m=\u001b[0m \u001b[0;34m(\u001b[0m\u001b[0mdict\u001b[0m\u001b[0;34m,\u001b[0m \u001b[0;34m'default'\u001b[0m\u001b[0;34m,\u001b[0m \u001b[0;34m'http_error_default'\u001b[0m\u001b[0;34m)\u001b[0m \u001b[0;34m+\u001b[0m \u001b[0morig_args\u001b[0m\u001b[0;34m\u001b[0m\u001b[0;34m\u001b[0m\u001b[0m\n\u001b[0;32m--> 569\u001b[0;31m             \u001b[0;32mreturn\u001b[0m \u001b[0mself\u001b[0m\u001b[0;34m.\u001b[0m\u001b[0m_call_chain\u001b[0m\u001b[0;34m(\u001b[0m\u001b[0;34m*\u001b[0m\u001b[0margs\u001b[0m\u001b[0;34m)\u001b[0m\u001b[0;34m\u001b[0m\u001b[0;34m\u001b[0m\u001b[0m\n\u001b[0m\u001b[1;32m    570\u001b[0m \u001b[0;34m\u001b[0m\u001b[0m\n\u001b[1;32m    571\u001b[0m \u001b[0;31m# XXX probably also want an abstract factory that knows when it makes\u001b[0m\u001b[0;34m\u001b[0m\u001b[0;34m\u001b[0m\u001b[0;34m\u001b[0m\u001b[0m\n",
      "\u001b[0;32m~/opt/anaconda3/lib/python3.7/urllib/request.py\u001b[0m in \u001b[0;36m_call_chain\u001b[0;34m(self, chain, kind, meth_name, *args)\u001b[0m\n\u001b[1;32m    501\u001b[0m         \u001b[0;32mfor\u001b[0m \u001b[0mhandler\u001b[0m \u001b[0;32min\u001b[0m \u001b[0mhandlers\u001b[0m\u001b[0;34m:\u001b[0m\u001b[0;34m\u001b[0m\u001b[0;34m\u001b[0m\u001b[0m\n\u001b[1;32m    502\u001b[0m             \u001b[0mfunc\u001b[0m \u001b[0;34m=\u001b[0m \u001b[0mgetattr\u001b[0m\u001b[0;34m(\u001b[0m\u001b[0mhandler\u001b[0m\u001b[0;34m,\u001b[0m \u001b[0mmeth_name\u001b[0m\u001b[0;34m)\u001b[0m\u001b[0;34m\u001b[0m\u001b[0;34m\u001b[0m\u001b[0m\n\u001b[0;32m--> 503\u001b[0;31m             \u001b[0mresult\u001b[0m \u001b[0;34m=\u001b[0m \u001b[0mfunc\u001b[0m\u001b[0;34m(\u001b[0m\u001b[0;34m*\u001b[0m\u001b[0margs\u001b[0m\u001b[0;34m)\u001b[0m\u001b[0;34m\u001b[0m\u001b[0;34m\u001b[0m\u001b[0m\n\u001b[0m\u001b[1;32m    504\u001b[0m             \u001b[0;32mif\u001b[0m \u001b[0mresult\u001b[0m \u001b[0;32mis\u001b[0m \u001b[0;32mnot\u001b[0m \u001b[0;32mNone\u001b[0m\u001b[0;34m:\u001b[0m\u001b[0;34m\u001b[0m\u001b[0;34m\u001b[0m\u001b[0m\n\u001b[1;32m    505\u001b[0m                 \u001b[0;32mreturn\u001b[0m \u001b[0mresult\u001b[0m\u001b[0;34m\u001b[0m\u001b[0;34m\u001b[0m\u001b[0m\n",
      "\u001b[0;32m~/opt/anaconda3/lib/python3.7/urllib/request.py\u001b[0m in \u001b[0;36mhttp_error_default\u001b[0;34m(self, req, fp, code, msg, hdrs)\u001b[0m\n\u001b[1;32m    647\u001b[0m \u001b[0;32mclass\u001b[0m \u001b[0mHTTPDefaultErrorHandler\u001b[0m\u001b[0;34m(\u001b[0m\u001b[0mBaseHandler\u001b[0m\u001b[0;34m)\u001b[0m\u001b[0;34m:\u001b[0m\u001b[0;34m\u001b[0m\u001b[0;34m\u001b[0m\u001b[0m\n\u001b[1;32m    648\u001b[0m     \u001b[0;32mdef\u001b[0m \u001b[0mhttp_error_default\u001b[0m\u001b[0;34m(\u001b[0m\u001b[0mself\u001b[0m\u001b[0;34m,\u001b[0m \u001b[0mreq\u001b[0m\u001b[0;34m,\u001b[0m \u001b[0mfp\u001b[0m\u001b[0;34m,\u001b[0m \u001b[0mcode\u001b[0m\u001b[0;34m,\u001b[0m \u001b[0mmsg\u001b[0m\u001b[0;34m,\u001b[0m \u001b[0mhdrs\u001b[0m\u001b[0;34m)\u001b[0m\u001b[0;34m:\u001b[0m\u001b[0;34m\u001b[0m\u001b[0;34m\u001b[0m\u001b[0m\n\u001b[0;32m--> 649\u001b[0;31m         \u001b[0;32mraise\u001b[0m \u001b[0mHTTPError\u001b[0m\u001b[0;34m(\u001b[0m\u001b[0mreq\u001b[0m\u001b[0;34m.\u001b[0m\u001b[0mfull_url\u001b[0m\u001b[0;34m,\u001b[0m \u001b[0mcode\u001b[0m\u001b[0;34m,\u001b[0m \u001b[0mmsg\u001b[0m\u001b[0;34m,\u001b[0m \u001b[0mhdrs\u001b[0m\u001b[0;34m,\u001b[0m \u001b[0mfp\u001b[0m\u001b[0;34m)\u001b[0m\u001b[0;34m\u001b[0m\u001b[0;34m\u001b[0m\u001b[0m\n\u001b[0m\u001b[1;32m    650\u001b[0m \u001b[0;34m\u001b[0m\u001b[0m\n\u001b[1;32m    651\u001b[0m \u001b[0;32mclass\u001b[0m \u001b[0mHTTPRedirectHandler\u001b[0m\u001b[0;34m(\u001b[0m\u001b[0mBaseHandler\u001b[0m\u001b[0;34m)\u001b[0m\u001b[0;34m:\u001b[0m\u001b[0;34m\u001b[0m\u001b[0;34m\u001b[0m\u001b[0m\n",
      "\u001b[0;31mHTTPError\u001b[0m: HTTP Error 404: Not Found"
     ]
    }
   ],
   "source": [
    "# years = [190803, 180803, 170803]\n",
    "\n",
    "# def get_urls(url_list):\n",
    "#     dfs = []\n",
    "#     for char in url_list:\n",
    "#         url = 'http://web.mta.info/developers/data/nyct/turnstile/turnstile_{}.txt'.format(char)\n",
    "#         dfs.append(pd.read_csv(url))\n",
    "    \n",
    "#     return pd.concat(dfs)\n",
    "    \n",
    "# a = get_urls(years)\n",
    "# a\n"
   ]
  },
  {
   "cell_type": "code",
   "execution_count": 99,
   "metadata": {},
   "outputs": [
    {
     "data": {
      "text/plain": [
       "'200613'"
      ]
     },
     "execution_count": 99,
     "metadata": {},
     "output_type": "execute_result"
    }
   ],
   "source": [
    "# def month_to_num(month, day, year):\n",
    "\n",
    "#     month_dict =  {\n",
    "#                    'january' : '01',\n",
    "#                    'febuary' : '02',\n",
    "#                    'march' : '03',\n",
    "#                    'april' : '04',\n",
    "#                    'may' : '05',\n",
    "#                    'june' : '06',\n",
    "#                    'july' : '07',\n",
    "#                    'august' : '08',\n",
    "#                    'september' : '09', \n",
    "#                    'october' : '10',\n",
    "#                    'november' : '11',\n",
    "#                    'december' : '12'\n",
    "#                     }\n",
    "    \n",
    "#     return str(year) + str(month_dict[month.lower()]) + str(day)\n",
    "\n",
    "# month_to_num('june', '13', '20')\n"
   ]
  },
  {
   "cell_type": "code",
   "execution_count": 101,
   "metadata": {},
   "outputs": [
    {
     "name": "stdout",
     "output_type": "stream",
     "text": [
      "http://web.mta.info/developers/data/nyct/turnstile/turnstile_200613.txt\n"
     ]
    },
    {
     "data": {
      "text/html": [
       "<div>\n",
       "<style scoped>\n",
       "    .dataframe tbody tr th:only-of-type {\n",
       "        vertical-align: middle;\n",
       "    }\n",
       "\n",
       "    .dataframe tbody tr th {\n",
       "        vertical-align: top;\n",
       "    }\n",
       "\n",
       "    .dataframe thead th {\n",
       "        text-align: right;\n",
       "    }\n",
       "</style>\n",
       "<table border=\"1\" class=\"dataframe\">\n",
       "  <thead>\n",
       "    <tr style=\"text-align: right;\">\n",
       "      <th></th>\n",
       "      <th>C/A</th>\n",
       "      <th>UNIT</th>\n",
       "      <th>SCP</th>\n",
       "      <th>STATION</th>\n",
       "      <th>LINENAME</th>\n",
       "      <th>DIVISION</th>\n",
       "      <th>DATE</th>\n",
       "      <th>TIME</th>\n",
       "      <th>DESC</th>\n",
       "      <th>ENTRIES</th>\n",
       "      <th>EXITS</th>\n",
       "    </tr>\n",
       "  </thead>\n",
       "  <tbody>\n",
       "    <tr>\n",
       "      <th>0</th>\n",
       "      <td>A002</td>\n",
       "      <td>R051</td>\n",
       "      <td>02-00-00</td>\n",
       "      <td>59 ST</td>\n",
       "      <td>NQR456W</td>\n",
       "      <td>BMT</td>\n",
       "      <td>06/06/2020</td>\n",
       "      <td>00:00:00</td>\n",
       "      <td>REGULAR</td>\n",
       "      <td>7420920</td>\n",
       "      <td>2521129</td>\n",
       "    </tr>\n",
       "    <tr>\n",
       "      <th>1</th>\n",
       "      <td>A002</td>\n",
       "      <td>R051</td>\n",
       "      <td>02-00-00</td>\n",
       "      <td>59 ST</td>\n",
       "      <td>NQR456W</td>\n",
       "      <td>BMT</td>\n",
       "      <td>06/06/2020</td>\n",
       "      <td>04:00:00</td>\n",
       "      <td>REGULAR</td>\n",
       "      <td>7420920</td>\n",
       "      <td>2521130</td>\n",
       "    </tr>\n",
       "    <tr>\n",
       "      <th>2</th>\n",
       "      <td>A002</td>\n",
       "      <td>R051</td>\n",
       "      <td>02-00-00</td>\n",
       "      <td>59 ST</td>\n",
       "      <td>NQR456W</td>\n",
       "      <td>BMT</td>\n",
       "      <td>06/06/2020</td>\n",
       "      <td>08:00:00</td>\n",
       "      <td>REGULAR</td>\n",
       "      <td>7420928</td>\n",
       "      <td>2521141</td>\n",
       "    </tr>\n",
       "    <tr>\n",
       "      <th>3</th>\n",
       "      <td>A002</td>\n",
       "      <td>R051</td>\n",
       "      <td>02-00-00</td>\n",
       "      <td>59 ST</td>\n",
       "      <td>NQR456W</td>\n",
       "      <td>BMT</td>\n",
       "      <td>06/06/2020</td>\n",
       "      <td>12:00:00</td>\n",
       "      <td>REGULAR</td>\n",
       "      <td>7420941</td>\n",
       "      <td>2521163</td>\n",
       "    </tr>\n",
       "    <tr>\n",
       "      <th>4</th>\n",
       "      <td>A002</td>\n",
       "      <td>R051</td>\n",
       "      <td>02-00-00</td>\n",
       "      <td>59 ST</td>\n",
       "      <td>NQR456W</td>\n",
       "      <td>BMT</td>\n",
       "      <td>06/06/2020</td>\n",
       "      <td>16:00:00</td>\n",
       "      <td>REGULAR</td>\n",
       "      <td>7420972</td>\n",
       "      <td>2521174</td>\n",
       "    </tr>\n",
       "    <tr>\n",
       "      <th>...</th>\n",
       "      <td>...</td>\n",
       "      <td>...</td>\n",
       "      <td>...</td>\n",
       "      <td>...</td>\n",
       "      <td>...</td>\n",
       "      <td>...</td>\n",
       "      <td>...</td>\n",
       "      <td>...</td>\n",
       "      <td>...</td>\n",
       "      <td>...</td>\n",
       "      <td>...</td>\n",
       "    </tr>\n",
       "    <tr>\n",
       "      <th>206657</th>\n",
       "      <td>TRAM2</td>\n",
       "      <td>R469</td>\n",
       "      <td>00-05-01</td>\n",
       "      <td>RIT-ROOSEVELT</td>\n",
       "      <td>R</td>\n",
       "      <td>RIT</td>\n",
       "      <td>06/12/2020</td>\n",
       "      <td>05:00:00</td>\n",
       "      <td>REGULAR</td>\n",
       "      <td>5554</td>\n",
       "      <td>514</td>\n",
       "    </tr>\n",
       "    <tr>\n",
       "      <th>206658</th>\n",
       "      <td>TRAM2</td>\n",
       "      <td>R469</td>\n",
       "      <td>00-05-01</td>\n",
       "      <td>RIT-ROOSEVELT</td>\n",
       "      <td>R</td>\n",
       "      <td>RIT</td>\n",
       "      <td>06/12/2020</td>\n",
       "      <td>09:00:00</td>\n",
       "      <td>REGULAR</td>\n",
       "      <td>5554</td>\n",
       "      <td>514</td>\n",
       "    </tr>\n",
       "    <tr>\n",
       "      <th>206659</th>\n",
       "      <td>TRAM2</td>\n",
       "      <td>R469</td>\n",
       "      <td>00-05-01</td>\n",
       "      <td>RIT-ROOSEVELT</td>\n",
       "      <td>R</td>\n",
       "      <td>RIT</td>\n",
       "      <td>06/12/2020</td>\n",
       "      <td>13:00:00</td>\n",
       "      <td>REGULAR</td>\n",
       "      <td>5554</td>\n",
       "      <td>514</td>\n",
       "    </tr>\n",
       "    <tr>\n",
       "      <th>206660</th>\n",
       "      <td>TRAM2</td>\n",
       "      <td>R469</td>\n",
       "      <td>00-05-01</td>\n",
       "      <td>RIT-ROOSEVELT</td>\n",
       "      <td>R</td>\n",
       "      <td>RIT</td>\n",
       "      <td>06/12/2020</td>\n",
       "      <td>17:00:00</td>\n",
       "      <td>REGULAR</td>\n",
       "      <td>5554</td>\n",
       "      <td>514</td>\n",
       "    </tr>\n",
       "    <tr>\n",
       "      <th>206661</th>\n",
       "      <td>TRAM2</td>\n",
       "      <td>R469</td>\n",
       "      <td>00-05-01</td>\n",
       "      <td>RIT-ROOSEVELT</td>\n",
       "      <td>R</td>\n",
       "      <td>RIT</td>\n",
       "      <td>06/12/2020</td>\n",
       "      <td>21:00:00</td>\n",
       "      <td>REGULAR</td>\n",
       "      <td>5554</td>\n",
       "      <td>514</td>\n",
       "    </tr>\n",
       "  </tbody>\n",
       "</table>\n",
       "<p>206662 rows × 11 columns</p>\n",
       "</div>"
      ],
      "text/plain": [
       "          C/A  UNIT       SCP        STATION LINENAME DIVISION        DATE  \\\n",
       "0        A002  R051  02-00-00          59 ST  NQR456W      BMT  06/06/2020   \n",
       "1        A002  R051  02-00-00          59 ST  NQR456W      BMT  06/06/2020   \n",
       "2        A002  R051  02-00-00          59 ST  NQR456W      BMT  06/06/2020   \n",
       "3        A002  R051  02-00-00          59 ST  NQR456W      BMT  06/06/2020   \n",
       "4        A002  R051  02-00-00          59 ST  NQR456W      BMT  06/06/2020   \n",
       "...       ...   ...       ...            ...      ...      ...         ...   \n",
       "206657  TRAM2  R469  00-05-01  RIT-ROOSEVELT        R      RIT  06/12/2020   \n",
       "206658  TRAM2  R469  00-05-01  RIT-ROOSEVELT        R      RIT  06/12/2020   \n",
       "206659  TRAM2  R469  00-05-01  RIT-ROOSEVELT        R      RIT  06/12/2020   \n",
       "206660  TRAM2  R469  00-05-01  RIT-ROOSEVELT        R      RIT  06/12/2020   \n",
       "206661  TRAM2  R469  00-05-01  RIT-ROOSEVELT        R      RIT  06/12/2020   \n",
       "\n",
       "            TIME     DESC  ENTRIES  \\\n",
       "0       00:00:00  REGULAR  7420920   \n",
       "1       04:00:00  REGULAR  7420920   \n",
       "2       08:00:00  REGULAR  7420928   \n",
       "3       12:00:00  REGULAR  7420941   \n",
       "4       16:00:00  REGULAR  7420972   \n",
       "...          ...      ...      ...   \n",
       "206657  05:00:00  REGULAR     5554   \n",
       "206658  09:00:00  REGULAR     5554   \n",
       "206659  13:00:00  REGULAR     5554   \n",
       "206660  17:00:00  REGULAR     5554   \n",
       "206661  21:00:00  REGULAR     5554   \n",
       "\n",
       "        EXITS                                                                 \n",
       "0                                                 2521129                     \n",
       "1                                                 2521130                     \n",
       "2                                                 2521141                     \n",
       "3                                                 2521163                     \n",
       "4                                                 2521174                     \n",
       "...                                                   ...                     \n",
       "206657                                                514                     \n",
       "206658                                                514                     \n",
       "206659                                                514                     \n",
       "206660                                                514                     \n",
       "206661                                                514                     \n",
       "\n",
       "[206662 rows x 11 columns]"
      ]
     },
     "execution_count": 101,
     "metadata": {},
     "output_type": "execute_result"
    }
   ],
   "source": [
    "\n",
    "# def get_urls(url_list):\n",
    "#     dfs = []\n",
    "#     for char in url_list:\n",
    "# #         url2 = 'http://web.mta.info/developers/data/nyct/turnstile/turnstile_200919.txt'\n",
    "#         url = 'http://web.mta.info/developers/data/nyct/turnstile/turnstile_{}.txt'.format(char)\n",
    "#         print(url)\n",
    "#         dfs.append(pd.read_csv(url))\n",
    "    \n",
    "#     return pd.concat(dfs)\n"
   ]
  },
  {
   "cell_type": "code",
   "execution_count": 255,
   "metadata": {},
   "outputs": [],
   "source": [
    "our_dates = \"\"\"Saturday, December 28, 2019\n",
    "Saturday, December 21, 2019\n",
    "Saturday, December 14, 2019\n",
    "Saturday, December 07, 2019\n",
    "Saturday, November 30, 2019\n",
    "Saturday, November 23, 2019\n",
    "Saturday, November 16, 2019\n",
    "Saturday, November 09, 2019\n",
    "Saturday, November 02, 2019\n",
    "Saturday, October 26, 2019\n",
    "Saturday, October 19, 2019\n",
    "Saturday, October 12, 2019\n",
    "Saturday, October 05, 2019\n",
    "Saturday, September 28, 2019\n",
    "Saturday, September 21, 2019\n",
    "Saturday, September 14, 2019\n",
    "Saturday, September 07, 2019\n",
    "Saturday, August 31, 2019\n",
    "Saturday, August 24, 2019\n",
    "Saturday, August 17, 2019\n",
    "Saturday, August 10, 2019\"\"\""
   ]
  },
  {
   "cell_type": "code",
   "execution_count": null,
   "metadata": {},
   "outputs": [],
   "source": []
  },
  {
   "cell_type": "code",
   "execution_count": 259,
   "metadata": {},
   "outputs": [
    {
     "data": {
      "text/html": [
       "<div>\n",
       "<style scoped>\n",
       "    .dataframe tbody tr th:only-of-type {\n",
       "        vertical-align: middle;\n",
       "    }\n",
       "\n",
       "    .dataframe tbody tr th {\n",
       "        vertical-align: top;\n",
       "    }\n",
       "\n",
       "    .dataframe thead th {\n",
       "        text-align: right;\n",
       "    }\n",
       "</style>\n",
       "<table border=\"1\" class=\"dataframe\">\n",
       "  <thead>\n",
       "    <tr style=\"text-align: right;\">\n",
       "      <th></th>\n",
       "      <th>C/A</th>\n",
       "      <th>UNIT</th>\n",
       "      <th>SCP</th>\n",
       "      <th>STATION</th>\n",
       "      <th>LINENAME</th>\n",
       "      <th>DIVISION</th>\n",
       "      <th>DATE</th>\n",
       "      <th>TIME</th>\n",
       "      <th>DESC</th>\n",
       "      <th>ENTRIES</th>\n",
       "      <th>EXITS</th>\n",
       "    </tr>\n",
       "  </thead>\n",
       "  <tbody>\n",
       "    <tr>\n",
       "      <th>0</th>\n",
       "      <td>A002</td>\n",
       "      <td>R051</td>\n",
       "      <td>02-00-00</td>\n",
       "      <td>59 ST</td>\n",
       "      <td>NQR456W</td>\n",
       "      <td>BMT</td>\n",
       "      <td>10/19/2019</td>\n",
       "      <td>00:00:00</td>\n",
       "      <td>REGULAR</td>\n",
       "      <td>7238905</td>\n",
       "      <td>2452500</td>\n",
       "    </tr>\n",
       "    <tr>\n",
       "      <th>1</th>\n",
       "      <td>A002</td>\n",
       "      <td>R051</td>\n",
       "      <td>02-00-00</td>\n",
       "      <td>59 ST</td>\n",
       "      <td>NQR456W</td>\n",
       "      <td>BMT</td>\n",
       "      <td>10/19/2019</td>\n",
       "      <td>04:00:00</td>\n",
       "      <td>REGULAR</td>\n",
       "      <td>7238924</td>\n",
       "      <td>2452505</td>\n",
       "    </tr>\n",
       "    <tr>\n",
       "      <th>2</th>\n",
       "      <td>A002</td>\n",
       "      <td>R051</td>\n",
       "      <td>02-00-00</td>\n",
       "      <td>59 ST</td>\n",
       "      <td>NQR456W</td>\n",
       "      <td>BMT</td>\n",
       "      <td>10/19/2019</td>\n",
       "      <td>08:00:00</td>\n",
       "      <td>REGULAR</td>\n",
       "      <td>7238945</td>\n",
       "      <td>2452536</td>\n",
       "    </tr>\n",
       "    <tr>\n",
       "      <th>3</th>\n",
       "      <td>A002</td>\n",
       "      <td>R051</td>\n",
       "      <td>02-00-00</td>\n",
       "      <td>59 ST</td>\n",
       "      <td>NQR456W</td>\n",
       "      <td>BMT</td>\n",
       "      <td>10/19/2019</td>\n",
       "      <td>12:00:00</td>\n",
       "      <td>REGULAR</td>\n",
       "      <td>7239029</td>\n",
       "      <td>2452602</td>\n",
       "    </tr>\n",
       "    <tr>\n",
       "      <th>4</th>\n",
       "      <td>A002</td>\n",
       "      <td>R051</td>\n",
       "      <td>02-00-00</td>\n",
       "      <td>59 ST</td>\n",
       "      <td>NQR456W</td>\n",
       "      <td>BMT</td>\n",
       "      <td>10/19/2019</td>\n",
       "      <td>16:00:00</td>\n",
       "      <td>REGULAR</td>\n",
       "      <td>7239280</td>\n",
       "      <td>2452651</td>\n",
       "    </tr>\n",
       "    <tr>\n",
       "      <th>...</th>\n",
       "      <td>...</td>\n",
       "      <td>...</td>\n",
       "      <td>...</td>\n",
       "      <td>...</td>\n",
       "      <td>...</td>\n",
       "      <td>...</td>\n",
       "      <td>...</td>\n",
       "      <td>...</td>\n",
       "      <td>...</td>\n",
       "      <td>...</td>\n",
       "      <td>...</td>\n",
       "    </tr>\n",
       "    <tr>\n",
       "      <th>201952</th>\n",
       "      <td>TRAM2</td>\n",
       "      <td>R469</td>\n",
       "      <td>00-05-01</td>\n",
       "      <td>RIT-ROOSEVELT</td>\n",
       "      <td>R</td>\n",
       "      <td>RIT</td>\n",
       "      <td>08/04/2017</td>\n",
       "      <td>05:00:00</td>\n",
       "      <td>REGULAR</td>\n",
       "      <td>5554</td>\n",
       "      <td>308</td>\n",
       "    </tr>\n",
       "    <tr>\n",
       "      <th>201953</th>\n",
       "      <td>TRAM2</td>\n",
       "      <td>R469</td>\n",
       "      <td>00-05-01</td>\n",
       "      <td>RIT-ROOSEVELT</td>\n",
       "      <td>R</td>\n",
       "      <td>RIT</td>\n",
       "      <td>08/04/2017</td>\n",
       "      <td>09:00:00</td>\n",
       "      <td>REGULAR</td>\n",
       "      <td>5554</td>\n",
       "      <td>308</td>\n",
       "    </tr>\n",
       "    <tr>\n",
       "      <th>201954</th>\n",
       "      <td>TRAM2</td>\n",
       "      <td>R469</td>\n",
       "      <td>00-05-01</td>\n",
       "      <td>RIT-ROOSEVELT</td>\n",
       "      <td>R</td>\n",
       "      <td>RIT</td>\n",
       "      <td>08/04/2017</td>\n",
       "      <td>13:00:00</td>\n",
       "      <td>REGULAR</td>\n",
       "      <td>5554</td>\n",
       "      <td>308</td>\n",
       "    </tr>\n",
       "    <tr>\n",
       "      <th>201955</th>\n",
       "      <td>TRAM2</td>\n",
       "      <td>R469</td>\n",
       "      <td>00-05-01</td>\n",
       "      <td>RIT-ROOSEVELT</td>\n",
       "      <td>R</td>\n",
       "      <td>RIT</td>\n",
       "      <td>08/04/2017</td>\n",
       "      <td>17:00:00</td>\n",
       "      <td>REGULAR</td>\n",
       "      <td>5554</td>\n",
       "      <td>308</td>\n",
       "    </tr>\n",
       "    <tr>\n",
       "      <th>201956</th>\n",
       "      <td>TRAM2</td>\n",
       "      <td>R469</td>\n",
       "      <td>00-05-01</td>\n",
       "      <td>RIT-ROOSEVELT</td>\n",
       "      <td>R</td>\n",
       "      <td>RIT</td>\n",
       "      <td>08/04/2017</td>\n",
       "      <td>21:00:00</td>\n",
       "      <td>REGULAR</td>\n",
       "      <td>5554</td>\n",
       "      <td>308</td>\n",
       "    </tr>\n",
       "  </tbody>\n",
       "</table>\n",
       "<p>7621229 rows × 11 columns</p>\n",
       "</div>"
      ],
      "text/plain": [
       "          C/A  UNIT       SCP        STATION LINENAME DIVISION        DATE  \\\n",
       "0        A002  R051  02-00-00          59 ST  NQR456W      BMT  10/19/2019   \n",
       "1        A002  R051  02-00-00          59 ST  NQR456W      BMT  10/19/2019   \n",
       "2        A002  R051  02-00-00          59 ST  NQR456W      BMT  10/19/2019   \n",
       "3        A002  R051  02-00-00          59 ST  NQR456W      BMT  10/19/2019   \n",
       "4        A002  R051  02-00-00          59 ST  NQR456W      BMT  10/19/2019   \n",
       "...       ...   ...       ...            ...      ...      ...         ...   \n",
       "201952  TRAM2  R469  00-05-01  RIT-ROOSEVELT        R      RIT  08/04/2017   \n",
       "201953  TRAM2  R469  00-05-01  RIT-ROOSEVELT        R      RIT  08/04/2017   \n",
       "201954  TRAM2  R469  00-05-01  RIT-ROOSEVELT        R      RIT  08/04/2017   \n",
       "201955  TRAM2  R469  00-05-01  RIT-ROOSEVELT        R      RIT  08/04/2017   \n",
       "201956  TRAM2  R469  00-05-01  RIT-ROOSEVELT        R      RIT  08/04/2017   \n",
       "\n",
       "            TIME     DESC  ENTRIES  \\\n",
       "0       00:00:00  REGULAR  7238905   \n",
       "1       04:00:00  REGULAR  7238924   \n",
       "2       08:00:00  REGULAR  7238945   \n",
       "3       12:00:00  REGULAR  7239029   \n",
       "4       16:00:00  REGULAR  7239280   \n",
       "...          ...      ...      ...   \n",
       "201952  05:00:00  REGULAR     5554   \n",
       "201953  09:00:00  REGULAR     5554   \n",
       "201954  13:00:00  REGULAR     5554   \n",
       "201955  17:00:00  REGULAR     5554   \n",
       "201956  21:00:00  REGULAR     5554   \n",
       "\n",
       "        EXITS                                                                 \n",
       "0                                                 2452500                     \n",
       "1                                                 2452505                     \n",
       "2                                                 2452536                     \n",
       "3                                                 2452602                     \n",
       "4                                                 2452651                     \n",
       "...                                                   ...                     \n",
       "201952                                                308                     \n",
       "201953                                                308                     \n",
       "201954                                                308                     \n",
       "201955                                                308                     \n",
       "201956                                                308                     \n",
       "\n",
       "[7621229 rows x 11 columns]"
      ]
     },
     "execution_count": 259,
     "metadata": {},
     "output_type": "execute_result"
    }
   ],
   "source": [
    "our_dates = \"\"\"Saturday, October 26, 2019\n",
    "Saturday, October 19, 2019\n",
    "Saturday, October 12, 2019\n",
    "Saturday, October 05, 2019\n",
    "Saturday, September 28, 2019\n",
    "Saturday, September 21, 2019\n",
    "Saturday, September 14, 2019\n",
    "Saturday, September 07, 2019\n",
    "Saturday, August 31, 2019\n",
    "Saturday, August 24, 2019\n",
    "Saturday, August 17, 2019\n",
    "Saturday, August 10, 2019\n",
    "Saturday, October 27, 2018\n",
    "Saturday, October 20, 2018\n",
    "Saturday, October 13, 2018\n",
    "Saturday, October 06, 2018\n",
    "Saturday, September 29, 2018\n",
    "Saturday, September 22, 2018\n",
    "Saturday, September 15, 2018\n",
    "Saturday, September 08, 2018\n",
    "Saturday, September 01, 2018\n",
    "Saturday, August 25, 2018\n",
    "Saturday, August 18, 2018\n",
    "Saturday, August 11, 2018\n",
    "Saturday, August 04, 2018\n",
    "Saturday, October 28, 2017\n",
    "Saturday, October 21, 2017\n",
    "Saturday, October 14, 2017\n",
    "Saturday, October 07, 2017\n",
    "Saturday, September 30, 2017\n",
    "Saturday, September 23, 2017\n",
    "Saturday, September 16, 2017\n",
    "Saturday, September 09, 2017\n",
    "Saturday, September 02, 2017\n",
    "Saturday, August 26, 2017\n",
    "Saturday, August 19, 2017\n",
    "Saturday, August 12, 2017\n",
    "Saturday, August 05, 2017\"\"\"\n",
    "\n",
    "\n",
    "\n",
    "def month_to_num(date_list):\n",
    "    \n",
    "    date_list = date_list.split()\n",
    "    month = date_list[0].lower()\n",
    "    day = date_list[1]\n",
    "    year = date_list[2][2::]\n",
    "\n",
    "    month_dict =  {\n",
    "                   'january' : '01',\n",
    "                   'february' : '02',\n",
    "                   'march' : '03',\n",
    "                   'april' : '04',\n",
    "                   'may' : '05',\n",
    "                   'june' : '06',\n",
    "                   'july' : '07',\n",
    "                   'august' : '08',\n",
    "                   'september' : '09', \n",
    "                   'october' : '10',\n",
    "                   'november' : '11',\n",
    "                   'december' : '12'\n",
    "                    }\n",
    "\n",
    "    return year + month_dict[month] + day\n",
    "\n",
    "\n",
    "def get_data_sets(url_list):\n",
    "    dfs = []\n",
    "    for char in url_list:\n",
    "        url = 'http://web.mta.info/developers/data/nyct/turnstile/turnstile_{}.txt'.format(char)\n",
    "        dfs.append(pd.read_csv(url))\n",
    "    \n",
    "    return pd.concat(dfs)\n",
    "\n",
    "formatted_dates = list(our_dates.replace('Saturday, ','').replace(',','').split('\\n'))\n",
    "url_list = [month_to_num(date) for date in formatted_dates]\n",
    "get_data_sets(url_list)"
   ]
  },
  {
   "cell_type": "code",
   "execution_count": 260,
   "metadata": {},
   "outputs": [
    {
     "data": {
      "text/html": [
       "<div>\n",
       "<style scoped>\n",
       "    .dataframe tbody tr th:only-of-type {\n",
       "        vertical-align: middle;\n",
       "    }\n",
       "\n",
       "    .dataframe tbody tr th {\n",
       "        vertical-align: top;\n",
       "    }\n",
       "\n",
       "    .dataframe thead th {\n",
       "        text-align: right;\n",
       "    }\n",
       "</style>\n",
       "<table border=\"1\" class=\"dataframe\">\n",
       "  <thead>\n",
       "    <tr style=\"text-align: right;\">\n",
       "      <th></th>\n",
       "      <th>C/A</th>\n",
       "      <th>UNIT</th>\n",
       "      <th>SCP</th>\n",
       "      <th>STATION</th>\n",
       "      <th>LINENAME</th>\n",
       "      <th>DIVISION</th>\n",
       "      <th>DATE</th>\n",
       "      <th>TIME</th>\n",
       "      <th>DESC</th>\n",
       "      <th>ENTRIES</th>\n",
       "      <th>EXITS</th>\n",
       "    </tr>\n",
       "  </thead>\n",
       "  <tbody>\n",
       "    <tr>\n",
       "      <th>0</th>\n",
       "      <td>A002</td>\n",
       "      <td>R051</td>\n",
       "      <td>02-00-00</td>\n",
       "      <td>59 ST</td>\n",
       "      <td>NQR456W</td>\n",
       "      <td>BMT</td>\n",
       "      <td>10/19/2019</td>\n",
       "      <td>00:00:00</td>\n",
       "      <td>REGULAR</td>\n",
       "      <td>7238905</td>\n",
       "      <td>2452500</td>\n",
       "    </tr>\n",
       "    <tr>\n",
       "      <th>1</th>\n",
       "      <td>A002</td>\n",
       "      <td>R051</td>\n",
       "      <td>02-00-00</td>\n",
       "      <td>59 ST</td>\n",
       "      <td>NQR456W</td>\n",
       "      <td>BMT</td>\n",
       "      <td>10/19/2019</td>\n",
       "      <td>04:00:00</td>\n",
       "      <td>REGULAR</td>\n",
       "      <td>7238924</td>\n",
       "      <td>2452505</td>\n",
       "    </tr>\n",
       "    <tr>\n",
       "      <th>2</th>\n",
       "      <td>A002</td>\n",
       "      <td>R051</td>\n",
       "      <td>02-00-00</td>\n",
       "      <td>59 ST</td>\n",
       "      <td>NQR456W</td>\n",
       "      <td>BMT</td>\n",
       "      <td>10/19/2019</td>\n",
       "      <td>08:00:00</td>\n",
       "      <td>REGULAR</td>\n",
       "      <td>7238945</td>\n",
       "      <td>2452536</td>\n",
       "    </tr>\n",
       "    <tr>\n",
       "      <th>3</th>\n",
       "      <td>A002</td>\n",
       "      <td>R051</td>\n",
       "      <td>02-00-00</td>\n",
       "      <td>59 ST</td>\n",
       "      <td>NQR456W</td>\n",
       "      <td>BMT</td>\n",
       "      <td>10/19/2019</td>\n",
       "      <td>12:00:00</td>\n",
       "      <td>REGULAR</td>\n",
       "      <td>7239029</td>\n",
       "      <td>2452602</td>\n",
       "    </tr>\n",
       "    <tr>\n",
       "      <th>4</th>\n",
       "      <td>A002</td>\n",
       "      <td>R051</td>\n",
       "      <td>02-00-00</td>\n",
       "      <td>59 ST</td>\n",
       "      <td>NQR456W</td>\n",
       "      <td>BMT</td>\n",
       "      <td>10/19/2019</td>\n",
       "      <td>16:00:00</td>\n",
       "      <td>REGULAR</td>\n",
       "      <td>7239280</td>\n",
       "      <td>2452651</td>\n",
       "    </tr>\n",
       "    <tr>\n",
       "      <th>...</th>\n",
       "      <td>...</td>\n",
       "      <td>...</td>\n",
       "      <td>...</td>\n",
       "      <td>...</td>\n",
       "      <td>...</td>\n",
       "      <td>...</td>\n",
       "      <td>...</td>\n",
       "      <td>...</td>\n",
       "      <td>...</td>\n",
       "      <td>...</td>\n",
       "      <td>...</td>\n",
       "    </tr>\n",
       "    <tr>\n",
       "      <th>201952</th>\n",
       "      <td>TRAM2</td>\n",
       "      <td>R469</td>\n",
       "      <td>00-05-01</td>\n",
       "      <td>RIT-ROOSEVELT</td>\n",
       "      <td>R</td>\n",
       "      <td>RIT</td>\n",
       "      <td>08/04/2017</td>\n",
       "      <td>05:00:00</td>\n",
       "      <td>REGULAR</td>\n",
       "      <td>5554</td>\n",
       "      <td>308</td>\n",
       "    </tr>\n",
       "    <tr>\n",
       "      <th>201953</th>\n",
       "      <td>TRAM2</td>\n",
       "      <td>R469</td>\n",
       "      <td>00-05-01</td>\n",
       "      <td>RIT-ROOSEVELT</td>\n",
       "      <td>R</td>\n",
       "      <td>RIT</td>\n",
       "      <td>08/04/2017</td>\n",
       "      <td>09:00:00</td>\n",
       "      <td>REGULAR</td>\n",
       "      <td>5554</td>\n",
       "      <td>308</td>\n",
       "    </tr>\n",
       "    <tr>\n",
       "      <th>201954</th>\n",
       "      <td>TRAM2</td>\n",
       "      <td>R469</td>\n",
       "      <td>00-05-01</td>\n",
       "      <td>RIT-ROOSEVELT</td>\n",
       "      <td>R</td>\n",
       "      <td>RIT</td>\n",
       "      <td>08/04/2017</td>\n",
       "      <td>13:00:00</td>\n",
       "      <td>REGULAR</td>\n",
       "      <td>5554</td>\n",
       "      <td>308</td>\n",
       "    </tr>\n",
       "    <tr>\n",
       "      <th>201955</th>\n",
       "      <td>TRAM2</td>\n",
       "      <td>R469</td>\n",
       "      <td>00-05-01</td>\n",
       "      <td>RIT-ROOSEVELT</td>\n",
       "      <td>R</td>\n",
       "      <td>RIT</td>\n",
       "      <td>08/04/2017</td>\n",
       "      <td>17:00:00</td>\n",
       "      <td>REGULAR</td>\n",
       "      <td>5554</td>\n",
       "      <td>308</td>\n",
       "    </tr>\n",
       "    <tr>\n",
       "      <th>201956</th>\n",
       "      <td>TRAM2</td>\n",
       "      <td>R469</td>\n",
       "      <td>00-05-01</td>\n",
       "      <td>RIT-ROOSEVELT</td>\n",
       "      <td>R</td>\n",
       "      <td>RIT</td>\n",
       "      <td>08/04/2017</td>\n",
       "      <td>21:00:00</td>\n",
       "      <td>REGULAR</td>\n",
       "      <td>5554</td>\n",
       "      <td>308</td>\n",
       "    </tr>\n",
       "  </tbody>\n",
       "</table>\n",
       "<p>7621229 rows × 11 columns</p>\n",
       "</div>"
      ],
      "text/plain": [
       "          C/A  UNIT       SCP        STATION LINENAME DIVISION        DATE  \\\n",
       "0        A002  R051  02-00-00          59 ST  NQR456W      BMT  10/19/2019   \n",
       "1        A002  R051  02-00-00          59 ST  NQR456W      BMT  10/19/2019   \n",
       "2        A002  R051  02-00-00          59 ST  NQR456W      BMT  10/19/2019   \n",
       "3        A002  R051  02-00-00          59 ST  NQR456W      BMT  10/19/2019   \n",
       "4        A002  R051  02-00-00          59 ST  NQR456W      BMT  10/19/2019   \n",
       "...       ...   ...       ...            ...      ...      ...         ...   \n",
       "201952  TRAM2  R469  00-05-01  RIT-ROOSEVELT        R      RIT  08/04/2017   \n",
       "201953  TRAM2  R469  00-05-01  RIT-ROOSEVELT        R      RIT  08/04/2017   \n",
       "201954  TRAM2  R469  00-05-01  RIT-ROOSEVELT        R      RIT  08/04/2017   \n",
       "201955  TRAM2  R469  00-05-01  RIT-ROOSEVELT        R      RIT  08/04/2017   \n",
       "201956  TRAM2  R469  00-05-01  RIT-ROOSEVELT        R      RIT  08/04/2017   \n",
       "\n",
       "            TIME     DESC  ENTRIES  \\\n",
       "0       00:00:00  REGULAR  7238905   \n",
       "1       04:00:00  REGULAR  7238924   \n",
       "2       08:00:00  REGULAR  7238945   \n",
       "3       12:00:00  REGULAR  7239029   \n",
       "4       16:00:00  REGULAR  7239280   \n",
       "...          ...      ...      ...   \n",
       "201952  05:00:00  REGULAR     5554   \n",
       "201953  09:00:00  REGULAR     5554   \n",
       "201954  13:00:00  REGULAR     5554   \n",
       "201955  17:00:00  REGULAR     5554   \n",
       "201956  21:00:00  REGULAR     5554   \n",
       "\n",
       "        EXITS                                                                 \n",
       "0                                                 2452500                     \n",
       "1                                                 2452505                     \n",
       "2                                                 2452536                     \n",
       "3                                                 2452602                     \n",
       "4                                                 2452651                     \n",
       "...                                                   ...                     \n",
       "201952                                                308                     \n",
       "201953                                                308                     \n",
       "201954                                                308                     \n",
       "201955                                                308                     \n",
       "201956                                                308                     \n",
       "\n",
       "[7621229 rows x 11 columns]"
      ]
     },
     "execution_count": 260,
     "metadata": {},
     "output_type": "execute_result"
    }
   ],
   "source": [
    "get_data_sets(url_list)"
   ]
  },
  {
   "cell_type": "code",
   "execution_count": null,
   "metadata": {},
   "outputs": [],
   "source": []
  }
 ],
 "metadata": {
  "kernelspec": {
   "display_name": "Python 3",
   "language": "python",
   "name": "python3"
  },
  "language_info": {
   "codemirror_mode": {
    "name": "ipython",
    "version": 3
   },
   "file_extension": ".py",
   "mimetype": "text/x-python",
   "name": "python",
   "nbconvert_exporter": "python",
   "pygments_lexer": "ipython3",
   "version": "3.7.4"
  }
 },
 "nbformat": 4,
 "nbformat_minor": 4
}
